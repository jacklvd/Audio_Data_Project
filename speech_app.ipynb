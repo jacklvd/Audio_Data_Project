{
 "cells": [
  {
   "cell_type": "markdown",
   "id": "447ed013-bd80-4da2-b04e-a8ad77903912",
   "metadata": {},
   "source": [
    "# Required Libraries"
   ]
  },
  {
   "cell_type": "code",
   "execution_count": 56,
   "id": "5e249a1f-249c-42bb-82eb-903e0c85a1bf",
   "metadata": {},
   "outputs": [
    {
     "data": {
      "application/javascript": "(function(root) {\n  function now() {\n    return new Date();\n  }\n\n  var force = true;\n\n  if (typeof root._bokeh_onload_callbacks === \"undefined\" || force === true) {\n    root._bokeh_onload_callbacks = [];\n    root._bokeh_is_loading = undefined;\n  }\n\n  if (typeof (root._bokeh_timeout) === \"undefined\" || force === true) {\n    root._bokeh_timeout = Date.now() + 5000;\n    root._bokeh_failed_load = false;\n  }\n\n  function run_callbacks() {\n    try {\n      root._bokeh_onload_callbacks.forEach(function(callback) {\n        if (callback != null)\n          callback();\n      });\n    } finally {\n      delete root._bokeh_onload_callbacks\n    }\n    console.debug(\"Bokeh: all callbacks have finished\");\n  }\n\n  function load_libs(css_urls, js_urls, js_modules, callback) {\n    if (css_urls == null) css_urls = [];\n    if (js_urls == null) js_urls = [];\n    if (js_modules == null) js_modules = [];\n\n    root._bokeh_onload_callbacks.push(callback);\n    if (root._bokeh_is_loading > 0) {\n      console.debug(\"Bokeh: BokehJS is being loaded, scheduling callback at\", now());\n      return null;\n    }\n    if (js_urls.length === 0 && js_modules.length === 0) {\n      run_callbacks();\n      return null;\n    }\n    console.debug(\"Bokeh: BokehJS not loaded, scheduling load and callback at\", now());\n\n    function on_load() {\n      root._bokeh_is_loading--;\n      if (root._bokeh_is_loading === 0) {\n        console.debug(\"Bokeh: all BokehJS libraries/stylesheets loaded\");\n        run_callbacks()\n      }\n    }\n\n    function on_error() {\n      console.error(\"failed to load \" + url);\n    }\n\n    for (var i = 0; i < css_urls.length; i++) {\n      var url = css_urls[i];\n      const element = document.createElement(\"link\");\n      element.onload = on_load;\n      element.onerror = on_error;\n      element.rel = \"stylesheet\";\n      element.type = \"text/css\";\n      element.href = url;\n      console.debug(\"Bokeh: injecting link tag for BokehJS stylesheet: \", url);\n      document.body.appendChild(element);\n    }\n\n    var skip = [];\n    if (window.requirejs) {\n      window.requirejs.config({'packages': {}, 'paths': {'gridstack': 'https://cdn.jsdelivr.net/npm/gridstack@4.2.5/dist/gridstack-h5', 'notyf': 'https://cdn.jsdelivr.net/npm/notyf@3/notyf.min'}, 'shim': {'gridstack': {'exports': 'GridStack'}}});\n      require([\"gridstack\"], function(GridStack) {\n\twindow.GridStack = GridStack\n\ton_load()\n      })\n      require([\"notyf\"], function() {\n\ton_load()\n      })\n      root._bokeh_is_loading = css_urls.length + 2;\n    } else {\n      root._bokeh_is_loading = css_urls.length + js_urls.length + js_modules.length;\n    }    if (((window['GridStack'] !== undefined) && (!(window['GridStack'] instanceof HTMLElement))) || window.requirejs) {\n      var urls = ['https://cdn.jsdelivr.net/npm/gridstack@4.2.5/dist/gridstack-h5.js'];\n      for (var i = 0; i < urls.length; i++) {\n        skip.push(urls[i])\n      }\n    }    if (((window['Notyf'] !== undefined) && (!(window['Notyf'] instanceof HTMLElement))) || window.requirejs) {\n      var urls = ['https://cdn.jsdelivr.net/npm/notyf@3/notyf.min.js'];\n      for (var i = 0; i < urls.length; i++) {\n        skip.push(urls[i])\n      }\n    }    for (var i = 0; i < js_urls.length; i++) {\n      var url = js_urls[i];\n      if (skip.indexOf(url) >= 0) {\n\tif (!window.requirejs) {\n\t  on_load();\n\t}\n\tcontinue;\n      }\n      var element = document.createElement('script');\n      element.onload = on_load;\n      element.onerror = on_error;\n      element.async = false;\n      element.src = url;\n      console.debug(\"Bokeh: injecting script tag for BokehJS library: \", url);\n      document.head.appendChild(element);\n    }\n    for (var i = 0; i < js_modules.length; i++) {\n      var url = js_modules[i];\n      if (skip.indexOf(url) >= 0) {\n\tif (!window.requirejs) {\n\t  on_load();\n\t}\n\tcontinue;\n      }\n      var element = document.createElement('script');\n      element.onload = on_load;\n      element.onerror = on_error;\n      element.async = false;\n      element.src = url;\n      element.type = \"module\";\n      console.debug(\"Bokeh: injecting script tag for BokehJS library: \", url);\n      document.head.appendChild(element);\n    }\n    if (!js_urls.length && !js_modules.length) {\n      on_load()\n    }\n  };\n\n  function inject_raw_css(css) {\n    const element = document.createElement(\"style\");\n    element.appendChild(document.createTextNode(css));\n    document.body.appendChild(element);\n  }\n\n  var js_urls = [\"https://cdn.bokeh.org/bokeh/release/bokeh-2.4.3.min.js\", \"https://cdn.bokeh.org/bokeh/release/bokeh-gl-2.4.3.min.js\", \"https://cdn.bokeh.org/bokeh/release/bokeh-widgets-2.4.3.min.js\", \"https://cdn.bokeh.org/bokeh/release/bokeh-tables-2.4.3.min.js\", \"https://cdn.bokeh.org/bokeh/release/bokeh-mathjax-2.4.3.min.js\", \"https://cdn.jsdelivr.net/npm/notyf@3/notyf.min.js\", \"https://unpkg.com/@holoviz/panel@0.13.1/dist/panel.min.js\"];\n  var js_modules = [];\n  var css_urls = [\"https://cdn.jsdelivr.net/npm/notyf@3/notyf.min.css\", \"https://cdnjs.cloudflare.com/ajax/libs/font-awesome/5.15.1/css/all.min.css\", \"https://unpkg.com/@holoviz/panel@0.13.1/dist/css/alerts.css\", \"https://unpkg.com/@holoviz/panel@0.13.1/dist/css/card.css\", \"https://unpkg.com/@holoviz/panel@0.13.1/dist/css/dataframe.css\", \"https://unpkg.com/@holoviz/panel@0.13.1/dist/css/debugger.css\", \"https://unpkg.com/@holoviz/panel@0.13.1/dist/css/json.css\", \"https://unpkg.com/@holoviz/panel@0.13.1/dist/css/loading.css\", \"https://unpkg.com/@holoviz/panel@0.13.1/dist/css/markdown.css\", \"https://unpkg.com/@holoviz/panel@0.13.1/dist/css/widgets.css\"];\n  var inline_js = [    function(Bokeh) {\n      inject_raw_css(\"\\n    .bk.pn-loading.arcs:before {\\n      background-image: url(\\\"data:image/svg+xml;base64,PHN2ZyB4bWxucz0iaHR0cDovL3d3dy53My5vcmcvMjAwMC9zdmciIHhtbG5zOnhsaW5rPSJodHRwOi8vd3d3LnczLm9yZy8xOTk5L3hsaW5rIiBzdHlsZT0ibWFyZ2luOiBhdXRvOyBiYWNrZ3JvdW5kOiBub25lOyBkaXNwbGF5OiBibG9jazsgc2hhcGUtcmVuZGVyaW5nOiBhdXRvOyIgdmlld0JveD0iMCAwIDEwMCAxMDAiIHByZXNlcnZlQXNwZWN0UmF0aW89InhNaWRZTWlkIj4gIDxjaXJjbGUgY3g9IjUwIiBjeT0iNTAiIHI9IjMyIiBzdHJva2Utd2lkdGg9IjgiIHN0cm9rZT0iI2MzYzNjMyIgc3Ryb2tlLWRhc2hhcnJheT0iNTAuMjY1NDgyNDU3NDM2NjkgNTAuMjY1NDgyNDU3NDM2NjkiIGZpbGw9Im5vbmUiIHN0cm9rZS1saW5lY2FwPSJyb3VuZCI+ICAgIDxhbmltYXRlVHJhbnNmb3JtIGF0dHJpYnV0ZU5hbWU9InRyYW5zZm9ybSIgdHlwZT0icm90YXRlIiByZXBlYXRDb3VudD0iaW5kZWZpbml0ZSIgZHVyPSIxcyIga2V5VGltZXM9IjA7MSIgdmFsdWVzPSIwIDUwIDUwOzM2MCA1MCA1MCI+PC9hbmltYXRlVHJhbnNmb3JtPiAgPC9jaXJjbGU+PC9zdmc+\\\");\\n      background-size: auto calc(min(50%, 400px));\\n    }\\n    \");\n    },    function(Bokeh) {\n      Bokeh.set_log_level(\"info\");\n    },\nfunction(Bokeh) {} // ensure no trailing comma for IE\n  ];\n\n  function run_inline_js() {\n    if ((root.Bokeh !== undefined) || (force === true)) {\n      for (var i = 0; i < inline_js.length; i++) {\n        inline_js[i].call(root, root.Bokeh);\n      }} else if (Date.now() < root._bokeh_timeout) {\n      setTimeout(run_inline_js, 100);\n    } else if (!root._bokeh_failed_load) {\n      console.log(\"Bokeh: BokehJS failed to load within specified timeout.\");\n      root._bokeh_failed_load = true;\n    }\n  }\n\n  if (root._bokeh_is_loading === 0) {\n    console.debug(\"Bokeh: BokehJS loaded, going straight to plotting\");\n    run_inline_js();\n  } else {\n    load_libs(css_urls, js_urls, js_modules, function() {\n      console.debug(\"Bokeh: BokehJS plotting callback run at\", now());\n      run_inline_js();\n    });\n  }\n}(window));",
      "application/vnd.holoviews_load.v0+json": ""
     },
     "metadata": {},
     "output_type": "display_data"
    },
    {
     "data": {
      "application/javascript": "\nif ((window.PyViz === undefined) || (window.PyViz instanceof HTMLElement)) {\n  window.PyViz = {comms: {}, comm_status:{}, kernels:{}, receivers: {}, plot_index: []}\n}\n\n\n    function JupyterCommManager() {\n    }\n\n    JupyterCommManager.prototype.register_target = function(plot_id, comm_id, msg_handler) {\n      if (window.comm_manager || ((window.Jupyter !== undefined) && (Jupyter.notebook.kernel != null))) {\n        var comm_manager = window.comm_manager || Jupyter.notebook.kernel.comm_manager;\n        comm_manager.register_target(comm_id, function(comm) {\n          comm.on_msg(msg_handler);\n        });\n      } else if ((plot_id in window.PyViz.kernels) && (window.PyViz.kernels[plot_id])) {\n        window.PyViz.kernels[plot_id].registerCommTarget(comm_id, function(comm) {\n          comm.onMsg = msg_handler;\n        });\n      } else if (typeof google != 'undefined' && google.colab.kernel != null) {\n        google.colab.kernel.comms.registerTarget(comm_id, (comm) => {\n          var messages = comm.messages[Symbol.asyncIterator]();\n          function processIteratorResult(result) {\n            var message = result.value;\n            console.log(message)\n            var content = {data: message.data, comm_id};\n            var buffers = []\n            for (var buffer of message.buffers || []) {\n              buffers.push(new DataView(buffer))\n            }\n            var metadata = message.metadata || {};\n            var msg = {content, buffers, metadata}\n            msg_handler(msg);\n            return messages.next().then(processIteratorResult);\n          }\n          return messages.next().then(processIteratorResult);\n        })\n      }\n    }\n\n    JupyterCommManager.prototype.get_client_comm = function(plot_id, comm_id, msg_handler) {\n      if (comm_id in window.PyViz.comms) {\n        return window.PyViz.comms[comm_id];\n      } else if (window.comm_manager || ((window.Jupyter !== undefined) && (Jupyter.notebook.kernel != null))) {\n        var comm_manager = window.comm_manager || Jupyter.notebook.kernel.comm_manager;\n        var comm = comm_manager.new_comm(comm_id, {}, {}, {}, comm_id);\n        if (msg_handler) {\n          comm.on_msg(msg_handler);\n        }\n      } else if ((plot_id in window.PyViz.kernels) && (window.PyViz.kernels[plot_id])) {\n        var comm = window.PyViz.kernels[plot_id].connectToComm(comm_id);\n        comm.open();\n        if (msg_handler) {\n          comm.onMsg = msg_handler;\n        }\n      } else if (typeof google != 'undefined' && google.colab.kernel != null) {\n        var comm_promise = google.colab.kernel.comms.open(comm_id)\n        comm_promise.then((comm) => {\n          window.PyViz.comms[comm_id] = comm;\n          if (msg_handler) {\n            var messages = comm.messages[Symbol.asyncIterator]();\n            function processIteratorResult(result) {\n              var message = result.value;\n              var content = {data: message.data};\n              var metadata = message.metadata || {comm_id};\n              var msg = {content, metadata}\n              msg_handler(msg);\n              return messages.next().then(processIteratorResult);\n            }\n            return messages.next().then(processIteratorResult);\n          }\n        }) \n        var sendClosure = (data, metadata, buffers, disposeOnDone) => {\n          return comm_promise.then((comm) => {\n            comm.send(data, metadata, buffers, disposeOnDone);\n          });\n        };\n        var comm = {\n          send: sendClosure\n        };\n      }\n      window.PyViz.comms[comm_id] = comm;\n      return comm;\n    }\n    window.PyViz.comm_manager = new JupyterCommManager();\n    \n\n\nvar JS_MIME_TYPE = 'application/javascript';\nvar HTML_MIME_TYPE = 'text/html';\nvar EXEC_MIME_TYPE = 'application/vnd.holoviews_exec.v0+json';\nvar CLASS_NAME = 'output';\n\n/**\n * Render data to the DOM node\n */\nfunction render(props, node) {\n  var div = document.createElement(\"div\");\n  var script = document.createElement(\"script\");\n  node.appendChild(div);\n  node.appendChild(script);\n}\n\n/**\n * Handle when a new output is added\n */\nfunction handle_add_output(event, handle) {\n  var output_area = handle.output_area;\n  var output = handle.output;\n  if ((output.data == undefined) || (!output.data.hasOwnProperty(EXEC_MIME_TYPE))) {\n    return\n  }\n  var id = output.metadata[EXEC_MIME_TYPE][\"id\"];\n  var toinsert = output_area.element.find(\".\" + CLASS_NAME.split(' ')[0]);\n  if (id !== undefined) {\n    var nchildren = toinsert.length;\n    var html_node = toinsert[nchildren-1].children[0];\n    html_node.innerHTML = output.data[HTML_MIME_TYPE];\n    var scripts = [];\n    var nodelist = html_node.querySelectorAll(\"script\");\n    for (var i in nodelist) {\n      if (nodelist.hasOwnProperty(i)) {\n        scripts.push(nodelist[i])\n      }\n    }\n\n    scripts.forEach( function (oldScript) {\n      var newScript = document.createElement(\"script\");\n      var attrs = [];\n      var nodemap = oldScript.attributes;\n      for (var j in nodemap) {\n        if (nodemap.hasOwnProperty(j)) {\n          attrs.push(nodemap[j])\n        }\n      }\n      attrs.forEach(function(attr) { newScript.setAttribute(attr.name, attr.value) });\n      newScript.appendChild(document.createTextNode(oldScript.innerHTML));\n      oldScript.parentNode.replaceChild(newScript, oldScript);\n    });\n    if (JS_MIME_TYPE in output.data) {\n      toinsert[nchildren-1].children[1].textContent = output.data[JS_MIME_TYPE];\n    }\n    output_area._hv_plot_id = id;\n    if ((window.Bokeh !== undefined) && (id in Bokeh.index)) {\n      window.PyViz.plot_index[id] = Bokeh.index[id];\n    } else {\n      window.PyViz.plot_index[id] = null;\n    }\n  } else if (output.metadata[EXEC_MIME_TYPE][\"server_id\"] !== undefined) {\n    var bk_div = document.createElement(\"div\");\n    bk_div.innerHTML = output.data[HTML_MIME_TYPE];\n    var script_attrs = bk_div.children[0].attributes;\n    for (var i = 0; i < script_attrs.length; i++) {\n      toinsert[toinsert.length - 1].childNodes[1].setAttribute(script_attrs[i].name, script_attrs[i].value);\n    }\n    // store reference to server id on output_area\n    output_area._bokeh_server_id = output.metadata[EXEC_MIME_TYPE][\"server_id\"];\n  }\n}\n\n/**\n * Handle when an output is cleared or removed\n */\nfunction handle_clear_output(event, handle) {\n  var id = handle.cell.output_area._hv_plot_id;\n  var server_id = handle.cell.output_area._bokeh_server_id;\n  if (((id === undefined) || !(id in PyViz.plot_index)) && (server_id !== undefined)) { return; }\n  var comm = window.PyViz.comm_manager.get_client_comm(\"hv-extension-comm\", \"hv-extension-comm\", function () {});\n  if (server_id !== null) {\n    comm.send({event_type: 'server_delete', 'id': server_id});\n    return;\n  } else if (comm !== null) {\n    comm.send({event_type: 'delete', 'id': id});\n  }\n  delete PyViz.plot_index[id];\n  if ((window.Bokeh !== undefined) & (id in window.Bokeh.index)) {\n    var doc = window.Bokeh.index[id].model.document\n    doc.clear();\n    const i = window.Bokeh.documents.indexOf(doc);\n    if (i > -1) {\n      window.Bokeh.documents.splice(i, 1);\n    }\n  }\n}\n\n/**\n * Handle kernel restart event\n */\nfunction handle_kernel_cleanup(event, handle) {\n  delete PyViz.comms[\"hv-extension-comm\"];\n  window.PyViz.plot_index = {}\n}\n\n/**\n * Handle update_display_data messages\n */\nfunction handle_update_output(event, handle) {\n  handle_clear_output(event, {cell: {output_area: handle.output_area}})\n  handle_add_output(event, handle)\n}\n\nfunction register_renderer(events, OutputArea) {\n  function append_mime(data, metadata, element) {\n    // create a DOM node to render to\n    var toinsert = this.create_output_subarea(\n    metadata,\n    CLASS_NAME,\n    EXEC_MIME_TYPE\n    );\n    this.keyboard_manager.register_events(toinsert);\n    // Render to node\n    var props = {data: data, metadata: metadata[EXEC_MIME_TYPE]};\n    render(props, toinsert[0]);\n    element.append(toinsert);\n    return toinsert\n  }\n\n  events.on('output_added.OutputArea', handle_add_output);\n  events.on('output_updated.OutputArea', handle_update_output);\n  events.on('clear_output.CodeCell', handle_clear_output);\n  events.on('delete.Cell', handle_clear_output);\n  events.on('kernel_ready.Kernel', handle_kernel_cleanup);\n\n  OutputArea.prototype.register_mime_type(EXEC_MIME_TYPE, append_mime, {\n    safe: true,\n    index: 0\n  });\n}\n\nif (window.Jupyter !== undefined) {\n  try {\n    var events = require('base/js/events');\n    var OutputArea = require('notebook/js/outputarea').OutputArea;\n    if (OutputArea.prototype.mime_types().indexOf(EXEC_MIME_TYPE) == -1) {\n      register_renderer(events, OutputArea);\n    }\n  } catch(err) {\n  }\n}\n",
      "application/vnd.holoviews_load.v0+json": ""
     },
     "metadata": {},
     "output_type": "display_data"
    },
    {
     "data": {
      "text/html": [
       "<style>.bk-root, .bk-root .bk:before, .bk-root .bk:after {\n",
       "  font-family: var(--jp-ui-font-size1);\n",
       "  font-size: var(--jp-ui-font-size1);\n",
       "  color: var(--jp-ui-font-color1);\n",
       "}\n",
       "</style>"
      ]
     },
     "metadata": {},
     "output_type": "display_data"
    }
   ],
   "source": [
    "import requests\n",
    "from IPython.display import JSON\n",
    "import pandas as pd\n",
    "import numpy as np\n",
    "import time\n",
    "\n",
    "# Visualization\n",
    "from wordcloud import WordCloud, STOPWORDS\n",
    "import plotly.express as px\n",
    "\n",
    "# Panel/hvplot (holoviz)\n",
    "import panel as pn\n",
    "pn.extension()\n",
    "import param\n",
    "import hvplot.pandas\n",
    "\n",
    "# Others\n",
    "import pickle\n",
    "from io import StringIO"
   ]
  },
  {
   "cell_type": "markdown",
   "id": "8a05a91b-1f9c-4c9c-9732-80121a61ae5c",
   "metadata": {},
   "source": [
    "# Get API KEY"
   ]
  },
  {
   "cell_type": "code",
   "execution_count": 6,
   "id": "a09dd5db-30b7-4f83-916b-7dcfabaf6111",
   "metadata": {},
   "outputs": [],
   "source": [
    "from Lib.api_secret import API_KEY"
   ]
  },
  {
   "cell_type": "code",
   "execution_count": 7,
   "id": "c92e8026-d78e-4328-875d-08ba13402c20",
   "metadata": {},
   "outputs": [
    {
     "name": "stdout",
     "output_type": "stream",
     "text": [
      "{'id': 'onuq02vw4n-9895-44bb-b7f7-a86c4db6c777', 'language_model': 'assemblyai_default', 'acoustic_model': 'assemblyai_default', 'language_code': 'en_us', 'status': 'queued', 'audio_url': 'https://github.com/jacklvd/Audio_Data_Project/blob/master/How_I_would_learn_to_code_by_Jason_Goodison.mp3?raw=true', 'text': None, 'words': None, 'utterances': None, 'confidence': None, 'audio_duration': None, 'punctuate': True, 'format_text': True, 'dual_channel': None, 'webhook_url': None, 'webhook_status_code': None, 'webhook_auth': False, 'webhook_auth_header_name': None, 'speed_boost': False, 'auto_highlights_result': None, 'auto_highlights': True, 'audio_start_from': None, 'audio_end_at': None, 'word_boost': [], 'boost_param': None, 'filter_profanity': False, 'redact_pii': False, 'redact_pii_audio': False, 'redact_pii_audio_quality': None, 'redact_pii_policies': None, 'redact_pii_sub': None, 'speaker_labels': False, 'content_safety': False, 'iab_categories': True, 'content_safety_labels': {}, 'iab_categories_result': {}, 'language_detection': False, 'custom_spelling': None, 'disfluencies': False, 'sentiment_analysis': True, 'sentiment_analysis_results': None, 'auto_chapters': True, 'chapters': None, 'entity_detection': False, 'entities': None}\n"
     ]
    }
   ],
   "source": [
    "# Submitting file for transcription\n",
    "import requests\n",
    "endpoint = \"https://api.assemblyai.com/v2/transcript\"\n",
    "json = {\n",
    "    \"audio_url\": \"https://github.com/jacklvd/Audio_Data_Project/blob/master/How_I_would_learn_to_code_by_Jason_Goodison.mp3?raw=true\",\n",
    "    \"auto_highlights\" : True,\n",
    "    \"sentiment_analysis\" : True,\n",
    "    \"auto_chapters\" : True,\n",
    "    \"iab_categories\" : True,\n",
    "}\n",
    "headers = {\n",
    "    \"authorization\": API_KEY,\n",
    "    \"content-type\": \"application/json\"\n",
    "}\n",
    "response = requests.post(endpoint, json=json, headers=headers)\n",
    "print(response.json())"
   ]
  },
  {
   "cell_type": "code",
   "execution_count": 11,
   "id": "1ad4e477-c6d5-4b83-9ade-7bfcde6f317e",
   "metadata": {
    "collapsed": true,
    "jupyter": {
     "outputs_hidden": true
    },
    "tags": []
   },
   "outputs": [
    {
     "name": "stdout",
     "output_type": "stream",
     "text": [
      "{'id': 'onuq02vw4n-9895-44bb-b7f7-a86c4db6c777', 'language_model': 'assemblyai_default', 'acoustic_model': 'assemblyai_default', 'language_code': 'en_us', 'status': 'completed', 'audio_url': 'https://github.com/jacklvd/Audio_Data_Project/blob/master/How_I_would_learn_to_code_by_Jason_Goodison.mp3?raw=true', 'text': \"This is how I would learn to code if I could start over for context, I work at Microsoft, but before that I did six internships across three countries. So yeah, I've done a line or two in my life. Wait, not like that. What the to tell you what I would change, I first need to tell you what I did. I started coding in great alignment. Eleven. Well, sort of. We started with this language called Scratch. It's basic game development made for children. Nobody would be stupid enough to, let's say, do an entire Google coding interview in this language and maybe even do shots every time the code fails. So let's just skip that and get to the important stuff. I went to Waterloo and in order I learned first racket, then C plus plus HTML, CSS, TCL, Python, java, JavaScript. C sharp. Some of these were in class, some are on their own. Here's the motivation behind each racket for recursion, c for memory management, c for object oriented design, HTML and CSS. For web development, although these are not real programming languages or markup languages. TCL I did an internship and it's useless. Python I learned this alone and over time, but mostly just for side projects java and JavaScript. For back end and front end web development. And finally C Sharp, which I do for my full time job now. But it's essentially Microsoft's version of Java, so let's not talk about it. C and C are by far the most useful languages to learn. After I learned those, I realized most other programming languages are essentially just derivatives of those. Each new programming language essentially takes those and makes some specific task easier. Basically, all these languages share the same ancestor in C and C. So clearly you should start by learning these two languages, right? No, these languages are pretty intensive. If you want to do anything like useful or impactful, it either requires one, a lot of code, or two use of a bunch of libraries that you've never heard of before, and honestly are probably not worth learning. Which brings me to my point. You need to do something useful, but not too useful. Now hear me out. If you're learning C, it's going to be relatively easy to start solving some basic math problem and you'll print the solution on the screen, but all of your code is contained to this little terminal. If you want to make a graphical game or connect to a website or do anything quote unquote useful, it'll actually be really hard, even for me right now. I would have to do a lot of googling to even figure out how to do those things. Essentially, if you start with C, anything useful is going to be too hard and this will be really demotivating. Now, let's look at the opposite end of the spectrum. Many students want to get into coding, and the first thing they want to do is learn machine learning. Here's the thing. Machine learning is super useful in the real world, but it's all advanced math. So if you start with it, you're going to be learning one computer science basics, two Python, for example, and three advanced math topics all at the same time. And unless you are literally a genie, you're going to come out of that not really knowing any of the three. The sweet spot is somewhere in the middle. You need to do something that's useful, but not too useful. Now that we're talking about doing useful things, let's clear up the distinction between coding and programming. Coding is just writing code to solve computer science problems. Let's call them math problems to show the distinction. This is what you need as a prerequisite to learn how to program. Programming is the ultimate goal. Programming is the act of using coding to make programs that solve real problems. You need to learn the fundamentals of coding to know how to program. Remember when I talked to people starting in machine learning? This is trying to program before you know how to code. And people only solving math problems in C is knowing how to code and never using that to program. There are tons of tools, use cases, frameworks that surround each coding language. But in the beginning, you kind of need to isolate the coding language itself, learn the basics of that, and then you can take it and learn how to program with it. The easiest thing to start with is probably Python. But honestly, I wouldn't be upset if you picked JavaScript and I'll explain later. Python mostly looks like plain English. Even if you don't know how to code, you can sort of read it. It's super easy to get started in. You can immediately start learning the basics like variables, functions move quickly into data structures and algorithms. You'll really want to know the basics about types like arrays and the basics of control, flow like functions, loops, and even a little bit about classes. Don't get carried away. You don't need to learn advanced things like inheritance, for example. If you're feeling a little feisty, you might want to learn exceptions, hash, maps, maybe sprinkle in a little recursion. Now, there are plenty of interest Python courses in the world, so I'm not going to bore you with the details. I'm sure you can find that on your own. But now that you have a coding language down, let's talk about programming. So the first thing I would do is take what I've learned and build a website. Now, there are three important aspects to a website. There's the back end, which kind of manages user data. There's the front end, which is what runs on the user's browser. And then there's the database, which essentially just stores data. Now, we'll start with back end. You're going to want to pick a pretty high level language, either one Python or two JavaScript. The first program I would build would be a basic website. And what type of website? What does that website do? Well, I'll explain that in a minute, but for now, let's just make a project in that language. Now, when making a back end, you're going to learn concepts like Http methods, get post for example. Depending on the project, you might be interacting with the database. Once you start to feel comfortable and have your basic back end working, then let's try our hand at the front end. Now, on the front end you're going to be using things like JavaScript, HTML, CSS. This is the reason I said JavaScript is actually a pretty good starting language because you can use it for the back end and the front end. I said each programming language is a bunch of tools and frameworks that make it easier to use. Basically, there's no reason for you to write code that somebody else has already written. The frameworks I would use for these languages would be Python. I would try either Django or Flask JavaScript. On the back end I would use Express JS, which just think of it as simplified NodeJS. And on the front end I would use React. And if you need a database, I would try MongoDB. Now, anecdotally I can tell you for Python. I've seen more jobs listed for Django than for Flask. And I've seen more Express JS jobs over Django. On the front end, I think React is pretty solid. After that time you should learn C and C as it'll teach you everything you need to know to learn any other programming language. I love this method because you start learning the practical and marketable stuff immediately, but then you start preparing yourself for the long term necessities. This keeps your motivation higher and it really just makes you marketable quicker. Now, what websites should I build? Think back to useful, but not too useful. This doesn't need to be very complicated. In fact, it really shouldn't be complicated at all. There's going to be a lot of new ideas and concepts thrown at you. If you try to build the next Tinder or the next Instagram, you're going to end up with no product, no learnings, and no motivation. Now, before I give some concrete examples, and I will, let's talk about what makes projects good in an abstract sense. It's always best to create things that you actually find useful. I'll give you an example of one of my first I projects. So I created this thing called spotify to YouTube. MP3. In university I had a trial of Spotify and when it ran out, I was too cheap to buy Spotify. I didn't have any money, but I had 400 plus songs in my playlist. I didn't want to lose all that. So I created a Python program that uses the Spotify API to get those songs and then YouTube's API to download the MP3 version. Now, I had all the same music, but for free. This project was one of the few that I actually finished, and it's one of the few employers loved asking about. Why? Well, one, because it's unique, but two, because I actually used it. I built it for myself. Other projects I would start and then I would lose motivation and I would never finish. Think a little about some problem that you have in your life that would be nice to know. Like maybe it's just knowing when your favorite beer is on sale, or maybe it's an online clip for it. So you don't have to keep messaging yourself random shit on Facebook Messenger all the time. It doesn't have to be relevant for everyone. It really just has to be relevant for you. Now, if you don't have an idea yet, don't panic. I have a solution for that. You're allowed to follow a tutorial on YouTube or Udemy or any of those sites, but you're not allowed to build the same website as them. For example, if you're following a tutorial on how to build a weather website, instead try building something like a currency converter. That's a real example that I did. What's great about that is most of the code and the concepts are going to be the exact same, but it restricts you from being able to copy and paste the solution. Therefore, you can follow the tutorial, but you can't copy it. Now moving back to C plus plus for a second, the best and most popular languages and frameworks are always going to change. They're changing as we speak right now. Don't underestimate those fundamentals you've learned in C and C, because ultimately, if you know those well, most other languages are just going to be some subset of those languages. Also know you're going to experience the Dunn and Kruger effect. This curve shows when somebody's learning a new skill at the beginning. They tend to be overconfident in their abilities. When they start to learn more, they see they actually have so much to learn, they quickly lose all their confidence and it takes them a while to build it back up. Bear in mind, you're going to go through this process. You're supposed to feel like you're not good enough. You're supposed to feel like you're not smart enough for this. But trust me, if I can do it, then you can do it. One important resource is hackathons. It's weird to be at a hackathon in the first place, but it's cool to see all of this. Hackathons are scary because you'll go not knowing much, but people will expose you to things you didn't know you didn't know. They'll help you build and complete an entire project in 48 hours. They're also just really fun, even if the food is actually terrible every single time. Now don't forget, this comes after you learn the basics of coding. Don't try to program before you know how to code and don't waste all of your time coding and not programming subscribe. Smash the like button and go break some eggs.\", 'words': [{'text': 'This', 'start': 130, 'end': 222, 'confidence': 0.99472, 'speaker': None}, {'text': 'is', 'start': 236, 'end': 378, 'confidence': 0.99738, 'speaker': None}, {'text': 'how', 'start': 404, 'end': 558, 'confidence': 0.99966, 'speaker': None}, {'text': 'I', 'start': 584, 'end': 702, 'confidence': 1.0, 'speaker': None}, {'text': 'would', 'start': 716, 'end': 858, 'confidence': 0.98226, 'speaker': None}, {'text': 'learn', 'start': 884, 'end': 1038, 'confidence': 0.99891, 'speaker': None}, {'text': 'to', 'start': 1064, 'end': 1182, 'confidence': 1.0, 'speaker': None}, {'text': 'code', 'start': 1196, 'end': 1410, 'confidence': 0.99631, 'speaker': None}, {'text': 'if', 'start': 1460, 'end': 1602, 'confidence': 0.99882, 'speaker': None}, {'text': 'I', 'start': 1616, 'end': 1722, 'confidence': 0.98, 'speaker': None}, {'text': 'could', 'start': 1736, 'end': 1914, 'confidence': 0.99294, 'speaker': None}, {'text': 'start', 'start': 1952, 'end': 2154, 'confidence': 0.99953, 'speaker': None}, {'text': 'over', 'start': 2192, 'end': 2466, 'confidence': 0.99881, 'speaker': None}, {'text': 'for', 'start': 2528, 'end': 2718, 'confidence': 0.9977, 'speaker': None}, {'text': 'context,', 'start': 2744, 'end': 3094, 'confidence': 0.72976, 'speaker': None}, {'text': 'I', 'start': 3142, 'end': 3318, 'confidence': 0.51, 'speaker': None}, {'text': 'work', 'start': 3344, 'end': 3462, 'confidence': 0.66334, 'speaker': None}, {'text': 'at', 'start': 3476, 'end': 3582, 'confidence': 1.0, 'speaker': None}, {'text': 'Microsoft,', 'start': 3596, 'end': 4114, 'confidence': 0.99841, 'speaker': None}, {'text': 'but', 'start': 4162, 'end': 4302, 'confidence': 0.9933, 'speaker': None}, {'text': 'before', 'start': 4316, 'end': 4530, 'confidence': 0.98837, 'speaker': None}, {'text': 'that', 'start': 4580, 'end': 4758, 'confidence': 0.99749, 'speaker': None}, {'text': 'I', 'start': 4784, 'end': 4938, 'confidence': 0.85, 'speaker': None}, {'text': 'did', 'start': 4964, 'end': 5154, 'confidence': 0.99941, 'speaker': None}, {'text': 'six', 'start': 5192, 'end': 5358, 'confidence': 1.0, 'speaker': None}, {'text': 'internships', 'start': 5384, 'end': 5914, 'confidence': 0.85655, 'speaker': None}, {'text': 'across', 'start': 5962, 'end': 6210, 'confidence': 0.99987, 'speaker': None}, {'text': 'three', 'start': 6260, 'end': 6510, 'confidence': 1.0, 'speaker': None}, {'text': 'countries.', 'start': 6560, 'end': 6982, 'confidence': 0.99868, 'speaker': None}, {'text': 'So', 'start': 7066, 'end': 7422, 'confidence': 0.99081, 'speaker': None}, {'text': 'yeah,', 'start': 7496, 'end': 7770, 'confidence': 0.96273, 'speaker': None}, {'text': \"I've\", 'start': 7820, 'end': 8062, 'confidence': 0.86785, 'speaker': None}, {'text': 'done', 'start': 8086, 'end': 8202, 'confidence': 0.99955, 'speaker': None}, {'text': 'a', 'start': 8216, 'end': 8322, 'confidence': 0.56, 'speaker': None}, {'text': 'line', 'start': 8336, 'end': 8478, 'confidence': 0.99803, 'speaker': None}, {'text': 'or', 'start': 8504, 'end': 8622, 'confidence': 0.96776, 'speaker': None}, {'text': 'two', 'start': 8636, 'end': 8778, 'confidence': 1.0, 'speaker': None}, {'text': 'in', 'start': 8804, 'end': 8922, 'confidence': 0.99827, 'speaker': None}, {'text': 'my', 'start': 8936, 'end': 9042, 'confidence': 0.99908, 'speaker': None}, {'text': 'life.', 'start': 9056, 'end': 9234, 'confidence': 0.99892, 'speaker': None}, {'text': 'Wait,', 'start': 9272, 'end': 9582, 'confidence': 0.99581, 'speaker': None}, {'text': 'not', 'start': 9656, 'end': 9858, 'confidence': 0.99162, 'speaker': None}, {'text': 'like', 'start': 9884, 'end': 10038, 'confidence': 0.99698, 'speaker': None}, {'text': 'that.', 'start': 10064, 'end': 10218, 'confidence': 0.99552, 'speaker': None}, {'text': 'What', 'start': 10244, 'end': 10362, 'confidence': 0.97761, 'speaker': None}, {'text': 'the', 'start': 10376, 'end': 10590, 'confidence': 0.98, 'speaker': None}, {'text': 'to', 'start': 10640, 'end': 10818, 'confidence': 0.98, 'speaker': None}, {'text': 'tell', 'start': 10844, 'end': 10962, 'confidence': 0.99961, 'speaker': None}, {'text': 'you', 'start': 10976, 'end': 11118, 'confidence': 0.98697, 'speaker': None}, {'text': 'what', 'start': 11144, 'end': 11298, 'confidence': 0.99028, 'speaker': None}, {'text': 'I', 'start': 11324, 'end': 11478, 'confidence': 0.99, 'speaker': None}, {'text': 'would', 'start': 11504, 'end': 11694, 'confidence': 0.99346, 'speaker': None}, {'text': 'change,', 'start': 11732, 'end': 12042, 'confidence': 0.99991, 'speaker': None}, {'text': 'I', 'start': 12116, 'end': 12354, 'confidence': 0.84, 'speaker': None}, {'text': 'first', 'start': 12392, 'end': 12594, 'confidence': 1.0, 'speaker': None}, {'text': 'need', 'start': 12632, 'end': 12762, 'confidence': 0.99678, 'speaker': None}, {'text': 'to', 'start': 12776, 'end': 12918, 'confidence': 0.71, 'speaker': None}, {'text': 'tell', 'start': 12944, 'end': 13098, 'confidence': 0.99972, 'speaker': None}, {'text': 'you', 'start': 13124, 'end': 13278, 'confidence': 0.99721, 'speaker': None}, {'text': 'what', 'start': 13304, 'end': 13422, 'confidence': 0.99848, 'speaker': None}, {'text': 'I', 'start': 13436, 'end': 13578, 'confidence': 1.0, 'speaker': None}, {'text': 'did.', 'start': 13604, 'end': 13794, 'confidence': 0.99837, 'speaker': None}, {'text': 'I', 'start': 13832, 'end': 13962, 'confidence': 0.99, 'speaker': None}, {'text': 'started', 'start': 13976, 'end': 14226, 'confidence': 0.86957, 'speaker': None}, {'text': 'coding', 'start': 14288, 'end': 14542, 'confidence': 0.99388, 'speaker': None}, {'text': 'in', 'start': 14566, 'end': 14682, 'confidence': 0.94904, 'speaker': None}, {'text': 'great', 'start': 14696, 'end': 14838, 'confidence': 0.82893, 'speaker': None}, {'text': 'alignment.', 'start': 14864, 'end': 14986, 'confidence': 0.1376, 'speaker': None}, {'text': 'Eleven.', 'start': 14998, 'end': 15346, 'confidence': 0.61, 'speaker': None}, {'text': 'Well,', 'start': 15418, 'end': 15762, 'confidence': 0.93214, 'speaker': None}, {'text': 'sort', 'start': 15836, 'end': 16074, 'confidence': 0.98203, 'speaker': None}, {'text': 'of.', 'start': 16112, 'end': 16278, 'confidence': 0.65, 'speaker': None}, {'text': 'We', 'start': 16304, 'end': 16422, 'confidence': 0.99822, 'speaker': None}, {'text': 'started', 'start': 16436, 'end': 16614, 'confidence': 0.99877, 'speaker': None}, {'text': 'with', 'start': 16652, 'end': 16782, 'confidence': 0.9994, 'speaker': None}, {'text': 'this', 'start': 16796, 'end': 16938, 'confidence': 0.9955, 'speaker': None}, {'text': 'language', 'start': 16964, 'end': 17218, 'confidence': 0.99911, 'speaker': None}, {'text': 'called', 'start': 17254, 'end': 17454, 'confidence': 0.9984, 'speaker': None}, {'text': 'Scratch.', 'start': 17492, 'end': 17950, 'confidence': 0.39013, 'speaker': None}, {'text': \"It's\", 'start': 18010, 'end': 18298, 'confidence': 0.58904, 'speaker': None}, {'text': 'basic', 'start': 18334, 'end': 18634, 'confidence': 0.98833, 'speaker': None}, {'text': 'game', 'start': 18682, 'end': 18858, 'confidence': 0.9999, 'speaker': None}, {'text': 'development', 'start': 18884, 'end': 19318, 'confidence': 0.99867, 'speaker': None}, {'text': 'made', 'start': 19354, 'end': 19518, 'confidence': 0.99926, 'speaker': None}, {'text': 'for', 'start': 19544, 'end': 19698, 'confidence': 0.99945, 'speaker': None}, {'text': 'children.', 'start': 19724, 'end': 20058, 'confidence': 0.99995, 'speaker': None}, {'text': 'Nobody', 'start': 20144, 'end': 20458, 'confidence': 0.99892, 'speaker': None}, {'text': 'would', 'start': 20494, 'end': 20622, 'confidence': 0.99767, 'speaker': None}, {'text': 'be', 'start': 20636, 'end': 20778, 'confidence': 0.99837, 'speaker': None}, {'text': 'stupid', 'start': 20804, 'end': 21082, 'confidence': 0.92055, 'speaker': None}, {'text': 'enough', 'start': 21106, 'end': 21294, 'confidence': 0.99983, 'speaker': None}, {'text': 'to,', 'start': 21332, 'end': 21534, 'confidence': 0.98, 'speaker': None}, {'text': \"let's\", 'start': 21572, 'end': 21766, 'confidence': 0.89008, 'speaker': None}, {'text': 'say,', 'start': 21778, 'end': 21990, 'confidence': 0.88681, 'speaker': None}, {'text': 'do', 'start': 22040, 'end': 22218, 'confidence': 0.98016, 'speaker': None}, {'text': 'an', 'start': 22244, 'end': 22362, 'confidence': 0.99551, 'speaker': None}, {'text': 'entire', 'start': 22376, 'end': 22698, 'confidence': 0.99977, 'speaker': None}, {'text': 'Google', 'start': 22784, 'end': 23070, 'confidence': 0.99906, 'speaker': None}, {'text': 'coding', 'start': 23120, 'end': 23398, 'confidence': 0.71847, 'speaker': None}, {'text': 'interview', 'start': 23434, 'end': 23698, 'confidence': 0.99878, 'speaker': None}, {'text': 'in', 'start': 23734, 'end': 23826, 'confidence': 0.98945, 'speaker': None}, {'text': 'this', 'start': 23828, 'end': 23994, 'confidence': 0.92333, 'speaker': None}, {'text': 'language', 'start': 24032, 'end': 24334, 'confidence': 0.99984, 'speaker': None}, {'text': 'and', 'start': 24382, 'end': 24558, 'confidence': 1.0, 'speaker': None}, {'text': 'maybe', 'start': 24584, 'end': 24774, 'confidence': 0.99655, 'speaker': None}, {'text': 'even', 'start': 24812, 'end': 25014, 'confidence': 0.99883, 'speaker': None}, {'text': 'do', 'start': 25052, 'end': 25218, 'confidence': 0.99566, 'speaker': None}, {'text': 'shots', 'start': 25244, 'end': 25534, 'confidence': 0.97887, 'speaker': None}, {'text': 'every', 'start': 25582, 'end': 25722, 'confidence': 0.99986, 'speaker': None}, {'text': 'time', 'start': 25736, 'end': 25878, 'confidence': 0.62472, 'speaker': None}, {'text': 'the', 'start': 25904, 'end': 26058, 'confidence': 0.99, 'speaker': None}, {'text': 'code', 'start': 26084, 'end': 26274, 'confidence': 0.99913, 'speaker': None}, {'text': 'fails.', 'start': 26312, 'end': 26914, 'confidence': 0.99541, 'speaker': None}, {'text': 'So', 'start': 27022, 'end': 27294, 'confidence': 0.72982, 'speaker': None}, {'text': \"let's\", 'start': 27332, 'end': 27598, 'confidence': 0.77058, 'speaker': None}, {'text': 'just', 'start': 27634, 'end': 27870, 'confidence': 0.98833, 'speaker': None}, {'text': 'skip', 'start': 27920, 'end': 28162, 'confidence': 0.99869, 'speaker': None}, {'text': 'that', 'start': 28186, 'end': 28374, 'confidence': 0.80685, 'speaker': None}, {'text': 'and', 'start': 28412, 'end': 28542, 'confidence': 1.0, 'speaker': None}, {'text': 'get', 'start': 28556, 'end': 28662, 'confidence': 0.9993, 'speaker': None}, {'text': 'to', 'start': 28676, 'end': 28782, 'confidence': 1.0, 'speaker': None}, {'text': 'the', 'start': 28796, 'end': 28902, 'confidence': 1.0, 'speaker': None}, {'text': 'important', 'start': 28916, 'end': 29202, 'confidence': 0.92807, 'speaker': None}, {'text': 'stuff.', 'start': 29276, 'end': 29514, 'confidence': 0.99864, 'speaker': None}, {'text': 'I', 'start': 29552, 'end': 29682, 'confidence': 1.0, 'speaker': None}, {'text': 'went', 'start': 29696, 'end': 29802, 'confidence': 0.99963, 'speaker': None}, {'text': 'to', 'start': 29816, 'end': 29994, 'confidence': 0.96, 'speaker': None}, {'text': 'Waterloo', 'start': 30032, 'end': 30502, 'confidence': 0.65893, 'speaker': None}, {'text': 'and', 'start': 30526, 'end': 30642, 'confidence': 0.98, 'speaker': None}, {'text': 'in', 'start': 30656, 'end': 30798, 'confidence': 0.94479, 'speaker': None}, {'text': 'order', 'start': 30824, 'end': 31086, 'confidence': 0.99991, 'speaker': None}, {'text': 'I', 'start': 31148, 'end': 31338, 'confidence': 1.0, 'speaker': None}, {'text': 'learned', 'start': 31364, 'end': 31750, 'confidence': 0.99726, 'speaker': None}, {'text': 'first', 'start': 31810, 'end': 32178, 'confidence': 1.0, 'speaker': None}, {'text': 'racket,', 'start': 32264, 'end': 32806, 'confidence': 0.97596, 'speaker': None}, {'text': 'then', 'start': 32878, 'end': 33150, 'confidence': 0.95504, 'speaker': None}, {'text': 'C', 'start': 33200, 'end': 33666, 'confidence': 0.99, 'speaker': None}, {'text': 'plus', 'start': 33788, 'end': 34110, 'confidence': 0.53888, 'speaker': None}, {'text': 'plus', 'start': 34160, 'end': 34410, 'confidence': 0.90347, 'speaker': None}, {'text': 'HTML,', 'start': 34460, 'end': 35170, 'confidence': 0.45072, 'speaker': None}, {'text': 'CSS,', 'start': 35230, 'end': 35902, 'confidence': 0.97967, 'speaker': None}, {'text': 'TCL,', 'start': 36046, 'end': 36838, 'confidence': 0.40149, 'speaker': None}, {'text': 'Python,', 'start': 36934, 'end': 37450, 'confidence': 0.95514, 'speaker': None}, {'text': 'java,', 'start': 37510, 'end': 37858, 'confidence': 0.9666, 'speaker': None}, {'text': 'JavaScript.', 'start': 37894, 'end': 38482, 'confidence': 0.78778, 'speaker': None}, {'text': 'C', 'start': 38566, 'end': 38778, 'confidence': 0.94, 'speaker': None}, {'text': 'sharp.', 'start': 38804, 'end': 39118, 'confidence': 0.44596, 'speaker': None}, {'text': 'Some', 'start': 39154, 'end': 39282, 'confidence': 0.99967, 'speaker': None}, {'text': 'of', 'start': 39296, 'end': 39402, 'confidence': 1.0, 'speaker': None}, {'text': 'these', 'start': 39416, 'end': 39522, 'confidence': 0.99624, 'speaker': None}, {'text': 'were', 'start': 39536, 'end': 39642, 'confidence': 0.86467, 'speaker': None}, {'text': 'in', 'start': 39656, 'end': 39798, 'confidence': 0.96145, 'speaker': None}, {'text': 'class,', 'start': 39824, 'end': 40194, 'confidence': 0.99972, 'speaker': None}, {'text': 'some', 'start': 40292, 'end': 40518, 'confidence': 0.99219, 'speaker': None}, {'text': 'are', 'start': 40544, 'end': 40662, 'confidence': 0.79699, 'speaker': None}, {'text': 'on', 'start': 40676, 'end': 40746, 'confidence': 0.99759, 'speaker': None}, {'text': 'their', 'start': 40748, 'end': 40842, 'confidence': 0.99608, 'speaker': None}, {'text': 'own.', 'start': 40856, 'end': 41070, 'confidence': 0.97071, 'speaker': None}, {'text': \"Here's\", 'start': 41120, 'end': 41302, 'confidence': 0.79095, 'speaker': None}, {'text': 'the', 'start': 41326, 'end': 41406, 'confidence': 0.87, 'speaker': None}, {'text': 'motivation', 'start': 41408, 'end': 41794, 'confidence': 0.94902, 'speaker': None}, {'text': 'behind', 'start': 41842, 'end': 42126, 'confidence': 0.99988, 'speaker': None}, {'text': 'each', 'start': 42188, 'end': 42486, 'confidence': 0.99822, 'speaker': None}, {'text': 'racket', 'start': 42548, 'end': 43138, 'confidence': 0.79512, 'speaker': None}, {'text': 'for', 'start': 43234, 'end': 43458, 'confidence': 0.99614, 'speaker': None}, {'text': 'recursion,', 'start': 43484, 'end': 44026, 'confidence': 0.56755, 'speaker': None}, {'text': 'c', 'start': 44098, 'end': 44406, 'confidence': 0.55, 'speaker': None}, {'text': 'for', 'start': 44468, 'end': 44658, 'confidence': 0.99194, 'speaker': None}, {'text': 'memory', 'start': 44684, 'end': 44950, 'confidence': 0.72236, 'speaker': None}, {'text': 'management,', 'start': 45010, 'end': 45418, 'confidence': 0.99754, 'speaker': None}, {'text': 'c', 'start': 45454, 'end': 45906, 'confidence': 0.98, 'speaker': None}, {'text': 'for', 'start': 46028, 'end': 46278, 'confidence': 0.98018, 'speaker': None}, {'text': 'object', 'start': 46304, 'end': 46530, 'confidence': 0.99958, 'speaker': None}, {'text': 'oriented', 'start': 46580, 'end': 47038, 'confidence': 0.32039, 'speaker': None}, {'text': 'design,', 'start': 47074, 'end': 47562, 'confidence': 0.99972, 'speaker': None}, {'text': 'HTML', 'start': 47696, 'end': 48262, 'confidence': 0.65212, 'speaker': None}, {'text': 'and', 'start': 48286, 'end': 48402, 'confidence': 0.94, 'speaker': None}, {'text': 'CSS.', 'start': 48416, 'end': 48910, 'confidence': 0.86189, 'speaker': None}, {'text': 'For', 'start': 49030, 'end': 49458, 'confidence': 0.95031, 'speaker': None}, {'text': 'web', 'start': 49544, 'end': 49794, 'confidence': 0.99966, 'speaker': None}, {'text': 'development,', 'start': 49832, 'end': 50290, 'confidence': 0.88162, 'speaker': None}, {'text': 'although', 'start': 50350, 'end': 50614, 'confidence': 0.91675, 'speaker': None}, {'text': 'these', 'start': 50662, 'end': 50838, 'confidence': 0.999, 'speaker': None}, {'text': 'are', 'start': 50864, 'end': 50982, 'confidence': 0.99943, 'speaker': None}, {'text': 'not', 'start': 50996, 'end': 51138, 'confidence': 0.99869, 'speaker': None}, {'text': 'real', 'start': 51164, 'end': 51354, 'confidence': 1.0, 'speaker': None}, {'text': 'programming', 'start': 51392, 'end': 51838, 'confidence': 0.99973, 'speaker': None}, {'text': 'languages', 'start': 51874, 'end': 52174, 'confidence': 0.99936, 'speaker': None}, {'text': 'or', 'start': 52222, 'end': 52398, 'confidence': 0.92042, 'speaker': None}, {'text': 'markup', 'start': 52424, 'end': 52798, 'confidence': 0.99097, 'speaker': None}, {'text': 'languages.', 'start': 52834, 'end': 53302, 'confidence': 0.99502, 'speaker': None}, {'text': 'TCL', 'start': 53386, 'end': 53986, 'confidence': 0.86633, 'speaker': None}, {'text': 'I', 'start': 54058, 'end': 54222, 'confidence': 1.0, 'speaker': None}, {'text': 'did', 'start': 54236, 'end': 54378, 'confidence': 0.99732, 'speaker': None}, {'text': 'an', 'start': 54404, 'end': 54558, 'confidence': 0.81697, 'speaker': None}, {'text': 'internship', 'start': 54584, 'end': 55078, 'confidence': 0.98974, 'speaker': None}, {'text': 'and', 'start': 55114, 'end': 55242, 'confidence': 0.99, 'speaker': None}, {'text': \"it's\", 'start': 55256, 'end': 55858, 'confidence': 0.95462, 'speaker': None}, {'text': 'useless.', 'start': 56014, 'end': 56674, 'confidence': 0.84513, 'speaker': None}, {'text': 'Python', 'start': 56782, 'end': 57346, 'confidence': 0.96325, 'speaker': None}, {'text': 'I', 'start': 57418, 'end': 57690, 'confidence': 0.99, 'speaker': None}, {'text': 'learned', 'start': 57740, 'end': 57982, 'confidence': 0.92186, 'speaker': None}, {'text': 'this', 'start': 58006, 'end': 58230, 'confidence': 0.63748, 'speaker': None}, {'text': 'alone', 'start': 58280, 'end': 58558, 'confidence': 0.99762, 'speaker': None}, {'text': 'and', 'start': 58594, 'end': 58722, 'confidence': 0.82, 'speaker': None}, {'text': 'over', 'start': 58736, 'end': 58914, 'confidence': 0.99766, 'speaker': None}, {'text': 'time,', 'start': 58952, 'end': 59154, 'confidence': 0.73947, 'speaker': None}, {'text': 'but', 'start': 59192, 'end': 59358, 'confidence': 0.9887, 'speaker': None}, {'text': 'mostly', 'start': 59384, 'end': 59662, 'confidence': 0.99921, 'speaker': None}, {'text': 'just', 'start': 59686, 'end': 59838, 'confidence': 0.98415, 'speaker': None}, {'text': 'for', 'start': 59864, 'end': 60018, 'confidence': 0.9975, 'speaker': None}, {'text': 'side', 'start': 60044, 'end': 60234, 'confidence': 0.99206, 'speaker': None}, {'text': 'projects', 'start': 60272, 'end': 60694, 'confidence': 0.96335, 'speaker': None}, {'text': 'java', 'start': 60742, 'end': 61042, 'confidence': 0.99245, 'speaker': None}, {'text': 'and', 'start': 61066, 'end': 61182, 'confidence': 0.99, 'speaker': None}, {'text': 'JavaScript.', 'start': 61196, 'end': 61726, 'confidence': 0.99618, 'speaker': None}, {'text': 'For', 'start': 61798, 'end': 62070, 'confidence': 0.99723, 'speaker': None}, {'text': 'back', 'start': 62120, 'end': 62298, 'confidence': 0.99953, 'speaker': None}, {'text': 'end', 'start': 62324, 'end': 62478, 'confidence': 0.74132, 'speaker': None}, {'text': 'and', 'start': 62504, 'end': 62694, 'confidence': 0.97, 'speaker': None}, {'text': 'front', 'start': 62732, 'end': 62898, 'confidence': 0.99983, 'speaker': None}, {'text': 'end', 'start': 62924, 'end': 63114, 'confidence': 0.87596, 'speaker': None}, {'text': 'web', 'start': 63152, 'end': 63354, 'confidence': 0.99952, 'speaker': None}, {'text': 'development.', 'start': 63392, 'end': 63814, 'confidence': 0.99918, 'speaker': None}, {'text': 'And', 'start': 63862, 'end': 64110, 'confidence': 0.99, 'speaker': None}, {'text': 'finally', 'start': 64160, 'end': 64518, 'confidence': 0.99787, 'speaker': None}, {'text': 'C', 'start': 64604, 'end': 64818, 'confidence': 1.0, 'speaker': None}, {'text': 'Sharp,', 'start': 64844, 'end': 65158, 'confidence': 0.72177, 'speaker': None}, {'text': 'which', 'start': 65194, 'end': 65322, 'confidence': 0.99875, 'speaker': None}, {'text': 'I', 'start': 65336, 'end': 65442, 'confidence': 0.97, 'speaker': None}, {'text': 'do', 'start': 65456, 'end': 65598, 'confidence': 0.99756, 'speaker': None}, {'text': 'for', 'start': 65624, 'end': 65742, 'confidence': 0.98944, 'speaker': None}, {'text': 'my', 'start': 65756, 'end': 65862, 'confidence': 0.997, 'speaker': None}, {'text': 'full', 'start': 65876, 'end': 66018, 'confidence': 0.95154, 'speaker': None}, {'text': 'time', 'start': 66044, 'end': 66234, 'confidence': 0.7954, 'speaker': None}, {'text': 'job', 'start': 66272, 'end': 66474, 'confidence': 0.99994, 'speaker': None}, {'text': 'now.', 'start': 66512, 'end': 66714, 'confidence': 0.99357, 'speaker': None}, {'text': 'But', 'start': 66752, 'end': 66882, 'confidence': 0.9931, 'speaker': None}, {'text': \"it's\", 'start': 66896, 'end': 67042, 'confidence': 0.87737, 'speaker': None}, {'text': 'essentially', 'start': 67066, 'end': 67426, 'confidence': 0.99628, 'speaker': None}, {'text': \"Microsoft's\", 'start': 67498, 'end': 68122, 'confidence': 0.77281, 'speaker': None}, {'text': 'version', 'start': 68146, 'end': 68398, 'confidence': 0.99544, 'speaker': None}, {'text': 'of', 'start': 68434, 'end': 68598, 'confidence': 1.0, 'speaker': None}, {'text': 'Java,', 'start': 68624, 'end': 68998, 'confidence': 0.9783, 'speaker': None}, {'text': 'so', 'start': 69034, 'end': 69234, 'confidence': 0.97045, 'speaker': None}, {'text': \"let's\", 'start': 69272, 'end': 69538, 'confidence': 0.99098, 'speaker': None}, {'text': 'not', 'start': 69574, 'end': 69738, 'confidence': 0.99885, 'speaker': None}, {'text': 'talk', 'start': 69764, 'end': 69954, 'confidence': 0.99939, 'speaker': None}, {'text': 'about', 'start': 69992, 'end': 70158, 'confidence': 0.99983, 'speaker': None}, {'text': 'it.', 'start': 70184, 'end': 70374, 'confidence': 0.91, 'speaker': None}, {'text': 'C', 'start': 70412, 'end': 70614, 'confidence': 0.53, 'speaker': None}, {'text': 'and', 'start': 70652, 'end': 70782, 'confidence': 0.99, 'speaker': None}, {'text': 'C', 'start': 70796, 'end': 71226, 'confidence': 1.0, 'speaker': None}, {'text': 'are', 'start': 71348, 'end': 71634, 'confidence': 0.99206, 'speaker': None}, {'text': 'by', 'start': 71672, 'end': 71802, 'confidence': 0.98044, 'speaker': None}, {'text': 'far', 'start': 71816, 'end': 71958, 'confidence': 0.99956, 'speaker': None}, {'text': 'the', 'start': 71984, 'end': 72102, 'confidence': 0.97, 'speaker': None}, {'text': 'most', 'start': 72116, 'end': 72294, 'confidence': 0.72657, 'speaker': None}, {'text': 'useful', 'start': 72332, 'end': 72598, 'confidence': 0.99532, 'speaker': None}, {'text': 'languages', 'start': 72634, 'end': 72994, 'confidence': 0.98298, 'speaker': None}, {'text': 'to', 'start': 73042, 'end': 73182, 'confidence': 1.0, 'speaker': None}, {'text': 'learn.', 'start': 73196, 'end': 73410, 'confidence': 0.9995, 'speaker': None}, {'text': 'After', 'start': 73460, 'end': 73638, 'confidence': 0.99992, 'speaker': None}, {'text': 'I', 'start': 73664, 'end': 73818, 'confidence': 0.77, 'speaker': None}, {'text': 'learned', 'start': 73844, 'end': 74002, 'confidence': 0.80281, 'speaker': None}, {'text': 'those,', 'start': 74026, 'end': 74214, 'confidence': 0.99094, 'speaker': None}, {'text': 'I', 'start': 74252, 'end': 74382, 'confidence': 1.0, 'speaker': None}, {'text': 'realized', 'start': 74396, 'end': 74734, 'confidence': 0.95089, 'speaker': None}, {'text': 'most', 'start': 74782, 'end': 75030, 'confidence': 0.99967, 'speaker': None}, {'text': 'other', 'start': 75080, 'end': 75258, 'confidence': 0.99912, 'speaker': None}, {'text': 'programming', 'start': 75284, 'end': 75718, 'confidence': 0.92213, 'speaker': None}, {'text': 'languages', 'start': 75754, 'end': 76162, 'confidence': 0.99546, 'speaker': None}, {'text': 'are', 'start': 76246, 'end': 76566, 'confidence': 0.99259, 'speaker': None}, {'text': 'essentially', 'start': 76628, 'end': 76990, 'confidence': 0.99859, 'speaker': None}, {'text': 'just', 'start': 77050, 'end': 77238, 'confidence': 0.97706, 'speaker': None}, {'text': 'derivatives', 'start': 77264, 'end': 77938, 'confidence': 0.73001, 'speaker': None}, {'text': 'of', 'start': 77974, 'end': 78138, 'confidence': 1.0, 'speaker': None}, {'text': 'those.', 'start': 78164, 'end': 78498, 'confidence': 0.98518, 'speaker': None}, {'text': 'Each', 'start': 78584, 'end': 78834, 'confidence': 0.99911, 'speaker': None}, {'text': 'new', 'start': 78872, 'end': 79038, 'confidence': 1.0, 'speaker': None}, {'text': 'programming', 'start': 79064, 'end': 79438, 'confidence': 0.88368, 'speaker': None}, {'text': 'language', 'start': 79474, 'end': 79774, 'confidence': 0.98847, 'speaker': None}, {'text': 'essentially', 'start': 79822, 'end': 80206, 'confidence': 0.99863, 'speaker': None}, {'text': 'takes', 'start': 80278, 'end': 80550, 'confidence': 0.99772, 'speaker': None}, {'text': 'those', 'start': 80600, 'end': 80814, 'confidence': 0.99953, 'speaker': None}, {'text': 'and', 'start': 80852, 'end': 81018, 'confidence': 1.0, 'speaker': None}, {'text': 'makes', 'start': 81044, 'end': 81234, 'confidence': 0.94413, 'speaker': None}, {'text': 'some', 'start': 81272, 'end': 81438, 'confidence': 0.99699, 'speaker': None}, {'text': 'specific', 'start': 81464, 'end': 81798, 'confidence': 0.58024, 'speaker': None}, {'text': 'task', 'start': 81884, 'end': 82390, 'confidence': 0.7077, 'speaker': None}, {'text': 'easier.', 'start': 82450, 'end': 82810, 'confidence': 0.68073, 'speaker': None}, {'text': 'Basically,', 'start': 82870, 'end': 83490, 'confidence': 0.9911, 'speaker': None}, {'text': 'all', 'start': 83660, 'end': 83958, 'confidence': 0.99938, 'speaker': None}, {'text': 'these', 'start': 83984, 'end': 84174, 'confidence': 0.99435, 'speaker': None}, {'text': 'languages', 'start': 84212, 'end': 84550, 'confidence': 0.99882, 'speaker': None}, {'text': 'share', 'start': 84610, 'end': 84798, 'confidence': 0.99958, 'speaker': None}, {'text': 'the', 'start': 84824, 'end': 84978, 'confidence': 0.97, 'speaker': None}, {'text': 'same', 'start': 85004, 'end': 85194, 'confidence': 0.99968, 'speaker': None}, {'text': 'ancestor', 'start': 85232, 'end': 85702, 'confidence': 0.73926, 'speaker': None}, {'text': 'in', 'start': 85726, 'end': 85842, 'confidence': 0.67889, 'speaker': None}, {'text': 'C', 'start': 85856, 'end': 85998, 'confidence': 1.0, 'speaker': None}, {'text': 'and', 'start': 86024, 'end': 86142, 'confidence': 0.98, 'speaker': None}, {'text': 'C.', 'start': 86156, 'end': 86622, 'confidence': 0.98, 'speaker': None}, {'text': 'So', 'start': 86756, 'end': 87018, 'confidence': 0.76491, 'speaker': None}, {'text': 'clearly', 'start': 87044, 'end': 87358, 'confidence': 0.91435, 'speaker': None}, {'text': 'you', 'start': 87394, 'end': 87522, 'confidence': 0.99798, 'speaker': None}, {'text': 'should', 'start': 87536, 'end': 87678, 'confidence': 0.99502, 'speaker': None}, {'text': 'start', 'start': 87704, 'end': 87894, 'confidence': 0.99943, 'speaker': None}, {'text': 'by', 'start': 87932, 'end': 88098, 'confidence': 0.99854, 'speaker': None}, {'text': 'learning', 'start': 88124, 'end': 88350, 'confidence': 0.99915, 'speaker': None}, {'text': 'these', 'start': 88400, 'end': 88578, 'confidence': 0.99787, 'speaker': None}, {'text': 'two', 'start': 88604, 'end': 88758, 'confidence': 1.0, 'speaker': None}, {'text': 'languages,', 'start': 88784, 'end': 89182, 'confidence': 0.99669, 'speaker': None}, {'text': 'right?', 'start': 89266, 'end': 89802, 'confidence': 0.99003, 'speaker': None}, {'text': 'No,', 'start': 89936, 'end': 90414, 'confidence': 0.93768, 'speaker': None}, {'text': 'these', 'start': 90512, 'end': 90774, 'confidence': 0.99629, 'speaker': None}, {'text': 'languages', 'start': 90812, 'end': 91186, 'confidence': 0.91726, 'speaker': None}, {'text': 'are', 'start': 91258, 'end': 91530, 'confidence': 0.99963, 'speaker': None}, {'text': 'pretty', 'start': 91580, 'end': 91794, 'confidence': 0.99947, 'speaker': None}, {'text': 'intensive.', 'start': 91832, 'end': 92302, 'confidence': 0.98464, 'speaker': None}, {'text': 'If', 'start': 92386, 'end': 92562, 'confidence': 0.99749, 'speaker': None}, {'text': 'you', 'start': 92576, 'end': 92682, 'confidence': 0.9988, 'speaker': None}, {'text': 'want', 'start': 92696, 'end': 92802, 'confidence': 0.98847, 'speaker': None}, {'text': 'to', 'start': 92816, 'end': 92922, 'confidence': 1.0, 'speaker': None}, {'text': 'do', 'start': 92936, 'end': 93078, 'confidence': 0.99815, 'speaker': None}, {'text': 'anything', 'start': 93104, 'end': 93366, 'confidence': 0.99955, 'speaker': None}, {'text': 'like', 'start': 93428, 'end': 93726, 'confidence': 0.85857, 'speaker': None}, {'text': 'useful', 'start': 93788, 'end': 94270, 'confidence': 0.99904, 'speaker': None}, {'text': 'or', 'start': 94330, 'end': 94698, 'confidence': 0.99753, 'speaker': None}, {'text': 'impactful,', 'start': 94784, 'end': 95410, 'confidence': 0.37348, 'speaker': None}, {'text': 'it', 'start': 95470, 'end': 95658, 'confidence': 0.99, 'speaker': None}, {'text': 'either', 'start': 95684, 'end': 95874, 'confidence': 0.99926, 'speaker': None}, {'text': 'requires', 'start': 95912, 'end': 96562, 'confidence': 0.49399, 'speaker': None}, {'text': 'one,', 'start': 96646, 'end': 97218, 'confidence': 0.96, 'speaker': None}, {'text': 'a', 'start': 97364, 'end': 97566, 'confidence': 0.53, 'speaker': None}, {'text': 'lot', 'start': 97568, 'end': 97626, 'confidence': 0.92529, 'speaker': None}, {'text': 'of', 'start': 97628, 'end': 97794, 'confidence': 0.52, 'speaker': None}, {'text': 'code,', 'start': 97832, 'end': 98142, 'confidence': 0.99945, 'speaker': None}, {'text': 'or', 'start': 98216, 'end': 98490, 'confidence': 0.97512, 'speaker': None}, {'text': 'two', 'start': 98540, 'end': 98898, 'confidence': 0.9, 'speaker': None}, {'text': 'use', 'start': 98984, 'end': 99270, 'confidence': 0.99334, 'speaker': None}, {'text': 'of', 'start': 99320, 'end': 99678, 'confidence': 0.97, 'speaker': None}, {'text': 'a', 'start': 99764, 'end': 99942, 'confidence': 1.0, 'speaker': None}, {'text': 'bunch', 'start': 99956, 'end': 100102, 'confidence': 0.97531, 'speaker': None}, {'text': 'of', 'start': 100126, 'end': 100314, 'confidence': 0.99, 'speaker': None}, {'text': 'libraries', 'start': 100352, 'end': 100894, 'confidence': 0.79361, 'speaker': None}, {'text': 'that', 'start': 100942, 'end': 101082, 'confidence': 0.99944, 'speaker': None}, {'text': \"you've\", 'start': 101096, 'end': 101242, 'confidence': 0.59072, 'speaker': None}, {'text': 'never', 'start': 101266, 'end': 101454, 'confidence': 0.91614, 'speaker': None}, {'text': 'heard', 'start': 101492, 'end': 101658, 'confidence': 0.99972, 'speaker': None}, {'text': 'of', 'start': 101684, 'end': 101838, 'confidence': 1.0, 'speaker': None}, {'text': 'before,', 'start': 101864, 'end': 102126, 'confidence': 0.99992, 'speaker': None}, {'text': 'and', 'start': 102188, 'end': 102378, 'confidence': 0.98, 'speaker': None}, {'text': 'honestly', 'start': 102404, 'end': 102886, 'confidence': 0.96951, 'speaker': None}, {'text': 'are', 'start': 102958, 'end': 103230, 'confidence': 0.99413, 'speaker': None}, {'text': 'probably', 'start': 103280, 'end': 103674, 'confidence': 0.99878, 'speaker': None}, {'text': 'not', 'start': 103772, 'end': 104070, 'confidence': 0.99985, 'speaker': None}, {'text': 'worth', 'start': 104120, 'end': 104406, 'confidence': 0.99974, 'speaker': None}, {'text': 'learning.', 'start': 104468, 'end': 104910, 'confidence': 0.99992, 'speaker': None}, {'text': 'Which', 'start': 105020, 'end': 105294, 'confidence': 0.99942, 'speaker': None}, {'text': 'brings', 'start': 105332, 'end': 105658, 'confidence': 0.90985, 'speaker': None}, {'text': 'me', 'start': 105694, 'end': 105858, 'confidence': 0.99983, 'speaker': None}, {'text': 'to', 'start': 105884, 'end': 106002, 'confidence': 1.0, 'speaker': None}, {'text': 'my', 'start': 106016, 'end': 106194, 'confidence': 0.99985, 'speaker': None}, {'text': 'point.', 'start': 106232, 'end': 106542, 'confidence': 1.0, 'speaker': None}, {'text': 'You', 'start': 106616, 'end': 106818, 'confidence': 0.99646, 'speaker': None}, {'text': 'need', 'start': 106844, 'end': 106962, 'confidence': 0.99978, 'speaker': None}, {'text': 'to', 'start': 106976, 'end': 107082, 'confidence': 1.0, 'speaker': None}, {'text': 'do', 'start': 107096, 'end': 107274, 'confidence': 0.99857, 'speaker': None}, {'text': 'something', 'start': 107312, 'end': 107550, 'confidence': 0.9998, 'speaker': None}, {'text': 'useful,', 'start': 107600, 'end': 108010, 'confidence': 0.98948, 'speaker': None}, {'text': 'but', 'start': 108070, 'end': 108330, 'confidence': 0.76267, 'speaker': None}, {'text': 'not', 'start': 108380, 'end': 108666, 'confidence': 0.99955, 'speaker': None}, {'text': 'too', 'start': 108728, 'end': 108990, 'confidence': 0.9955, 'speaker': None}, {'text': 'useful.', 'start': 109040, 'end': 109450, 'confidence': 0.45192, 'speaker': None}, {'text': 'Now', 'start': 109510, 'end': 109698, 'confidence': 0.95978, 'speaker': None}, {'text': 'hear', 'start': 109724, 'end': 109878, 'confidence': 0.99456, 'speaker': None}, {'text': 'me', 'start': 109904, 'end': 110022, 'confidence': 0.99982, 'speaker': None}, {'text': 'out.', 'start': 110036, 'end': 110178, 'confidence': 0.9707, 'speaker': None}, {'text': 'If', 'start': 110204, 'end': 110322, 'confidence': 0.99869, 'speaker': None}, {'text': \"you're\", 'start': 110336, 'end': 110482, 'confidence': 0.95603, 'speaker': None}, {'text': 'learning', 'start': 110506, 'end': 110694, 'confidence': 0.99936, 'speaker': None}, {'text': 'C,', 'start': 110732, 'end': 110970, 'confidence': 0.59, 'speaker': None}, {'text': \"it's\", 'start': 111020, 'end': 111202, 'confidence': 0.90315, 'speaker': None}, {'text': 'going', 'start': 111226, 'end': 111306, 'confidence': 0.99589, 'speaker': None}, {'text': 'to', 'start': 111308, 'end': 111366, 'confidence': 0.99, 'speaker': None}, {'text': 'be', 'start': 111368, 'end': 111534, 'confidence': 0.99671, 'speaker': None}, {'text': 'relatively', 'start': 111572, 'end': 112054, 'confidence': 0.99095, 'speaker': None}, {'text': 'easy', 'start': 112102, 'end': 112386, 'confidence': 0.9998, 'speaker': None}, {'text': 'to', 'start': 112448, 'end': 112746, 'confidence': 0.8, 'speaker': None}, {'text': 'start', 'start': 112808, 'end': 113070, 'confidence': 0.99886, 'speaker': None}, {'text': 'solving', 'start': 113120, 'end': 113494, 'confidence': 0.87612, 'speaker': None}, {'text': 'some', 'start': 113542, 'end': 113754, 'confidence': 0.99902, 'speaker': None}, {'text': 'basic', 'start': 113792, 'end': 114154, 'confidence': 0.99975, 'speaker': None}, {'text': 'math', 'start': 114202, 'end': 114478, 'confidence': 0.98093, 'speaker': None}, {'text': 'problem', 'start': 114514, 'end': 114822, 'confidence': 0.59175, 'speaker': None}, {'text': 'and', 'start': 114896, 'end': 115098, 'confidence': 0.94, 'speaker': None}, {'text': \"you'll\", 'start': 115124, 'end': 115318, 'confidence': 0.96398, 'speaker': None}, {'text': 'print', 'start': 115354, 'end': 115654, 'confidence': 0.99986, 'speaker': None}, {'text': 'the', 'start': 115702, 'end': 115878, 'confidence': 0.99, 'speaker': None}, {'text': 'solution', 'start': 115904, 'end': 116230, 'confidence': 0.99885, 'speaker': None}, {'text': 'on', 'start': 116290, 'end': 116478, 'confidence': 0.97341, 'speaker': None}, {'text': 'the', 'start': 116504, 'end': 116622, 'confidence': 1.0, 'speaker': None}, {'text': 'screen,', 'start': 116636, 'end': 116922, 'confidence': 0.99982, 'speaker': None}, {'text': 'but', 'start': 116996, 'end': 117198, 'confidence': 0.88909, 'speaker': None}, {'text': 'all', 'start': 117224, 'end': 117342, 'confidence': 0.99989, 'speaker': None}, {'text': 'of', 'start': 117356, 'end': 117462, 'confidence': 1.0, 'speaker': None}, {'text': 'your', 'start': 117476, 'end': 117654, 'confidence': 0.99877, 'speaker': None}, {'text': 'code', 'start': 117692, 'end': 117930, 'confidence': 0.99981, 'speaker': None}, {'text': 'is', 'start': 117980, 'end': 118158, 'confidence': 0.9992, 'speaker': None}, {'text': 'contained', 'start': 118184, 'end': 118786, 'confidence': 0.97184, 'speaker': None}, {'text': 'to', 'start': 118858, 'end': 119058, 'confidence': 0.91, 'speaker': None}, {'text': 'this', 'start': 119084, 'end': 119310, 'confidence': 0.99919, 'speaker': None}, {'text': 'little', 'start': 119360, 'end': 119610, 'confidence': 0.99878, 'speaker': None}, {'text': 'terminal.', 'start': 119660, 'end': 120058, 'confidence': 0.99931, 'speaker': None}, {'text': 'If', 'start': 120094, 'end': 120222, 'confidence': 0.9495, 'speaker': None}, {'text': 'you', 'start': 120236, 'end': 120306, 'confidence': 0.99903, 'speaker': None}, {'text': 'want', 'start': 120308, 'end': 120402, 'confidence': 0.84522, 'speaker': None}, {'text': 'to', 'start': 120416, 'end': 120486, 'confidence': 1.0, 'speaker': None}, {'text': 'make', 'start': 120488, 'end': 120618, 'confidence': 0.56698, 'speaker': None}, {'text': 'a', 'start': 120644, 'end': 120762, 'confidence': 1.0, 'speaker': None}, {'text': 'graphical', 'start': 120776, 'end': 121210, 'confidence': 0.94198, 'speaker': None}, {'text': 'game', 'start': 121270, 'end': 121530, 'confidence': 0.99884, 'speaker': None}, {'text': 'or', 'start': 121580, 'end': 121758, 'confidence': 0.99732, 'speaker': None}, {'text': 'connect', 'start': 121784, 'end': 122010, 'confidence': 0.99988, 'speaker': None}, {'text': 'to', 'start': 122060, 'end': 122202, 'confidence': 1.0, 'speaker': None}, {'text': 'a', 'start': 122216, 'end': 122322, 'confidence': 1.0, 'speaker': None}, {'text': 'website', 'start': 122336, 'end': 122622, 'confidence': 1.0, 'speaker': None}, {'text': 'or', 'start': 122696, 'end': 122898, 'confidence': 0.99399, 'speaker': None}, {'text': 'do', 'start': 122924, 'end': 123042, 'confidence': 0.99881, 'speaker': None}, {'text': 'anything', 'start': 123056, 'end': 123414, 'confidence': 0.99937, 'speaker': None}, {'text': 'quote', 'start': 123512, 'end': 123778, 'confidence': 0.86025, 'speaker': None}, {'text': 'unquote', 'start': 123814, 'end': 124246, 'confidence': 0.96273, 'speaker': None}, {'text': 'useful,', 'start': 124318, 'end': 124810, 'confidence': 0.99855, 'speaker': None}, {'text': \"it'll\", 'start': 124870, 'end': 125122, 'confidence': 0.78726, 'speaker': None}, {'text': 'actually', 'start': 125146, 'end': 125334, 'confidence': 0.9931, 'speaker': None}, {'text': 'be', 'start': 125372, 'end': 125574, 'confidence': 0.99546, 'speaker': None}, {'text': 'really', 'start': 125612, 'end': 125850, 'confidence': 0.99931, 'speaker': None}, {'text': 'hard,', 'start': 125900, 'end': 126500, 'confidence': 0.99994, 'speaker': None}, {'text': 'even', 'start': 126830, 'end': 127194, 'confidence': 0.99614, 'speaker': None}, {'text': 'for', 'start': 127232, 'end': 127362, 'confidence': 0.99827, 'speaker': None}, {'text': 'me', 'start': 127376, 'end': 127554, 'confidence': 0.89246, 'speaker': None}, {'text': 'right', 'start': 127592, 'end': 127758, 'confidence': 0.99939, 'speaker': None}, {'text': 'now.', 'start': 127784, 'end': 128154, 'confidence': 0.99987, 'speaker': None}, {'text': 'I', 'start': 128252, 'end': 128406, 'confidence': 1.0, 'speaker': None}, {'text': 'would', 'start': 128408, 'end': 128538, 'confidence': 0.50514, 'speaker': None}, {'text': 'have', 'start': 128564, 'end': 128682, 'confidence': 0.99981, 'speaker': None}, {'text': 'to', 'start': 128696, 'end': 128802, 'confidence': 1.0, 'speaker': None}, {'text': 'do', 'start': 128816, 'end': 128922, 'confidence': 0.99519, 'speaker': None}, {'text': 'a', 'start': 128936, 'end': 129042, 'confidence': 1.0, 'speaker': None}, {'text': 'lot', 'start': 129056, 'end': 129162, 'confidence': 0.99991, 'speaker': None}, {'text': 'of', 'start': 129176, 'end': 129318, 'confidence': 1.0, 'speaker': None}, {'text': 'googling', 'start': 129344, 'end': 129730, 'confidence': 0.91694, 'speaker': None}, {'text': 'to', 'start': 129790, 'end': 129942, 'confidence': 1.0, 'speaker': None}, {'text': 'even', 'start': 129956, 'end': 130134, 'confidence': 0.99352, 'speaker': None}, {'text': 'figure', 'start': 130172, 'end': 130374, 'confidence': 0.99928, 'speaker': None}, {'text': 'out', 'start': 130412, 'end': 130542, 'confidence': 0.99759, 'speaker': None}, {'text': 'how', 'start': 130556, 'end': 130626, 'confidence': 0.99934, 'speaker': None}, {'text': 'to', 'start': 130628, 'end': 130758, 'confidence': 0.95, 'speaker': None}, {'text': 'do', 'start': 130784, 'end': 130938, 'confidence': 0.99918, 'speaker': None}, {'text': 'those', 'start': 130964, 'end': 131154, 'confidence': 0.999, 'speaker': None}, {'text': 'things.', 'start': 131192, 'end': 131610, 'confidence': 0.99933, 'speaker': None}, {'text': 'Essentially,', 'start': 131720, 'end': 132166, 'confidence': 0.9975, 'speaker': None}, {'text': 'if', 'start': 132238, 'end': 132438, 'confidence': 0.53385, 'speaker': None}, {'text': 'you', 'start': 132464, 'end': 132618, 'confidence': 0.99892, 'speaker': None}, {'text': 'start', 'start': 132644, 'end': 132798, 'confidence': 0.99948, 'speaker': None}, {'text': 'with', 'start': 132824, 'end': 132978, 'confidence': 0.99619, 'speaker': None}, {'text': 'C,', 'start': 133004, 'end': 133338, 'confidence': 0.95, 'speaker': None}, {'text': 'anything', 'start': 133424, 'end': 133782, 'confidence': 0.99977, 'speaker': None}, {'text': 'useful', 'start': 133856, 'end': 134230, 'confidence': 0.52297, 'speaker': None}, {'text': 'is', 'start': 134290, 'end': 134478, 'confidence': 0.99739, 'speaker': None}, {'text': 'going', 'start': 134504, 'end': 134586, 'confidence': 0.98166, 'speaker': None}, {'text': 'to', 'start': 134588, 'end': 134646, 'confidence': 1.0, 'speaker': None}, {'text': 'be', 'start': 134648, 'end': 134778, 'confidence': 0.99303, 'speaker': None}, {'text': 'too', 'start': 134804, 'end': 135066, 'confidence': 0.58381, 'speaker': None}, {'text': 'hard', 'start': 135128, 'end': 135498, 'confidence': 0.99978, 'speaker': None}, {'text': 'and', 'start': 135584, 'end': 135762, 'confidence': 0.97, 'speaker': None}, {'text': 'this', 'start': 135776, 'end': 135918, 'confidence': 0.9957, 'speaker': None}, {'text': 'will', 'start': 135944, 'end': 136062, 'confidence': 0.93961, 'speaker': None}, {'text': 'be', 'start': 136076, 'end': 136218, 'confidence': 0.99603, 'speaker': None}, {'text': 'really', 'start': 136244, 'end': 136470, 'confidence': 0.99765, 'speaker': None}, {'text': 'demotivating.', 'start': 136520, 'end': 137278, 'confidence': 0.46736, 'speaker': None}, {'text': 'Now,', 'start': 137374, 'end': 137634, 'confidence': 0.98445, 'speaker': None}, {'text': \"let's\", 'start': 137672, 'end': 137878, 'confidence': 0.57097, 'speaker': None}, {'text': 'look', 'start': 137914, 'end': 138042, 'confidence': 0.99963, 'speaker': None}, {'text': 'at', 'start': 138056, 'end': 138162, 'confidence': 1.0, 'speaker': None}, {'text': 'the', 'start': 138176, 'end': 138318, 'confidence': 1.0, 'speaker': None}, {'text': 'opposite', 'start': 138344, 'end': 138754, 'confidence': 0.98752, 'speaker': None}, {'text': 'end', 'start': 138802, 'end': 138942, 'confidence': 0.99996, 'speaker': None}, {'text': 'of', 'start': 138956, 'end': 139062, 'confidence': 1.0, 'speaker': None}, {'text': 'the', 'start': 139076, 'end': 139182, 'confidence': 0.99, 'speaker': None}, {'text': 'spectrum.', 'start': 139196, 'end': 139894, 'confidence': 0.88879, 'speaker': None}, {'text': 'Many', 'start': 140002, 'end': 140310, 'confidence': 0.99978, 'speaker': None}, {'text': 'students', 'start': 140360, 'end': 140610, 'confidence': 0.99957, 'speaker': None}, {'text': 'want', 'start': 140660, 'end': 140802, 'confidence': 0.68844, 'speaker': None}, {'text': 'to', 'start': 140816, 'end': 140922, 'confidence': 1.0, 'speaker': None}, {'text': 'get', 'start': 140936, 'end': 141042, 'confidence': 0.99961, 'speaker': None}, {'text': 'into', 'start': 141056, 'end': 141234, 'confidence': 0.59734, 'speaker': None}, {'text': 'coding,', 'start': 141272, 'end': 141598, 'confidence': 0.72267, 'speaker': None}, {'text': 'and', 'start': 141634, 'end': 141726, 'confidence': 0.98, 'speaker': None}, {'text': 'the', 'start': 141728, 'end': 141858, 'confidence': 0.58, 'speaker': None}, {'text': 'first', 'start': 141884, 'end': 142074, 'confidence': 1.0, 'speaker': None}, {'text': 'thing', 'start': 142112, 'end': 142278, 'confidence': 0.99794, 'speaker': None}, {'text': 'they', 'start': 142304, 'end': 142458, 'confidence': 0.99893, 'speaker': None}, {'text': 'want', 'start': 142484, 'end': 142602, 'confidence': 0.69298, 'speaker': None}, {'text': 'to', 'start': 142616, 'end': 142722, 'confidence': 1.0, 'speaker': None}, {'text': 'do', 'start': 142736, 'end': 142842, 'confidence': 0.99722, 'speaker': None}, {'text': 'is', 'start': 142856, 'end': 143034, 'confidence': 0.99223, 'speaker': None}, {'text': 'learn', 'start': 143072, 'end': 143310, 'confidence': 0.99949, 'speaker': None}, {'text': 'machine', 'start': 143360, 'end': 143734, 'confidence': 0.99973, 'speaker': None}, {'text': 'learning.', 'start': 143782, 'end': 144138, 'confidence': 0.99996, 'speaker': None}, {'text': \"Here's\", 'start': 144224, 'end': 144466, 'confidence': 0.98623, 'speaker': None}, {'text': 'the', 'start': 144478, 'end': 144618, 'confidence': 0.58, 'speaker': None}, {'text': 'thing.', 'start': 144644, 'end': 144798, 'confidence': 0.99908, 'speaker': None}, {'text': 'Machine', 'start': 144824, 'end': 145078, 'confidence': 0.97916, 'speaker': None}, {'text': 'learning', 'start': 145114, 'end': 145314, 'confidence': 0.99994, 'speaker': None}, {'text': 'is', 'start': 145352, 'end': 145554, 'confidence': 0.99443, 'speaker': None}, {'text': 'super', 'start': 145592, 'end': 145866, 'confidence': 0.99991, 'speaker': None}, {'text': 'useful', 'start': 145928, 'end': 146278, 'confidence': 0.99801, 'speaker': None}, {'text': 'in', 'start': 146314, 'end': 146442, 'confidence': 0.99972, 'speaker': None}, {'text': 'the', 'start': 146456, 'end': 146562, 'confidence': 1.0, 'speaker': None}, {'text': 'real', 'start': 146576, 'end': 146754, 'confidence': 1.0, 'speaker': None}, {'text': 'world,', 'start': 146792, 'end': 147030, 'confidence': 0.99918, 'speaker': None}, {'text': 'but', 'start': 147080, 'end': 147438, 'confidence': 0.97192, 'speaker': None}, {'text': \"it's\", 'start': 147524, 'end': 147838, 'confidence': 0.53834, 'speaker': None}, {'text': 'all', 'start': 147874, 'end': 148146, 'confidence': 0.90131, 'speaker': None}, {'text': 'advanced', 'start': 148208, 'end': 148834, 'confidence': 0.87926, 'speaker': None}, {'text': 'math.', 'start': 148882, 'end': 149290, 'confidence': 0.73351, 'speaker': None}, {'text': 'So', 'start': 149350, 'end': 149502, 'confidence': 0.91664, 'speaker': None}, {'text': 'if', 'start': 149516, 'end': 149622, 'confidence': 0.99721, 'speaker': None}, {'text': 'you', 'start': 149636, 'end': 149886, 'confidence': 0.99662, 'speaker': None}, {'text': 'start', 'start': 149948, 'end': 150102, 'confidence': 0.82597, 'speaker': None}, {'text': 'with', 'start': 150116, 'end': 150258, 'confidence': 0.9995, 'speaker': None}, {'text': 'it,', 'start': 150284, 'end': 150438, 'confidence': 0.99, 'speaker': None}, {'text': \"you're\", 'start': 150464, 'end': 150586, 'confidence': 0.85767, 'speaker': None}, {'text': 'going', 'start': 150598, 'end': 150702, 'confidence': 0.89772, 'speaker': None}, {'text': 'to', 'start': 150716, 'end': 150786, 'confidence': 0.99, 'speaker': None}, {'text': 'be', 'start': 150788, 'end': 150918, 'confidence': 0.99643, 'speaker': None}, {'text': 'learning', 'start': 150944, 'end': 151242, 'confidence': 0.99857, 'speaker': None}, {'text': 'one', 'start': 151316, 'end': 151662, 'confidence': 0.99, 'speaker': None}, {'text': 'computer', 'start': 151736, 'end': 152082, 'confidence': 0.99995, 'speaker': None}, {'text': 'science', 'start': 152156, 'end': 152554, 'confidence': 0.81444, 'speaker': None}, {'text': 'basics,', 'start': 152602, 'end': 153046, 'confidence': 0.64218, 'speaker': None}, {'text': 'two', 'start': 153118, 'end': 153570, 'confidence': 0.9, 'speaker': None}, {'text': 'Python,', 'start': 153680, 'end': 154246, 'confidence': 0.77338, 'speaker': None}, {'text': 'for', 'start': 154318, 'end': 154482, 'confidence': 0.99833, 'speaker': None}, {'text': 'example,', 'start': 154496, 'end': 155070, 'confidence': 0.70152, 'speaker': None}, {'text': 'and', 'start': 155240, 'end': 155610, 'confidence': 0.92, 'speaker': None}, {'text': 'three', 'start': 155660, 'end': 156054, 'confidence': 0.99, 'speaker': None}, {'text': 'advanced', 'start': 156152, 'end': 156718, 'confidence': 0.97676, 'speaker': None}, {'text': 'math', 'start': 156754, 'end': 157018, 'confidence': 0.99563, 'speaker': None}, {'text': 'topics', 'start': 157054, 'end': 157558, 'confidence': 0.99129, 'speaker': None}, {'text': 'all', 'start': 157654, 'end': 157914, 'confidence': 0.54518, 'speaker': None}, {'text': 'at', 'start': 157952, 'end': 158082, 'confidence': 1.0, 'speaker': None}, {'text': 'the', 'start': 158096, 'end': 158238, 'confidence': 1.0, 'speaker': None}, {'text': 'same', 'start': 158264, 'end': 158454, 'confidence': 0.99971, 'speaker': None}, {'text': 'time.', 'start': 158492, 'end': 158874, 'confidence': 0.99986, 'speaker': None}, {'text': 'And', 'start': 158972, 'end': 159234, 'confidence': 0.91, 'speaker': None}, {'text': 'unless', 'start': 159272, 'end': 159574, 'confidence': 0.99958, 'speaker': None}, {'text': 'you', 'start': 159622, 'end': 159762, 'confidence': 0.99967, 'speaker': None}, {'text': 'are', 'start': 159776, 'end': 159954, 'confidence': 0.64215, 'speaker': None}, {'text': 'literally', 'start': 159992, 'end': 160426, 'confidence': 0.95594, 'speaker': None}, {'text': 'a', 'start': 160498, 'end': 161058, 'confidence': 0.99, 'speaker': None}, {'text': 'genie,', 'start': 161204, 'end': 162022, 'confidence': 0.98969, 'speaker': None}, {'text': \"you're\", 'start': 162166, 'end': 162538, 'confidence': 0.8268, 'speaker': None}, {'text': 'going', 'start': 162574, 'end': 162666, 'confidence': 0.82283, 'speaker': None}, {'text': 'to', 'start': 162668, 'end': 162762, 'confidence': 0.99, 'speaker': None}, {'text': 'come', 'start': 162776, 'end': 162918, 'confidence': 0.99946, 'speaker': None}, {'text': 'out', 'start': 162944, 'end': 163062, 'confidence': 0.99967, 'speaker': None}, {'text': 'of', 'start': 163076, 'end': 163182, 'confidence': 0.98, 'speaker': None}, {'text': 'that', 'start': 163196, 'end': 163338, 'confidence': 0.99901, 'speaker': None}, {'text': 'not', 'start': 163364, 'end': 163554, 'confidence': 0.99904, 'speaker': None}, {'text': 'really', 'start': 163592, 'end': 163794, 'confidence': 0.9955, 'speaker': None}, {'text': 'knowing', 'start': 163832, 'end': 164194, 'confidence': 0.99879, 'speaker': None}, {'text': 'any', 'start': 164242, 'end': 164454, 'confidence': 0.9979, 'speaker': None}, {'text': 'of', 'start': 164492, 'end': 164622, 'confidence': 1.0, 'speaker': None}, {'text': 'the', 'start': 164636, 'end': 164814, 'confidence': 0.77, 'speaker': None}, {'text': 'three.', 'start': 164852, 'end': 165198, 'confidence': 0.99, 'speaker': None}, {'text': 'The', 'start': 165284, 'end': 165498, 'confidence': 0.92, 'speaker': None}, {'text': 'sweet', 'start': 165524, 'end': 165802, 'confidence': 0.90092, 'speaker': None}, {'text': 'spot', 'start': 165826, 'end': 166078, 'confidence': 0.99867, 'speaker': None}, {'text': 'is', 'start': 166114, 'end': 166278, 'confidence': 0.99971, 'speaker': None}, {'text': 'somewhere', 'start': 166304, 'end': 166558, 'confidence': 0.99942, 'speaker': None}, {'text': 'in', 'start': 166594, 'end': 166686, 'confidence': 0.99921, 'speaker': None}, {'text': 'the', 'start': 166688, 'end': 166818, 'confidence': 0.94, 'speaker': None}, {'text': 'middle.', 'start': 166844, 'end': 167178, 'confidence': 0.99996, 'speaker': None}, {'text': 'You', 'start': 167264, 'end': 167442, 'confidence': 0.96858, 'speaker': None}, {'text': 'need', 'start': 167456, 'end': 167562, 'confidence': 0.99855, 'speaker': None}, {'text': 'to', 'start': 167576, 'end': 167682, 'confidence': 0.91, 'speaker': None}, {'text': 'do', 'start': 167696, 'end': 167838, 'confidence': 0.99769, 'speaker': None}, {'text': 'something', 'start': 167864, 'end': 168090, 'confidence': 0.99984, 'speaker': None}, {'text': \"that's\", 'start': 168140, 'end': 168418, 'confidence': 0.97755, 'speaker': None}, {'text': 'useful,', 'start': 168454, 'end': 168790, 'confidence': 0.76293, 'speaker': None}, {'text': 'but', 'start': 168850, 'end': 169074, 'confidence': 0.99935, 'speaker': None}, {'text': 'not', 'start': 169112, 'end': 169350, 'confidence': 0.99944, 'speaker': None}, {'text': 'too', 'start': 169400, 'end': 169650, 'confidence': 0.99694, 'speaker': None}, {'text': 'useful.', 'start': 169700, 'end': 170050, 'confidence': 0.95782, 'speaker': None}, {'text': 'Now', 'start': 170110, 'end': 170262, 'confidence': 0.99889, 'speaker': None}, {'text': 'that', 'start': 170276, 'end': 170382, 'confidence': 0.94126, 'speaker': None}, {'text': \"we're\", 'start': 170396, 'end': 170542, 'confidence': 0.88999, 'speaker': None}, {'text': 'talking', 'start': 170566, 'end': 170682, 'confidence': 0.9969, 'speaker': None}, {'text': 'about', 'start': 170696, 'end': 170874, 'confidence': 0.98689, 'speaker': None}, {'text': 'doing', 'start': 170912, 'end': 171114, 'confidence': 0.99525, 'speaker': None}, {'text': 'useful', 'start': 171152, 'end': 171478, 'confidence': 0.99955, 'speaker': None}, {'text': 'things,', 'start': 171514, 'end': 171750, 'confidence': 0.99944, 'speaker': None}, {'text': \"let's\", 'start': 171800, 'end': 172018, 'confidence': 0.97437, 'speaker': None}, {'text': 'clear', 'start': 172054, 'end': 172218, 'confidence': 0.99997, 'speaker': None}, {'text': 'up', 'start': 172244, 'end': 172362, 'confidence': 0.99175, 'speaker': None}, {'text': 'the', 'start': 172376, 'end': 172518, 'confidence': 0.99, 'speaker': None}, {'text': 'distinction', 'start': 172544, 'end': 172990, 'confidence': 0.99881, 'speaker': None}, {'text': 'between', 'start': 173050, 'end': 173310, 'confidence': 0.99989, 'speaker': None}, {'text': 'coding', 'start': 173360, 'end': 173758, 'confidence': 0.99673, 'speaker': None}, {'text': 'and', 'start': 173794, 'end': 173994, 'confidence': 1.0, 'speaker': None}, {'text': 'programming.', 'start': 174032, 'end': 174646, 'confidence': 0.64589, 'speaker': None}, {'text': 'Coding', 'start': 174718, 'end': 175042, 'confidence': 0.96586, 'speaker': None}, {'text': 'is', 'start': 175066, 'end': 175218, 'confidence': 0.99623, 'speaker': None}, {'text': 'just', 'start': 175244, 'end': 175470, 'confidence': 0.99463, 'speaker': None}, {'text': 'writing', 'start': 175520, 'end': 175774, 'confidence': 0.999, 'speaker': None}, {'text': 'code', 'start': 175822, 'end': 176070, 'confidence': 0.63099, 'speaker': None}, {'text': 'to', 'start': 176120, 'end': 176298, 'confidence': 1.0, 'speaker': None}, {'text': 'solve', 'start': 176324, 'end': 176578, 'confidence': 0.99852, 'speaker': None}, {'text': 'computer', 'start': 176614, 'end': 176886, 'confidence': 0.99997, 'speaker': None}, {'text': 'science', 'start': 176948, 'end': 177274, 'confidence': 0.99974, 'speaker': None}, {'text': 'problems.', 'start': 177322, 'end': 177678, 'confidence': 0.9942, 'speaker': None}, {'text': \"Let's\", 'start': 177764, 'end': 178042, 'confidence': 0.99658, 'speaker': None}, {'text': 'call', 'start': 178066, 'end': 178182, 'confidence': 0.99886, 'speaker': None}, {'text': 'them', 'start': 178196, 'end': 178374, 'confidence': 0.86138, 'speaker': None}, {'text': 'math', 'start': 178412, 'end': 178678, 'confidence': 0.99886, 'speaker': None}, {'text': 'problems', 'start': 178714, 'end': 179022, 'confidence': 0.99599, 'speaker': None}, {'text': 'to', 'start': 179096, 'end': 179298, 'confidence': 1.0, 'speaker': None}, {'text': 'show', 'start': 179324, 'end': 179478, 'confidence': 0.99983, 'speaker': None}, {'text': 'the', 'start': 179504, 'end': 179622, 'confidence': 0.99, 'speaker': None}, {'text': 'distinction.', 'start': 179636, 'end': 180202, 'confidence': 0.98802, 'speaker': None}, {'text': 'This', 'start': 180286, 'end': 180606, 'confidence': 0.98562, 'speaker': None}, {'text': 'is', 'start': 180668, 'end': 180858, 'confidence': 0.9981, 'speaker': None}, {'text': 'what', 'start': 180884, 'end': 181038, 'confidence': 0.99943, 'speaker': None}, {'text': 'you', 'start': 181064, 'end': 181182, 'confidence': 0.99917, 'speaker': None}, {'text': 'need', 'start': 181196, 'end': 181374, 'confidence': 0.99947, 'speaker': None}, {'text': 'as', 'start': 181412, 'end': 181542, 'confidence': 0.99436, 'speaker': None}, {'text': 'a', 'start': 181556, 'end': 181662, 'confidence': 0.98, 'speaker': None}, {'text': 'prerequisite', 'start': 181676, 'end': 182374, 'confidence': 0.92642, 'speaker': None}, {'text': 'to', 'start': 182422, 'end': 182634, 'confidence': 1.0, 'speaker': None}, {'text': 'learn', 'start': 182672, 'end': 182910, 'confidence': 0.99883, 'speaker': None}, {'text': 'how', 'start': 182960, 'end': 183174, 'confidence': 0.9998, 'speaker': None}, {'text': 'to', 'start': 183212, 'end': 183774, 'confidence': 1.0, 'speaker': None}, {'text': 'program.', 'start': 183932, 'end': 184542, 'confidence': 0.99919, 'speaker': None}, {'text': 'Programming', 'start': 184676, 'end': 185278, 'confidence': 0.87619, 'speaker': None}, {'text': 'is', 'start': 185314, 'end': 185478, 'confidence': 0.99837, 'speaker': None}, {'text': 'the', 'start': 185504, 'end': 185658, 'confidence': 1.0, 'speaker': None}, {'text': 'ultimate', 'start': 185684, 'end': 186058, 'confidence': 0.68481, 'speaker': None}, {'text': 'goal.', 'start': 186094, 'end': 186370, 'confidence': 0.98586, 'speaker': None}, {'text': 'Programming', 'start': 186430, 'end': 186934, 'confidence': 0.99805, 'speaker': None}, {'text': 'is', 'start': 186982, 'end': 187158, 'confidence': 0.9987, 'speaker': None}, {'text': 'the', 'start': 187184, 'end': 187410, 'confidence': 1.0, 'speaker': None}, {'text': 'act', 'start': 187460, 'end': 187602, 'confidence': 0.55629, 'speaker': None}, {'text': 'of', 'start': 187616, 'end': 187758, 'confidence': 0.97, 'speaker': None}, {'text': 'using', 'start': 187784, 'end': 188010, 'confidence': 0.99829, 'speaker': None}, {'text': 'coding', 'start': 188060, 'end': 188470, 'confidence': 0.9972, 'speaker': None}, {'text': 'to', 'start': 188530, 'end': 188754, 'confidence': 1.0, 'speaker': None}, {'text': 'make', 'start': 188792, 'end': 189066, 'confidence': 0.99828, 'speaker': None}, {'text': 'programs', 'start': 189128, 'end': 189598, 'confidence': 0.58178, 'speaker': None}, {'text': 'that', 'start': 189634, 'end': 189834, 'confidence': 0.99491, 'speaker': None}, {'text': 'solve', 'start': 189872, 'end': 190138, 'confidence': 0.99711, 'speaker': None}, {'text': 'real', 'start': 190174, 'end': 190374, 'confidence': 1.0, 'speaker': None}, {'text': 'problems.', 'start': 190412, 'end': 190938, 'confidence': 0.97957, 'speaker': None}, {'text': 'You', 'start': 191084, 'end': 191322, 'confidence': 0.99965, 'speaker': None}, {'text': 'need', 'start': 191336, 'end': 191442, 'confidence': 0.9997, 'speaker': None}, {'text': 'to', 'start': 191456, 'end': 191598, 'confidence': 0.7, 'speaker': None}, {'text': 'learn', 'start': 191624, 'end': 191778, 'confidence': 0.99992, 'speaker': None}, {'text': 'the', 'start': 191804, 'end': 191958, 'confidence': 0.99, 'speaker': None}, {'text': 'fundamentals', 'start': 191984, 'end': 192574, 'confidence': 0.98548, 'speaker': None}, {'text': 'of', 'start': 192622, 'end': 192798, 'confidence': 0.56, 'speaker': None}, {'text': 'coding', 'start': 192824, 'end': 193378, 'confidence': 0.87619, 'speaker': None}, {'text': 'to', 'start': 193474, 'end': 193662, 'confidence': 1.0, 'speaker': None}, {'text': 'know', 'start': 193676, 'end': 193818, 'confidence': 0.99944, 'speaker': None}, {'text': 'how', 'start': 193844, 'end': 193998, 'confidence': 0.99876, 'speaker': None}, {'text': 'to', 'start': 194024, 'end': 194178, 'confidence': 1.0, 'speaker': None}, {'text': 'program.', 'start': 194204, 'end': 194610, 'confidence': 0.99986, 'speaker': None}, {'text': 'Remember', 'start': 194720, 'end': 195030, 'confidence': 0.74929, 'speaker': None}, {'text': 'when', 'start': 195080, 'end': 195186, 'confidence': 0.99905, 'speaker': None}, {'text': 'I', 'start': 195188, 'end': 195282, 'confidence': 0.99, 'speaker': None}, {'text': 'talked', 'start': 195296, 'end': 195438, 'confidence': 0.94992, 'speaker': None}, {'text': 'to', 'start': 195464, 'end': 195654, 'confidence': 0.19, 'speaker': None}, {'text': 'people', 'start': 195692, 'end': 195966, 'confidence': 0.99806, 'speaker': None}, {'text': 'starting', 'start': 196028, 'end': 196326, 'confidence': 0.99576, 'speaker': None}, {'text': 'in', 'start': 196388, 'end': 196542, 'confidence': 0.82382, 'speaker': None}, {'text': 'machine', 'start': 196556, 'end': 196798, 'confidence': 0.99969, 'speaker': None}, {'text': 'learning?', 'start': 196834, 'end': 197070, 'confidence': 0.99998, 'speaker': None}, {'text': 'This', 'start': 197120, 'end': 197298, 'confidence': 0.99872, 'speaker': None}, {'text': 'is', 'start': 197324, 'end': 197442, 'confidence': 0.99726, 'speaker': None}, {'text': 'trying', 'start': 197456, 'end': 197634, 'confidence': 0.99907, 'speaker': None}, {'text': 'to', 'start': 197672, 'end': 197838, 'confidence': 1.0, 'speaker': None}, {'text': 'program', 'start': 197864, 'end': 198162, 'confidence': 0.99992, 'speaker': None}, {'text': 'before', 'start': 198236, 'end': 198474, 'confidence': 0.99994, 'speaker': None}, {'text': 'you', 'start': 198512, 'end': 198678, 'confidence': 0.98707, 'speaker': None}, {'text': 'know', 'start': 198704, 'end': 198822, 'confidence': 0.99854, 'speaker': None}, {'text': 'how', 'start': 198836, 'end': 198942, 'confidence': 0.99867, 'speaker': None}, {'text': 'to', 'start': 198956, 'end': 199098, 'confidence': 0.55, 'speaker': None}, {'text': 'code.', 'start': 199124, 'end': 199386, 'confidence': 0.99976, 'speaker': None}, {'text': 'And', 'start': 199448, 'end': 199638, 'confidence': 0.92, 'speaker': None}, {'text': 'people', 'start': 199664, 'end': 199890, 'confidence': 0.99878, 'speaker': None}, {'text': 'only', 'start': 199940, 'end': 200154, 'confidence': 0.99986, 'speaker': None}, {'text': 'solving', 'start': 200192, 'end': 200554, 'confidence': 0.46259, 'speaker': None}, {'text': 'math', 'start': 200602, 'end': 200878, 'confidence': 0.96806, 'speaker': None}, {'text': 'problems', 'start': 200914, 'end': 201222, 'confidence': 0.98983, 'speaker': None}, {'text': 'in', 'start': 201296, 'end': 201498, 'confidence': 0.96602, 'speaker': None}, {'text': 'C', 'start': 201524, 'end': 202002, 'confidence': 1.0, 'speaker': None}, {'text': 'is', 'start': 202136, 'end': 202470, 'confidence': 0.99865, 'speaker': None}, {'text': 'knowing', 'start': 202520, 'end': 202762, 'confidence': 0.99499, 'speaker': None}, {'text': 'how', 'start': 202786, 'end': 202938, 'confidence': 0.99976, 'speaker': None}, {'text': 'to', 'start': 202964, 'end': 203118, 'confidence': 1.0, 'speaker': None}, {'text': 'code', 'start': 203144, 'end': 203550, 'confidence': 0.99922, 'speaker': None}, {'text': 'and', 'start': 203660, 'end': 203934, 'confidence': 0.99, 'speaker': None}, {'text': 'never', 'start': 203972, 'end': 204174, 'confidence': 0.99966, 'speaker': None}, {'text': 'using', 'start': 204212, 'end': 204414, 'confidence': 0.99621, 'speaker': None}, {'text': 'that', 'start': 204452, 'end': 204582, 'confidence': 0.98743, 'speaker': None}, {'text': 'to', 'start': 204596, 'end': 204774, 'confidence': 0.65, 'speaker': None}, {'text': 'program.', 'start': 204812, 'end': 205158, 'confidence': 0.99988, 'speaker': None}, {'text': 'There', 'start': 205244, 'end': 205422, 'confidence': 0.99894, 'speaker': None}, {'text': 'are', 'start': 205436, 'end': 205578, 'confidence': 0.96837, 'speaker': None}, {'text': 'tons', 'start': 205604, 'end': 205786, 'confidence': 0.9991, 'speaker': None}, {'text': 'of', 'start': 205798, 'end': 205938, 'confidence': 1.0, 'speaker': None}, {'text': 'tools,', 'start': 205964, 'end': 206314, 'confidence': 0.93619, 'speaker': None}, {'text': 'use', 'start': 206362, 'end': 206538, 'confidence': 0.99157, 'speaker': None}, {'text': 'cases,', 'start': 206564, 'end': 206950, 'confidence': 0.74544, 'speaker': None}, {'text': 'frameworks', 'start': 207010, 'end': 207502, 'confidence': 0.62415, 'speaker': None}, {'text': 'that', 'start': 207526, 'end': 207678, 'confidence': 0.9855, 'speaker': None}, {'text': 'surround', 'start': 207704, 'end': 208054, 'confidence': 0.99785, 'speaker': None}, {'text': 'each', 'start': 208102, 'end': 208350, 'confidence': 0.9992, 'speaker': None}, {'text': 'coding', 'start': 208400, 'end': 208702, 'confidence': 0.60587, 'speaker': None}, {'text': 'language.', 'start': 208726, 'end': 209014, 'confidence': 0.71445, 'speaker': None}, {'text': 'But', 'start': 209062, 'end': 209238, 'confidence': 0.98329, 'speaker': None}, {'text': 'in', 'start': 209264, 'end': 209382, 'confidence': 0.99654, 'speaker': None}, {'text': 'the', 'start': 209396, 'end': 209502, 'confidence': 1.0, 'speaker': None}, {'text': 'beginning,', 'start': 209516, 'end': 210070, 'confidence': 0.56916, 'speaker': None}, {'text': 'you', 'start': 210190, 'end': 210438, 'confidence': 0.76656, 'speaker': None}, {'text': 'kind', 'start': 210464, 'end': 210618, 'confidence': 0.92427, 'speaker': None}, {'text': 'of', 'start': 210644, 'end': 210762, 'confidence': 0.99, 'speaker': None}, {'text': 'need', 'start': 210776, 'end': 210882, 'confidence': 0.99965, 'speaker': None}, {'text': 'to', 'start': 210896, 'end': 211038, 'confidence': 0.99, 'speaker': None}, {'text': 'isolate', 'start': 211064, 'end': 211462, 'confidence': 0.90158, 'speaker': None}, {'text': 'the', 'start': 211486, 'end': 211638, 'confidence': 0.99, 'speaker': None}, {'text': 'coding', 'start': 211664, 'end': 211942, 'confidence': 0.99699, 'speaker': None}, {'text': 'language', 'start': 211966, 'end': 212254, 'confidence': 0.99513, 'speaker': None}, {'text': 'itself,', 'start': 212302, 'end': 212838, 'confidence': 0.99974, 'speaker': None}, {'text': 'learn', 'start': 212984, 'end': 213258, 'confidence': 0.9987, 'speaker': None}, {'text': 'the', 'start': 213284, 'end': 213438, 'confidence': 0.69, 'speaker': None}, {'text': 'basics', 'start': 213464, 'end': 213778, 'confidence': 0.99805, 'speaker': None}, {'text': 'of', 'start': 213814, 'end': 213978, 'confidence': 0.99, 'speaker': None}, {'text': 'that,', 'start': 214004, 'end': 214446, 'confidence': 0.99842, 'speaker': None}, {'text': 'and', 'start': 214568, 'end': 214818, 'confidence': 0.94, 'speaker': None}, {'text': 'then', 'start': 214844, 'end': 214998, 'confidence': 0.99637, 'speaker': None}, {'text': 'you', 'start': 215024, 'end': 215178, 'confidence': 0.99633, 'speaker': None}, {'text': 'can', 'start': 215204, 'end': 215358, 'confidence': 0.99696, 'speaker': None}, {'text': 'take', 'start': 215384, 'end': 215538, 'confidence': 0.99923, 'speaker': None}, {'text': 'it', 'start': 215564, 'end': 215718, 'confidence': 1.0, 'speaker': None}, {'text': 'and', 'start': 215744, 'end': 215898, 'confidence': 1.0, 'speaker': None}, {'text': 'learn', 'start': 215924, 'end': 216078, 'confidence': 0.99963, 'speaker': None}, {'text': 'how', 'start': 216104, 'end': 216222, 'confidence': 0.99874, 'speaker': None}, {'text': 'to', 'start': 216236, 'end': 216378, 'confidence': 0.99, 'speaker': None}, {'text': 'program', 'start': 216404, 'end': 216666, 'confidence': 0.99985, 'speaker': None}, {'text': 'with', 'start': 216728, 'end': 216882, 'confidence': 0.97394, 'speaker': None}, {'text': 'it.', 'start': 216896, 'end': 217002, 'confidence': 0.87, 'speaker': None}, {'text': 'The', 'start': 217016, 'end': 217158, 'confidence': 0.99, 'speaker': None}, {'text': 'easiest', 'start': 217184, 'end': 217558, 'confidence': 0.94419, 'speaker': None}, {'text': 'thing', 'start': 217594, 'end': 217758, 'confidence': 0.99597, 'speaker': None}, {'text': 'to', 'start': 217784, 'end': 217902, 'confidence': 1.0, 'speaker': None}, {'text': 'start', 'start': 217916, 'end': 218058, 'confidence': 0.9998, 'speaker': None}, {'text': 'with', 'start': 218084, 'end': 218238, 'confidence': 0.99909, 'speaker': None}, {'text': 'is', 'start': 218264, 'end': 218454, 'confidence': 0.98229, 'speaker': None}, {'text': 'probably', 'start': 218492, 'end': 218766, 'confidence': 0.99835, 'speaker': None}, {'text': 'Python.', 'start': 218828, 'end': 219310, 'confidence': 0.73117, 'speaker': None}, {'text': 'But', 'start': 219370, 'end': 219630, 'confidence': 0.93647, 'speaker': None}, {'text': 'honestly,', 'start': 219680, 'end': 220078, 'confidence': 0.99975, 'speaker': None}, {'text': 'I', 'start': 220114, 'end': 220242, 'confidence': 1.0, 'speaker': None}, {'text': \"wouldn't\", 'start': 220256, 'end': 220498, 'confidence': 0.86506, 'speaker': None}, {'text': 'be', 'start': 220534, 'end': 220662, 'confidence': 0.9995, 'speaker': None}, {'text': 'upset', 'start': 220676, 'end': 220942, 'confidence': 0.99921, 'speaker': None}, {'text': 'if', 'start': 220966, 'end': 221082, 'confidence': 0.99965, 'speaker': None}, {'text': 'you', 'start': 221096, 'end': 221202, 'confidence': 0.99701, 'speaker': None}, {'text': 'picked', 'start': 221216, 'end': 221458, 'confidence': 0.98002, 'speaker': None}, {'text': 'JavaScript', 'start': 221494, 'end': 222034, 'confidence': 0.64774, 'speaker': None}, {'text': 'and', 'start': 222082, 'end': 222258, 'confidence': 0.89, 'speaker': None}, {'text': \"I'll\", 'start': 222284, 'end': 222442, 'confidence': 0.97968, 'speaker': None}, {'text': 'explain', 'start': 222466, 'end': 222762, 'confidence': 0.99998, 'speaker': None}, {'text': 'later.', 'start': 222836, 'end': 223218, 'confidence': 0.99988, 'speaker': None}, {'text': 'Python', 'start': 223304, 'end': 223738, 'confidence': 0.99909, 'speaker': None}, {'text': 'mostly', 'start': 223774, 'end': 224074, 'confidence': 0.98917, 'speaker': None}, {'text': 'looks', 'start': 224122, 'end': 224334, 'confidence': 0.99951, 'speaker': None}, {'text': 'like', 'start': 224372, 'end': 224502, 'confidence': 0.99868, 'speaker': None}, {'text': 'plain', 'start': 224516, 'end': 224758, 'confidence': 0.67228, 'speaker': None}, {'text': 'English.', 'start': 224794, 'end': 225166, 'confidence': 0.99956, 'speaker': None}, {'text': 'Even', 'start': 225238, 'end': 225402, 'confidence': 0.99941, 'speaker': None}, {'text': 'if', 'start': 225416, 'end': 225522, 'confidence': 0.99911, 'speaker': None}, {'text': 'you', 'start': 225536, 'end': 225606, 'confidence': 0.99881, 'speaker': None}, {'text': \"don't\", 'start': 225608, 'end': 225706, 'confidence': 0.98796, 'speaker': None}, {'text': 'know', 'start': 225718, 'end': 225858, 'confidence': 0.71029, 'speaker': None}, {'text': 'how', 'start': 225884, 'end': 225966, 'confidence': 0.99968, 'speaker': None}, {'text': 'to', 'start': 225968, 'end': 226062, 'confidence': 0.99, 'speaker': None}, {'text': 'code,', 'start': 226076, 'end': 226290, 'confidence': 0.99969, 'speaker': None}, {'text': 'you', 'start': 226340, 'end': 226482, 'confidence': 0.99887, 'speaker': None}, {'text': 'can', 'start': 226496, 'end': 226674, 'confidence': 0.99435, 'speaker': None}, {'text': 'sort', 'start': 226712, 'end': 226878, 'confidence': 0.95192, 'speaker': None}, {'text': 'of', 'start': 226904, 'end': 227058, 'confidence': 1.0, 'speaker': None}, {'text': 'read', 'start': 227084, 'end': 227238, 'confidence': 0.99974, 'speaker': None}, {'text': 'it.', 'start': 227264, 'end': 227562, 'confidence': 1.0, 'speaker': None}, {'text': \"It's\", 'start': 227636, 'end': 227842, 'confidence': 0.93121, 'speaker': None}, {'text': 'super', 'start': 227866, 'end': 228054, 'confidence': 0.99958, 'speaker': None}, {'text': 'easy', 'start': 228092, 'end': 228258, 'confidence': 0.99981, 'speaker': None}, {'text': 'to', 'start': 228284, 'end': 228402, 'confidence': 1.0, 'speaker': None}, {'text': 'get', 'start': 228416, 'end': 228522, 'confidence': 0.99876, 'speaker': None}, {'text': 'started', 'start': 228536, 'end': 228786, 'confidence': 0.93722, 'speaker': None}, {'text': 'in.', 'start': 228848, 'end': 229110, 'confidence': 0.93303, 'speaker': None}, {'text': 'You', 'start': 229160, 'end': 229302, 'confidence': 0.99961, 'speaker': None}, {'text': 'can', 'start': 229316, 'end': 229422, 'confidence': 0.99585, 'speaker': None}, {'text': 'immediately', 'start': 229436, 'end': 229858, 'confidence': 0.87859, 'speaker': None}, {'text': 'start', 'start': 229894, 'end': 230094, 'confidence': 0.99968, 'speaker': None}, {'text': 'learning', 'start': 230132, 'end': 230334, 'confidence': 0.99963, 'speaker': None}, {'text': 'the', 'start': 230372, 'end': 230502, 'confidence': 1.0, 'speaker': None}, {'text': 'basics', 'start': 230516, 'end': 230890, 'confidence': 0.99363, 'speaker': None}, {'text': 'like', 'start': 230950, 'end': 231246, 'confidence': 0.99252, 'speaker': None}, {'text': 'variables,', 'start': 231308, 'end': 231814, 'confidence': 0.87985, 'speaker': None}, {'text': 'functions', 'start': 231862, 'end': 232426, 'confidence': 0.89188, 'speaker': None}, {'text': 'move', 'start': 232498, 'end': 232734, 'confidence': 0.99721, 'speaker': None}, {'text': 'quickly', 'start': 232772, 'end': 233046, 'confidence': 0.99961, 'speaker': None}, {'text': 'into', 'start': 233108, 'end': 233370, 'confidence': 0.99625, 'speaker': None}, {'text': 'data', 'start': 233420, 'end': 233670, 'confidence': 0.99912, 'speaker': None}, {'text': 'structures', 'start': 233720, 'end': 234094, 'confidence': 0.95807, 'speaker': None}, {'text': 'and', 'start': 234142, 'end': 234282, 'confidence': 1.0, 'speaker': None}, {'text': 'algorithms.', 'start': 234296, 'end': 234826, 'confidence': 0.74702, 'speaker': None}, {'text': \"You'll\", 'start': 234898, 'end': 235102, 'confidence': 0.71979, 'speaker': None}, {'text': 'really', 'start': 235126, 'end': 235314, 'confidence': 0.99772, 'speaker': None}, {'text': 'want', 'start': 235352, 'end': 235446, 'confidence': 0.99769, 'speaker': None}, {'text': 'to', 'start': 235448, 'end': 235542, 'confidence': 1.0, 'speaker': None}, {'text': 'know', 'start': 235556, 'end': 235662, 'confidence': 0.99987, 'speaker': None}, {'text': 'the', 'start': 235676, 'end': 235818, 'confidence': 1.0, 'speaker': None}, {'text': 'basics', 'start': 235844, 'end': 236134, 'confidence': 0.98897, 'speaker': None}, {'text': 'about', 'start': 236182, 'end': 236394, 'confidence': 0.99589, 'speaker': None}, {'text': 'types', 'start': 236432, 'end': 236818, 'confidence': 0.99637, 'speaker': None}, {'text': 'like', 'start': 236854, 'end': 237090, 'confidence': 0.98722, 'speaker': None}, {'text': 'arrays', 'start': 237140, 'end': 237790, 'confidence': 0.71899, 'speaker': None}, {'text': 'and', 'start': 237910, 'end': 238122, 'confidence': 0.97, 'speaker': None}, {'text': 'the', 'start': 238136, 'end': 238278, 'confidence': 0.95, 'speaker': None}, {'text': 'basics', 'start': 238304, 'end': 238594, 'confidence': 0.7928, 'speaker': None}, {'text': 'of', 'start': 238642, 'end': 238818, 'confidence': 1.0, 'speaker': None}, {'text': 'control,', 'start': 238844, 'end': 239106, 'confidence': 0.99973, 'speaker': None}, {'text': 'flow', 'start': 239168, 'end': 239494, 'confidence': 0.99601, 'speaker': None}, {'text': 'like', 'start': 239542, 'end': 239898, 'confidence': 0.99401, 'speaker': None}, {'text': 'functions,', 'start': 239984, 'end': 240610, 'confidence': 0.64604, 'speaker': None}, {'text': 'loops,', 'start': 240670, 'end': 241318, 'confidence': 0.54871, 'speaker': None}, {'text': 'and', 'start': 241414, 'end': 241710, 'confidence': 0.99, 'speaker': None}, {'text': 'even', 'start': 241760, 'end': 241974, 'confidence': 0.99952, 'speaker': None}, {'text': 'a', 'start': 242012, 'end': 242142, 'confidence': 0.97, 'speaker': None}, {'text': 'little', 'start': 242156, 'end': 242298, 'confidence': 0.99891, 'speaker': None}, {'text': 'bit', 'start': 242324, 'end': 242442, 'confidence': 0.98591, 'speaker': None}, {'text': 'about', 'start': 242456, 'end': 242670, 'confidence': 0.9928, 'speaker': None}, {'text': 'classes.', 'start': 242720, 'end': 243286, 'confidence': 0.99832, 'speaker': None}, {'text': \"Don't\", 'start': 243358, 'end': 243586, 'confidence': 0.99342, 'speaker': None}, {'text': 'get', 'start': 243598, 'end': 243738, 'confidence': 0.99921, 'speaker': None}, {'text': 'carried', 'start': 243764, 'end': 244054, 'confidence': 0.99878, 'speaker': None}, {'text': 'away.', 'start': 244102, 'end': 244422, 'confidence': 0.99987, 'speaker': None}, {'text': 'You', 'start': 244496, 'end': 244662, 'confidence': 0.99479, 'speaker': None}, {'text': \"don't\", 'start': 244676, 'end': 244786, 'confidence': 0.99529, 'speaker': None}, {'text': 'need', 'start': 244798, 'end': 244902, 'confidence': 0.94264, 'speaker': None}, {'text': 'to', 'start': 244916, 'end': 245022, 'confidence': 1.0, 'speaker': None}, {'text': 'learn', 'start': 245036, 'end': 245250, 'confidence': 0.9995, 'speaker': None}, {'text': 'advanced', 'start': 245300, 'end': 245950, 'confidence': 0.97186, 'speaker': None}, {'text': 'things', 'start': 246010, 'end': 246306, 'confidence': 0.99855, 'speaker': None}, {'text': 'like', 'start': 246368, 'end': 246774, 'confidence': 0.99971, 'speaker': None}, {'text': 'inheritance,', 'start': 246872, 'end': 247474, 'confidence': 0.98544, 'speaker': None}, {'text': 'for', 'start': 247522, 'end': 247698, 'confidence': 0.99763, 'speaker': None}, {'text': 'example.', 'start': 247724, 'end': 248094, 'confidence': 0.99995, 'speaker': None}, {'text': 'If', 'start': 248192, 'end': 248346, 'confidence': 0.99966, 'speaker': None}, {'text': \"you're\", 'start': 248348, 'end': 248482, 'confidence': 0.89542, 'speaker': None}, {'text': 'feeling', 'start': 248506, 'end': 248722, 'confidence': 0.99957, 'speaker': None}, {'text': 'a', 'start': 248746, 'end': 248826, 'confidence': 0.99, 'speaker': None}, {'text': 'little', 'start': 248828, 'end': 248994, 'confidence': 0.81359, 'speaker': None}, {'text': 'feisty,', 'start': 249032, 'end': 249478, 'confidence': 0.99656, 'speaker': None}, {'text': 'you', 'start': 249514, 'end': 249642, 'confidence': 0.99858, 'speaker': None}, {'text': 'might', 'start': 249656, 'end': 249798, 'confidence': 0.99922, 'speaker': None}, {'text': 'want', 'start': 249824, 'end': 249906, 'confidence': 0.99971, 'speaker': None}, {'text': 'to', 'start': 249908, 'end': 250002, 'confidence': 0.74, 'speaker': None}, {'text': 'learn', 'start': 250016, 'end': 250266, 'confidence': 0.9913, 'speaker': None}, {'text': 'exceptions,', 'start': 250328, 'end': 251086, 'confidence': 0.97334, 'speaker': None}, {'text': 'hash,', 'start': 251218, 'end': 251602, 'confidence': 0.75239, 'speaker': None}, {'text': 'maps,', 'start': 251626, 'end': 252058, 'confidence': 0.79704, 'speaker': None}, {'text': 'maybe', 'start': 252154, 'end': 252450, 'confidence': 0.99542, 'speaker': None}, {'text': 'sprinkle', 'start': 252500, 'end': 252898, 'confidence': 0.5774, 'speaker': None}, {'text': 'in', 'start': 252934, 'end': 253062, 'confidence': 0.95797, 'speaker': None}, {'text': 'a', 'start': 253076, 'end': 253146, 'confidence': 0.97, 'speaker': None}, {'text': 'little', 'start': 253148, 'end': 253314, 'confidence': 0.99512, 'speaker': None}, {'text': 'recursion.', 'start': 253352, 'end': 253942, 'confidence': 0.86814, 'speaker': None}, {'text': 'Now,', 'start': 254026, 'end': 254274, 'confidence': 0.91741, 'speaker': None}, {'text': 'there', 'start': 254312, 'end': 254442, 'confidence': 0.99924, 'speaker': None}, {'text': 'are', 'start': 254456, 'end': 254562, 'confidence': 0.96303, 'speaker': None}, {'text': 'plenty', 'start': 254576, 'end': 254818, 'confidence': 0.64188, 'speaker': None}, {'text': 'of', 'start': 254854, 'end': 255126, 'confidence': 1.0, 'speaker': None}, {'text': 'interest', 'start': 255188, 'end': 255486, 'confidence': 0.01495, 'speaker': None}, {'text': 'Python', 'start': 255548, 'end': 255958, 'confidence': 0.97413, 'speaker': None}, {'text': 'courses', 'start': 255994, 'end': 256222, 'confidence': 0.96018, 'speaker': None}, {'text': 'in', 'start': 256246, 'end': 256362, 'confidence': 0.99828, 'speaker': None}, {'text': 'the', 'start': 256376, 'end': 256446, 'confidence': 1.0, 'speaker': None}, {'text': 'world,', 'start': 256448, 'end': 256614, 'confidence': 0.99926, 'speaker': None}, {'text': 'so', 'start': 256652, 'end': 256782, 'confidence': 0.8908, 'speaker': None}, {'text': \"I'm\", 'start': 256796, 'end': 256942, 'confidence': 0.95518, 'speaker': None}, {'text': 'not', 'start': 256966, 'end': 257082, 'confidence': 0.99968, 'speaker': None}, {'text': 'going', 'start': 257096, 'end': 257166, 'confidence': 0.96726, 'speaker': None}, {'text': 'to', 'start': 257168, 'end': 257262, 'confidence': 0.95, 'speaker': None}, {'text': 'bore', 'start': 257276, 'end': 257518, 'confidence': 0.75072, 'speaker': None}, {'text': 'you', 'start': 257554, 'end': 257682, 'confidence': 0.99901, 'speaker': None}, {'text': 'with', 'start': 257696, 'end': 257802, 'confidence': 0.92646, 'speaker': None}, {'text': 'the', 'start': 257816, 'end': 257958, 'confidence': 0.99, 'speaker': None}, {'text': 'details.', 'start': 257984, 'end': 258394, 'confidence': 0.75, 'speaker': None}, {'text': \"I'm\", 'start': 258442, 'end': 258622, 'confidence': 0.92797, 'speaker': None}, {'text': 'sure', 'start': 258646, 'end': 258798, 'confidence': 0.99995, 'speaker': None}, {'text': 'you', 'start': 258824, 'end': 258942, 'confidence': 0.99927, 'speaker': None}, {'text': 'can', 'start': 258956, 'end': 259098, 'confidence': 0.98644, 'speaker': None}, {'text': 'find', 'start': 259124, 'end': 259278, 'confidence': 0.99966, 'speaker': None}, {'text': 'that', 'start': 259304, 'end': 259458, 'confidence': 0.99268, 'speaker': None}, {'text': 'on', 'start': 259484, 'end': 259602, 'confidence': 0.99852, 'speaker': None}, {'text': 'your', 'start': 259616, 'end': 259758, 'confidence': 0.99806, 'speaker': None}, {'text': 'own.', 'start': 259784, 'end': 260010, 'confidence': 0.99924, 'speaker': None}, {'text': 'But', 'start': 260060, 'end': 260382, 'confidence': 0.91904, 'speaker': None}, {'text': 'now', 'start': 260456, 'end': 260658, 'confidence': 0.99937, 'speaker': None}, {'text': 'that', 'start': 260684, 'end': 260802, 'confidence': 0.99736, 'speaker': None}, {'text': 'you', 'start': 260816, 'end': 260958, 'confidence': 0.99821, 'speaker': None}, {'text': 'have', 'start': 260984, 'end': 261138, 'confidence': 0.99973, 'speaker': None}, {'text': 'a', 'start': 261164, 'end': 261282, 'confidence': 0.99, 'speaker': None}, {'text': 'coding', 'start': 261296, 'end': 261598, 'confidence': 0.67268, 'speaker': None}, {'text': 'language', 'start': 261634, 'end': 261994, 'confidence': 0.99945, 'speaker': None}, {'text': 'down,', 'start': 262042, 'end': 262362, 'confidence': 0.99631, 'speaker': None}, {'text': \"let's\", 'start': 262436, 'end': 262678, 'confidence': 0.53145, 'speaker': None}, {'text': 'talk', 'start': 262714, 'end': 262878, 'confidence': 0.99978, 'speaker': None}, {'text': 'about', 'start': 262904, 'end': 263130, 'confidence': 0.99868, 'speaker': None}, {'text': 'programming.', 'start': 263180, 'end': 263806, 'confidence': 0.61642, 'speaker': None}, {'text': 'So', 'start': 263878, 'end': 264078, 'confidence': 0.68835, 'speaker': None}, {'text': 'the', 'start': 264104, 'end': 264222, 'confidence': 1.0, 'speaker': None}, {'text': 'first', 'start': 264236, 'end': 264414, 'confidence': 1.0, 'speaker': None}, {'text': 'thing', 'start': 264452, 'end': 264582, 'confidence': 0.99965, 'speaker': None}, {'text': 'I', 'start': 264596, 'end': 264702, 'confidence': 1.0, 'speaker': None}, {'text': 'would', 'start': 264716, 'end': 264858, 'confidence': 0.96466, 'speaker': None}, {'text': 'do', 'start': 264884, 'end': 265038, 'confidence': 0.99977, 'speaker': None}, {'text': 'is', 'start': 265064, 'end': 265254, 'confidence': 0.99906, 'speaker': None}, {'text': 'take', 'start': 265292, 'end': 265494, 'confidence': 0.99804, 'speaker': None}, {'text': 'what', 'start': 265532, 'end': 265662, 'confidence': 0.99993, 'speaker': None}, {'text': \"I've\", 'start': 265676, 'end': 265822, 'confidence': 0.93909, 'speaker': None}, {'text': 'learned', 'start': 265846, 'end': 266122, 'confidence': 0.99487, 'speaker': None}, {'text': 'and', 'start': 266146, 'end': 266298, 'confidence': 1.0, 'speaker': None}, {'text': 'build', 'start': 266324, 'end': 266550, 'confidence': 0.98916, 'speaker': None}, {'text': 'a', 'start': 266600, 'end': 266742, 'confidence': 1.0, 'speaker': None}, {'text': 'website.', 'start': 266756, 'end': 267150, 'confidence': 1.0, 'speaker': None}, {'text': 'Now,', 'start': 267260, 'end': 267462, 'confidence': 0.91711, 'speaker': None}, {'text': 'there', 'start': 267476, 'end': 267582, 'confidence': 0.99555, 'speaker': None}, {'text': 'are', 'start': 267596, 'end': 267738, 'confidence': 0.84485, 'speaker': None}, {'text': 'three', 'start': 267764, 'end': 268062, 'confidence': 1.0, 'speaker': None}, {'text': 'important', 'start': 268136, 'end': 268518, 'confidence': 0.99995, 'speaker': None}, {'text': 'aspects', 'start': 268604, 'end': 269002, 'confidence': 0.99316, 'speaker': None}, {'text': 'to', 'start': 269026, 'end': 269106, 'confidence': 0.85, 'speaker': None}, {'text': 'a', 'start': 269108, 'end': 269238, 'confidence': 0.5, 'speaker': None}, {'text': 'website.', 'start': 269264, 'end': 269562, 'confidence': 1.0, 'speaker': None}, {'text': \"There's\", 'start': 269636, 'end': 269902, 'confidence': 0.95042, 'speaker': None}, {'text': 'the', 'start': 269926, 'end': 270078, 'confidence': 0.99, 'speaker': None}, {'text': 'back', 'start': 270104, 'end': 270258, 'confidence': 0.99637, 'speaker': None}, {'text': 'end,', 'start': 270284, 'end': 270510, 'confidence': 0.86351, 'speaker': None}, {'text': 'which', 'start': 270560, 'end': 270774, 'confidence': 0.99805, 'speaker': None}, {'text': 'kind', 'start': 270812, 'end': 270942, 'confidence': 0.93893, 'speaker': None}, {'text': 'of', 'start': 270956, 'end': 271206, 'confidence': 0.98, 'speaker': None}, {'text': 'manages', 'start': 271268, 'end': 271678, 'confidence': 0.98469, 'speaker': None}, {'text': 'user', 'start': 271714, 'end': 271978, 'confidence': 0.98541, 'speaker': None}, {'text': 'data.', 'start': 272014, 'end': 272430, 'confidence': 0.99972, 'speaker': None}, {'text': \"There's\", 'start': 272540, 'end': 272782, 'confidence': 0.54025, 'speaker': None}, {'text': 'the', 'start': 272806, 'end': 272958, 'confidence': 0.82, 'speaker': None}, {'text': 'front', 'start': 272984, 'end': 273174, 'confidence': 0.99991, 'speaker': None}, {'text': 'end,', 'start': 273212, 'end': 273414, 'confidence': 0.93344, 'speaker': None}, {'text': 'which', 'start': 273452, 'end': 273582, 'confidence': 0.99963, 'speaker': None}, {'text': 'is', 'start': 273596, 'end': 273738, 'confidence': 0.9975, 'speaker': None}, {'text': 'what', 'start': 273764, 'end': 273990, 'confidence': 0.99897, 'speaker': None}, {'text': 'runs', 'start': 274040, 'end': 274318, 'confidence': 0.86976, 'speaker': None}, {'text': 'on', 'start': 274354, 'end': 274446, 'confidence': 0.9976, 'speaker': None}, {'text': 'the', 'start': 274448, 'end': 274542, 'confidence': 0.99, 'speaker': None}, {'text': \"user's\", 'start': 274556, 'end': 274918, 'confidence': 0.4368, 'speaker': None}, {'text': 'browser.', 'start': 274954, 'end': 275542, 'confidence': 0.6671, 'speaker': None}, {'text': 'And', 'start': 275626, 'end': 275838, 'confidence': 0.95, 'speaker': None}, {'text': 'then', 'start': 275864, 'end': 275982, 'confidence': 0.99089, 'speaker': None}, {'text': \"there's\", 'start': 275996, 'end': 276142, 'confidence': 0.8144, 'speaker': None}, {'text': 'the', 'start': 276166, 'end': 276282, 'confidence': 1.0, 'speaker': None}, {'text': 'database,', 'start': 276296, 'end': 276754, 'confidence': 0.99719, 'speaker': None}, {'text': 'which', 'start': 276802, 'end': 276978, 'confidence': 0.99821, 'speaker': None}, {'text': 'essentially', 'start': 277004, 'end': 277366, 'confidence': 0.99959, 'speaker': None}, {'text': 'just', 'start': 277438, 'end': 277674, 'confidence': 0.84473, 'speaker': None}, {'text': 'stores', 'start': 277712, 'end': 278038, 'confidence': 0.75435, 'speaker': None}, {'text': 'data.', 'start': 278074, 'end': 278310, 'confidence': 0.9994, 'speaker': None}, {'text': 'Now,', 'start': 278360, 'end': 278466, 'confidence': 0.88078, 'speaker': None}, {'text': \"we'll\", 'start': 278468, 'end': 278602, 'confidence': 0.45576, 'speaker': None}, {'text': 'start', 'start': 278626, 'end': 278778, 'confidence': 0.99989, 'speaker': None}, {'text': 'with', 'start': 278804, 'end': 278958, 'confidence': 0.99966, 'speaker': None}, {'text': 'back', 'start': 278984, 'end': 279138, 'confidence': 0.99969, 'speaker': None}, {'text': 'end.', 'start': 279164, 'end': 279354, 'confidence': 0.35253, 'speaker': None}, {'text': \"You're\", 'start': 279392, 'end': 279526, 'confidence': 0.86719, 'speaker': None}, {'text': 'going', 'start': 279538, 'end': 279642, 'confidence': 0.98532, 'speaker': None}, {'text': 'to', 'start': 279656, 'end': 279726, 'confidence': 0.96, 'speaker': None}, {'text': 'want', 'start': 279728, 'end': 279822, 'confidence': 0.99915, 'speaker': None}, {'text': 'to', 'start': 279836, 'end': 279906, 'confidence': 1.0, 'speaker': None}, {'text': 'pick', 'start': 279908, 'end': 280074, 'confidence': 0.81053, 'speaker': None}, {'text': 'a', 'start': 280112, 'end': 280278, 'confidence': 0.82, 'speaker': None}, {'text': 'pretty', 'start': 280304, 'end': 280458, 'confidence': 0.99808, 'speaker': None}, {'text': 'high', 'start': 280484, 'end': 280638, 'confidence': 0.99989, 'speaker': None}, {'text': 'level', 'start': 280664, 'end': 280890, 'confidence': 0.99444, 'speaker': None}, {'text': 'language,', 'start': 280940, 'end': 281386, 'confidence': 0.99968, 'speaker': None}, {'text': 'either', 'start': 281458, 'end': 281838, 'confidence': 0.9998, 'speaker': None}, {'text': 'one', 'start': 281924, 'end': 282210, 'confidence': 1.0, 'speaker': None}, {'text': 'Python', 'start': 282260, 'end': 282802, 'confidence': 0.97514, 'speaker': None}, {'text': 'or', 'start': 282886, 'end': 283098, 'confidence': 0.99844, 'speaker': None}, {'text': 'two', 'start': 283124, 'end': 283422, 'confidence': 0.98, 'speaker': None}, {'text': 'JavaScript.', 'start': 283496, 'end': 284146, 'confidence': 0.88051, 'speaker': None}, {'text': 'The', 'start': 284218, 'end': 284382, 'confidence': 1.0, 'speaker': None}, {'text': 'first', 'start': 284396, 'end': 284574, 'confidence': 1.0, 'speaker': None}, {'text': 'program', 'start': 284612, 'end': 284850, 'confidence': 0.9997, 'speaker': None}, {'text': 'I', 'start': 284900, 'end': 285042, 'confidence': 1.0, 'speaker': None}, {'text': 'would', 'start': 285056, 'end': 285198, 'confidence': 0.99839, 'speaker': None}, {'text': 'build', 'start': 285224, 'end': 285378, 'confidence': 0.99827, 'speaker': None}, {'text': 'would', 'start': 285404, 'end': 285522, 'confidence': 0.7854, 'speaker': None}, {'text': 'be', 'start': 285536, 'end': 285642, 'confidence': 0.99902, 'speaker': None}, {'text': 'a', 'start': 285656, 'end': 285762, 'confidence': 0.99, 'speaker': None}, {'text': 'basic', 'start': 285776, 'end': 286054, 'confidence': 0.82632, 'speaker': None}, {'text': 'website.', 'start': 286102, 'end': 286458, 'confidence': 0.99, 'speaker': None}, {'text': 'And', 'start': 286544, 'end': 286758, 'confidence': 0.08, 'speaker': None}, {'text': 'what', 'start': 286784, 'end': 286938, 'confidence': 0.99927, 'speaker': None}, {'text': 'type', 'start': 286964, 'end': 287082, 'confidence': 0.99963, 'speaker': None}, {'text': 'of', 'start': 287096, 'end': 287238, 'confidence': 0.74, 'speaker': None}, {'text': 'website?', 'start': 287264, 'end': 287562, 'confidence': 0.99, 'speaker': None}, {'text': 'What', 'start': 287636, 'end': 287802, 'confidence': 0.99809, 'speaker': None}, {'text': 'does', 'start': 287816, 'end': 287958, 'confidence': 0.97698, 'speaker': None}, {'text': 'that', 'start': 287984, 'end': 288102, 'confidence': 0.9982, 'speaker': None}, {'text': 'website', 'start': 288116, 'end': 288402, 'confidence': 1.0, 'speaker': None}, {'text': 'do?', 'start': 288476, 'end': 288714, 'confidence': 0.99862, 'speaker': None}, {'text': 'Well,', 'start': 288752, 'end': 288918, 'confidence': 0.89758, 'speaker': None}, {'text': \"I'll\", 'start': 288944, 'end': 289102, 'confidence': 0.97044, 'speaker': None}, {'text': 'explain', 'start': 289126, 'end': 289386, 'confidence': 0.99997, 'speaker': None}, {'text': 'that', 'start': 289448, 'end': 289638, 'confidence': 0.99754, 'speaker': None}, {'text': 'in', 'start': 289664, 'end': 289746, 'confidence': 0.99804, 'speaker': None}, {'text': 'a', 'start': 289748, 'end': 289842, 'confidence': 0.93, 'speaker': None}, {'text': 'minute,', 'start': 289856, 'end': 290038, 'confidence': 0.79, 'speaker': None}, {'text': 'but', 'start': 290074, 'end': 290202, 'confidence': 0.94018, 'speaker': None}, {'text': 'for', 'start': 290216, 'end': 290322, 'confidence': 0.99737, 'speaker': None}, {'text': 'now,', 'start': 290336, 'end': 290478, 'confidence': 0.99952, 'speaker': None}, {'text': \"let's\", 'start': 290504, 'end': 290626, 'confidence': 0.98946, 'speaker': None}, {'text': 'just', 'start': 290638, 'end': 290778, 'confidence': 0.98185, 'speaker': None}, {'text': 'make', 'start': 290804, 'end': 290922, 'confidence': 0.99953, 'speaker': None}, {'text': 'a', 'start': 290936, 'end': 291078, 'confidence': 1.0, 'speaker': None}, {'text': 'project', 'start': 291104, 'end': 291366, 'confidence': 0.99957, 'speaker': None}, {'text': 'in', 'start': 291428, 'end': 291618, 'confidence': 0.99936, 'speaker': None}, {'text': 'that', 'start': 291644, 'end': 291798, 'confidence': 0.99619, 'speaker': None}, {'text': 'language.', 'start': 291824, 'end': 292390, 'confidence': 0.99991, 'speaker': None}, {'text': 'Now,', 'start': 292510, 'end': 292758, 'confidence': 0.86938, 'speaker': None}, {'text': 'when', 'start': 292784, 'end': 292974, 'confidence': 0.99707, 'speaker': None}, {'text': 'making', 'start': 293012, 'end': 293214, 'confidence': 0.99943, 'speaker': None}, {'text': 'a', 'start': 293252, 'end': 293382, 'confidence': 0.98, 'speaker': None}, {'text': 'back', 'start': 293396, 'end': 293538, 'confidence': 0.99967, 'speaker': None}, {'text': 'end,', 'start': 293564, 'end': 293718, 'confidence': 0.70062, 'speaker': None}, {'text': \"you're\", 'start': 293744, 'end': 293866, 'confidence': 0.7906, 'speaker': None}, {'text': 'going', 'start': 293878, 'end': 293982, 'confidence': 0.81844, 'speaker': None}, {'text': 'to', 'start': 293996, 'end': 294102, 'confidence': 1.0, 'speaker': None}, {'text': 'learn', 'start': 294116, 'end': 294294, 'confidence': 0.99987, 'speaker': None}, {'text': 'concepts', 'start': 294332, 'end': 294826, 'confidence': 0.87945, 'speaker': None}, {'text': 'like', 'start': 294898, 'end': 295170, 'confidence': 0.99726, 'speaker': None}, {'text': 'Http', 'start': 295220, 'end': 295930, 'confidence': 0.89106, 'speaker': None}, {'text': 'methods,', 'start': 295990, 'end': 296434, 'confidence': 0.79297, 'speaker': None}, {'text': 'get', 'start': 296482, 'end': 296766, 'confidence': 0.9932, 'speaker': None}, {'text': 'post', 'start': 296828, 'end': 297126, 'confidence': 0.89754, 'speaker': None}, {'text': 'for', 'start': 297188, 'end': 297342, 'confidence': 0.99401, 'speaker': None}, {'text': 'example.', 'start': 297356, 'end': 297714, 'confidence': 0.99684, 'speaker': None}, {'text': 'Depending', 'start': 297812, 'end': 298186, 'confidence': 0.50348, 'speaker': None}, {'text': 'on', 'start': 298198, 'end': 298302, 'confidence': 0.86654, 'speaker': None}, {'text': 'the', 'start': 298316, 'end': 298422, 'confidence': 1.0, 'speaker': None}, {'text': 'project,', 'start': 298436, 'end': 298686, 'confidence': 0.99925, 'speaker': None}, {'text': 'you', 'start': 298748, 'end': 298902, 'confidence': 0.99898, 'speaker': None}, {'text': 'might', 'start': 298916, 'end': 299058, 'confidence': 0.65713, 'speaker': None}, {'text': 'be', 'start': 299084, 'end': 299238, 'confidence': 0.99947, 'speaker': None}, {'text': 'interacting', 'start': 299264, 'end': 299722, 'confidence': 0.77469, 'speaker': None}, {'text': 'with', 'start': 299746, 'end': 299862, 'confidence': 0.99987, 'speaker': None}, {'text': 'the', 'start': 299876, 'end': 300018, 'confidence': 0.36, 'speaker': None}, {'text': 'database.', 'start': 300044, 'end': 300634, 'confidence': 0.94448, 'speaker': None}, {'text': 'Once', 'start': 300742, 'end': 300978, 'confidence': 0.99843, 'speaker': None}, {'text': 'you', 'start': 301004, 'end': 301122, 'confidence': 0.99951, 'speaker': None}, {'text': 'start', 'start': 301136, 'end': 301242, 'confidence': 0.99881, 'speaker': None}, {'text': 'to', 'start': 301256, 'end': 301398, 'confidence': 0.59, 'speaker': None}, {'text': 'feel', 'start': 301424, 'end': 301614, 'confidence': 0.99946, 'speaker': None}, {'text': 'comfortable', 'start': 301652, 'end': 302398, 'confidence': 0.55846, 'speaker': None}, {'text': 'and', 'start': 302554, 'end': 302838, 'confidence': 0.99, 'speaker': None}, {'text': 'have', 'start': 302864, 'end': 303018, 'confidence': 0.9966, 'speaker': None}, {'text': 'your', 'start': 303044, 'end': 303198, 'confidence': 0.99743, 'speaker': None}, {'text': 'basic', 'start': 303224, 'end': 303478, 'confidence': 0.99974, 'speaker': None}, {'text': 'back', 'start': 303514, 'end': 303714, 'confidence': 0.93447, 'speaker': None}, {'text': 'end', 'start': 303752, 'end': 303954, 'confidence': 0.69079, 'speaker': None}, {'text': 'working,', 'start': 303992, 'end': 304446, 'confidence': 0.99928, 'speaker': None}, {'text': 'then', 'start': 304568, 'end': 304854, 'confidence': 0.98437, 'speaker': None}, {'text': \"let's\", 'start': 304892, 'end': 305122, 'confidence': 0.99472, 'speaker': None}, {'text': 'try', 'start': 305146, 'end': 305298, 'confidence': 0.9999, 'speaker': None}, {'text': 'our', 'start': 305324, 'end': 305478, 'confidence': 0.99608, 'speaker': None}, {'text': 'hand', 'start': 305504, 'end': 305730, 'confidence': 0.99447, 'speaker': None}, {'text': 'at', 'start': 305780, 'end': 305886, 'confidence': 1.0, 'speaker': None}, {'text': 'the', 'start': 305888, 'end': 306054, 'confidence': 0.57, 'speaker': None}, {'text': 'front', 'start': 306092, 'end': 306258, 'confidence': 0.99984, 'speaker': None}, {'text': 'end.', 'start': 306284, 'end': 306582, 'confidence': 0.51359, 'speaker': None}, {'text': 'Now,', 'start': 306656, 'end': 306858, 'confidence': 0.93266, 'speaker': None}, {'text': 'on', 'start': 306884, 'end': 307002, 'confidence': 0.81547, 'speaker': None}, {'text': 'the', 'start': 307016, 'end': 307122, 'confidence': 1.0, 'speaker': None}, {'text': 'front', 'start': 307136, 'end': 307278, 'confidence': 0.99988, 'speaker': None}, {'text': 'end', 'start': 307304, 'end': 307422, 'confidence': 0.95153, 'speaker': None}, {'text': \"you're\", 'start': 307436, 'end': 307546, 'confidence': 0.90015, 'speaker': None}, {'text': 'going', 'start': 307558, 'end': 307626, 'confidence': 0.9979, 'speaker': None}, {'text': 'to', 'start': 307628, 'end': 307686, 'confidence': 0.99, 'speaker': None}, {'text': 'be', 'start': 307688, 'end': 307782, 'confidence': 0.9968, 'speaker': None}, {'text': 'using', 'start': 307796, 'end': 307974, 'confidence': 0.99927, 'speaker': None}, {'text': 'things', 'start': 308012, 'end': 308178, 'confidence': 0.99956, 'speaker': None}, {'text': 'like', 'start': 308204, 'end': 308394, 'confidence': 0.99928, 'speaker': None}, {'text': 'JavaScript,', 'start': 308432, 'end': 308986, 'confidence': 0.5904, 'speaker': None}, {'text': 'HTML,', 'start': 309058, 'end': 309670, 'confidence': 0.57626, 'speaker': None}, {'text': 'CSS.', 'start': 309730, 'end': 310342, 'confidence': 0.97629, 'speaker': None}, {'text': 'This', 'start': 310486, 'end': 310722, 'confidence': 0.99967, 'speaker': None}, {'text': 'is', 'start': 310736, 'end': 310878, 'confidence': 0.58017, 'speaker': None}, {'text': 'the', 'start': 310904, 'end': 311022, 'confidence': 1.0, 'speaker': None}, {'text': 'reason', 'start': 311036, 'end': 311214, 'confidence': 0.99995, 'speaker': None}, {'text': 'I', 'start': 311252, 'end': 311382, 'confidence': 0.99, 'speaker': None}, {'text': 'said', 'start': 311396, 'end': 311574, 'confidence': 0.96933, 'speaker': None}, {'text': 'JavaScript', 'start': 311612, 'end': 312094, 'confidence': 0.99831, 'speaker': None}, {'text': 'is', 'start': 312142, 'end': 312318, 'confidence': 0.99426, 'speaker': None}, {'text': 'actually', 'start': 312344, 'end': 312570, 'confidence': 0.9991, 'speaker': None}, {'text': 'a', 'start': 312620, 'end': 312798, 'confidence': 0.99, 'speaker': None}, {'text': 'pretty', 'start': 312824, 'end': 312978, 'confidence': 0.99948, 'speaker': None}, {'text': 'good', 'start': 313004, 'end': 313158, 'confidence': 0.99996, 'speaker': None}, {'text': 'starting', 'start': 313184, 'end': 313446, 'confidence': 0.99843, 'speaker': None}, {'text': 'language', 'start': 313508, 'end': 313834, 'confidence': 0.99995, 'speaker': None}, {'text': 'because', 'start': 313882, 'end': 314058, 'confidence': 0.99735, 'speaker': None}, {'text': 'you', 'start': 314084, 'end': 314202, 'confidence': 0.96617, 'speaker': None}, {'text': 'can', 'start': 314216, 'end': 314358, 'confidence': 0.99695, 'speaker': None}, {'text': 'use', 'start': 314384, 'end': 314502, 'confidence': 0.99981, 'speaker': None}, {'text': 'it', 'start': 314516, 'end': 314622, 'confidence': 1.0, 'speaker': None}, {'text': 'for', 'start': 314636, 'end': 314742, 'confidence': 0.99834, 'speaker': None}, {'text': 'the', 'start': 314756, 'end': 314934, 'confidence': 1.0, 'speaker': None}, {'text': 'back', 'start': 314972, 'end': 315138, 'confidence': 0.72293, 'speaker': None}, {'text': 'end', 'start': 315164, 'end': 315354, 'confidence': 0.65048, 'speaker': None}, {'text': 'and', 'start': 315392, 'end': 315558, 'confidence': 0.99, 'speaker': None}, {'text': 'the', 'start': 315584, 'end': 315738, 'confidence': 0.98, 'speaker': None}, {'text': 'front', 'start': 315764, 'end': 315918, 'confidence': 0.99939, 'speaker': None}, {'text': 'end.', 'start': 315944, 'end': 316206, 'confidence': 0.92787, 'speaker': None}, {'text': 'I', 'start': 316268, 'end': 316458, 'confidence': 0.81, 'speaker': None}, {'text': 'said', 'start': 316484, 'end': 316710, 'confidence': 0.92795, 'speaker': None}, {'text': 'each', 'start': 316760, 'end': 317010, 'confidence': 0.99948, 'speaker': None}, {'text': 'programming', 'start': 317060, 'end': 317518, 'confidence': 0.99969, 'speaker': None}, {'text': 'language', 'start': 317554, 'end': 317782, 'confidence': 0.98968, 'speaker': None}, {'text': 'is', 'start': 317806, 'end': 317922, 'confidence': 0.61932, 'speaker': None}, {'text': 'a', 'start': 317936, 'end': 318006, 'confidence': 1.0, 'speaker': None}, {'text': 'bunch', 'start': 318008, 'end': 318166, 'confidence': 0.9498, 'speaker': None}, {'text': 'of', 'start': 318178, 'end': 318318, 'confidence': 1.0, 'speaker': None}, {'text': 'tools', 'start': 318344, 'end': 318562, 'confidence': 0.99382, 'speaker': None}, {'text': 'and', 'start': 318586, 'end': 318738, 'confidence': 1.0, 'speaker': None}, {'text': 'frameworks', 'start': 318764, 'end': 319282, 'confidence': 0.55558, 'speaker': None}, {'text': 'that', 'start': 319306, 'end': 319566, 'confidence': 0.99818, 'speaker': None}, {'text': 'make', 'start': 319628, 'end': 319782, 'confidence': 0.99651, 'speaker': None}, {'text': 'it', 'start': 319796, 'end': 319974, 'confidence': 0.61, 'speaker': None}, {'text': 'easier', 'start': 320012, 'end': 320278, 'confidence': 0.99958, 'speaker': None}, {'text': 'to', 'start': 320314, 'end': 320478, 'confidence': 0.9, 'speaker': None}, {'text': 'use.', 'start': 320504, 'end': 320838, 'confidence': 0.99956, 'speaker': None}, {'text': 'Basically,', 'start': 320924, 'end': 321354, 'confidence': 0.99908, 'speaker': None}, {'text': \"there's\", 'start': 321452, 'end': 321742, 'confidence': 0.90859, 'speaker': None}, {'text': 'no', 'start': 321766, 'end': 321954, 'confidence': 0.99908, 'speaker': None}, {'text': 'reason', 'start': 321992, 'end': 322230, 'confidence': 0.99997, 'speaker': None}, {'text': 'for', 'start': 322280, 'end': 322422, 'confidence': 0.99965, 'speaker': None}, {'text': 'you', 'start': 322436, 'end': 322578, 'confidence': 0.99949, 'speaker': None}, {'text': 'to', 'start': 322604, 'end': 322722, 'confidence': 1.0, 'speaker': None}, {'text': 'write', 'start': 322736, 'end': 322914, 'confidence': 0.99952, 'speaker': None}, {'text': 'code', 'start': 322952, 'end': 323154, 'confidence': 0.99992, 'speaker': None}, {'text': 'that', 'start': 323192, 'end': 323358, 'confidence': 0.99252, 'speaker': None}, {'text': 'somebody', 'start': 323384, 'end': 323610, 'confidence': 0.99426, 'speaker': None}, {'text': 'else', 'start': 323660, 'end': 323838, 'confidence': 0.99985, 'speaker': None}, {'text': 'has', 'start': 323864, 'end': 324018, 'confidence': 0.95152, 'speaker': None}, {'text': 'already', 'start': 324044, 'end': 324342, 'confidence': 0.9999, 'speaker': None}, {'text': 'written.', 'start': 324416, 'end': 324790, 'confidence': 0.97888, 'speaker': None}, {'text': 'The', 'start': 324850, 'end': 325038, 'confidence': 0.95, 'speaker': None}, {'text': 'frameworks', 'start': 325064, 'end': 325426, 'confidence': 0.96557, 'speaker': None}, {'text': 'I', 'start': 325438, 'end': 325506, 'confidence': 0.96, 'speaker': None}, {'text': 'would', 'start': 325508, 'end': 325638, 'confidence': 0.89825, 'speaker': None}, {'text': 'use', 'start': 325664, 'end': 325782, 'confidence': 0.99806, 'speaker': None}, {'text': 'for', 'start': 325796, 'end': 325902, 'confidence': 0.99458, 'speaker': None}, {'text': 'these', 'start': 325916, 'end': 326058, 'confidence': 0.99712, 'speaker': None}, {'text': 'languages', 'start': 326084, 'end': 326410, 'confidence': 0.98333, 'speaker': None}, {'text': 'would', 'start': 326470, 'end': 326622, 'confidence': 0.99426, 'speaker': None}, {'text': 'be', 'start': 326636, 'end': 326742, 'confidence': 0.99873, 'speaker': None}, {'text': 'Python.', 'start': 326756, 'end': 327154, 'confidence': 0.66797, 'speaker': None}, {'text': 'I', 'start': 327202, 'end': 327342, 'confidence': 1.0, 'speaker': None}, {'text': 'would', 'start': 327356, 'end': 327498, 'confidence': 0.99538, 'speaker': None}, {'text': 'try', 'start': 327524, 'end': 327714, 'confidence': 0.99914, 'speaker': None}, {'text': 'either', 'start': 327752, 'end': 327954, 'confidence': 0.99738, 'speaker': None}, {'text': 'Django', 'start': 327992, 'end': 328438, 'confidence': 0.63542, 'speaker': None}, {'text': 'or', 'start': 328474, 'end': 328638, 'confidence': 0.99423, 'speaker': None}, {'text': 'Flask', 'start': 328664, 'end': 329170, 'confidence': 0.97986, 'speaker': None}, {'text': 'JavaScript.', 'start': 329230, 'end': 329770, 'confidence': 0.99097, 'speaker': None}, {'text': 'On', 'start': 329830, 'end': 329946, 'confidence': 0.99753, 'speaker': None}, {'text': 'the', 'start': 329948, 'end': 330078, 'confidence': 0.99, 'speaker': None}, {'text': 'back', 'start': 330104, 'end': 330258, 'confidence': 0.99691, 'speaker': None}, {'text': 'end', 'start': 330284, 'end': 330438, 'confidence': 0.85, 'speaker': None}, {'text': 'I', 'start': 330464, 'end': 330582, 'confidence': 1.0, 'speaker': None}, {'text': 'would', 'start': 330596, 'end': 330702, 'confidence': 0.99424, 'speaker': None}, {'text': 'use', 'start': 330716, 'end': 330930, 'confidence': 0.99909, 'speaker': None}, {'text': 'Express', 'start': 330980, 'end': 331354, 'confidence': 0.80385, 'speaker': None}, {'text': 'JS,', 'start': 331402, 'end': 331846, 'confidence': 0.76383, 'speaker': None}, {'text': 'which', 'start': 331918, 'end': 332190, 'confidence': 0.95877, 'speaker': None}, {'text': 'just', 'start': 332240, 'end': 332526, 'confidence': 0.97703, 'speaker': None}, {'text': 'think', 'start': 332588, 'end': 332778, 'confidence': 0.99967, 'speaker': None}, {'text': 'of', 'start': 332804, 'end': 332922, 'confidence': 1.0, 'speaker': None}, {'text': 'it', 'start': 332936, 'end': 333042, 'confidence': 1.0, 'speaker': None}, {'text': 'as', 'start': 333056, 'end': 333198, 'confidence': 0.9967, 'speaker': None}, {'text': 'simplified', 'start': 333224, 'end': 333670, 'confidence': 0.99761, 'speaker': None}, {'text': 'NodeJS.', 'start': 333730, 'end': 334366, 'confidence': 0.35364, 'speaker': None}, {'text': 'And', 'start': 334438, 'end': 334674, 'confidence': 0.84, 'speaker': None}, {'text': 'on', 'start': 334712, 'end': 334842, 'confidence': 0.99402, 'speaker': None}, {'text': 'the', 'start': 334856, 'end': 334962, 'confidence': 1.0, 'speaker': None}, {'text': 'front', 'start': 334976, 'end': 335118, 'confidence': 0.9999, 'speaker': None}, {'text': 'end', 'start': 335144, 'end': 335298, 'confidence': 0.9005, 'speaker': None}, {'text': 'I', 'start': 335324, 'end': 335406, 'confidence': 1.0, 'speaker': None}, {'text': 'would', 'start': 335408, 'end': 335538, 'confidence': 0.88448, 'speaker': None}, {'text': 'use', 'start': 335564, 'end': 335754, 'confidence': 0.99714, 'speaker': None}, {'text': 'React.', 'start': 335792, 'end': 336274, 'confidence': 0.99871, 'speaker': None}, {'text': 'And', 'start': 336382, 'end': 336582, 'confidence': 0.76, 'speaker': None}, {'text': 'if', 'start': 336596, 'end': 336702, 'confidence': 0.99931, 'speaker': None}, {'text': 'you', 'start': 336716, 'end': 336858, 'confidence': 0.62807, 'speaker': None}, {'text': 'need', 'start': 336884, 'end': 337038, 'confidence': 0.99791, 'speaker': None}, {'text': 'a', 'start': 337064, 'end': 337182, 'confidence': 1.0, 'speaker': None}, {'text': 'database,', 'start': 337196, 'end': 337798, 'confidence': 0.99715, 'speaker': None}, {'text': 'I', 'start': 337894, 'end': 338082, 'confidence': 0.8, 'speaker': None}, {'text': 'would', 'start': 338096, 'end': 338238, 'confidence': 0.67715, 'speaker': None}, {'text': 'try', 'start': 338264, 'end': 338454, 'confidence': 0.99942, 'speaker': None}, {'text': 'MongoDB.', 'start': 338492, 'end': 339310, 'confidence': 0.89928, 'speaker': None}, {'text': 'Now,', 'start': 339430, 'end': 339750, 'confidence': 0.96981, 'speaker': None}, {'text': 'anecdotally', 'start': 339800, 'end': 340546, 'confidence': 0.55126, 'speaker': None}, {'text': 'I', 'start': 340618, 'end': 340818, 'confidence': 1.0, 'speaker': None}, {'text': 'can', 'start': 340844, 'end': 340998, 'confidence': 0.99812, 'speaker': None}, {'text': 'tell', 'start': 341024, 'end': 341178, 'confidence': 0.99994, 'speaker': None}, {'text': 'you', 'start': 341204, 'end': 341358, 'confidence': 0.9918, 'speaker': None}, {'text': 'for', 'start': 341384, 'end': 341538, 'confidence': 0.9897, 'speaker': None}, {'text': 'Python.', 'start': 341564, 'end': 341974, 'confidence': 0.8336, 'speaker': None}, {'text': \"I've\", 'start': 342022, 'end': 342202, 'confidence': 0.7641, 'speaker': None}, {'text': 'seen', 'start': 342226, 'end': 342414, 'confidence': 0.71919, 'speaker': None}, {'text': 'more', 'start': 342452, 'end': 342690, 'confidence': 0.99963, 'speaker': None}, {'text': 'jobs', 'start': 342740, 'end': 343138, 'confidence': 0.99811, 'speaker': None}, {'text': 'listed', 'start': 343174, 'end': 343522, 'confidence': 0.52017, 'speaker': None}, {'text': 'for', 'start': 343546, 'end': 343698, 'confidence': 0.99595, 'speaker': None}, {'text': 'Django', 'start': 343724, 'end': 344158, 'confidence': 0.94247, 'speaker': None}, {'text': 'than', 'start': 344194, 'end': 344358, 'confidence': 0.9561, 'speaker': None}, {'text': 'for', 'start': 344384, 'end': 344502, 'confidence': 0.99058, 'speaker': None}, {'text': 'Flask.', 'start': 344516, 'end': 344974, 'confidence': 0.59993, 'speaker': None}, {'text': 'And', 'start': 345022, 'end': 345162, 'confidence': 0.96, 'speaker': None}, {'text': \"I've\", 'start': 345176, 'end': 345322, 'confidence': 0.72333, 'speaker': None}, {'text': 'seen', 'start': 345346, 'end': 345498, 'confidence': 0.99922, 'speaker': None}, {'text': 'more', 'start': 345524, 'end': 345678, 'confidence': 0.99795, 'speaker': None}, {'text': 'Express', 'start': 345704, 'end': 345994, 'confidence': 0.7499, 'speaker': None}, {'text': 'JS', 'start': 346042, 'end': 346414, 'confidence': 0.93708, 'speaker': None}, {'text': 'jobs', 'start': 346462, 'end': 346906, 'confidence': 0.61179, 'speaker': None}, {'text': 'over', 'start': 346978, 'end': 347250, 'confidence': 0.99006, 'speaker': None}, {'text': 'Django.', 'start': 347300, 'end': 347866, 'confidence': 0.42187, 'speaker': None}, {'text': 'On', 'start': 347938, 'end': 348102, 'confidence': 0.99934, 'speaker': None}, {'text': 'the', 'start': 348116, 'end': 348222, 'confidence': 1.0, 'speaker': None}, {'text': 'front', 'start': 348236, 'end': 348414, 'confidence': 0.99994, 'speaker': None}, {'text': 'end,', 'start': 348452, 'end': 348690, 'confidence': 0.67229, 'speaker': None}, {'text': 'I', 'start': 348740, 'end': 348918, 'confidence': 0.99, 'speaker': None}, {'text': 'think', 'start': 348944, 'end': 349134, 'confidence': 0.99931, 'speaker': None}, {'text': 'React', 'start': 349172, 'end': 349474, 'confidence': 0.99694, 'speaker': None}, {'text': 'is', 'start': 349522, 'end': 349842, 'confidence': 0.99569, 'speaker': None}, {'text': 'pretty', 'start': 349916, 'end': 350190, 'confidence': 0.99531, 'speaker': None}, {'text': 'solid.', 'start': 350240, 'end': 350662, 'confidence': 0.99189, 'speaker': None}, {'text': 'After', 'start': 350746, 'end': 350994, 'confidence': 0.99965, 'speaker': None}, {'text': 'that', 'start': 351032, 'end': 351198, 'confidence': 0.99791, 'speaker': None}, {'text': 'time', 'start': 351224, 'end': 351414, 'confidence': 0.99425, 'speaker': None}, {'text': 'you', 'start': 351452, 'end': 351546, 'confidence': 0.99737, 'speaker': None}, {'text': 'should', 'start': 351548, 'end': 351714, 'confidence': 0.94269, 'speaker': None}, {'text': 'learn', 'start': 351752, 'end': 351954, 'confidence': 0.9998, 'speaker': None}, {'text': 'C', 'start': 351992, 'end': 352230, 'confidence': 0.78, 'speaker': None}, {'text': 'and', 'start': 352280, 'end': 352422, 'confidence': 1.0, 'speaker': None}, {'text': 'C', 'start': 352436, 'end': 352974, 'confidence': 0.65, 'speaker': None}, {'text': 'as', 'start': 353132, 'end': 353418, 'confidence': 0.65766, 'speaker': None}, {'text': \"it'll\", 'start': 353444, 'end': 353638, 'confidence': 0.70795, 'speaker': None}, {'text': 'teach', 'start': 353674, 'end': 353838, 'confidence': 0.99983, 'speaker': None}, {'text': 'you', 'start': 353864, 'end': 354018, 'confidence': 0.99822, 'speaker': None}, {'text': 'everything', 'start': 354044, 'end': 354270, 'confidence': 0.99981, 'speaker': None}, {'text': 'you', 'start': 354320, 'end': 354462, 'confidence': 0.99955, 'speaker': None}, {'text': 'need', 'start': 354476, 'end': 354582, 'confidence': 0.99987, 'speaker': None}, {'text': 'to', 'start': 354596, 'end': 354738, 'confidence': 1.0, 'speaker': None}, {'text': 'know', 'start': 354764, 'end': 355026, 'confidence': 0.99985, 'speaker': None}, {'text': 'to', 'start': 355088, 'end': 355278, 'confidence': 1.0, 'speaker': None}, {'text': 'learn', 'start': 355304, 'end': 355530, 'confidence': 0.99972, 'speaker': None}, {'text': 'any', 'start': 355580, 'end': 355758, 'confidence': 0.99957, 'speaker': None}, {'text': 'other', 'start': 355784, 'end': 355974, 'confidence': 0.99909, 'speaker': None}, {'text': 'programming', 'start': 356012, 'end': 356458, 'confidence': 0.99933, 'speaker': None}, {'text': 'language.', 'start': 356494, 'end': 356758, 'confidence': 0.99477, 'speaker': None}, {'text': 'I', 'start': 356794, 'end': 356922, 'confidence': 1.0, 'speaker': None}, {'text': 'love', 'start': 356936, 'end': 357042, 'confidence': 0.99972, 'speaker': None}, {'text': 'this', 'start': 357056, 'end': 357198, 'confidence': 0.74457, 'speaker': None}, {'text': 'method', 'start': 357224, 'end': 357478, 'confidence': 0.99894, 'speaker': None}, {'text': 'because', 'start': 357514, 'end': 357714, 'confidence': 0.99929, 'speaker': None}, {'text': 'you', 'start': 357752, 'end': 357882, 'confidence': 0.99753, 'speaker': None}, {'text': 'start', 'start': 357896, 'end': 358110, 'confidence': 0.99863, 'speaker': None}, {'text': 'learning', 'start': 358160, 'end': 358374, 'confidence': 0.99972, 'speaker': None}, {'text': 'the', 'start': 358412, 'end': 358578, 'confidence': 1.0, 'speaker': None}, {'text': 'practical', 'start': 358604, 'end': 359122, 'confidence': 0.99695, 'speaker': None}, {'text': 'and', 'start': 359206, 'end': 359526, 'confidence': 0.51, 'speaker': None}, {'text': 'marketable', 'start': 359588, 'end': 360130, 'confidence': 0.99934, 'speaker': None}, {'text': 'stuff', 'start': 360190, 'end': 360486, 'confidence': 0.99155, 'speaker': None}, {'text': 'immediately,', 'start': 360548, 'end': 361330, 'confidence': 0.84658, 'speaker': None}, {'text': 'but', 'start': 361450, 'end': 361698, 'confidence': 0.98639, 'speaker': None}, {'text': 'then', 'start': 361724, 'end': 361878, 'confidence': 0.99685, 'speaker': None}, {'text': 'you', 'start': 361904, 'end': 362058, 'confidence': 0.99874, 'speaker': None}, {'text': 'start', 'start': 362084, 'end': 362346, 'confidence': 0.99829, 'speaker': None}, {'text': 'preparing', 'start': 362408, 'end': 362818, 'confidence': 0.39587, 'speaker': None}, {'text': 'yourself', 'start': 362854, 'end': 363126, 'confidence': 0.99946, 'speaker': None}, {'text': 'for', 'start': 363188, 'end': 363342, 'confidence': 0.99082, 'speaker': None}, {'text': 'the', 'start': 363356, 'end': 363498, 'confidence': 1.0, 'speaker': None}, {'text': 'long', 'start': 363524, 'end': 363714, 'confidence': 0.99918, 'speaker': None}, {'text': 'term', 'start': 363752, 'end': 364018, 'confidence': 0.70331, 'speaker': None}, {'text': 'necessities.', 'start': 364054, 'end': 364642, 'confidence': 0.63309, 'speaker': None}, {'text': 'This', 'start': 364726, 'end': 364938, 'confidence': 0.99859, 'speaker': None}, {'text': 'keeps', 'start': 364964, 'end': 365146, 'confidence': 0.99793, 'speaker': None}, {'text': 'your', 'start': 365158, 'end': 365298, 'confidence': 0.99483, 'speaker': None}, {'text': 'motivation', 'start': 365324, 'end': 365746, 'confidence': 0.51596, 'speaker': None}, {'text': 'higher', 'start': 365818, 'end': 366090, 'confidence': 0.99823, 'speaker': None}, {'text': 'and', 'start': 366140, 'end': 366282, 'confidence': 0.99, 'speaker': None}, {'text': 'it', 'start': 366296, 'end': 366438, 'confidence': 0.99, 'speaker': None}, {'text': 'really', 'start': 366464, 'end': 366654, 'confidence': 0.99767, 'speaker': None}, {'text': 'just', 'start': 366692, 'end': 366822, 'confidence': 0.97696, 'speaker': None}, {'text': 'makes', 'start': 366836, 'end': 366978, 'confidence': 0.99782, 'speaker': None}, {'text': 'you', 'start': 367004, 'end': 367158, 'confidence': 0.94069, 'speaker': None}, {'text': 'marketable', 'start': 367184, 'end': 367690, 'confidence': 0.99699, 'speaker': None}, {'text': 'quicker.', 'start': 367750, 'end': 368170, 'confidence': 0.99487, 'speaker': None}, {'text': 'Now,', 'start': 368230, 'end': 368598, 'confidence': 0.95221, 'speaker': None}, {'text': 'what', 'start': 368684, 'end': 368898, 'confidence': 0.99983, 'speaker': None}, {'text': 'websites', 'start': 368924, 'end': 369382, 'confidence': 0.37591, 'speaker': None}, {'text': 'should', 'start': 369406, 'end': 369558, 'confidence': 0.9988, 'speaker': None}, {'text': 'I', 'start': 369584, 'end': 369738, 'confidence': 1.0, 'speaker': None}, {'text': 'build?', 'start': 369764, 'end': 370026, 'confidence': 0.99525, 'speaker': None}, {'text': 'Think', 'start': 370088, 'end': 370350, 'confidence': 0.59888, 'speaker': None}, {'text': 'back', 'start': 370400, 'end': 370686, 'confidence': 0.99856, 'speaker': None}, {'text': 'to', 'start': 370748, 'end': 371082, 'confidence': 0.97, 'speaker': None}, {'text': 'useful,', 'start': 371156, 'end': 371626, 'confidence': 0.51272, 'speaker': None}, {'text': 'but', 'start': 371698, 'end': 371934, 'confidence': 0.99906, 'speaker': None}, {'text': 'not', 'start': 371972, 'end': 372210, 'confidence': 0.99966, 'speaker': None}, {'text': 'too', 'start': 372260, 'end': 372510, 'confidence': 0.98764, 'speaker': None}, {'text': 'useful.', 'start': 372560, 'end': 372838, 'confidence': 0.94448, 'speaker': None}, {'text': 'This', 'start': 372874, 'end': 373038, 'confidence': 0.97246, 'speaker': None}, {'text': \"doesn't\", 'start': 373064, 'end': 373222, 'confidence': 0.9925, 'speaker': None}, {'text': 'need', 'start': 373246, 'end': 373362, 'confidence': 0.99833, 'speaker': None}, {'text': 'to', 'start': 373376, 'end': 373446, 'confidence': 1.0, 'speaker': None}, {'text': 'be', 'start': 373448, 'end': 373542, 'confidence': 0.99816, 'speaker': None}, {'text': 'very', 'start': 373556, 'end': 373770, 'confidence': 0.95168, 'speaker': None}, {'text': 'complicated.', 'start': 373820, 'end': 374314, 'confidence': 0.99989, 'speaker': None}, {'text': 'In', 'start': 374362, 'end': 374538, 'confidence': 0.99251, 'speaker': None}, {'text': 'fact,', 'start': 374564, 'end': 374862, 'confidence': 0.99998, 'speaker': None}, {'text': 'it', 'start': 374936, 'end': 375138, 'confidence': 1.0, 'speaker': None}, {'text': 'really', 'start': 375164, 'end': 375354, 'confidence': 0.99871, 'speaker': None}, {'text': \"shouldn't\", 'start': 375392, 'end': 375658, 'confidence': 0.92344, 'speaker': None}, {'text': 'be', 'start': 375694, 'end': 375822, 'confidence': 0.99958, 'speaker': None}, {'text': 'complicated', 'start': 375836, 'end': 376330, 'confidence': 0.6315, 'speaker': None}, {'text': 'at', 'start': 376390, 'end': 376542, 'confidence': 1.0, 'speaker': None}, {'text': 'all.', 'start': 376556, 'end': 376734, 'confidence': 0.99984, 'speaker': None}, {'text': \"There's\", 'start': 376772, 'end': 377002, 'confidence': 0.94247, 'speaker': None}, {'text': 'going', 'start': 377026, 'end': 377106, 'confidence': 0.97218, 'speaker': None}, {'text': 'to', 'start': 377108, 'end': 377166, 'confidence': 0.99, 'speaker': None}, {'text': 'be', 'start': 377168, 'end': 377262, 'confidence': 0.99814, 'speaker': None}, {'text': 'a', 'start': 377276, 'end': 377382, 'confidence': 0.99, 'speaker': None}, {'text': 'lot', 'start': 377396, 'end': 377502, 'confidence': 0.99996, 'speaker': None}, {'text': 'of', 'start': 377516, 'end': 377658, 'confidence': 1.0, 'speaker': None}, {'text': 'new', 'start': 377684, 'end': 377838, 'confidence': 1.0, 'speaker': None}, {'text': 'ideas', 'start': 377864, 'end': 378142, 'confidence': 0.95385, 'speaker': None}, {'text': 'and', 'start': 378166, 'end': 378282, 'confidence': 1.0, 'speaker': None}, {'text': 'concepts', 'start': 378296, 'end': 378658, 'confidence': 0.98347, 'speaker': None}, {'text': 'thrown', 'start': 378694, 'end': 378958, 'confidence': 0.99764, 'speaker': None}, {'text': 'at', 'start': 378994, 'end': 379158, 'confidence': 1.0, 'speaker': None}, {'text': 'you.', 'start': 379184, 'end': 379482, 'confidence': 0.99813, 'speaker': None}, {'text': 'If', 'start': 379556, 'end': 379722, 'confidence': 0.99923, 'speaker': None}, {'text': 'you', 'start': 379736, 'end': 379842, 'confidence': 0.99925, 'speaker': None}, {'text': 'try', 'start': 379856, 'end': 379998, 'confidence': 0.98785, 'speaker': None}, {'text': 'to', 'start': 380024, 'end': 380142, 'confidence': 1.0, 'speaker': None}, {'text': 'build', 'start': 380156, 'end': 380334, 'confidence': 0.99966, 'speaker': None}, {'text': 'the', 'start': 380372, 'end': 380502, 'confidence': 0.99, 'speaker': None}, {'text': 'next', 'start': 380516, 'end': 380658, 'confidence': 0.99958, 'speaker': None}, {'text': 'Tinder', 'start': 380684, 'end': 380998, 'confidence': 0.88207, 'speaker': None}, {'text': 'or', 'start': 381034, 'end': 381162, 'confidence': 0.99694, 'speaker': None}, {'text': 'the', 'start': 381176, 'end': 381282, 'confidence': 0.98, 'speaker': None}, {'text': 'next', 'start': 381296, 'end': 381510, 'confidence': 0.99962, 'speaker': None}, {'text': 'Instagram,', 'start': 381560, 'end': 382066, 'confidence': 0.99776, 'speaker': None}, {'text': \"you're\", 'start': 382138, 'end': 382306, 'confidence': 0.92602, 'speaker': None}, {'text': 'going', 'start': 382318, 'end': 382386, 'confidence': 0.99208, 'speaker': None}, {'text': 'to', 'start': 382388, 'end': 382482, 'confidence': 1.0, 'speaker': None}, {'text': 'end', 'start': 382496, 'end': 382602, 'confidence': 0.99998, 'speaker': None}, {'text': 'up', 'start': 382616, 'end': 382722, 'confidence': 0.99731, 'speaker': None}, {'text': 'with', 'start': 382736, 'end': 382914, 'confidence': 0.99952, 'speaker': None}, {'text': 'no', 'start': 382952, 'end': 383154, 'confidence': 0.99933, 'speaker': None}, {'text': 'product,', 'start': 383192, 'end': 383610, 'confidence': 0.25541, 'speaker': None}, {'text': 'no', 'start': 383720, 'end': 383958, 'confidence': 0.9986, 'speaker': None}, {'text': 'learnings,', 'start': 383984, 'end': 384382, 'confidence': 0.96778, 'speaker': None}, {'text': 'and', 'start': 384406, 'end': 384558, 'confidence': 1.0, 'speaker': None}, {'text': 'no', 'start': 384584, 'end': 384774, 'confidence': 0.99857, 'speaker': None}, {'text': 'motivation.', 'start': 384812, 'end': 385306, 'confidence': 0.96511, 'speaker': None}, {'text': 'Now,', 'start': 385378, 'end': 385578, 'confidence': 0.86479, 'speaker': None}, {'text': 'before', 'start': 385604, 'end': 385794, 'confidence': 0.99983, 'speaker': None}, {'text': 'I', 'start': 385832, 'end': 385962, 'confidence': 1.0, 'speaker': None}, {'text': 'give', 'start': 385976, 'end': 386226, 'confidence': 0.99421, 'speaker': None}, {'text': 'some', 'start': 386288, 'end': 386478, 'confidence': 0.99765, 'speaker': None}, {'text': 'concrete', 'start': 386504, 'end': 386902, 'confidence': 1.0, 'speaker': None}, {'text': 'examples,', 'start': 386926, 'end': 387322, 'confidence': 0.99749, 'speaker': None}, {'text': 'and', 'start': 387346, 'end': 387462, 'confidence': 0.97, 'speaker': None}, {'text': 'I', 'start': 387476, 'end': 387582, 'confidence': 0.99, 'speaker': None}, {'text': 'will,', 'start': 387596, 'end': 387810, 'confidence': 0.99868, 'speaker': None}, {'text': \"let's\", 'start': 387860, 'end': 388102, 'confidence': 0.96163, 'speaker': None}, {'text': 'talk', 'start': 388126, 'end': 388278, 'confidence': 0.99978, 'speaker': None}, {'text': 'about', 'start': 388304, 'end': 388458, 'confidence': 0.99952, 'speaker': None}, {'text': 'what', 'start': 388484, 'end': 388674, 'confidence': 0.99939, 'speaker': None}, {'text': 'makes', 'start': 388712, 'end': 388950, 'confidence': 0.99919, 'speaker': None}, {'text': 'projects', 'start': 389000, 'end': 389458, 'confidence': 0.59391, 'speaker': None}, {'text': 'good', 'start': 389494, 'end': 389694, 'confidence': 0.99702, 'speaker': None}, {'text': 'in', 'start': 389732, 'end': 389862, 'confidence': 0.99342, 'speaker': None}, {'text': 'an', 'start': 389876, 'end': 390054, 'confidence': 0.99117, 'speaker': None}, {'text': 'abstract', 'start': 390092, 'end': 390526, 'confidence': 0.77974, 'speaker': None}, {'text': 'sense.', 'start': 390598, 'end': 390942, 'confidence': 0.98699, 'speaker': None}, {'text': \"It's\", 'start': 391016, 'end': 391318, 'confidence': 0.68187, 'speaker': None}, {'text': 'always', 'start': 391354, 'end': 391590, 'confidence': 0.99989, 'speaker': None}, {'text': 'best', 'start': 391640, 'end': 391818, 'confidence': 0.99949, 'speaker': None}, {'text': 'to', 'start': 391844, 'end': 391998, 'confidence': 0.82, 'speaker': None}, {'text': 'create', 'start': 392024, 'end': 392286, 'confidence': 0.99983, 'speaker': None}, {'text': 'things', 'start': 392348, 'end': 392538, 'confidence': 0.99976, 'speaker': None}, {'text': 'that', 'start': 392564, 'end': 392682, 'confidence': 0.99631, 'speaker': None}, {'text': 'you', 'start': 392696, 'end': 392874, 'confidence': 0.97096, 'speaker': None}, {'text': 'actually', 'start': 392912, 'end': 393258, 'confidence': 0.99792, 'speaker': None}, {'text': 'find', 'start': 393344, 'end': 393702, 'confidence': 0.99981, 'speaker': None}, {'text': 'useful.', 'start': 393776, 'end': 394210, 'confidence': 0.68138, 'speaker': None}, {'text': \"I'll\", 'start': 394270, 'end': 394462, 'confidence': 0.95844, 'speaker': None}, {'text': 'give', 'start': 394486, 'end': 394602, 'confidence': 0.99991, 'speaker': None}, {'text': 'you', 'start': 394616, 'end': 394722, 'confidence': 0.99777, 'speaker': None}, {'text': 'an', 'start': 394736, 'end': 394842, 'confidence': 0.99854, 'speaker': None}, {'text': 'example', 'start': 394856, 'end': 395142, 'confidence': 0.99993, 'speaker': None}, {'text': 'of', 'start': 395216, 'end': 395418, 'confidence': 1.0, 'speaker': None}, {'text': 'one', 'start': 395444, 'end': 395562, 'confidence': 1.0, 'speaker': None}, {'text': 'of', 'start': 395576, 'end': 395646, 'confidence': 1.0, 'speaker': None}, {'text': 'my', 'start': 395648, 'end': 395778, 'confidence': 0.99877, 'speaker': None}, {'text': 'first', 'start': 395804, 'end': 395994, 'confidence': 0.99, 'speaker': None}, {'text': 'I', 'start': 396032, 'end': 396234, 'confidence': 0.01, 'speaker': None}, {'text': 'projects.', 'start': 396272, 'end': 396730, 'confidence': 0.93982, 'speaker': None}, {'text': 'So', 'start': 396790, 'end': 396942, 'confidence': 0.72667, 'speaker': None}, {'text': 'I', 'start': 396956, 'end': 397098, 'confidence': 1.0, 'speaker': None}, {'text': 'created', 'start': 397124, 'end': 397438, 'confidence': 0.97601, 'speaker': None}, {'text': 'this', 'start': 397474, 'end': 397602, 'confidence': 0.98074, 'speaker': None}, {'text': 'thing', 'start': 397616, 'end': 397758, 'confidence': 0.99665, 'speaker': None}, {'text': 'called', 'start': 397784, 'end': 397938, 'confidence': 0.99954, 'speaker': None}, {'text': 'spotify', 'start': 397964, 'end': 398374, 'confidence': 0.99762, 'speaker': None}, {'text': 'to', 'start': 398422, 'end': 398598, 'confidence': 0.99, 'speaker': None}, {'text': 'YouTube.', 'start': 398624, 'end': 398938, 'confidence': 0.99892, 'speaker': None}, {'text': 'MP3.', 'start': 398974, 'end': 399618, 'confidence': 0.91, 'speaker': None}, {'text': 'In', 'start': 399704, 'end': 399918, 'confidence': 0.92695, 'speaker': None}, {'text': 'university', 'start': 399944, 'end': 400594, 'confidence': 0.99199, 'speaker': None}, {'text': 'I', 'start': 400702, 'end': 400938, 'confidence': 1.0, 'speaker': None}, {'text': 'had', 'start': 400964, 'end': 401118, 'confidence': 0.99696, 'speaker': None}, {'text': 'a', 'start': 401144, 'end': 401262, 'confidence': 1.0, 'speaker': None}, {'text': 'trial', 'start': 401276, 'end': 401518, 'confidence': 0.99869, 'speaker': None}, {'text': 'of', 'start': 401554, 'end': 401682, 'confidence': 1.0, 'speaker': None}, {'text': 'Spotify', 'start': 401696, 'end': 402130, 'confidence': 0.60269, 'speaker': None}, {'text': 'and', 'start': 402190, 'end': 402414, 'confidence': 0.9, 'speaker': None}, {'text': 'when', 'start': 402452, 'end': 402582, 'confidence': 0.99875, 'speaker': None}, {'text': 'it', 'start': 402596, 'end': 402702, 'confidence': 0.99, 'speaker': None}, {'text': 'ran', 'start': 402716, 'end': 402958, 'confidence': 0.69114, 'speaker': None}, {'text': 'out,', 'start': 402994, 'end': 403194, 'confidence': 0.99974, 'speaker': None}, {'text': 'I', 'start': 403232, 'end': 403362, 'confidence': 0.97, 'speaker': None}, {'text': 'was', 'start': 403376, 'end': 403590, 'confidence': 0.61271, 'speaker': None}, {'text': 'too', 'start': 403640, 'end': 403998, 'confidence': 0.9981, 'speaker': None}, {'text': 'cheap', 'start': 404084, 'end': 404434, 'confidence': 0.99919, 'speaker': None}, {'text': 'to', 'start': 404482, 'end': 404658, 'confidence': 1.0, 'speaker': None}, {'text': 'buy', 'start': 404684, 'end': 404910, 'confidence': 0.99952, 'speaker': None}, {'text': 'Spotify.', 'start': 404960, 'end': 405526, 'confidence': 0.9929, 'speaker': None}, {'text': 'I', 'start': 405598, 'end': 405834, 'confidence': 0.91, 'speaker': None}, {'text': \"didn't\", 'start': 405872, 'end': 406042, 'confidence': 0.98293, 'speaker': None}, {'text': 'have', 'start': 406066, 'end': 406218, 'confidence': 0.99953, 'speaker': None}, {'text': 'any', 'start': 406244, 'end': 406398, 'confidence': 0.99952, 'speaker': None}, {'text': 'money,', 'start': 406424, 'end': 406794, 'confidence': 0.99992, 'speaker': None}, {'text': 'but', 'start': 406892, 'end': 407190, 'confidence': 0.97488, 'speaker': None}, {'text': 'I', 'start': 407240, 'end': 407418, 'confidence': 0.68, 'speaker': None}, {'text': 'had', 'start': 407444, 'end': 407634, 'confidence': 0.98691, 'speaker': None}, {'text': '400', 'start': 407672, 'end': 408090, 'confidence': 0.77, 'speaker': None}, {'text': 'plus', 'start': 408140, 'end': 408354, 'confidence': 0.99871, 'speaker': None}, {'text': 'songs', 'start': 408392, 'end': 408646, 'confidence': 0.9913, 'speaker': None}, {'text': 'in', 'start': 408658, 'end': 408762, 'confidence': 0.96793, 'speaker': None}, {'text': 'my', 'start': 408776, 'end': 408918, 'confidence': 0.99948, 'speaker': None}, {'text': 'playlist.', 'start': 408944, 'end': 409426, 'confidence': 0.99541, 'speaker': None}, {'text': 'I', 'start': 409498, 'end': 409662, 'confidence': 0.99, 'speaker': None}, {'text': \"didn't\", 'start': 409676, 'end': 409846, 'confidence': 0.97462, 'speaker': None}, {'text': 'want', 'start': 409858, 'end': 409962, 'confidence': 0.99946, 'speaker': None}, {'text': 'to', 'start': 409976, 'end': 410082, 'confidence': 1.0, 'speaker': None}, {'text': 'lose', 'start': 410096, 'end': 410278, 'confidence': 0.99845, 'speaker': None}, {'text': 'all', 'start': 410314, 'end': 410478, 'confidence': 0.99827, 'speaker': None}, {'text': 'that.', 'start': 410504, 'end': 410694, 'confidence': 0.99941, 'speaker': None}, {'text': 'So', 'start': 410732, 'end': 410826, 'confidence': 0.79458, 'speaker': None}, {'text': 'I', 'start': 410828, 'end': 410958, 'confidence': 0.58, 'speaker': None}, {'text': 'created', 'start': 410984, 'end': 411262, 'confidence': 0.99939, 'speaker': None}, {'text': 'a', 'start': 411286, 'end': 411366, 'confidence': 1.0, 'speaker': None}, {'text': 'Python', 'start': 411368, 'end': 411718, 'confidence': 0.87206, 'speaker': None}, {'text': 'program', 'start': 411754, 'end': 412026, 'confidence': 0.99995, 'speaker': None}, {'text': 'that', 'start': 412088, 'end': 412278, 'confidence': 0.99868, 'speaker': None}, {'text': 'uses', 'start': 412304, 'end': 412618, 'confidence': 0.99125, 'speaker': None}, {'text': 'the', 'start': 412654, 'end': 412782, 'confidence': 0.99, 'speaker': None}, {'text': 'Spotify', 'start': 412796, 'end': 413194, 'confidence': 0.99888, 'speaker': None}, {'text': 'API', 'start': 413242, 'end': 413638, 'confidence': 0.69268, 'speaker': None}, {'text': 'to', 'start': 413674, 'end': 413802, 'confidence': 1.0, 'speaker': None}, {'text': 'get', 'start': 413816, 'end': 413958, 'confidence': 0.99987, 'speaker': None}, {'text': 'those', 'start': 413984, 'end': 414174, 'confidence': 0.99927, 'speaker': None}, {'text': 'songs', 'start': 414212, 'end': 414562, 'confidence': 0.65816, 'speaker': None}, {'text': 'and', 'start': 414586, 'end': 414738, 'confidence': 0.96, 'speaker': None}, {'text': 'then', 'start': 414764, 'end': 414918, 'confidence': 0.95561, 'speaker': None}, {'text': \"YouTube's\", 'start': 414944, 'end': 415342, 'confidence': 0.9284, 'speaker': None}, {'text': 'API', 'start': 415366, 'end': 415678, 'confidence': 0.95931, 'speaker': None}, {'text': 'to', 'start': 415714, 'end': 415878, 'confidence': 1.0, 'speaker': None}, {'text': 'download', 'start': 415904, 'end': 416218, 'confidence': 0.99992, 'speaker': None}, {'text': 'the', 'start': 416254, 'end': 416382, 'confidence': 1.0, 'speaker': None}, {'text': 'MP3', 'start': 416396, 'end': 416910, 'confidence': 0.93, 'speaker': None}, {'text': 'version.', 'start': 416960, 'end': 417550, 'confidence': 0.99158, 'speaker': None}, {'text': 'Now,', 'start': 417670, 'end': 417882, 'confidence': 0.99082, 'speaker': None}, {'text': 'I', 'start': 417896, 'end': 418002, 'confidence': 0.52, 'speaker': None}, {'text': 'had', 'start': 418016, 'end': 418158, 'confidence': 0.94357, 'speaker': None}, {'text': 'all', 'start': 418184, 'end': 418266, 'confidence': 0.98948, 'speaker': None}, {'text': 'the', 'start': 418268, 'end': 418362, 'confidence': 0.63, 'speaker': None}, {'text': 'same', 'start': 418376, 'end': 418554, 'confidence': 0.99935, 'speaker': None}, {'text': 'music,', 'start': 418592, 'end': 419082, 'confidence': 0.99985, 'speaker': None}, {'text': 'but', 'start': 419216, 'end': 419550, 'confidence': 0.9933, 'speaker': None}, {'text': 'for', 'start': 419600, 'end': 419814, 'confidence': 0.99976, 'speaker': None}, {'text': 'free.', 'start': 419852, 'end': 420234, 'confidence': 0.99996, 'speaker': None}, {'text': 'This', 'start': 420332, 'end': 420594, 'confidence': 0.99542, 'speaker': None}, {'text': 'project', 'start': 420632, 'end': 420906, 'confidence': 0.99923, 'speaker': None}, {'text': 'was', 'start': 420968, 'end': 421122, 'confidence': 0.99862, 'speaker': None}, {'text': 'one', 'start': 421136, 'end': 421242, 'confidence': 1.0, 'speaker': None}, {'text': 'of', 'start': 421256, 'end': 421326, 'confidence': 1.0, 'speaker': None}, {'text': 'the', 'start': 421328, 'end': 421422, 'confidence': 0.95, 'speaker': None}, {'text': 'few', 'start': 421436, 'end': 421614, 'confidence': 0.99845, 'speaker': None}, {'text': 'that', 'start': 421652, 'end': 421782, 'confidence': 0.98217, 'speaker': None}, {'text': 'I', 'start': 421796, 'end': 421974, 'confidence': 0.75, 'speaker': None}, {'text': 'actually', 'start': 422012, 'end': 422358, 'confidence': 0.99446, 'speaker': None}, {'text': 'finished,', 'start': 422444, 'end': 422950, 'confidence': 0.99938, 'speaker': None}, {'text': 'and', 'start': 423010, 'end': 423162, 'confidence': 0.96, 'speaker': None}, {'text': \"it's\", 'start': 423176, 'end': 423382, 'confidence': 0.60868, 'speaker': None}, {'text': 'one', 'start': 423406, 'end': 423522, 'confidence': 1.0, 'speaker': None}, {'text': 'of', 'start': 423536, 'end': 423606, 'confidence': 1.0, 'speaker': None}, {'text': 'the', 'start': 423608, 'end': 423702, 'confidence': 0.99, 'speaker': None}, {'text': 'few', 'start': 423716, 'end': 423894, 'confidence': 0.99966, 'speaker': None}, {'text': 'employers', 'start': 423932, 'end': 424354, 'confidence': 0.93041, 'speaker': None}, {'text': 'loved', 'start': 424402, 'end': 424678, 'confidence': 0.72949, 'speaker': None}, {'text': 'asking', 'start': 424714, 'end': 424950, 'confidence': 0.99983, 'speaker': None}, {'text': 'about.', 'start': 425000, 'end': 425322, 'confidence': 0.9973, 'speaker': None}, {'text': 'Why?', 'start': 425396, 'end': 425742, 'confidence': 0.99574, 'speaker': None}, {'text': 'Well,', 'start': 425816, 'end': 426054, 'confidence': 0.89865, 'speaker': None}, {'text': 'one,', 'start': 426092, 'end': 426294, 'confidence': 1.0, 'speaker': None}, {'text': 'because', 'start': 426332, 'end': 426534, 'confidence': 0.99885, 'speaker': None}, {'text': \"it's\", 'start': 426572, 'end': 426742, 'confidence': 0.96329, 'speaker': None}, {'text': 'unique,', 'start': 426766, 'end': 427114, 'confidence': 0.99997, 'speaker': None}, {'text': 'but', 'start': 427162, 'end': 427374, 'confidence': 0.99253, 'speaker': None}, {'text': 'two,', 'start': 427412, 'end': 427614, 'confidence': 0.98, 'speaker': None}, {'text': 'because', 'start': 427652, 'end': 427926, 'confidence': 0.97537, 'speaker': None}, {'text': 'I', 'start': 427988, 'end': 428178, 'confidence': 1.0, 'speaker': None}, {'text': 'actually', 'start': 428204, 'end': 428502, 'confidence': 0.96715, 'speaker': None}, {'text': 'used', 'start': 428576, 'end': 428850, 'confidence': 0.98868, 'speaker': None}, {'text': 'it.', 'start': 428900, 'end': 429042, 'confidence': 1.0, 'speaker': None}, {'text': 'I', 'start': 429056, 'end': 429198, 'confidence': 0.99, 'speaker': None}, {'text': 'built', 'start': 429224, 'end': 429378, 'confidence': 0.99827, 'speaker': None}, {'text': 'it', 'start': 429404, 'end': 429522, 'confidence': 1.0, 'speaker': None}, {'text': 'for', 'start': 429536, 'end': 429642, 'confidence': 0.99706, 'speaker': None}, {'text': 'myself.', 'start': 429656, 'end': 430158, 'confidence': 0.96704, 'speaker': None}, {'text': 'Other', 'start': 430304, 'end': 430650, 'confidence': 0.9917, 'speaker': None}, {'text': 'projects', 'start': 430700, 'end': 431158, 'confidence': 0.99067, 'speaker': None}, {'text': 'I', 'start': 431194, 'end': 431322, 'confidence': 1.0, 'speaker': None}, {'text': 'would', 'start': 431336, 'end': 431478, 'confidence': 0.9988, 'speaker': None}, {'text': 'start', 'start': 431504, 'end': 431730, 'confidence': 0.99959, 'speaker': None}, {'text': 'and', 'start': 431780, 'end': 431922, 'confidence': 0.99, 'speaker': None}, {'text': 'then', 'start': 431936, 'end': 432042, 'confidence': 0.98728, 'speaker': None}, {'text': 'I', 'start': 432056, 'end': 432162, 'confidence': 0.99, 'speaker': None}, {'text': 'would', 'start': 432176, 'end': 432282, 'confidence': 0.9967, 'speaker': None}, {'text': 'lose', 'start': 432296, 'end': 432538, 'confidence': 0.80479, 'speaker': None}, {'text': 'motivation', 'start': 432574, 'end': 433030, 'confidence': 0.99872, 'speaker': None}, {'text': 'and', 'start': 433090, 'end': 433278, 'confidence': 0.99, 'speaker': None}, {'text': 'I', 'start': 433304, 'end': 433422, 'confidence': 0.99, 'speaker': None}, {'text': 'would', 'start': 433436, 'end': 433542, 'confidence': 0.99507, 'speaker': None}, {'text': 'never', 'start': 433556, 'end': 433770, 'confidence': 0.9915, 'speaker': None}, {'text': 'finish.', 'start': 433820, 'end': 434178, 'confidence': 0.99995, 'speaker': None}, {'text': 'Think', 'start': 434264, 'end': 434478, 'confidence': 0.99716, 'speaker': None}, {'text': 'a', 'start': 434504, 'end': 434586, 'confidence': 1.0, 'speaker': None}, {'text': 'little', 'start': 434588, 'end': 434754, 'confidence': 0.99479, 'speaker': None}, {'text': 'about', 'start': 434792, 'end': 435030, 'confidence': 0.94357, 'speaker': None}, {'text': 'some', 'start': 435080, 'end': 435330, 'confidence': 0.98353, 'speaker': None}, {'text': 'problem', 'start': 435380, 'end': 435630, 'confidence': 0.98376, 'speaker': None}, {'text': 'that', 'start': 435680, 'end': 435822, 'confidence': 0.9989, 'speaker': None}, {'text': 'you', 'start': 435836, 'end': 435942, 'confidence': 0.99954, 'speaker': None}, {'text': 'have', 'start': 435956, 'end': 436098, 'confidence': 0.99689, 'speaker': None}, {'text': 'in', 'start': 436124, 'end': 436242, 'confidence': 0.99922, 'speaker': None}, {'text': 'your', 'start': 436256, 'end': 436362, 'confidence': 0.99947, 'speaker': None}, {'text': 'life', 'start': 436376, 'end': 436554, 'confidence': 0.99977, 'speaker': None}, {'text': 'that', 'start': 436592, 'end': 436866, 'confidence': 0.99485, 'speaker': None}, {'text': 'would', 'start': 436928, 'end': 437154, 'confidence': 0.99769, 'speaker': None}, {'text': 'be', 'start': 437192, 'end': 437358, 'confidence': 0.99929, 'speaker': None}, {'text': 'nice', 'start': 437384, 'end': 437538, 'confidence': 0.99999, 'speaker': None}, {'text': 'to', 'start': 437564, 'end': 437682, 'confidence': 1.0, 'speaker': None}, {'text': 'know.', 'start': 437696, 'end': 437874, 'confidence': 0.81054, 'speaker': None}, {'text': 'Like', 'start': 437912, 'end': 438222, 'confidence': 0.60771, 'speaker': None}, {'text': 'maybe', 'start': 438296, 'end': 438570, 'confidence': 0.99588, 'speaker': None}, {'text': \"it's\", 'start': 438620, 'end': 439162, 'confidence': 0.81227, 'speaker': None}, {'text': 'just', 'start': 439306, 'end': 439578, 'confidence': 0.99322, 'speaker': None}, {'text': 'knowing', 'start': 439604, 'end': 439882, 'confidence': 0.99795, 'speaker': None}, {'text': 'when', 'start': 439906, 'end': 440022, 'confidence': 0.99917, 'speaker': None}, {'text': 'your', 'start': 440036, 'end': 440178, 'confidence': 0.97934, 'speaker': None}, {'text': 'favorite', 'start': 440204, 'end': 440518, 'confidence': 0.99756, 'speaker': None}, {'text': 'beer', 'start': 440554, 'end': 440758, 'confidence': 0.97924, 'speaker': None}, {'text': 'is', 'start': 440794, 'end': 440922, 'confidence': 0.99116, 'speaker': None}, {'text': 'on', 'start': 440936, 'end': 441078, 'confidence': 0.59406, 'speaker': None}, {'text': 'sale,', 'start': 441104, 'end': 441526, 'confidence': 0.60008, 'speaker': None}, {'text': 'or', 'start': 441598, 'end': 441942, 'confidence': 0.98828, 'speaker': None}, {'text': 'maybe', 'start': 442016, 'end': 442290, 'confidence': 0.99856, 'speaker': None}, {'text': \"it's\", 'start': 442340, 'end': 442618, 'confidence': 0.9791, 'speaker': None}, {'text': 'an', 'start': 442654, 'end': 442782, 'confidence': 0.99641, 'speaker': None}, {'text': 'online', 'start': 442796, 'end': 443046, 'confidence': 1.0, 'speaker': None}, {'text': 'clip', 'start': 443108, 'end': 443398, 'confidence': 0.99606, 'speaker': None}, {'text': 'for', 'start': 443434, 'end': 443562, 'confidence': 0.47928, 'speaker': None}, {'text': 'it.', 'start': 443576, 'end': 443718, 'confidence': 0.86, 'speaker': None}, {'text': 'So', 'start': 443744, 'end': 443862, 'confidence': 0.91764, 'speaker': None}, {'text': 'you', 'start': 443876, 'end': 443946, 'confidence': 0.99795, 'speaker': None}, {'text': \"don't\", 'start': 443948, 'end': 444082, 'confidence': 0.94118, 'speaker': None}, {'text': 'have', 'start': 444106, 'end': 444186, 'confidence': 0.99931, 'speaker': None}, {'text': 'to', 'start': 444188, 'end': 444282, 'confidence': 0.98, 'speaker': None}, {'text': 'keep', 'start': 444296, 'end': 444510, 'confidence': 0.99112, 'speaker': None}, {'text': 'messaging', 'start': 444560, 'end': 444958, 'confidence': 0.7899, 'speaker': None}, {'text': 'yourself', 'start': 444994, 'end': 445302, 'confidence': 0.99926, 'speaker': None}, {'text': 'random', 'start': 445376, 'end': 445738, 'confidence': 0.99814, 'speaker': None}, {'text': 'shit', 'start': 445774, 'end': 446002, 'confidence': 0.95993, 'speaker': None}, {'text': 'on', 'start': 446026, 'end': 446178, 'confidence': 0.99771, 'speaker': None}, {'text': 'Facebook', 'start': 446204, 'end': 446554, 'confidence': 0.63325, 'speaker': None}, {'text': 'Messenger', 'start': 446602, 'end': 446998, 'confidence': 0.9999, 'speaker': None}, {'text': 'all', 'start': 447034, 'end': 447162, 'confidence': 0.99686, 'speaker': None}, {'text': 'the', 'start': 447176, 'end': 447318, 'confidence': 0.79, 'speaker': None}, {'text': 'time.', 'start': 447344, 'end': 447606, 'confidence': 0.99941, 'speaker': None}, {'text': 'It', 'start': 447668, 'end': 447858, 'confidence': 0.83, 'speaker': None}, {'text': \"doesn't\", 'start': 447884, 'end': 448042, 'confidence': 0.99483, 'speaker': None}, {'text': 'have', 'start': 448066, 'end': 448182, 'confidence': 0.99964, 'speaker': None}, {'text': 'to', 'start': 448196, 'end': 448266, 'confidence': 1.0, 'speaker': None}, {'text': 'be', 'start': 448268, 'end': 448362, 'confidence': 0.99822, 'speaker': None}, {'text': 'relevant', 'start': 448376, 'end': 448738, 'confidence': 0.71386, 'speaker': None}, {'text': 'for', 'start': 448774, 'end': 448938, 'confidence': 0.99498, 'speaker': None}, {'text': 'everyone.', 'start': 448964, 'end': 449190, 'confidence': 0.99871, 'speaker': None}, {'text': 'It', 'start': 449240, 'end': 449382, 'confidence': 1.0, 'speaker': None}, {'text': 'really', 'start': 449396, 'end': 449574, 'confidence': 0.99644, 'speaker': None}, {'text': 'just', 'start': 449612, 'end': 449742, 'confidence': 0.95821, 'speaker': None}, {'text': 'has', 'start': 449756, 'end': 449862, 'confidence': 0.99509, 'speaker': None}, {'text': 'to', 'start': 449876, 'end': 449982, 'confidence': 1.0, 'speaker': None}, {'text': 'be', 'start': 449996, 'end': 450138, 'confidence': 0.99653, 'speaker': None}, {'text': 'relevant', 'start': 450164, 'end': 450478, 'confidence': 0.99917, 'speaker': None}, {'text': 'for', 'start': 450514, 'end': 450642, 'confidence': 0.99886, 'speaker': None}, {'text': 'you.', 'start': 450656, 'end': 450942, 'confidence': 0.97734, 'speaker': None}, {'text': 'Now,', 'start': 451016, 'end': 451182, 'confidence': 0.93384, 'speaker': None}, {'text': 'if', 'start': 451196, 'end': 451302, 'confidence': 0.99932, 'speaker': None}, {'text': 'you', 'start': 451316, 'end': 451386, 'confidence': 0.99967, 'speaker': None}, {'text': \"don't\", 'start': 451388, 'end': 451486, 'confidence': 0.98559, 'speaker': None}, {'text': 'have', 'start': 451498, 'end': 451602, 'confidence': 0.89552, 'speaker': None}, {'text': 'an', 'start': 451616, 'end': 451722, 'confidence': 0.99506, 'speaker': None}, {'text': 'idea', 'start': 451736, 'end': 451950, 'confidence': 0.99997, 'speaker': None}, {'text': 'yet,', 'start': 452000, 'end': 452178, 'confidence': 0.97941, 'speaker': None}, {'text': \"don't\", 'start': 452204, 'end': 452398, 'confidence': 0.58344, 'speaker': None}, {'text': 'panic.', 'start': 452434, 'end': 452806, 'confidence': 0.99971, 'speaker': None}, {'text': 'I', 'start': 452878, 'end': 453042, 'confidence': 0.99, 'speaker': None}, {'text': 'have', 'start': 453056, 'end': 453162, 'confidence': 0.99907, 'speaker': None}, {'text': 'a', 'start': 453176, 'end': 453282, 'confidence': 0.99, 'speaker': None}, {'text': 'solution', 'start': 453296, 'end': 453574, 'confidence': 0.99997, 'speaker': None}, {'text': 'for', 'start': 453622, 'end': 453762, 'confidence': 0.99501, 'speaker': None}, {'text': 'that.', 'start': 453776, 'end': 453954, 'confidence': 0.99899, 'speaker': None}, {'text': \"You're\", 'start': 453992, 'end': 454222, 'confidence': 0.59831, 'speaker': None}, {'text': 'allowed', 'start': 454246, 'end': 454522, 'confidence': 0.99777, 'speaker': None}, {'text': 'to', 'start': 454546, 'end': 454734, 'confidence': 1.0, 'speaker': None}, {'text': 'follow', 'start': 454772, 'end': 455046, 'confidence': 0.9999, 'speaker': None}, {'text': 'a', 'start': 455108, 'end': 455262, 'confidence': 0.99, 'speaker': None}, {'text': 'tutorial', 'start': 455276, 'end': 455806, 'confidence': 0.99738, 'speaker': None}, {'text': 'on', 'start': 455878, 'end': 456150, 'confidence': 0.99827, 'speaker': None}, {'text': 'YouTube', 'start': 456200, 'end': 456574, 'confidence': 0.69428, 'speaker': None}, {'text': 'or', 'start': 456622, 'end': 456762, 'confidence': 0.82198, 'speaker': None}, {'text': 'Udemy', 'start': 456776, 'end': 457222, 'confidence': 0.96074, 'speaker': None}, {'text': 'or', 'start': 457246, 'end': 457434, 'confidence': 0.95054, 'speaker': None}, {'text': 'any', 'start': 457472, 'end': 457638, 'confidence': 0.95832, 'speaker': None}, {'text': 'of', 'start': 457664, 'end': 457782, 'confidence': 1.0, 'speaker': None}, {'text': 'those', 'start': 457796, 'end': 457938, 'confidence': 0.99935, 'speaker': None}, {'text': 'sites,', 'start': 457964, 'end': 458590, 'confidence': 0.85691, 'speaker': None}, {'text': 'but', 'start': 458710, 'end': 459138, 'confidence': 0.99305, 'speaker': None}, {'text': \"you're\", 'start': 459224, 'end': 459502, 'confidence': 0.8582, 'speaker': None}, {'text': 'not', 'start': 459526, 'end': 459678, 'confidence': 0.9998, 'speaker': None}, {'text': 'allowed', 'start': 459704, 'end': 459982, 'confidence': 0.9984, 'speaker': None}, {'text': 'to', 'start': 460006, 'end': 460158, 'confidence': 1.0, 'speaker': None}, {'text': 'build', 'start': 460184, 'end': 460374, 'confidence': 0.99921, 'speaker': None}, {'text': 'the', 'start': 460412, 'end': 460578, 'confidence': 1.0, 'speaker': None}, {'text': 'same', 'start': 460604, 'end': 460830, 'confidence': 0.99904, 'speaker': None}, {'text': 'website', 'start': 460880, 'end': 461238, 'confidence': 1.0, 'speaker': None}, {'text': 'as', 'start': 461324, 'end': 461538, 'confidence': 0.99402, 'speaker': None}, {'text': 'them.', 'start': 461564, 'end': 461826, 'confidence': 0.96325, 'speaker': None}, {'text': 'For', 'start': 461888, 'end': 462078, 'confidence': 0.99942, 'speaker': None}, {'text': 'example,', 'start': 462104, 'end': 462366, 'confidence': 0.9999, 'speaker': None}, {'text': 'if', 'start': 462428, 'end': 462582, 'confidence': 0.99869, 'speaker': None}, {'text': \"you're\", 'start': 462596, 'end': 462778, 'confidence': 0.89385, 'speaker': None}, {'text': 'following', 'start': 462814, 'end': 463138, 'confidence': 0.99632, 'speaker': None}, {'text': 'a', 'start': 463174, 'end': 463302, 'confidence': 0.98, 'speaker': None}, {'text': 'tutorial', 'start': 463316, 'end': 463750, 'confidence': 0.62997, 'speaker': None}, {'text': 'on', 'start': 463810, 'end': 463998, 'confidence': 0.99768, 'speaker': None}, {'text': 'how', 'start': 464024, 'end': 464178, 'confidence': 0.99979, 'speaker': None}, {'text': 'to', 'start': 464204, 'end': 464322, 'confidence': 1.0, 'speaker': None}, {'text': 'build', 'start': 464336, 'end': 464550, 'confidence': 0.99886, 'speaker': None}, {'text': 'a', 'start': 464600, 'end': 464742, 'confidence': 1.0, 'speaker': None}, {'text': 'weather', 'start': 464756, 'end': 465010, 'confidence': 0.99488, 'speaker': None}, {'text': 'website,', 'start': 465070, 'end': 465582, 'confidence': 1.0, 'speaker': None}, {'text': 'instead', 'start': 465716, 'end': 466194, 'confidence': 0.99932, 'speaker': None}, {'text': 'try', 'start': 466292, 'end': 466590, 'confidence': 0.99219, 'speaker': None}, {'text': 'building', 'start': 466640, 'end': 466890, 'confidence': 0.9987, 'speaker': None}, {'text': 'something', 'start': 466940, 'end': 467226, 'confidence': 0.99971, 'speaker': None}, {'text': 'like', 'start': 467288, 'end': 467478, 'confidence': 0.99879, 'speaker': None}, {'text': 'a', 'start': 467504, 'end': 467622, 'confidence': 0.99, 'speaker': None}, {'text': 'currency', 'start': 467636, 'end': 467938, 'confidence': 0.99919, 'speaker': None}, {'text': 'converter.', 'start': 467974, 'end': 468538, 'confidence': 0.62171, 'speaker': None}, {'text': \"That's\", 'start': 468634, 'end': 468922, 'confidence': 0.98375, 'speaker': None}, {'text': 'a', 'start': 468946, 'end': 469026, 'confidence': 0.99, 'speaker': None}, {'text': 'real', 'start': 469028, 'end': 469194, 'confidence': 1.0, 'speaker': None}, {'text': 'example', 'start': 469232, 'end': 469506, 'confidence': 0.99993, 'speaker': None}, {'text': 'that', 'start': 469568, 'end': 469722, 'confidence': 0.97646, 'speaker': None}, {'text': 'I', 'start': 469736, 'end': 469842, 'confidence': 1.0, 'speaker': None}, {'text': 'did.', 'start': 469856, 'end': 470178, 'confidence': 0.97412, 'speaker': None}, {'text': \"What's\", 'start': 470264, 'end': 470542, 'confidence': 0.97173, 'speaker': None}, {'text': 'great', 'start': 470566, 'end': 470718, 'confidence': 0.99975, 'speaker': None}, {'text': 'about', 'start': 470744, 'end': 470898, 'confidence': 0.99985, 'speaker': None}, {'text': 'that', 'start': 470924, 'end': 471114, 'confidence': 0.99695, 'speaker': None}, {'text': 'is', 'start': 471152, 'end': 471318, 'confidence': 0.98441, 'speaker': None}, {'text': 'most', 'start': 471344, 'end': 471498, 'confidence': 0.9998, 'speaker': None}, {'text': 'of', 'start': 471524, 'end': 471642, 'confidence': 0.99, 'speaker': None}, {'text': 'the', 'start': 471656, 'end': 471798, 'confidence': 0.99, 'speaker': None}, {'text': 'code', 'start': 471824, 'end': 472014, 'confidence': 0.99958, 'speaker': None}, {'text': 'and', 'start': 472052, 'end': 472182, 'confidence': 0.98, 'speaker': None}, {'text': 'the', 'start': 472196, 'end': 472302, 'confidence': 0.98, 'speaker': None}, {'text': 'concepts', 'start': 472316, 'end': 472678, 'confidence': 0.57333, 'speaker': None}, {'text': 'are', 'start': 472714, 'end': 472842, 'confidence': 0.98567, 'speaker': None}, {'text': 'going', 'start': 472856, 'end': 472926, 'confidence': 0.99764, 'speaker': None}, {'text': 'to', 'start': 472928, 'end': 472986, 'confidence': 1.0, 'speaker': None}, {'text': 'be', 'start': 472988, 'end': 473082, 'confidence': 0.99692, 'speaker': None}, {'text': 'the', 'start': 473096, 'end': 473202, 'confidence': 0.97, 'speaker': None}, {'text': 'exact', 'start': 473216, 'end': 473502, 'confidence': 0.99917, 'speaker': None}, {'text': 'same,', 'start': 473576, 'end': 473922, 'confidence': 0.99997, 'speaker': None}, {'text': 'but', 'start': 473996, 'end': 474450, 'confidence': 0.98855, 'speaker': None}, {'text': 'it', 'start': 474560, 'end': 474798, 'confidence': 1.0, 'speaker': None}, {'text': 'restricts', 'start': 474824, 'end': 475258, 'confidence': 0.99235, 'speaker': None}, {'text': 'you', 'start': 475294, 'end': 475422, 'confidence': 0.99833, 'speaker': None}, {'text': 'from', 'start': 475436, 'end': 475578, 'confidence': 0.99751, 'speaker': None}, {'text': 'being', 'start': 475604, 'end': 475758, 'confidence': 0.99979, 'speaker': None}, {'text': 'able', 'start': 475784, 'end': 475974, 'confidence': 0.87805, 'speaker': None}, {'text': 'to', 'start': 476012, 'end': 476142, 'confidence': 1.0, 'speaker': None}, {'text': 'copy', 'start': 476156, 'end': 476398, 'confidence': 0.8584, 'speaker': None}, {'text': 'and', 'start': 476434, 'end': 476562, 'confidence': 1.0, 'speaker': None}, {'text': 'paste', 'start': 476576, 'end': 476818, 'confidence': 0.50357, 'speaker': None}, {'text': 'the', 'start': 476854, 'end': 476982, 'confidence': 0.99, 'speaker': None}, {'text': 'solution.', 'start': 476996, 'end': 477406, 'confidence': 0.82454, 'speaker': None}, {'text': 'Therefore,', 'start': 477478, 'end': 477886, 'confidence': 0.87742, 'speaker': None}, {'text': 'you', 'start': 477958, 'end': 478122, 'confidence': 0.99972, 'speaker': None}, {'text': 'can', 'start': 478136, 'end': 478278, 'confidence': 0.99861, 'speaker': None}, {'text': 'follow', 'start': 478304, 'end': 478566, 'confidence': 0.78353, 'speaker': None}, {'text': 'the', 'start': 478628, 'end': 478782, 'confidence': 1.0, 'speaker': None}, {'text': 'tutorial,', 'start': 478796, 'end': 479326, 'confidence': 0.97904, 'speaker': None}, {'text': 'but', 'start': 479398, 'end': 479634, 'confidence': 0.99658, 'speaker': None}, {'text': 'you', 'start': 479672, 'end': 479874, 'confidence': 0.99588, 'speaker': None}, {'text': \"can't\", 'start': 479912, 'end': 480214, 'confidence': 0.95774, 'speaker': None}, {'text': 'copy', 'start': 480262, 'end': 480562, 'confidence': 0.99491, 'speaker': None}, {'text': 'it.', 'start': 480586, 'end': 480738, 'confidence': 0.96, 'speaker': None}, {'text': 'Now', 'start': 480764, 'end': 480918, 'confidence': 0.97777, 'speaker': None}, {'text': 'moving', 'start': 480944, 'end': 481134, 'confidence': 0.99971, 'speaker': None}, {'text': 'back', 'start': 481172, 'end': 481302, 'confidence': 0.99982, 'speaker': None}, {'text': 'to', 'start': 481316, 'end': 481458, 'confidence': 1.0, 'speaker': None}, {'text': 'C', 'start': 481484, 'end': 481782, 'confidence': 0.75, 'speaker': None}, {'text': 'plus', 'start': 481856, 'end': 482094, 'confidence': 0.86084, 'speaker': None}, {'text': 'plus', 'start': 482132, 'end': 482334, 'confidence': 0.95474, 'speaker': None}, {'text': 'for', 'start': 482372, 'end': 482502, 'confidence': 0.99446, 'speaker': None}, {'text': 'a', 'start': 482516, 'end': 482586, 'confidence': 1.0, 'speaker': None}, {'text': 'second,', 'start': 482588, 'end': 483006, 'confidence': 1.0, 'speaker': None}, {'text': 'the', 'start': 483128, 'end': 483378, 'confidence': 1.0, 'speaker': None}, {'text': 'best', 'start': 483404, 'end': 483594, 'confidence': 0.9993, 'speaker': None}, {'text': 'and', 'start': 483632, 'end': 483762, 'confidence': 0.97, 'speaker': None}, {'text': 'most', 'start': 483776, 'end': 483954, 'confidence': 0.99914, 'speaker': None}, {'text': 'popular', 'start': 483992, 'end': 484354, 'confidence': 0.99998, 'speaker': None}, {'text': 'languages', 'start': 484402, 'end': 484774, 'confidence': 0.99447, 'speaker': None}, {'text': 'and', 'start': 484822, 'end': 484962, 'confidence': 0.99, 'speaker': None}, {'text': 'frameworks', 'start': 484976, 'end': 485458, 'confidence': 0.94166, 'speaker': None}, {'text': 'are', 'start': 485494, 'end': 485694, 'confidence': 0.9991, 'speaker': None}, {'text': 'always', 'start': 485732, 'end': 486006, 'confidence': 0.99982, 'speaker': None}, {'text': 'going', 'start': 486068, 'end': 486222, 'confidence': 0.99955, 'speaker': None}, {'text': 'to', 'start': 486236, 'end': 486378, 'confidence': 1.0, 'speaker': None}, {'text': 'change.', 'start': 486404, 'end': 486846, 'confidence': 0.9989, 'speaker': None}, {'text': \"They're\", 'start': 486968, 'end': 487366, 'confidence': 0.51663, 'speaker': None}, {'text': 'changing', 'start': 487438, 'end': 487702, 'confidence': 0.51523, 'speaker': None}, {'text': 'as', 'start': 487726, 'end': 487878, 'confidence': 0.99929, 'speaker': None}, {'text': 'we', 'start': 487904, 'end': 488058, 'confidence': 0.99963, 'speaker': None}, {'text': 'speak', 'start': 488084, 'end': 488310, 'confidence': 0.99994, 'speaker': None}, {'text': 'right', 'start': 488360, 'end': 488538, 'confidence': 0.99711, 'speaker': None}, {'text': 'now.', 'start': 488564, 'end': 488934, 'confidence': 0.99975, 'speaker': None}, {'text': \"Don't\", 'start': 489032, 'end': 489298, 'confidence': 0.99308, 'speaker': None}, {'text': 'underestimate', 'start': 489334, 'end': 489862, 'confidence': 0.99897, 'speaker': None}, {'text': 'those', 'start': 489886, 'end': 490074, 'confidence': 0.99398, 'speaker': None}, {'text': 'fundamentals', 'start': 490112, 'end': 490654, 'confidence': 0.70759, 'speaker': None}, {'text': \"you've\", 'start': 490702, 'end': 490942, 'confidence': 0.95531, 'speaker': None}, {'text': 'learned', 'start': 490966, 'end': 491254, 'confidence': 0.62234, 'speaker': None}, {'text': 'in', 'start': 491302, 'end': 491478, 'confidence': 0.98002, 'speaker': None}, {'text': 'C', 'start': 491504, 'end': 491658, 'confidence': 0.99, 'speaker': None}, {'text': 'and', 'start': 491684, 'end': 491838, 'confidence': 0.56, 'speaker': None}, {'text': 'C,', 'start': 491864, 'end': 492414, 'confidence': 0.99, 'speaker': None}, {'text': 'because', 'start': 492572, 'end': 493038, 'confidence': 0.95794, 'speaker': None}, {'text': 'ultimately,', 'start': 493124, 'end': 493702, 'confidence': 0.70893, 'speaker': None}, {'text': 'if', 'start': 493786, 'end': 493962, 'confidence': 0.99886, 'speaker': None}, {'text': 'you', 'start': 493976, 'end': 494118, 'confidence': 0.99886, 'speaker': None}, {'text': 'know', 'start': 494144, 'end': 494298, 'confidence': 0.99965, 'speaker': None}, {'text': 'those', 'start': 494324, 'end': 494514, 'confidence': 0.99953, 'speaker': None}, {'text': 'well,', 'start': 494552, 'end': 495042, 'confidence': 0.9992, 'speaker': None}, {'text': 'most', 'start': 495176, 'end': 495474, 'confidence': 0.95379, 'speaker': None}, {'text': 'other', 'start': 495512, 'end': 495750, 'confidence': 0.97672, 'speaker': None}, {'text': 'languages', 'start': 495800, 'end': 496186, 'confidence': 0.99618, 'speaker': None}, {'text': 'are', 'start': 496258, 'end': 496458, 'confidence': 0.99828, 'speaker': None}, {'text': 'just', 'start': 496484, 'end': 496638, 'confidence': 0.98157, 'speaker': None}, {'text': 'going', 'start': 496664, 'end': 496782, 'confidence': 0.99861, 'speaker': None}, {'text': 'to', 'start': 496796, 'end': 496902, 'confidence': 0.9, 'speaker': None}, {'text': 'be', 'start': 496916, 'end': 497094, 'confidence': 0.99801, 'speaker': None}, {'text': 'some', 'start': 497132, 'end': 497370, 'confidence': 0.99849, 'speaker': None}, {'text': 'subset', 'start': 497420, 'end': 497854, 'confidence': 0.66453, 'speaker': None}, {'text': 'of', 'start': 497902, 'end': 498078, 'confidence': 1.0, 'speaker': None}, {'text': 'those', 'start': 498104, 'end': 498330, 'confidence': 0.99965, 'speaker': None}, {'text': 'languages.', 'start': 498380, 'end': 498910, 'confidence': 0.79261, 'speaker': None}, {'text': 'Also', 'start': 499030, 'end': 499350, 'confidence': 0.99673, 'speaker': None}, {'text': 'know', 'start': 499400, 'end': 499722, 'confidence': 0.85911, 'speaker': None}, {'text': \"you're\", 'start': 499796, 'end': 500002, 'confidence': 0.81969, 'speaker': None}, {'text': 'going', 'start': 500026, 'end': 500106, 'confidence': 0.96375, 'speaker': None}, {'text': 'to', 'start': 500108, 'end': 500238, 'confidence': 0.98, 'speaker': None}, {'text': 'experience', 'start': 500264, 'end': 500598, 'confidence': 0.99969, 'speaker': None}, {'text': 'the', 'start': 500684, 'end': 500898, 'confidence': 0.98, 'speaker': None}, {'text': 'Dunn', 'start': 500924, 'end': 501166, 'confidence': 0.35196, 'speaker': None}, {'text': 'and', 'start': 501178, 'end': 501246, 'confidence': 0.7, 'speaker': None}, {'text': 'Kruger', 'start': 501248, 'end': 501574, 'confidence': 0.41615, 'speaker': None}, {'text': 'effect.', 'start': 501622, 'end': 501978, 'confidence': 0.98891, 'speaker': None}, {'text': 'This', 'start': 502064, 'end': 502278, 'confidence': 0.9974, 'speaker': None}, {'text': 'curve', 'start': 502304, 'end': 502558, 'confidence': 0.99646, 'speaker': None}, {'text': 'shows', 'start': 502594, 'end': 502866, 'confidence': 0.99573, 'speaker': None}, {'text': 'when', 'start': 502928, 'end': 503118, 'confidence': 0.99884, 'speaker': None}, {'text': \"somebody's\", 'start': 503144, 'end': 503482, 'confidence': 0.73965, 'speaker': None}, {'text': 'learning', 'start': 503506, 'end': 503694, 'confidence': 0.99674, 'speaker': None}, {'text': 'a', 'start': 503732, 'end': 503862, 'confidence': 1.0, 'speaker': None}, {'text': 'new', 'start': 503876, 'end': 503982, 'confidence': 1.0, 'speaker': None}, {'text': 'skill', 'start': 503996, 'end': 504454, 'confidence': 0.49356, 'speaker': None}, {'text': 'at', 'start': 504562, 'end': 504726, 'confidence': 1.0, 'speaker': None}, {'text': 'the', 'start': 504728, 'end': 504858, 'confidence': 0.54, 'speaker': None}, {'text': 'beginning.', 'start': 504884, 'end': 505198, 'confidence': 0.99992, 'speaker': None}, {'text': 'They', 'start': 505234, 'end': 505362, 'confidence': 0.99692, 'speaker': None}, {'text': 'tend', 'start': 505376, 'end': 505522, 'confidence': 0.96123, 'speaker': None}, {'text': 'to', 'start': 505546, 'end': 505626, 'confidence': 1.0, 'speaker': None}, {'text': 'be', 'start': 505628, 'end': 505758, 'confidence': 0.91516, 'speaker': None}, {'text': 'overconfident', 'start': 505784, 'end': 506374, 'confidence': 0.59109, 'speaker': None}, {'text': 'in', 'start': 506422, 'end': 506562, 'confidence': 0.99892, 'speaker': None}, {'text': 'their', 'start': 506576, 'end': 506718, 'confidence': 0.99927, 'speaker': None}, {'text': 'abilities.', 'start': 506744, 'end': 507334, 'confidence': 0.58297, 'speaker': None}, {'text': 'When', 'start': 507442, 'end': 507678, 'confidence': 0.99661, 'speaker': None}, {'text': 'they', 'start': 507704, 'end': 507822, 'confidence': 0.99921, 'speaker': None}, {'text': 'start', 'start': 507836, 'end': 507978, 'confidence': 0.99941, 'speaker': None}, {'text': 'to', 'start': 508004, 'end': 508158, 'confidence': 0.99, 'speaker': None}, {'text': 'learn', 'start': 508184, 'end': 508338, 'confidence': 0.99986, 'speaker': None}, {'text': 'more,', 'start': 508364, 'end': 508554, 'confidence': 0.99918, 'speaker': None}, {'text': 'they', 'start': 508592, 'end': 508758, 'confidence': 0.93597, 'speaker': None}, {'text': 'see', 'start': 508784, 'end': 508938, 'confidence': 0.98547, 'speaker': None}, {'text': 'they', 'start': 508964, 'end': 509118, 'confidence': 0.99226, 'speaker': None}, {'text': 'actually', 'start': 509144, 'end': 509334, 'confidence': 0.992, 'speaker': None}, {'text': 'have', 'start': 509372, 'end': 509574, 'confidence': 0.56205, 'speaker': None}, {'text': 'so', 'start': 509612, 'end': 509778, 'confidence': 0.99938, 'speaker': None}, {'text': 'much', 'start': 509804, 'end': 510030, 'confidence': 0.99988, 'speaker': None}, {'text': 'to', 'start': 510080, 'end': 510222, 'confidence': 0.78, 'speaker': None}, {'text': 'learn,', 'start': 510236, 'end': 510522, 'confidence': 0.99941, 'speaker': None}, {'text': 'they', 'start': 510596, 'end': 510834, 'confidence': 0.99599, 'speaker': None}, {'text': 'quickly', 'start': 510872, 'end': 511110, 'confidence': 0.99961, 'speaker': None}, {'text': 'lose', 'start': 511160, 'end': 511474, 'confidence': 0.60428, 'speaker': None}, {'text': 'all', 'start': 511522, 'end': 511698, 'confidence': 0.99959, 'speaker': None}, {'text': 'their', 'start': 511724, 'end': 511914, 'confidence': 0.99527, 'speaker': None}, {'text': 'confidence', 'start': 511952, 'end': 512518, 'confidence': 0.89232, 'speaker': None}, {'text': 'and', 'start': 512614, 'end': 512802, 'confidence': 0.95, 'speaker': None}, {'text': 'it', 'start': 512816, 'end': 512958, 'confidence': 0.66, 'speaker': None}, {'text': 'takes', 'start': 512984, 'end': 513138, 'confidence': 0.99854, 'speaker': None}, {'text': 'them', 'start': 513164, 'end': 513282, 'confidence': 0.99549, 'speaker': None}, {'text': 'a', 'start': 513296, 'end': 513402, 'confidence': 0.75, 'speaker': None}, {'text': 'while', 'start': 513416, 'end': 513630, 'confidence': 0.99837, 'speaker': None}, {'text': 'to', 'start': 513680, 'end': 513822, 'confidence': 1.0, 'speaker': None}, {'text': 'build', 'start': 513836, 'end': 513978, 'confidence': 0.99958, 'speaker': None}, {'text': 'it', 'start': 514004, 'end': 514122, 'confidence': 0.99, 'speaker': None}, {'text': 'back', 'start': 514136, 'end': 514314, 'confidence': 0.77399, 'speaker': None}, {'text': 'up.', 'start': 514352, 'end': 514842, 'confidence': 0.95757, 'speaker': None}, {'text': 'Bear', 'start': 514976, 'end': 515302, 'confidence': 0.97532, 'speaker': None}, {'text': 'in', 'start': 515326, 'end': 515442, 'confidence': 0.99843, 'speaker': None}, {'text': 'mind,', 'start': 515456, 'end': 515634, 'confidence': 0.99954, 'speaker': None}, {'text': \"you're\", 'start': 515672, 'end': 515806, 'confidence': 0.8862, 'speaker': None}, {'text': 'going', 'start': 515818, 'end': 515922, 'confidence': 0.58345, 'speaker': None}, {'text': 'to', 'start': 515936, 'end': 516042, 'confidence': 1.0, 'speaker': None}, {'text': 'go', 'start': 516056, 'end': 516198, 'confidence': 0.99973, 'speaker': None}, {'text': 'through', 'start': 516224, 'end': 516414, 'confidence': 0.99983, 'speaker': None}, {'text': 'this', 'start': 516452, 'end': 516654, 'confidence': 0.99923, 'speaker': None}, {'text': 'process.', 'start': 516692, 'end': 517182, 'confidence': 0.99997, 'speaker': None}, {'text': \"You're\", 'start': 517316, 'end': 517642, 'confidence': 0.94654, 'speaker': None}, {'text': 'supposed', 'start': 517666, 'end': 517926, 'confidence': 0.99928, 'speaker': None}, {'text': 'to', 'start': 517988, 'end': 518214, 'confidence': 1.0, 'speaker': None}, {'text': 'feel', 'start': 518252, 'end': 518454, 'confidence': 0.99979, 'speaker': None}, {'text': 'like', 'start': 518492, 'end': 518802, 'confidence': 0.99383, 'speaker': None}, {'text': \"you're\", 'start': 518876, 'end': 519082, 'confidence': 0.98102, 'speaker': None}, {'text': 'not', 'start': 519106, 'end': 519258, 'confidence': 0.99966, 'speaker': None}, {'text': 'good', 'start': 519284, 'end': 519438, 'confidence': 0.99993, 'speaker': None}, {'text': 'enough.', 'start': 519464, 'end': 519690, 'confidence': 0.99994, 'speaker': None}, {'text': \"You're\", 'start': 519740, 'end': 519922, 'confidence': 0.96992, 'speaker': None}, {'text': 'supposed', 'start': 519946, 'end': 520170, 'confidence': 0.99911, 'speaker': None}, {'text': 'to', 'start': 520220, 'end': 520362, 'confidence': 1.0, 'speaker': None}, {'text': 'feel', 'start': 520376, 'end': 520518, 'confidence': 0.70351, 'speaker': None}, {'text': 'like', 'start': 520544, 'end': 520698, 'confidence': 0.98576, 'speaker': None}, {'text': \"you're\", 'start': 520724, 'end': 520846, 'confidence': 0.98307, 'speaker': None}, {'text': 'not', 'start': 520858, 'end': 520998, 'confidence': 0.99972, 'speaker': None}, {'text': 'smart', 'start': 521024, 'end': 521242, 'confidence': 0.99998, 'speaker': None}, {'text': 'enough', 'start': 521266, 'end': 521454, 'confidence': 0.79998, 'speaker': None}, {'text': 'for', 'start': 521492, 'end': 521658, 'confidence': 0.99767, 'speaker': None}, {'text': 'this.', 'start': 521684, 'end': 522090, 'confidence': 0.98299, 'speaker': None}, {'text': 'But', 'start': 522200, 'end': 522474, 'confidence': 0.97149, 'speaker': None}, {'text': 'trust', 'start': 522512, 'end': 522750, 'confidence': 0.99995, 'speaker': None}, {'text': 'me,', 'start': 522800, 'end': 523014, 'confidence': 0.99998, 'speaker': None}, {'text': 'if', 'start': 523052, 'end': 523254, 'confidence': 0.99934, 'speaker': None}, {'text': 'I', 'start': 523292, 'end': 523494, 'confidence': 1.0, 'speaker': None}, {'text': 'can', 'start': 523532, 'end': 523698, 'confidence': 0.9997, 'speaker': None}, {'text': 'do', 'start': 523724, 'end': 523842, 'confidence': 0.9995, 'speaker': None}, {'text': 'it,', 'start': 523856, 'end': 523998, 'confidence': 1.0, 'speaker': None}, {'text': 'then', 'start': 524024, 'end': 524250, 'confidence': 0.93602, 'speaker': None}, {'text': 'you', 'start': 524300, 'end': 524478, 'confidence': 0.99976, 'speaker': None}, {'text': 'can', 'start': 524504, 'end': 524658, 'confidence': 0.99965, 'speaker': None}, {'text': 'do', 'start': 524684, 'end': 524802, 'confidence': 0.99956, 'speaker': None}, {'text': 'it.', 'start': 524816, 'end': 525030, 'confidence': 1.0, 'speaker': None}, {'text': 'One', 'start': 525080, 'end': 525258, 'confidence': 0.99, 'speaker': None}, {'text': 'important', 'start': 525284, 'end': 525546, 'confidence': 0.99991, 'speaker': None}, {'text': 'resource', 'start': 525608, 'end': 526030, 'confidence': 0.64642, 'speaker': None}, {'text': 'is', 'start': 526090, 'end': 526278, 'confidence': 0.99575, 'speaker': None}, {'text': 'hackathons.', 'start': 526304, 'end': 527014, 'confidence': 0.83264, 'speaker': None}, {'text': \"It's\", 'start': 527122, 'end': 527398, 'confidence': 0.73523, 'speaker': None}, {'text': 'weird', 'start': 527434, 'end': 527674, 'confidence': 0.9641, 'speaker': None}, {'text': 'to', 'start': 527722, 'end': 527898, 'confidence': 1.0, 'speaker': None}, {'text': 'be', 'start': 527924, 'end': 528078, 'confidence': 0.99642, 'speaker': None}, {'text': 'at', 'start': 528104, 'end': 528222, 'confidence': 0.97, 'speaker': None}, {'text': 'a', 'start': 528236, 'end': 528306, 'confidence': 0.98, 'speaker': None}, {'text': 'hackathon', 'start': 528308, 'end': 528742, 'confidence': 0.88511, 'speaker': None}, {'text': 'in', 'start': 528766, 'end': 528882, 'confidence': 0.93139, 'speaker': None}, {'text': 'the', 'start': 528896, 'end': 529002, 'confidence': 0.97, 'speaker': None}, {'text': 'first', 'start': 529016, 'end': 529194, 'confidence': 0.95, 'speaker': None}, {'text': 'place,', 'start': 529232, 'end': 529434, 'confidence': 0.97364, 'speaker': None}, {'text': 'but', 'start': 529472, 'end': 529602, 'confidence': 0.54336, 'speaker': None}, {'text': \"it's\", 'start': 529616, 'end': 529762, 'confidence': 0.9403, 'speaker': None}, {'text': 'cool', 'start': 529786, 'end': 529902, 'confidence': 0.9984, 'speaker': None}, {'text': 'to', 'start': 529916, 'end': 530058, 'confidence': 0.93, 'speaker': None}, {'text': 'see', 'start': 530084, 'end': 530274, 'confidence': 0.99893, 'speaker': None}, {'text': 'all', 'start': 530312, 'end': 530442, 'confidence': 0.99269, 'speaker': None}, {'text': 'of', 'start': 530456, 'end': 530526, 'confidence': 0.67, 'speaker': None}, {'text': 'this.', 'start': 530528, 'end': 530838, 'confidence': 0.52431, 'speaker': None}, {'text': 'Hackathons', 'start': 530924, 'end': 531418, 'confidence': 0.98312, 'speaker': None}, {'text': 'are', 'start': 531454, 'end': 531582, 'confidence': 0.9945, 'speaker': None}, {'text': 'scary', 'start': 531596, 'end': 531874, 'confidence': 0.99796, 'speaker': None}, {'text': 'because', 'start': 531922, 'end': 532062, 'confidence': 0.98724, 'speaker': None}, {'text': \"you'll\", 'start': 532076, 'end': 532282, 'confidence': 0.92868, 'speaker': None}, {'text': 'go', 'start': 532306, 'end': 532494, 'confidence': 0.99461, 'speaker': None}, {'text': 'not', 'start': 532532, 'end': 532662, 'confidence': 0.99967, 'speaker': None}, {'text': 'knowing', 'start': 532676, 'end': 532918, 'confidence': 0.99322, 'speaker': None}, {'text': 'much,', 'start': 532954, 'end': 533262, 'confidence': 0.99903, 'speaker': None}, {'text': 'but', 'start': 533336, 'end': 533538, 'confidence': 0.98225, 'speaker': None}, {'text': 'people', 'start': 533564, 'end': 533754, 'confidence': 0.99962, 'speaker': None}, {'text': 'will', 'start': 533792, 'end': 533994, 'confidence': 0.99728, 'speaker': None}, {'text': 'expose', 'start': 534032, 'end': 534394, 'confidence': 0.99848, 'speaker': None}, {'text': 'you', 'start': 534442, 'end': 534618, 'confidence': 0.99431, 'speaker': None}, {'text': 'to', 'start': 534644, 'end': 534798, 'confidence': 1.0, 'speaker': None}, {'text': 'things', 'start': 534824, 'end': 535014, 'confidence': 0.9999, 'speaker': None}, {'text': 'you', 'start': 535052, 'end': 535254, 'confidence': 0.99795, 'speaker': None}, {'text': \"didn't\", 'start': 535292, 'end': 535558, 'confidence': 0.98494, 'speaker': None}, {'text': 'know', 'start': 535594, 'end': 535794, 'confidence': 0.99966, 'speaker': None}, {'text': 'you', 'start': 535832, 'end': 536034, 'confidence': 0.97234, 'speaker': None}, {'text': \"didn't\", 'start': 536072, 'end': 536338, 'confidence': 0.96524, 'speaker': None}, {'text': 'know.', 'start': 536374, 'end': 536646, 'confidence': 0.99939, 'speaker': None}, {'text': \"They'll\", 'start': 536708, 'end': 536962, 'confidence': 0.67057, 'speaker': None}, {'text': 'help', 'start': 536986, 'end': 537138, 'confidence': 0.9996, 'speaker': None}, {'text': 'you', 'start': 537164, 'end': 537354, 'confidence': 0.9959, 'speaker': None}, {'text': 'build', 'start': 537392, 'end': 537630, 'confidence': 0.99964, 'speaker': None}, {'text': 'and', 'start': 537680, 'end': 537858, 'confidence': 1.0, 'speaker': None}, {'text': 'complete', 'start': 537884, 'end': 538110, 'confidence': 0.99866, 'speaker': None}, {'text': 'an', 'start': 538160, 'end': 538338, 'confidence': 0.99106, 'speaker': None}, {'text': 'entire', 'start': 538364, 'end': 538626, 'confidence': 0.99904, 'speaker': None}, {'text': 'project', 'start': 538688, 'end': 539022, 'confidence': 0.9998, 'speaker': None}, {'text': 'in', 'start': 539096, 'end': 539334, 'confidence': 0.99902, 'speaker': None}, {'text': '48', 'start': 539372, 'end': 539886, 'confidence': 0.77, 'speaker': None}, {'text': 'hours.', 'start': 539948, 'end': 540282, 'confidence': 0.86, 'speaker': None}, {'text': \"They're\", 'start': 540356, 'end': 540622, 'confidence': 0.85047, 'speaker': None}, {'text': 'also', 'start': 540646, 'end': 540870, 'confidence': 0.99461, 'speaker': None}, {'text': 'just', 'start': 540920, 'end': 541170, 'confidence': 0.98019, 'speaker': None}, {'text': 'really', 'start': 541220, 'end': 541434, 'confidence': 0.99949, 'speaker': None}, {'text': 'fun,', 'start': 541472, 'end': 541674, 'confidence': 0.99982, 'speaker': None}, {'text': 'even', 'start': 541712, 'end': 541878, 'confidence': 0.99964, 'speaker': None}, {'text': 'if', 'start': 541904, 'end': 541986, 'confidence': 0.99884, 'speaker': None}, {'text': 'the', 'start': 541988, 'end': 542118, 'confidence': 0.69, 'speaker': None}, {'text': 'food', 'start': 542144, 'end': 542298, 'confidence': 0.99956, 'speaker': None}, {'text': 'is', 'start': 542324, 'end': 542514, 'confidence': 0.99809, 'speaker': None}, {'text': 'actually', 'start': 542552, 'end': 542862, 'confidence': 0.99544, 'speaker': None}, {'text': 'terrible', 'start': 542936, 'end': 543466, 'confidence': 0.97639, 'speaker': None}, {'text': 'every', 'start': 543538, 'end': 543882, 'confidence': 0.99982, 'speaker': None}, {'text': 'single', 'start': 543956, 'end': 544266, 'confidence': 0.99987, 'speaker': None}, {'text': 'time.', 'start': 544328, 'end': 544626, 'confidence': 0.99972, 'speaker': None}, {'text': 'Now', 'start': 544688, 'end': 544878, 'confidence': 0.69793, 'speaker': None}, {'text': \"don't\", 'start': 544904, 'end': 545062, 'confidence': 0.98484, 'speaker': None}, {'text': 'forget,', 'start': 545086, 'end': 545410, 'confidence': 0.9999, 'speaker': None}, {'text': 'this', 'start': 545470, 'end': 545694, 'confidence': 0.99952, 'speaker': None}, {'text': 'comes', 'start': 545732, 'end': 546006, 'confidence': 0.99778, 'speaker': None}, {'text': 'after', 'start': 546068, 'end': 546330, 'confidence': 0.99996, 'speaker': None}, {'text': 'you', 'start': 546380, 'end': 546558, 'confidence': 0.99818, 'speaker': None}, {'text': 'learn', 'start': 546584, 'end': 546738, 'confidence': 0.99981, 'speaker': None}, {'text': 'the', 'start': 546764, 'end': 546882, 'confidence': 1.0, 'speaker': None}, {'text': 'basics', 'start': 546896, 'end': 547198, 'confidence': 0.99794, 'speaker': None}, {'text': 'of', 'start': 547234, 'end': 547362, 'confidence': 1.0, 'speaker': None}, {'text': 'coding.', 'start': 547376, 'end': 547678, 'confidence': 0.98571, 'speaker': None}, {'text': \"Don't\", 'start': 547714, 'end': 547942, 'confidence': 0.99752, 'speaker': None}, {'text': 'try', 'start': 547966, 'end': 548154, 'confidence': 0.96463, 'speaker': None}, {'text': 'to', 'start': 548192, 'end': 548394, 'confidence': 0.99, 'speaker': None}, {'text': 'program', 'start': 548432, 'end': 548742, 'confidence': 0.99973, 'speaker': None}, {'text': 'before', 'start': 548816, 'end': 549018, 'confidence': 0.99947, 'speaker': None}, {'text': 'you', 'start': 549044, 'end': 549198, 'confidence': 0.97086, 'speaker': None}, {'text': 'know', 'start': 549224, 'end': 549342, 'confidence': 0.99542, 'speaker': None}, {'text': 'how', 'start': 549356, 'end': 549498, 'confidence': 0.99768, 'speaker': None}, {'text': 'to', 'start': 549524, 'end': 549642, 'confidence': 1.0, 'speaker': None}, {'text': 'code', 'start': 549656, 'end': 549870, 'confidence': 0.98894, 'speaker': None}, {'text': 'and', 'start': 549920, 'end': 550098, 'confidence': 0.94, 'speaker': None}, {'text': \"don't\", 'start': 550124, 'end': 550282, 'confidence': 0.98456, 'speaker': None}, {'text': 'waste', 'start': 550306, 'end': 550582, 'confidence': 0.7719, 'speaker': None}, {'text': 'all', 'start': 550606, 'end': 550758, 'confidence': 0.8477, 'speaker': None}, {'text': 'of', 'start': 550784, 'end': 550902, 'confidence': 0.97, 'speaker': None}, {'text': 'your', 'start': 550916, 'end': 551022, 'confidence': 0.99796, 'speaker': None}, {'text': 'time', 'start': 551036, 'end': 551214, 'confidence': 0.99979, 'speaker': None}, {'text': 'coding', 'start': 551252, 'end': 551602, 'confidence': 0.99713, 'speaker': None}, {'text': 'and', 'start': 551626, 'end': 551778, 'confidence': 1.0, 'speaker': None}, {'text': 'not', 'start': 551804, 'end': 552030, 'confidence': 0.99939, 'speaker': None}, {'text': 'programming', 'start': 552080, 'end': 552682, 'confidence': 0.99305, 'speaker': None}, {'text': 'subscribe.', 'start': 552766, 'end': 553282, 'confidence': 0.99977, 'speaker': None}, {'text': 'Smash', 'start': 553366, 'end': 553678, 'confidence': 0.99978, 'speaker': None}, {'text': 'the', 'start': 553714, 'end': 553842, 'confidence': 0.98, 'speaker': None}, {'text': 'like', 'start': 553856, 'end': 554034, 'confidence': 0.99972, 'speaker': None}, {'text': 'button', 'start': 554072, 'end': 554310, 'confidence': 0.99956, 'speaker': None}, {'text': 'and', 'start': 554360, 'end': 554646, 'confidence': 0.98, 'speaker': None}, {'text': 'go', 'start': 554708, 'end': 554934, 'confidence': 0.89633, 'speaker': None}, {'text': 'break', 'start': 554972, 'end': 555102, 'confidence': 0.99427, 'speaker': None}, {'text': 'some', 'start': 555116, 'end': 555258, 'confidence': 0.91255, 'speaker': None}, {'text': 'eggs.', 'start': 555284, 'end': 555430, 'confidence': 0.87853, 'speaker': None}], 'utterances': None, 'confidence': 0.937499722492696, 'audio_duration': 555, 'punctuate': True, 'format_text': True, 'dual_channel': None, 'webhook_url': None, 'webhook_status_code': None, 'webhook_auth': False, 'webhook_auth_header_name': None, 'speed_boost': False, 'auto_highlights_result': {'status': 'success', 'results': [{'count': 1, 'rank': 0.08, 'text': 'real programming languages', 'timestamps': [{'start': 51164, 'end': 52174}]}, {'count': 1, 'rank': 0.08, 'text': 'most other programming languages', 'timestamps': [{'start': 74782, 'end': 76162}]}, {'count': 1, 'rank': 0.07, 'text': 'most other languages', 'timestamps': [{'start': 495176, 'end': 496186}]}, {'count': 1, 'rank': 0.07, 'text': 'markup languages', 'timestamps': [{'start': 52424, 'end': 53302}]}, {'count': 1, 'rank': 0.06, 'text': 'useful things', 'timestamps': [{'start': 171152, 'end': 171750}]}, {'count': 7, 'rank': 0.06, 'text': 'back end', 'timestamps': [{'start': 62120, 'end': 62478}, {'start': 270104, 'end': 270510}, {'start': 278984, 'end': 279354}, {'start': 293396, 'end': 293718}, {'start': 303514, 'end': 303954}, {'start': 314972, 'end': 315354}, {'start': 330104, 'end': 330438}]}, {'count': 1, 'rank': 0.06, 'text': 'front end web development', 'timestamps': [{'start': 62732, 'end': 63814}]}, {'count': 1, 'rank': 0.05, 'text': 'any other programming language', 'timestamps': [{'start': 355580, 'end': 356758}]}, {'count': 1, 'rank': 0.05, 'text': 'advanced things', 'timestamps': [{'start': 245300, 'end': 246306}]}, {'count': 1, 'rank': 0.05, 'text': 'Each new programming language', 'timestamps': [{'start': 78584, 'end': 79774}]}, {'count': 1, 'rank': 0.05, 'text': 'Other projects', 'timestamps': [{'start': 430304, 'end': 431158}]}, {'count': 1, 'rank': 0.05, 'text': 'each coding language', 'timestamps': [{'start': 208102, 'end': 209014}]}, {'count': 2, 'rank': 0.05, 'text': 'math problems', 'timestamps': [{'start': 178412, 'end': 179022}, {'start': 200602, 'end': 201222}]}, {'count': 1, 'rank': 0.05, 'text': 'more Express JS jobs', 'timestamps': [{'start': 345524, 'end': 346906}]}, {'count': 1, 'rank': 0.05, 'text': 'each programming language', 'timestamps': [{'start': 316760, 'end': 317782}]}]}, 'auto_highlights': True, 'audio_start_from': None, 'audio_end_at': None, 'word_boost': [], 'boost_param': None, 'filter_profanity': False, 'redact_pii': False, 'redact_pii_audio': False, 'redact_pii_audio_quality': None, 'redact_pii_policies': None, 'redact_pii_sub': None, 'speaker_labels': False, 'content_safety': False, 'iab_categories': True, 'content_safety_labels': {'status': 'unavailable', 'results': [], 'summary': {}}, 'iab_categories_result': {'status': 'success', 'results': [{'text': \"This is how I would learn to code if I could start over for context, I work at Microsoft, but before that I did six internships across three countries. So yeah, I've done a line or two in my life. Wait, not like that. What the to tell you what I would change, I first need to tell you what I did. I started coding in great alignment. Eleven. Well, sort of. We started with this language called Scratch.\", 'labels': [{'relevance': 0.35278454422950745, 'label': 'Technology&Computing>Computing>ProgrammingLanguages'}, {'relevance': 0.027337994426488876, 'label': 'FineArt>Design'}, {'relevance': 0.01716163195669651, 'label': 'Careers>Apprenticeships'}, {'relevance': 0.011439592577517033, 'label': 'Technology&Computing>Computing>Internet>WebDevelopment'}, {'relevance': 0.00813556369394064, 'label': 'Technology&Computing>Computing>Internet>WebDesignAndHTML'}, {'relevance': 0.002593241399154067, 'label': 'Technology&Computing>Computing>ComputerSoftwareAndApplications>DesktopPublishing'}, {'relevance': 0.0023677838034927845, 'label': 'Careers>VocationalTraining'}, {'relevance': 0.002007400617003441, 'label': 'Technology&Computing>Computing'}, {'relevance': 0.0018674725433811545, 'label': 'Technology&Computing>Computing>ComputerSoftwareAndApplications'}, {'relevance': 0.001580280950292945, 'label': 'Technology&Computing'}], 'timestamp': {'start': 130, 'end': 17950}}, {'text': \"It's basic game development made for children. Nobody would be stupid enough to, let's say, do an entire Google coding interview in this language and maybe even do shots every time the code fails. So let's just skip that and get to the important stuff. I went to Waterloo and in order I learned first racket, then C plus plus HTML, CSS, TCL, Python, java, JavaScript. C sharp. Some of these were in class, some are on their own.\", 'labels': [{'relevance': 0.4752555191516876, 'label': 'Hobbies&Interests>GamesAndPuzzles'}, {'relevance': 0.41647839546203613, 'label': 'Hobbies&Interests>GamesAndPuzzles>BoardGamesAndPuzzles'}, {'relevance': 0.22008438408374786, 'label': 'Technology&Computing>Computing>ProgrammingLanguages'}, {'relevance': 0.18965397775173187, 'label': 'VideoGaming>VideoGameGenres>EducationalVideoGames'}, {'relevance': 0.18266087770462036, 'label': 'VideoGaming>VideoGameGenres>PuzzleVideoGames'}, {'relevance': 0.028042303398251534, 'label': 'Technology&Computing>Computing>Internet>WebDesignAndHTML'}, {'relevance': 0.01684883050620556, 'label': 'Hobbies&Interests>GamesAndPuzzles>RoleplayingGames'}, {'relevance': 0.016252916306257248, 'label': 'Technology&Computing>Computing>Internet>WebDevelopment'}, {'relevance': 0.015675747767090797, 'label': 'VideoGaming>VideoGameGenres>SimulationVideoGames'}, {'relevance': 0.007627390790730715, 'label': 'VideoGaming>VideoGameGenres>CasualGames'}], 'timestamp': {'start': 18010, 'end': 41070}}, {'text': \"Here's the motivation behind each racket for recursion, c for memory management, c for object oriented design, HTML and CSS. For web development, although these are not real programming languages or markup languages. TCL I did an internship and it's useless. Python I learned this alone and over time, but mostly just for side projects java and JavaScript. For back end and front end web development. And finally C Sharp, which I do for my full time job now.\", 'labels': [{'relevance': 0.9948855042457581, 'label': 'Technology&Computing>Computing>ProgrammingLanguages'}, {'relevance': 0.6672016978263855, 'label': 'Technology&Computing>Computing>Internet>WebDevelopment'}, {'relevance': 0.6011731028556824, 'label': 'Technology&Computing>Computing>Internet>WebDesignAndHTML'}, {'relevance': 0.013341464102268219, 'label': 'Technology&Computing>Computing'}, {'relevance': 0.00819079577922821, 'label': 'Technology&Computing>Computing>ComputerSoftwareAndApplications'}, {'relevance': 0.0034359085839241743, 'label': 'Technology&Computing>Computing>ComputerSoftwareAndApplications>Browsers'}, {'relevance': 0.003163551213219762, 'label': 'FineArt>Design'}, {'relevance': 0.0020111198537051678, 'label': 'Technology&Computing>Computing>ComputerSoftwareAndApplications>DesktopPublishing'}, {'relevance': 0.001047685043886304, 'label': 'Technology&Computing>Computing>ComputerSoftwareAndApplications>Databases'}, {'relevance': 0.0007862673373892903, 'label': 'Technology&Computing>Computing>ComputerSoftwareAndApplications>OperatingSystems'}], 'timestamp': {'start': 41120, 'end': 66714}}, {'text': \"But it's essentially Microsoft's version of Java, so let's not talk about it. C and C are by far the most useful languages to learn. After I learned those, I realized most other programming languages are essentially just derivatives of those. Each new programming language essentially takes those and makes some specific task easier. Basically, all these languages share the same ancestor in C and C. So clearly you should start by learning these two languages, right? No, these languages are pretty intensive.\", 'labels': [{'relevance': 0.9989204406738281, 'label': 'Technology&Computing>Computing>ProgrammingLanguages'}, {'relevance': 0.07584001123905182, 'label': 'Technology&Computing>Computing'}, {'relevance': 0.06142255291342735, 'label': 'Technology&Computing>Computing>ComputerSoftwareAndApplications'}, {'relevance': 0.009022001177072525, 'label': 'Technology&Computing>Computing>ComputerSoftwareAndApplications>OperatingSystems'}, {'relevance': 0.004648455884307623, 'label': 'Technology&Computing>Computing>Internet>WebDevelopment'}, {'relevance': 0.001696268212981522, 'label': 'Technology&Computing>Computing>Internet>WebDesignAndHTML'}, {'relevance': 0.001065157586708665, 'label': 'Technology&Computing>Computing>ComputerSoftwareAndApplications>Databases'}, {'relevance': 0.0008511794148944318, 'label': 'Education>LanguageLearning'}, {'relevance': 0.00045539619168266654, 'label': 'Technology&Computing>Computing>ComputerSoftwareAndApplications>DesktopPublishing'}, {'relevance': 0.00029359167092479765, 'label': 'Technology&Computing>Computing>DataStorageAndWarehousing'}], 'timestamp': {'start': 66752, 'end': 92302}}, {'text': \"If you want to do anything like useful or impactful, it either requires one, a lot of code, or two use of a bunch of libraries that you've never heard of before, and honestly are probably not worth learning. Which brings me to my point. You need to do something useful, but not too useful. Now hear me out.\", 'labels': [{'relevance': 0.24705272912979126, 'label': 'Technology&Computing>Computing>ProgrammingLanguages'}, {'relevance': 0.0683722198009491, 'label': 'Technology&Computing>Computing>ComputerSoftwareAndApplications'}, {'relevance': 0.011152077466249466, 'label': 'Technology&Computing>Computing>Internet>WebDevelopment'}, {'relevance': 0.00621871929615736, 'label': 'Technology&Computing>Computing'}, {'relevance': 0.004260065034031868, 'label': 'Technology&Computing>Computing>ComputerSoftwareAndApplications>SharewareAndFreeware'}, {'relevance': 0.002473680768162012, 'label': 'Technology&Computing>Computing>Internet>WebDesignAndHTML'}, {'relevance': 0.002160410163924098, 'label': 'FineArt>Design'}, {'relevance': 0.0021439918782562017, 'label': 'Technology&Computing>Computing>DataStorageAndWarehousing'}, {'relevance': 0.0007609417662024498, 'label': 'BusinessAndFinance>Business>BusinessI.T.'}, {'relevance': 0.000741128227673471, 'label': 'Technology&Computing>Computing>ComputerSoftwareAndApplications>DesktopPublishing'}], 'timestamp': {'start': 92386, 'end': 110178}}, {'text': \"If you're learning C, it's going to be relatively easy to start solving some basic math problem and you'll print the solution on the screen, but all of your code is contained to this little terminal. If you want to make a graphical game or connect to a website or do anything quote unquote useful, it'll actually be really hard, even for me right now. I would have to do a lot of googling to even figure out how to do those things.\", 'labels': [{'relevance': 0.9946109056472778, 'label': 'Technology&Computing>Computing>ProgrammingLanguages'}, {'relevance': 0.10228205472230911, 'label': 'Technology&Computing>Computing'}, {'relevance': 0.06553240865468979, 'label': 'Technology&Computing>Computing>ComputerSoftwareAndApplications>OperatingSystems'}, {'relevance': 0.03229627385735512, 'label': 'Technology&Computing>Computing>ComputerSoftwareAndApplications'}, {'relevance': 0.0052046747878193855, 'label': 'Technology&Computing>Computing>Internet>WebDevelopment'}, {'relevance': 0.002208431949838996, 'label': 'Technology&Computing>Computing>ComputerSoftwareAndApplications>DesktopPublishing'}, {'relevance': 0.0013977927155792713, 'label': 'Technology&Computing>Computing>Internet>WebDesignAndHTML'}, {'relevance': 0.0008459347300231457, 'label': 'FineArt>Design'}, {'relevance': 0.0005522785941138864, 'label': 'Education>OnlineEducation'}, {'relevance': 0.0004805261851288378, 'label': 'Technology&Computing>Computing>ComputerSoftwareAndApplications>ComputerAnimation'}], 'timestamp': {'start': 110204, 'end': 131610}}, {'text': \"Essentially, if you start with C, anything useful is going to be too hard and this will be really demotivating. Now, let's look at the opposite end of the spectrum. Many students want to get into coding, and the first thing they want to do is learn machine learning. Here's the thing. Machine learning is super useful in the real world, but it's all advanced math.\", 'labels': [{'relevance': 0.9273259043693542, 'label': 'Technology&Computing>Computing>ProgrammingLanguages'}, {'relevance': 0.7556343078613281, 'label': 'Technology&Computing>Computing'}, {'relevance': 0.4573713541030884, 'label': 'Technology&Computing>ArtificialIntelligence'}, {'relevance': 0.01221120823174715, 'label': 'Technology&Computing'}, {'relevance': 0.005970830097794533, 'label': 'Technology&Computing>Computing>ComputerSoftwareAndApplications'}, {'relevance': 0.004286587703973055, 'label': 'Technology&Computing>Computing>ComputerSoftwareAndApplications>OperatingSystems'}, {'relevance': 0.0020406136754900217, 'label': 'Technology&Computing>Robotics'}, {'relevance': 0.001839072210714221, 'label': 'BusinessAndFinance>Business>BusinessI.T.'}, {'relevance': 0.001662323484197259, 'label': 'Education>EducationalAssessment'}, {'relevance': 0.0015902164159342647, 'label': 'Education>OnlineEducation'}], 'timestamp': {'start': 131720, 'end': 149290}}, {'text': \"So if you start with it, you're going to be learning one computer science basics, two Python, for example, and three advanced math topics all at the same time. And unless you are literally a genie, you're going to come out of that not really knowing any of the three. The sweet spot is somewhere in the middle. You need to do something that's useful, but not too useful.\", 'labels': [{'relevance': 0.9113522171974182, 'label': 'Technology&Computing>Computing>ProgrammingLanguages'}, {'relevance': 0.405579537153244, 'label': 'Technology&Computing>Computing'}, {'relevance': 0.021629244089126587, 'label': 'Technology&Computing>Computing>ComputerSoftwareAndApplications'}, {'relevance': 0.0065233055502176285, 'label': 'BusinessAndFinance>Business>BusinessI.T.'}, {'relevance': 0.005925803445279598, 'label': 'Technology&Computing>Computing>ComputerSoftwareAndApplications>OperatingSystems'}, {'relevance': 0.005027438513934612, 'label': 'Education>OnlineEducation'}, {'relevance': 0.0021085136104375124, 'label': 'Technology&Computing>Computing>Internet>WebDevelopment'}, {'relevance': 0.0007927079568617046, 'label': 'Education>EducationalAssessment'}, {'relevance': 0.0007851846748962998, 'label': 'Technology&Computing>Computing>Internet>ITAndInternetSupport'}, {'relevance': 0.0007716075051575899, 'label': 'Technology&Computing>Computing>DataStorageAndWarehousing'}], 'timestamp': {'start': 149350, 'end': 170050}}, {'text': \"Now that we're talking about doing useful things, let's clear up the distinction between coding and programming. Coding is just writing code to solve computer science problems. Let's call them math problems to show the distinction. This is what you need as a prerequisite to learn how to program. Programming is the ultimate goal. Programming is the act of using coding to make programs that solve real problems. You need to learn the fundamentals of coding to know how to program.\", 'labels': [{'relevance': 0.9883070588111877, 'label': 'Technology&Computing>Computing>ProgrammingLanguages'}, {'relevance': 0.9462782144546509, 'label': 'Technology&Computing>Computing'}, {'relevance': 0.921510636806488, 'label': 'Technology&Computing>Computing>ComputerSoftwareAndApplications'}, {'relevance': 0.08981260657310486, 'label': 'Technology&Computing>Computing>Internet>WebDevelopment'}, {'relevance': 0.01935904286801815, 'label': 'Technology&Computing>Computing>Internet>WebDesignAndHTML'}, {'relevance': 0.013131463900208473, 'label': 'FineArt>Design'}, {'relevance': 0.01261991634964943, 'label': 'BusinessAndFinance>Business>BusinessI.T.'}, {'relevance': 0.003268036525696516, 'label': 'Technology&Computing>Computing>ComputerSoftwareAndApplications>OperatingSystems'}, {'relevance': 0.0028812959790229797, 'label': 'BusinessAndFinance>Industries>MechanicalAndIndustrialEngineeringIndustry'}, {'relevance': 0.0015042381128296256, 'label': 'Technology&Computing>Computing>ComputerSoftwareAndApplications>GraphicsSoftware'}], 'timestamp': {'start': 170110, 'end': 194610}}, {'text': 'Remember when I talked to people starting in machine learning? This is trying to program before you know how to code. And people only solving math problems in C is knowing how to code and never using that to program. There are tons of tools, use cases, frameworks that surround each coding language. But in the beginning, you kind of need to isolate the coding language itself, learn the basics of that, and then you can take it and learn how to program with it.', 'labels': [{'relevance': 0.994482159614563, 'label': 'Technology&Computing>Computing>ProgrammingLanguages'}, {'relevance': 0.9224468469619751, 'label': 'Technology&Computing>Computing'}, {'relevance': 0.2988663613796234, 'label': 'Technology&Computing>ArtificialIntelligence'}, {'relevance': 0.0416266992688179, 'label': 'Technology&Computing>Computing>ComputerSoftwareAndApplications'}, {'relevance': 0.00939946062862873, 'label': 'Technology&Computing'}, {'relevance': 0.006553107872605324, 'label': 'BusinessAndFinance>Business>BusinessI.T.'}, {'relevance': 0.004378568381071091, 'label': 'Technology&Computing>Computing>ComputerSoftwareAndApplications>OperatingSystems'}, {'relevance': 0.0027474991511553526, 'label': 'Technology&Computing>Computing>Internet>WebDevelopment'}, {'relevance': 0.0013092701556161046, 'label': 'Technology&Computing>Computing>ComputerSoftwareAndApplications>Databases'}, {'relevance': 0.001294077723287046, 'label': 'Technology&Computing>Computing>DataStorageAndWarehousing'}], 'timestamp': {'start': 194720, 'end': 217002}}, {'text': \"The easiest thing to start with is probably Python. But honestly, I wouldn't be upset if you picked JavaScript and I'll explain later. Python mostly looks like plain English. Even if you don't know how to code, you can sort of read it. It's super easy to get started in. You can immediately start learning the basics like variables, functions move quickly into data structures and algorithms.\", 'labels': [{'relevance': 0.31811732053756714, 'label': 'Technology&Computing>Computing>ProgrammingLanguages'}, {'relevance': 0.19043703377246857, 'label': 'Technology&Computing>Computing>Internet>WebDesignAndHTML'}, {'relevance': 0.1104564368724823, 'label': 'Technology&Computing>Computing>Internet>WebDevelopment'}, {'relevance': 0.000862038868945092, 'label': 'Technology&Computing>Computing>ComputerSoftwareAndApplications>Browsers'}, {'relevance': 0.00022822491882834584, 'label': 'Technology&Computing>Computing>ComputerSoftwareAndApplications>DesktopPublishing'}, {'relevance': 0.0001539795339340344, 'label': 'Technology&Computing>Computing>ComputerSoftwareAndApplications>Databases'}, {'relevance': 0.00014883492258377373, 'label': 'Technology&Computing>Computing>Internet>WebHosting'}, {'relevance': 0.00011876735516125336, 'label': 'Sports>AmericanFootball'}, {'relevance': 0.00011036136857001111, 'label': 'Technology&Computing>Computing>ComputerSoftwareAndApplications'}, {'relevance': 0.00010765627666842192, 'label': 'BusinessAndFinance>Business>BusinessBanking&Finance>AngelInvestment'}], 'timestamp': {'start': 217016, 'end': 234826}}, {'text': \"You'll really want to know the basics about types like arrays and the basics of control, flow like functions, loops, and even a little bit about classes. Don't get carried away. You don't need to learn advanced things like inheritance, for example. If you're feeling a little feisty, you might want to learn exceptions, hash, maps, maybe sprinkle in a little recursion.\", 'labels': [{'relevance': 0.9900538921356201, 'label': 'Technology&Computing>Computing>ProgrammingLanguages'}, {'relevance': 0.06098229065537453, 'label': 'Technology&Computing>Computing'}, {'relevance': 0.025879107415676117, 'label': 'Technology&Computing>Computing>ComputerSoftwareAndApplications'}, {'relevance': 0.011081055738031864, 'label': 'Technology&Computing>Computing>ComputerSoftwareAndApplications>OperatingSystems'}, {'relevance': 0.006206354591995478, 'label': 'Technology&Computing>Computing>Internet>WebDevelopment'}, {'relevance': 0.0019707053434103727, 'label': 'Technology&Computing>Computing>ComputerSoftwareAndApplications>Databases'}, {'relevance': 0.0016888115787878633, 'label': 'Technology&Computing>Computing>Internet>WebDesignAndHTML'}, {'relevance': 0.0005737087922170758, 'label': 'Technology&Computing>Computing>DataStorageAndWarehousing'}, {'relevance': 0.000518602435477078, 'label': 'FineArt>Design'}, {'relevance': 0.0003759455285035074, 'label': 'Science>Physics'}], 'timestamp': {'start': 234898, 'end': 253942}}, {'text': \"Now, there are plenty of interest Python courses in the world, so I'm not going to bore you with the details. I'm sure you can find that on your own. But now that you have a coding language down, let's talk about programming. So the first thing I would do is take what I've learned and build a website. Now, there are three important aspects to a website. There's the back end, which kind of manages user data.\", 'labels': [{'relevance': 0.9879164695739746, 'label': 'Technology&Computing>Computing>Internet>WebDevelopment'}, {'relevance': 0.9736350774765015, 'label': 'Technology&Computing>Computing>Internet>WebDesignAndHTML'}, {'relevance': 0.3050890862941742, 'label': 'Technology&Computing>Computing>ProgrammingLanguages'}, {'relevance': 0.04787980765104294, 'label': 'Technology&Computing>Computing>Internet>WebHosting'}, {'relevance': 0.027070915326476097, 'label': 'Technology&Computing>Computing>ComputerSoftwareAndApplications'}, {'relevance': 0.006860837340354919, 'label': 'Technology&Computing>Computing>ComputerSoftwareAndApplications>Browsers'}, {'relevance': 0.0026581238489598036, 'label': 'Technology&Computing>Computing'}, {'relevance': 0.0013628995511680841, 'label': 'Technology&Computing>Computing>ComputerSoftwareAndApplications>Databases'}, {'relevance': 0.0013207461452111602, 'label': 'Technology&Computing>Computing>ComputerSoftwareAndApplications>DesktopPublishing'}, {'relevance': 0.0009790783515200019, 'label': 'Technology&Computing>Computing>ComputerSoftwareAndApplications>SharewareAndFreeware'}], 'timestamp': {'start': 254026, 'end': 272430}}, {'text': \"There's the front end, which is what runs on the user's browser. And then there's the database, which essentially just stores data. Now, we'll start with back end. You're going to want to pick a pretty high level language, either one Python or two JavaScript. The first program I would build would be a basic website. And what type of website? What does that website do?\", 'labels': [{'relevance': 0.9954634308815002, 'label': 'Technology&Computing>Computing>Internet>WebDevelopment'}, {'relevance': 0.9805380702018738, 'label': 'Technology&Computing>Computing>Internet>WebDesignAndHTML'}, {'relevance': 0.43246257305145264, 'label': 'Technology&Computing>Computing>ComputerSoftwareAndApplications'}, {'relevance': 0.20097507536411285, 'label': 'Technology&Computing>Computing>ProgrammingLanguages'}, {'relevance': 0.05190606787800789, 'label': 'Technology&Computing>Computing>Internet>WebHosting'}, {'relevance': 0.03713187947869301, 'label': 'Technology&Computing>Computing>ComputerSoftwareAndApplications>Browsers'}, {'relevance': 0.007560553960502148, 'label': 'Technology&Computing>Computing>ComputerSoftwareAndApplications>Databases'}, {'relevance': 0.006910736672580242, 'label': 'Technology&Computing>Computing'}, {'relevance': 0.002106965985149145, 'label': 'Technology&Computing>Computing>DataStorageAndWarehousing'}, {'relevance': 0.0012097049038857222, 'label': 'Technology&Computing>Computing>ComputerSoftwareAndApplications>OperatingSystems'}], 'timestamp': {'start': 272540, 'end': 288714}}, {'text': \"Well, I'll explain that in a minute, but for now, let's just make a project in that language. Now, when making a back end, you're going to learn concepts like Http methods, get post for example. Depending on the project, you might be interacting with the database. Once you start to feel comfortable and have your basic back end working, then let's try our hand at the front end.\", 'labels': [{'relevance': 0.8447575569152832, 'label': 'Technology&Computing>Computing>Internet>WebDevelopment'}, {'relevance': 0.7529535889625549, 'label': 'Technology&Computing>Computing>Internet>WebDesignAndHTML'}, {'relevance': 0.62842857837677, 'label': 'Technology&Computing>Computing>ProgrammingLanguages'}, {'relevance': 0.035921815782785416, 'label': 'Technology&Computing>Computing>ComputerSoftwareAndApplications'}, {'relevance': 0.011124100536108017, 'label': 'Technology&Computing>Computing>ComputerSoftwareAndApplications>Databases'}, {'relevance': 0.008284982293844223, 'label': 'Technology&Computing>Computing>Internet>WebHosting'}, {'relevance': 0.003909661900252104, 'label': 'Technology&Computing>Computing>ComputerSoftwareAndApplications>DesktopPublishing'}, {'relevance': 0.0018037442350760102, 'label': 'Technology&Computing>Computing>DataStorageAndWarehousing'}, {'relevance': 0.001192764611914754, 'label': 'Technology&Computing>Computing>ComputerSoftwareAndApplications>Browsers'}, {'relevance': 0.0008329434203915298, 'label': 'Technology&Computing>Computing'}], 'timestamp': {'start': 288752, 'end': 306582}}, {'text': \"Now, on the front end you're going to be using things like JavaScript, HTML, CSS. This is the reason I said JavaScript is actually a pretty good starting language because you can use it for the back end and the front end. I said each programming language is a bunch of tools and frameworks that make it easier to use. Basically, there's no reason for you to write code that somebody else has already written. The frameworks I would use for these languages would be Python.\", 'labels': [{'relevance': 0.9801991581916809, 'label': 'Technology&Computing>Computing>Internet>WebDesignAndHTML'}, {'relevance': 0.9427288770675659, 'label': 'Technology&Computing>Computing>Internet>WebDevelopment'}, {'relevance': 0.5323288440704346, 'label': 'Technology&Computing>Computing>ProgrammingLanguages'}, {'relevance': 0.044020235538482666, 'label': 'Technology&Computing>Computing>ComputerSoftwareAndApplications>Browsers'}, {'relevance': 0.0038241238798946142, 'label': 'Technology&Computing>Computing>ComputerSoftwareAndApplications'}, {'relevance': 0.0009565321961417794, 'label': 'Technology&Computing>Computing>ComputerSoftwareAndApplications>DesktopPublishing'}, {'relevance': 0.0008406582055613399, 'label': 'FineArt>Design'}, {'relevance': 0.0005968294572085142, 'label': 'Technology&Computing>Computing>Internet>WebHosting'}, {'relevance': 0.0005675060674548149, 'label': 'Technology&Computing>Computing'}, {'relevance': 0.0004971881862729788, 'label': 'Technology&Computing>Computing>ComputerSoftwareAndApplications>OperatingSystems'}], 'timestamp': {'start': 306656, 'end': 327154}}, {'text': \"I would try either Django or Flask JavaScript. On the back end I would use Express JS, which just think of it as simplified NodeJS. And on the front end I would use React. And if you need a database, I would try MongoDB. Now, anecdotally I can tell you for Python. I've seen more jobs listed for Django than for Flask. And I've seen more Express JS jobs over Django. On the front end, I think React is pretty solid.\", 'labels': [{'relevance': 0.17731152474880219, 'label': 'Technology&Computing>Computing>Internet>WebDevelopment'}, {'relevance': 0.042717643082141876, 'label': 'Technology&Computing>Computing>Internet>WebDesignAndHTML'}, {'relevance': 0.009769011288881302, 'label': 'Technology&Computing>Computing>Internet>WebHosting'}, {'relevance': 0.00248871766962111, 'label': 'Technology&Computing>Computing>ProgrammingLanguages'}, {'relevance': 0.0013938765041530132, 'label': 'Technology&Computing>Computing>Internet>CloudComputing'}, {'relevance': 0.0009176176972687244, 'label': 'Technology&Computing>Computing>ComputerSoftwareAndApplications>Databases'}, {'relevance': 0.00039062119321897626, 'label': 'Technology&Computing>Computing>DataStorageAndWarehousing'}, {'relevance': 0.0003169933916069567, 'label': 'Religion&Spirituality>Spirituality'}, {'relevance': 0.00023628401686437428, 'label': 'Technology&Computing>Computing>ComputerSoftwareAndApplications'}, {'relevance': 0.00021956489945296198, 'label': 'BusinessAndFinance>Business>BusinessBanking&Finance>AngelInvestment'}], 'timestamp': {'start': 327202, 'end': 350662}}, {'text': \"After that time you should learn C and C as it'll teach you everything you need to know to learn any other programming language. I love this method because you start learning the practical and marketable stuff immediately, but then you start preparing yourself for the long term necessities. This keeps your motivation higher and it really just makes you marketable quicker. Now, what websites should I build? Think back to useful, but not too useful. This doesn't need to be very complicated.\", 'labels': [{'relevance': 0.85298752784729, 'label': 'Technology&Computing>Computing>Internet>WebDevelopment'}, {'relevance': 0.7557259798049927, 'label': 'Technology&Computing>Computing>Internet>WebDesignAndHTML'}, {'relevance': 0.5871409773826599, 'label': 'Technology&Computing>Computing>ProgrammingLanguages'}, {'relevance': 0.009738224558532238, 'label': 'FineArt>Design'}, {'relevance': 0.007303565740585327, 'label': 'Technology&Computing>Computing>ComputerSoftwareAndApplications'}, {'relevance': 0.0031537036411464214, 'label': 'Technology&Computing>Computing>Internet>WebHosting'}, {'relevance': 0.0026109879836440086, 'label': 'Technology&Computing>Computing'}, {'relevance': 0.0018567300867289305, 'label': 'Technology&Computing>Computing>ComputerSoftwareAndApplications>DesktopPublishing'}, {'relevance': 0.0016169832088053226, 'label': 'Technology&Computing>Computing>ComputerSoftwareAndApplications>Browsers'}, {'relevance': 0.0009126054355874658, 'label': 'Education>LanguageLearning'}], 'timestamp': {'start': 350746, 'end': 374314}}, {'text': \"In fact, it really shouldn't be complicated at all. There's going to be a lot of new ideas and concepts thrown at you. If you try to build the next Tinder or the next Instagram, you're going to end up with no product, no learnings, and no motivation. Now, before I give some concrete examples, and I will, let's talk about what makes projects good in an abstract sense. It's always best to create things that you actually find useful.\", 'labels': [{'relevance': 0.39708665013313293, 'label': 'FineArt>Design'}, {'relevance': 0.08325543254613876, 'label': 'Hobbies&Interests>ContentProduction'}, {'relevance': 0.022942842915654182, 'label': 'BusinessAndFinance>Industries>ConstructionIndustry'}, {'relevance': 0.01291537843644619, 'label': 'Technology&Computing>Computing>Internet>WebDevelopment'}, {'relevance': 0.0121617978438735, 'label': 'Technology&Computing>Computing>Internet>SocialNetworking'}, {'relevance': 0.010741615667939186, 'label': 'BusinessAndFinance>Business>BusinessOperations'}, {'relevance': 0.009305150248110294, 'label': 'Hobbies&Interests'}, {'relevance': 0.008536470122635365, 'label': 'BusinessAndFinance>Business>MarketingAndAdvertising'}, {'relevance': 0.005567342508584261, 'label': 'Technology&Computing>Computing>ComputerSoftwareAndApplications'}, {'relevance': 0.00478794751688838, 'label': 'BusinessAndFinance>Business>Startups'}], 'timestamp': {'start': 374362, 'end': 394210}}, {'text': \"I'll give you an example of one of my first I projects. So I created this thing called spotify to YouTube. MP3. In university I had a trial of Spotify and when it ran out, I was too cheap to buy Spotify. I didn't have any money, but I had 400 plus songs in my playlist. I didn't want to lose all that. So I created a Python program that uses the Spotify API to get those songs and then YouTube's API to download the MP3 version.\", 'labels': [{'relevance': 0.09203676879405975, 'label': 'Hobbies&Interests>ContentProduction'}, {'relevance': 0.040834445506334305, 'label': 'Hobbies&Interests>ContentProduction>AudioProduction'}, {'relevance': 0.02692844346165657, 'label': 'Technology&Computing>Computing>Internet>WebDevelopment'}, {'relevance': 0.017095258459448814, 'label': 'Technology&Computing>Computing>ComputerSoftwareAndApplications>SharewareAndFreeware'}, {'relevance': 0.010749892331659794, 'label': 'Technology&Computing>Computing>Internet>WebDesignAndHTML'}, {'relevance': 0.01068969164043665, 'label': 'Technology&Computing>Computing>ComputerSoftwareAndApplications>DigitalAudio'}, {'relevance': 0.008220680058002472, 'label': 'Technology&Computing>Computing>ComputerSoftwareAndApplications>VideoSoftware'}, {'relevance': 0.007901264354586601, 'label': 'Television>MusicTV'}, {'relevance': 0.007337212096899748, 'label': 'Technology&Computing>Computing>ComputerSoftwareAndApplications'}, {'relevance': 0.006411116104573011, 'label': 'Technology&Computing>Computing>ProgrammingLanguages'}], 'timestamp': {'start': 394270, 'end': 417550}}, {'text': \"Now, I had all the same music, but for free. This project was one of the few that I actually finished, and it's one of the few employers loved asking about. Why? Well, one, because it's unique, but two, because I actually used it. I built it for myself. Other projects I would start and then I would lose motivation and I would never finish. Think a little about some problem that you have in your life that would be nice to know.\", 'labels': [{'relevance': 0.16955216228961945, 'label': 'MusicAndAudio'}, {'relevance': 0.13260112702846527, 'label': 'FineArt>Design'}, {'relevance': 0.030012410134077072, 'label': 'Hobbies&Interests>ContentProduction'}, {'relevance': 0.016454193741083145, 'label': 'Hobbies&Interests'}, {'relevance': 0.015356110408902168, 'label': 'Careers>RemoteWorking'}, {'relevance': 0.010535999201238155, 'label': 'Technology&Computing>Computing>ComputerSoftwareAndApplications>DesktopPublishing'}, {'relevance': 0.009663094766438007, 'label': 'FineArt>DigitalArts'}, {'relevance': 0.0072066690772771835, 'label': 'MusicAndAudio>World/InternationalMusic'}, {'relevance': 0.007203179877251387, 'label': 'Hobbies&Interests>ArtsAndCrafts>DrawingAndSketching'}, {'relevance': 0.005967887584120035, 'label': 'Hobbies&Interests>ContentProduction>AudioProduction'}], 'timestamp': {'start': 417670, 'end': 437874}}, {'text': \"Like maybe it's just knowing when your favorite beer is on sale, or maybe it's an online clip for it. So you don't have to keep messaging yourself random shit on Facebook Messenger all the time. It doesn't have to be relevant for everyone. It really just has to be relevant for you. Now, if you don't have an idea yet, don't panic. I have a solution for that.\", 'labels': [{'relevance': 0.9692192077636719, 'label': 'Technology&Computing>Computing>Internet>SocialNetworking'}, {'relevance': 0.008570987731218338, 'label': 'Hobbies&Interests>ContentProduction'}, {'relevance': 0.0052134268917143345, 'label': 'FamilyAndRelationships>Dating'}, {'relevance': 0.0016554725589230657, 'label': 'Technology&Computing>Computing>ComputerSoftwareAndApplications>WebConferencing'}, {'relevance': 0.0006616743630729616, 'label': 'Careers>RemoteWorking'}, {'relevance': 0.0006564685027115047, 'label': 'Technology&Computing>ConsumerElectronics>Smartphones'}, {'relevance': 0.0005191037198528647, 'label': 'VideoGaming>MobileGames'}, {'relevance': 0.00048495514784008265, 'label': 'MusicAndAudio>TalkRadio>News/TalkRadio'}, {'relevance': 0.00043526815716177225, 'label': 'Technology&Computing>Computing>Internet>Email'}, {'relevance': 0.00029846199322491884, 'label': 'BusinessAndFinance>Business>MarketingAndAdvertising'}], 'timestamp': {'start': 437912, 'end': 453954}}, {'text': \"You're allowed to follow a tutorial on YouTube or Udemy or any of those sites, but you're not allowed to build the same website as them. For example, if you're following a tutorial on how to build a weather website, instead try building something like a currency converter. That's a real example that I did. What's great about that is most of the code and the concepts are going to be the exact same, but it restricts you from being able to copy and paste the solution.\", 'labels': [{'relevance': 0.5352057814598083, 'label': 'Technology&Computing>Computing>Internet>WebDevelopment'}, {'relevance': 0.42703500390052795, 'label': 'Technology&Computing>Computing>Internet>WebDesignAndHTML'}, {'relevance': 0.0054445709101855755, 'label': 'Technology&Computing>Computing>Internet>WebHosting'}, {'relevance': 0.003227920038625598, 'label': 'Technology&Computing>Computing>ComputerSoftwareAndApplications>WebConferencing'}, {'relevance': 0.003130791475996375, 'label': 'Technology&Computing>Computing>ComputerSoftwareAndApplications>SharewareAndFreeware'}, {'relevance': 0.003057091496884823, 'label': 'Technology&Computing>Computing>ComputerSoftwareAndApplications>Browsers'}, {'relevance': 0.002309424802660942, 'label': 'Hobbies&Interests>ContentProduction'}, {'relevance': 0.0018766963621601462, 'label': 'Technology&Computing>Computing>ComputerSoftwareAndApplications'}, {'relevance': 0.0014637864660471678, 'label': 'Technology&Computing>Computing>Internet>InternetForBeginners'}, {'relevance': 0.0013418524758890271, 'label': 'Technology&Computing>Computing>ProgrammingLanguages'}], 'timestamp': {'start': 453992, 'end': 477406}}, {'text': \"Therefore, you can follow the tutorial, but you can't copy it. Now moving back to C plus plus for a second, the best and most popular languages and frameworks are always going to change. They're changing as we speak right now. Don't underestimate those fundamentals you've learned in C and C, because ultimately, if you know those well, most other languages are just going to be some subset of those languages. Also know you're going to experience the Dunn and Kruger effect.\", 'labels': [{'relevance': 0.9939484596252441, 'label': 'Technology&Computing>Computing>ProgrammingLanguages'}, {'relevance': 0.005872385110706091, 'label': 'Technology&Computing>Computing>Internet>WebDevelopment'}, {'relevance': 0.0056303427554667, 'label': 'Technology&Computing>Computing>ComputerSoftwareAndApplications>OperatingSystems'}, {'relevance': 0.00528445839881897, 'label': 'Technology&Computing>Computing'}, {'relevance': 0.0024528729263693094, 'label': 'Technology&Computing>Computing>Internet>WebDesignAndHTML'}, {'relevance': 0.0016710247145965695, 'label': 'Technology&Computing>Computing>ComputerSoftwareAndApplications'}, {'relevance': 0.0003813270013779402, 'label': 'Technology&Computing>Computing>ComputerSoftwareAndApplications>Databases'}, {'relevance': 0.0003672902239486575, 'label': 'Hobbies&Interests>GamesAndPuzzles>RoleplayingGames'}, {'relevance': 0.00034463315387256444, 'label': 'Technology&Computing>ArtificialIntelligence'}, {'relevance': 0.00032086644205264747, 'label': 'FineArt>Design'}], 'timestamp': {'start': 477478, 'end': 501978}}, {'text': \"This curve shows when somebody's learning a new skill at the beginning. They tend to be overconfident in their abilities. When they start to learn more, they see they actually have so much to learn, they quickly lose all their confidence and it takes them a while to build it back up. Bear in mind, you're going to go through this process. You're supposed to feel like you're not good enough. You're supposed to feel like you're not smart enough for this.\", 'labels': [{'relevance': 0.06488632410764694, 'label': 'Education>LanguageLearning'}, {'relevance': 0.03224852308630943, 'label': 'FamilyAndRelationships>Parenting>ParentingBabiesAndToddlers'}, {'relevance': 0.00623236084356904, 'label': 'Education>EducationalAssessment'}, {'relevance': 0.0021481183357536793, 'label': 'FamilyAndRelationships>Parenting>ParentingChildrenAged4-11'}, {'relevance': 0.0019374764524400234, 'label': 'Education>AdultEducation'}, {'relevance': 0.0016969263087958097, 'label': 'Education>HomeworkAndStudy'}, {'relevance': 0.0015601515769958496, 'label': 'Careers>Apprenticeships'}, {'relevance': 0.0009387035388499498, 'label': 'Education>EarlyChildhoodEducation'}, {'relevance': 0.0007387286750599742, 'label': 'VideoGaming>VideoGameGenres>EducationalVideoGames'}, {'relevance': 0.0005690720281563699, 'label': 'BusinessAndFinance>Industries>EducationIndustry'}], 'timestamp': {'start': 502064, 'end': 522090}}, {'text': \"But trust me, if I can do it, then you can do it. One important resource is hackathons. It's weird to be at a hackathon in the first place, but it's cool to see all of this. Hackathons are scary because you'll go not knowing much, but people will expose you to things you didn't know you didn't know. They'll help you build and complete an entire project in 48 hours.\", 'labels': [{'relevance': 0.007442381698638201, 'label': 'Hobbies&Interests>ContentProduction'}, {'relevance': 0.006111298222094774, 'label': 'Technology&Computing>Computing>ComputerSoftwareAndApplications>WebConferencing'}, {'relevance': 0.0033049092162400484, 'label': 'Education>OnlineEducation'}, {'relevance': 0.0030424182768911123, 'label': 'BusinessAndFinance>Business>Startups'}, {'relevance': 0.001901187002658844, 'label': 'Technology&Computing>Computing>Internet>SocialNetworking'}, {'relevance': 0.0010258660186082125, 'label': 'Technology&Computing>Computing>Internet>WebDevelopment'}, {'relevance': 0.0008793187444098294, 'label': 'EventsAndAttractions>FanConventions'}, {'relevance': 0.0008667990332469344, 'label': 'Sports>ExtremeSports'}, {'relevance': 0.0007628592429682612, 'label': 'BusinessAndFinance>Business>BusinessBanking&Finance>AngelInvestment'}, {'relevance': 0.0007463080692104995, 'label': 'Technology&Computing>Computing>Internet>InternetForBeginners'}], 'timestamp': {'start': 522200, 'end': 540282}}, {'text': \"They're also just really fun, even if the food is actually terrible every single time. Now don't forget, this comes after you learn the basics of coding. Don't try to program before you know how to code and don't waste all of your time coding and not programming subscribe. Smash the like button and go break some eggs.\", 'labels': [{'relevance': 0.2720946967601776, 'label': 'BooksAndLiterature>Cookbooks'}, {'relevance': 0.032381560653448105, 'label': 'Food&Drink>DiningOut'}, {'relevance': 0.02846251055598259, 'label': 'Food&Drink>Cooking'}, {'relevance': 0.01969105377793312, 'label': 'Food&Drink>DessertsAndBaking'}, {'relevance': 0.003955882973968983, 'label': 'Food&Drink>WorldCuisines'}, {'relevance': 0.0030073837842792273, 'label': 'Food&Drink'}, {'relevance': 0.0007449231925420463, 'label': 'VideoGaming>VideoGameGenres>PuzzleVideoGames'}, {'relevance': 0.0005127813783474267, 'label': 'Food&Drink>BarbecuesAndGrilling'}, {'relevance': 0.000488660647533834, 'label': 'VideoGaming>VideoGameGenres>EducationalVideoGames'}, {'relevance': 0.0004188933235127479, 'label': 'Technology&Computing>ArtificialIntelligence'}], 'timestamp': {'start': 540356, 'end': 555430}}], 'summary': {'Technology&Computing>Computing>ProgrammingLanguages': 1.0, 'Technology&Computing>Computing>Internet>WebDevelopment': 0.5175174474716187, 'Technology&Computing>Computing>Internet>WebDesignAndHTML': 0.47423356771469116, 'Technology&Computing>Computing': 0.2718535363674164, 'Technology&Computing>Computing>ComputerSoftwareAndApplications': 0.14077818393707275, 'Technology&Computing>Computing>Internet>SocialNetworking': 0.08103340864181519, 'Technology&Computing>ArtificialIntelligence': 0.06270141899585724, 'FineArt>Design': 0.0489019975066185, 'Hobbies&Interests>GamesAndPuzzles': 0.039069220423698425, 'Hobbies&Interests>GamesAndPuzzles>BoardGamesAndPuzzles': 0.03424403816461563, 'BooksAndLiterature>Cookbooks': 0.022425411269068718, 'Hobbies&Interests>ContentProduction': 0.018505766987800598, 'VideoGaming>VideoGameGenres>EducationalVideoGames': 0.015794876962900162, 'VideoGaming>VideoGameGenres>PuzzleVideoGames': 0.015114272944629192, 'MusicAndAudio': 0.014843412674963474, 'Technology&Computing>Computing>Internet>WebHosting': 0.010826832614839077, 'Technology&Computing>Computing>ComputerSoftwareAndApplications>OperatingSystems': 0.009412819519639015, 'Technology&Computing>Computing>ComputerSoftwareAndApplications>Browsers': 0.008510101586580276, 'Education>LanguageLearning': 0.005914219655096531, 'Hobbies&Interests>ContentProduction>AudioProduction': 0.003974754363298416}}, 'language_detection': False, 'custom_spelling': None, 'disfluencies': False, 'sentiment_analysis': True, 'auto_chapters': True, 'chapters': [{'summary': \"Before working at Microsoft, he did six internships across three countries. He learned C c plus plus, HTML, CSS, TCL, Python, Java, JavaScript and C Sharp. C and C are by far the most useful languages to learn. Coding is just writing code to solve computer science problems. Programming is the act of using coding to make programs that solve real problems. Don't get carried away with learning Python. You don't need to learn advanced things like inheritance exceptions, hash, maps or recursion. There are plenty of interest Python courses in the world, so I'm not going to bore you with the details.\", 'headline': 'He learned C c plus plus, HTML, CSS, TCL, Python, Java, JavaScript and C Sharp.', 'gist': \"Tim's learning curve.\", 'start': 130, 'end': 260010}, {'summary': \"There are three important aspects to a website: the back end, the front end, which runs on the user's browser, and the database, which essentially stores data. The first program I would build would be a basic website. I would use Python either Django or Flask JavaScript for the back-end and express JS for the front-end.\", 'headline': 'There are three important aspects to a website:. The back end, the front end and the database.', 'gist': 'Pick a high - level language to build a website.', 'start': 260060, 'end': 368170}, {'summary': \"It's always best to create things that you find useful. In one of his first projects, he created a website called Spotify to YouTube. MP3. This project was one of the few that he actually finished and employers loved asking about because he used it for himself.\", 'headline': 'In one of his first projects, he created a website called Spotify to YouTube. MP3.', 'gist': 'What websites should i build.', 'start': 368230, 'end': 480738}, {'summary': \"The best and most popular languages and frameworks are always going to change. Don't underestimate those fundamentals you've learned in C and C. Most other languages are going to be some subset of those languages. When learning a new skill at the beginning, people tend to be overconfident in their abilities. When they start to learn more, they lose all their confidence, and it takes them a while to build it back up. Hackathons are scary because you'll go not knowing much, but people expose you to things you didn't know.\", 'headline': \"Don't underestimate the fundamentals you learned in C and C. Most other languages are going to be some subset of those languages.\", 'gist': 'Moving back to c + +.', 'start': 480764, 'end': 555430}], 'sentiment_analysis_results': [{'text': 'This is how I would learn to code if I could start over for context, I work at Microsoft, but before that I did six internships across three countries.', 'start': 130, 'end': 6982, 'sentiment': 'NEUTRAL', 'confidence': 0.5346478819847107, 'speaker': None}, {'text': \"So yeah, I've done a line or two in my life.\", 'start': 7066, 'end': 9234, 'sentiment': 'NEUTRAL', 'confidence': 0.8179047107696533, 'speaker': None}, {'text': 'Wait, not like that.', 'start': 9272, 'end': 10218, 'sentiment': 'NEGATIVE', 'confidence': 0.5471217036247253, 'speaker': None}, {'text': 'What the to tell you what I would change, I first need to tell you what I did.', 'start': 10244, 'end': 13794, 'sentiment': 'NEUTRAL', 'confidence': 0.739031195640564, 'speaker': None}, {'text': 'I started coding in great alignment.', 'start': 13832, 'end': 14986, 'sentiment': 'POSITIVE', 'confidence': 0.8869314193725586, 'speaker': None}, {'text': 'Eleven.', 'start': 14998, 'end': 15346, 'sentiment': 'NEUTRAL', 'confidence': 0.6587144136428833, 'speaker': None}, {'text': 'Well, sort of.', 'start': 15418, 'end': 16278, 'sentiment': 'NEUTRAL', 'confidence': 0.7420035004615784, 'speaker': None}, {'text': 'We started with this language called Scratch.', 'start': 16304, 'end': 17950, 'sentiment': 'NEUTRAL', 'confidence': 0.893219530582428, 'speaker': None}, {'text': \"It's basic game development made for children.\", 'start': 18010, 'end': 20058, 'sentiment': 'NEUTRAL', 'confidence': 0.7345268726348877, 'speaker': None}, {'text': \"Nobody would be stupid enough to, let's say, do an entire Google coding interview in this language and maybe even do shots every time the code fails.\", 'start': 20144, 'end': 26914, 'sentiment': 'NEGATIVE', 'confidence': 0.875649631023407, 'speaker': None}, {'text': \"So let's just skip that and get to the important stuff.\", 'start': 27022, 'end': 29514, 'sentiment': 'NEUTRAL', 'confidence': 0.6973395943641663, 'speaker': None}, {'text': 'I went to Waterloo and in order I learned first racket, then C plus plus HTML, CSS, TCL, Python, java, JavaScript.', 'start': 29552, 'end': 38482, 'sentiment': 'NEUTRAL', 'confidence': 0.7763273119926453, 'speaker': None}, {'text': 'C sharp.', 'start': 38566, 'end': 39118, 'sentiment': 'NEUTRAL', 'confidence': 0.5953956842422485, 'speaker': None}, {'text': 'Some of these were in class, some are on their own.', 'start': 39154, 'end': 41070, 'sentiment': 'NEUTRAL', 'confidence': 0.869880735874176, 'speaker': None}, {'text': \"Here's the motivation behind each racket for recursion, c for memory management, c for object oriented design, HTML and CSS.\", 'start': 41120, 'end': 48910, 'sentiment': 'NEUTRAL', 'confidence': 0.8967366218566895, 'speaker': None}, {'text': 'For web development, although these are not real programming languages or markup languages.', 'start': 49030, 'end': 53302, 'sentiment': 'NEUTRAL', 'confidence': 0.660210907459259, 'speaker': None}, {'text': \"TCL I did an internship and it's useless.\", 'start': 53386, 'end': 56674, 'sentiment': 'NEGATIVE', 'confidence': 0.9422627091407776, 'speaker': None}, {'text': 'Python I learned this alone and over time, but mostly just for side projects java and JavaScript.', 'start': 56782, 'end': 61726, 'sentiment': 'NEUTRAL', 'confidence': 0.7138441205024719, 'speaker': None}, {'text': 'For back end and front end web development.', 'start': 61798, 'end': 63814, 'sentiment': 'NEUTRAL', 'confidence': 0.8338534235954285, 'speaker': None}, {'text': 'And finally C Sharp, which I do for my full time job now.', 'start': 63862, 'end': 66714, 'sentiment': 'NEUTRAL', 'confidence': 0.7743557095527649, 'speaker': None}, {'text': \"But it's essentially Microsoft's version of Java, so let's not talk about it.\", 'start': 66752, 'end': 70374, 'sentiment': 'NEUTRAL', 'confidence': 0.5855547189712524, 'speaker': None}, {'text': 'C and C are by far the most useful languages to learn.', 'start': 70412, 'end': 73410, 'sentiment': 'POSITIVE', 'confidence': 0.967803955078125, 'speaker': None}, {'text': 'After I learned those, I realized most other programming languages are essentially just derivatives of those.', 'start': 73460, 'end': 78498, 'sentiment': 'NEUTRAL', 'confidence': 0.708133339881897, 'speaker': None}, {'text': 'Each new programming language essentially takes those and makes some specific task easier.', 'start': 78584, 'end': 82810, 'sentiment': 'POSITIVE', 'confidence': 0.721838116645813, 'speaker': None}, {'text': 'Basically, all these languages share the same ancestor in C and C.', 'start': 82870, 'end': 86622, 'sentiment': 'NEUTRAL', 'confidence': 0.824542760848999, 'speaker': None}, {'text': 'So clearly you should start by learning these two languages, right?', 'start': 86756, 'end': 89802, 'sentiment': 'NEUTRAL', 'confidence': 0.7661348581314087, 'speaker': None}, {'text': 'No, these languages are pretty intensive.', 'start': 89936, 'end': 92302, 'sentiment': 'NEUTRAL', 'confidence': 0.5466644763946533, 'speaker': None}, {'text': \"If you want to do anything like useful or impactful, it either requires one, a lot of code, or two use of a bunch of libraries that you've never heard of before, and honestly are probably not worth learning.\", 'start': 92386, 'end': 104910, 'sentiment': 'NEGATIVE', 'confidence': 0.7735224366188049, 'speaker': None}, {'text': 'Which brings me to my point.', 'start': 105020, 'end': 106542, 'sentiment': 'NEUTRAL', 'confidence': 0.7974764108657837, 'speaker': None}, {'text': 'You need to do something useful, but not too useful.', 'start': 106616, 'end': 109450, 'sentiment': 'NEUTRAL', 'confidence': 0.5582549571990967, 'speaker': None}, {'text': 'Now hear me out.', 'start': 109510, 'end': 110178, 'sentiment': 'NEUTRAL', 'confidence': 0.662054181098938, 'speaker': None}, {'text': \"If you're learning C, it's going to be relatively easy to start solving some basic math problem and you'll print the solution on the screen, but all of your code is contained to this little terminal.\", 'start': 110204, 'end': 120058, 'sentiment': 'POSITIVE', 'confidence': 0.6501603722572327, 'speaker': None}, {'text': \"If you want to make a graphical game or connect to a website or do anything quote unquote useful, it'll actually be really hard, even for me right now.\", 'start': 120094, 'end': 128154, 'sentiment': 'NEGATIVE', 'confidence': 0.557974100112915, 'speaker': None}, {'text': 'I would have to do a lot of googling to even figure out how to do those things.', 'start': 128252, 'end': 131610, 'sentiment': 'NEGATIVE', 'confidence': 0.7108500599861145, 'speaker': None}, {'text': 'Essentially, if you start with C, anything useful is going to be too hard and this will be really demotivating.', 'start': 131720, 'end': 137278, 'sentiment': 'NEGATIVE', 'confidence': 0.7984553575515747, 'speaker': None}, {'text': \"Now, let's look at the opposite end of the spectrum.\", 'start': 137374, 'end': 139894, 'sentiment': 'NEUTRAL', 'confidence': 0.5881260633468628, 'speaker': None}, {'text': 'Many students want to get into coding, and the first thing they want to do is learn machine learning.', 'start': 140002, 'end': 144138, 'sentiment': 'POSITIVE', 'confidence': 0.589542031288147, 'speaker': None}, {'text': \"Here's the thing.\", 'start': 144224, 'end': 144798, 'sentiment': 'NEUTRAL', 'confidence': 0.636462926864624, 'speaker': None}, {'text': \"Machine learning is super useful in the real world, but it's all advanced math.\", 'start': 144824, 'end': 149290, 'sentiment': 'POSITIVE', 'confidence': 0.886936366558075, 'speaker': None}, {'text': \"So if you start with it, you're going to be learning one computer science basics, two Python, for example, and three advanced math topics all at the same time.\", 'start': 149350, 'end': 158874, 'sentiment': 'NEUTRAL', 'confidence': 0.7047243118286133, 'speaker': None}, {'text': \"And unless you are literally a genie, you're going to come out of that not really knowing any of the three.\", 'start': 158972, 'end': 165198, 'sentiment': 'NEGATIVE', 'confidence': 0.5280717015266418, 'speaker': None}, {'text': 'The sweet spot is somewhere in the middle.', 'start': 165284, 'end': 167178, 'sentiment': 'NEUTRAL', 'confidence': 0.5735204815864563, 'speaker': None}, {'text': \"You need to do something that's useful, but not too useful.\", 'start': 167264, 'end': 170050, 'sentiment': 'NEUTRAL', 'confidence': 0.5787485241889954, 'speaker': None}, {'text': \"Now that we're talking about doing useful things, let's clear up the distinction between coding and programming.\", 'start': 170110, 'end': 174646, 'sentiment': 'NEUTRAL', 'confidence': 0.5392613410949707, 'speaker': None}, {'text': 'Coding is just writing code to solve computer science problems.', 'start': 174718, 'end': 177678, 'sentiment': 'NEUTRAL', 'confidence': 0.6184105277061462, 'speaker': None}, {'text': \"Let's call them math problems to show the distinction.\", 'start': 177764, 'end': 180202, 'sentiment': 'NEUTRAL', 'confidence': 0.796813428401947, 'speaker': None}, {'text': 'This is what you need as a prerequisite to learn how to program.', 'start': 180286, 'end': 184542, 'sentiment': 'NEUTRAL', 'confidence': 0.6658993363380432, 'speaker': None}, {'text': 'Programming is the ultimate goal.', 'start': 184676, 'end': 186370, 'sentiment': 'POSITIVE', 'confidence': 0.6764254570007324, 'speaker': None}, {'text': 'Programming is the act of using coding to make programs that solve real problems.', 'start': 186430, 'end': 190938, 'sentiment': 'POSITIVE', 'confidence': 0.5197545886039734, 'speaker': None}, {'text': 'You need to learn the fundamentals of coding to know how to program.', 'start': 191084, 'end': 194610, 'sentiment': 'NEUTRAL', 'confidence': 0.7295411229133606, 'speaker': None}, {'text': 'Remember when I talked to people starting in machine learning?', 'start': 194720, 'end': 197070, 'sentiment': 'NEUTRAL', 'confidence': 0.8394114375114441, 'speaker': None}, {'text': 'This is trying to program before you know how to code.', 'start': 197120, 'end': 199386, 'sentiment': 'NEGATIVE', 'confidence': 0.5564076900482178, 'speaker': None}, {'text': 'And people only solving math problems in C is knowing how to code and never using that to program.', 'start': 199448, 'end': 205158, 'sentiment': 'NEGATIVE', 'confidence': 0.6513679027557373, 'speaker': None}, {'text': 'There are tons of tools, use cases, frameworks that surround each coding language.', 'start': 205244, 'end': 209014, 'sentiment': 'POSITIVE', 'confidence': 0.6550818681716919, 'speaker': None}, {'text': 'But in the beginning, you kind of need to isolate the coding language itself, learn the basics of that, and then you can take it and learn how to program with it.', 'start': 209062, 'end': 217002, 'sentiment': 'NEUTRAL', 'confidence': 0.8416738510131836, 'speaker': None}, {'text': 'The easiest thing to start with is probably Python.', 'start': 217016, 'end': 219310, 'sentiment': 'POSITIVE', 'confidence': 0.7335740923881531, 'speaker': None}, {'text': \"But honestly, I wouldn't be upset if you picked JavaScript and I'll explain later.\", 'start': 219370, 'end': 223218, 'sentiment': 'NEUTRAL', 'confidence': 0.6367215514183044, 'speaker': None}, {'text': 'Python mostly looks like plain English.', 'start': 223304, 'end': 225166, 'sentiment': 'NEUTRAL', 'confidence': 0.5612024664878845, 'speaker': None}, {'text': \"Even if you don't know how to code, you can sort of read it.\", 'start': 225238, 'end': 227562, 'sentiment': 'NEUTRAL', 'confidence': 0.6791304349899292, 'speaker': None}, {'text': \"It's super easy to get started in.\", 'start': 227636, 'end': 229110, 'sentiment': 'POSITIVE', 'confidence': 0.958198606967926, 'speaker': None}, {'text': 'You can immediately start learning the basics like variables, functions move quickly into data structures and algorithms.', 'start': 229160, 'end': 234826, 'sentiment': 'NEUTRAL', 'confidence': 0.511694610118866, 'speaker': None}, {'text': \"You'll really want to know the basics about types like arrays and the basics of control, flow like functions, loops, and even a little bit about classes.\", 'start': 234898, 'end': 243286, 'sentiment': 'NEUTRAL', 'confidence': 0.8043642044067383, 'speaker': None}, {'text': \"Don't get carried away.\", 'start': 243358, 'end': 244422, 'sentiment': 'NEUTRAL', 'confidence': 0.6663515567779541, 'speaker': None}, {'text': \"You don't need to learn advanced things like inheritance, for example.\", 'start': 244496, 'end': 248094, 'sentiment': 'NEUTRAL', 'confidence': 0.5618823766708374, 'speaker': None}, {'text': \"If you're feeling a little feisty, you might want to learn exceptions, hash, maps, maybe sprinkle in a little recursion.\", 'start': 248192, 'end': 253942, 'sentiment': 'NEUTRAL', 'confidence': 0.8268460035324097, 'speaker': None}, {'text': \"Now, there are plenty of interest Python courses in the world, so I'm not going to bore you with the details.\", 'start': 254026, 'end': 258394, 'sentiment': 'POSITIVE', 'confidence': 0.6031475067138672, 'speaker': None}, {'text': \"I'm sure you can find that on your own.\", 'start': 258442, 'end': 260010, 'sentiment': 'NEUTRAL', 'confidence': 0.7314687371253967, 'speaker': None}, {'text': \"But now that you have a coding language down, let's talk about programming.\", 'start': 260060, 'end': 263806, 'sentiment': 'NEUTRAL', 'confidence': 0.7071746587753296, 'speaker': None}, {'text': \"So the first thing I would do is take what I've learned and build a website.\", 'start': 263878, 'end': 267150, 'sentiment': 'NEUTRAL', 'confidence': 0.6182606220245361, 'speaker': None}, {'text': 'Now, there are three important aspects to a website.', 'start': 267260, 'end': 269562, 'sentiment': 'NEUTRAL', 'confidence': 0.6375629305839539, 'speaker': None}, {'text': \"There's the back end, which kind of manages user data.\", 'start': 269636, 'end': 272430, 'sentiment': 'NEUTRAL', 'confidence': 0.8200095295906067, 'speaker': None}, {'text': \"There's the front end, which is what runs on the user's browser.\", 'start': 272540, 'end': 275542, 'sentiment': 'NEUTRAL', 'confidence': 0.8629708290100098, 'speaker': None}, {'text': \"And then there's the database, which essentially just stores data.\", 'start': 275626, 'end': 278310, 'sentiment': 'NEUTRAL', 'confidence': 0.6284099221229553, 'speaker': None}, {'text': \"Now, we'll start with back end.\", 'start': 278360, 'end': 279354, 'sentiment': 'NEUTRAL', 'confidence': 0.8280033469200134, 'speaker': None}, {'text': \"You're going to want to pick a pretty high level language, either one Python or two JavaScript.\", 'start': 279392, 'end': 284146, 'sentiment': 'NEUTRAL', 'confidence': 0.5560627579689026, 'speaker': None}, {'text': 'The first program I would build would be a basic website.', 'start': 284218, 'end': 286458, 'sentiment': 'NEUTRAL', 'confidence': 0.8119492530822754, 'speaker': None}, {'text': 'And what type of website?', 'start': 286544, 'end': 287562, 'sentiment': 'NEUTRAL', 'confidence': 0.7375393509864807, 'speaker': None}, {'text': 'What does that website do?', 'start': 287636, 'end': 288714, 'sentiment': 'NEUTRAL', 'confidence': 0.7639157176017761, 'speaker': None}, {'text': \"Well, I'll explain that in a minute, but for now, let's just make a project in that language.\", 'start': 288752, 'end': 292390, 'sentiment': 'NEUTRAL', 'confidence': 0.752339243888855, 'speaker': None}, {'text': \"Now, when making a back end, you're going to learn concepts like Http methods, get post for example.\", 'start': 292510, 'end': 297714, 'sentiment': 'NEUTRAL', 'confidence': 0.8235530853271484, 'speaker': None}, {'text': 'Depending on the project, you might be interacting with the database.', 'start': 297812, 'end': 300634, 'sentiment': 'NEUTRAL', 'confidence': 0.8708140254020691, 'speaker': None}, {'text': \"Once you start to feel comfortable and have your basic back end working, then let's try our hand at the front end.\", 'start': 300742, 'end': 306582, 'sentiment': 'POSITIVE', 'confidence': 0.5064377188682556, 'speaker': None}, {'text': \"Now, on the front end you're going to be using things like JavaScript, HTML, CSS.\", 'start': 306656, 'end': 310342, 'sentiment': 'NEUTRAL', 'confidence': 0.7735817432403564, 'speaker': None}, {'text': 'This is the reason I said JavaScript is actually a pretty good starting language because you can use it for the back end and the front end.', 'start': 310486, 'end': 316206, 'sentiment': 'POSITIVE', 'confidence': 0.9345772862434387, 'speaker': None}, {'text': 'I said each programming language is a bunch of tools and frameworks that make it easier to use.', 'start': 316268, 'end': 320838, 'sentiment': 'POSITIVE', 'confidence': 0.8011555075645447, 'speaker': None}, {'text': \"Basically, there's no reason for you to write code that somebody else has already written.\", 'start': 320924, 'end': 324790, 'sentiment': 'NEGATIVE', 'confidence': 0.5549567937850952, 'speaker': None}, {'text': 'The frameworks I would use for these languages would be Python.', 'start': 324850, 'end': 327154, 'sentiment': 'NEUTRAL', 'confidence': 0.8404123783111572, 'speaker': None}, {'text': 'I would try either Django or Flask JavaScript.', 'start': 327202, 'end': 329770, 'sentiment': 'NEUTRAL', 'confidence': 0.6062102317810059, 'speaker': None}, {'text': 'On the back end I would use Express JS, which just think of it as simplified NodeJS.', 'start': 329830, 'end': 334366, 'sentiment': 'NEUTRAL', 'confidence': 0.6809142827987671, 'speaker': None}, {'text': 'And on the front end I would use React.', 'start': 334438, 'end': 336274, 'sentiment': 'NEUTRAL', 'confidence': 0.704187273979187, 'speaker': None}, {'text': 'And if you need a database, I would try MongoDB.', 'start': 336382, 'end': 339310, 'sentiment': 'NEUTRAL', 'confidence': 0.7073674201965332, 'speaker': None}, {'text': 'Now, anecdotally I can tell you for Python.', 'start': 339430, 'end': 341974, 'sentiment': 'NEUTRAL', 'confidence': 0.7925254106521606, 'speaker': None}, {'text': \"I've seen more jobs listed for Django than for Flask.\", 'start': 342022, 'end': 344974, 'sentiment': 'NEUTRAL', 'confidence': 0.5759443044662476, 'speaker': None}, {'text': \"And I've seen more Express JS jobs over Django.\", 'start': 345022, 'end': 347866, 'sentiment': 'NEUTRAL', 'confidence': 0.5639676451683044, 'speaker': None}, {'text': 'On the front end, I think React is pretty solid.', 'start': 347938, 'end': 350662, 'sentiment': 'POSITIVE', 'confidence': 0.9563320279121399, 'speaker': None}, {'text': \"After that time you should learn C and C as it'll teach you everything you need to know to learn any other programming language.\", 'start': 350746, 'end': 356758, 'sentiment': 'NEUTRAL', 'confidence': 0.5493811964988708, 'speaker': None}, {'text': 'I love this method because you start learning the practical and marketable stuff immediately, but then you start preparing yourself for the long term necessities.', 'start': 356794, 'end': 364642, 'sentiment': 'POSITIVE', 'confidence': 0.9735389947891235, 'speaker': None}, {'text': 'This keeps your motivation higher and it really just makes you marketable quicker.', 'start': 364726, 'end': 368170, 'sentiment': 'POSITIVE', 'confidence': 0.9578549265861511, 'speaker': None}, {'text': 'Now, what websites should I build?', 'start': 368230, 'end': 370026, 'sentiment': 'NEUTRAL', 'confidence': 0.8505815863609314, 'speaker': None}, {'text': 'Think back to useful, but not too useful.', 'start': 370088, 'end': 372838, 'sentiment': 'NEUTRAL', 'confidence': 0.5802828073501587, 'speaker': None}, {'text': \"This doesn't need to be very complicated.\", 'start': 372874, 'end': 374314, 'sentiment': 'NEUTRAL', 'confidence': 0.5967434644699097, 'speaker': None}, {'text': \"In fact, it really shouldn't be complicated at all.\", 'start': 374362, 'end': 376734, 'sentiment': 'NEUTRAL', 'confidence': 0.5752805471420288, 'speaker': None}, {'text': \"There's going to be a lot of new ideas and concepts thrown at you.\", 'start': 376772, 'end': 379482, 'sentiment': 'POSITIVE', 'confidence': 0.6405042409896851, 'speaker': None}, {'text': \"If you try to build the next Tinder or the next Instagram, you're going to end up with no product, no learnings, and no motivation.\", 'start': 379556, 'end': 385306, 'sentiment': 'NEGATIVE', 'confidence': 0.7325589060783386, 'speaker': None}, {'text': \"Now, before I give some concrete examples, and I will, let's talk about what makes projects good in an abstract sense.\", 'start': 385378, 'end': 390942, 'sentiment': 'POSITIVE', 'confidence': 0.509469211101532, 'speaker': None}, {'text': \"It's always best to create things that you actually find useful.\", 'start': 391016, 'end': 394210, 'sentiment': 'POSITIVE', 'confidence': 0.7775262594223022, 'speaker': None}, {'text': \"I'll give you an example of one of my first I projects.\", 'start': 394270, 'end': 396730, 'sentiment': 'NEUTRAL', 'confidence': 0.8539754748344421, 'speaker': None}, {'text': 'So I created this thing called spotify to YouTube.', 'start': 396790, 'end': 398938, 'sentiment': 'NEUTRAL', 'confidence': 0.7657281160354614, 'speaker': None}, {'text': 'MP3.', 'start': 398974, 'end': 399618, 'sentiment': 'NEUTRAL', 'confidence': 0.6124240756034851, 'speaker': None}, {'text': 'In university I had a trial of Spotify and when it ran out, I was too cheap to buy Spotify.', 'start': 399704, 'end': 405526, 'sentiment': 'NEUTRAL', 'confidence': 0.49394363164901733, 'speaker': None}, {'text': \"I didn't have any money, but I had 400 plus songs in my playlist.\", 'start': 405598, 'end': 409426, 'sentiment': 'POSITIVE', 'confidence': 0.5217269659042358, 'speaker': None}, {'text': \"I didn't want to lose all that.\", 'start': 409498, 'end': 410694, 'sentiment': 'NEUTRAL', 'confidence': 0.5269023776054382, 'speaker': None}, {'text': \"So I created a Python program that uses the Spotify API to get those songs and then YouTube's API to download the MP3 version.\", 'start': 410732, 'end': 417550, 'sentiment': 'NEUTRAL', 'confidence': 0.7934951186180115, 'speaker': None}, {'text': 'Now, I had all the same music, but for free.', 'start': 417670, 'end': 420234, 'sentiment': 'NEUTRAL', 'confidence': 0.7638150453567505, 'speaker': None}, {'text': \"This project was one of the few that I actually finished, and it's one of the few employers loved asking about.\", 'start': 420332, 'end': 425322, 'sentiment': 'POSITIVE', 'confidence': 0.9488227367401123, 'speaker': None}, {'text': 'Why?', 'start': 425396, 'end': 425742, 'sentiment': 'NEUTRAL', 'confidence': 0.6120101809501648, 'speaker': None}, {'text': \"Well, one, because it's unique, but two, because I actually used it.\", 'start': 425816, 'end': 429042, 'sentiment': 'POSITIVE', 'confidence': 0.6704995632171631, 'speaker': None}, {'text': 'I built it for myself.', 'start': 429056, 'end': 430158, 'sentiment': 'NEUTRAL', 'confidence': 0.615144670009613, 'speaker': None}, {'text': 'Other projects I would start and then I would lose motivation and I would never finish.', 'start': 430304, 'end': 434178, 'sentiment': 'NEGATIVE', 'confidence': 0.8357760906219482, 'speaker': None}, {'text': 'Think a little about some problem that you have in your life that would be nice to know.', 'start': 434264, 'end': 437874, 'sentiment': 'NEUTRAL', 'confidence': 0.6102671027183533, 'speaker': None}, {'text': \"Like maybe it's just knowing when your favorite beer is on sale, or maybe it's an online clip for it.\", 'start': 437912, 'end': 443718, 'sentiment': 'NEUTRAL', 'confidence': 0.7600290775299072, 'speaker': None}, {'text': \"So you don't have to keep messaging yourself random shit on Facebook Messenger all the time.\", 'start': 443744, 'end': 447606, 'sentiment': 'NEGATIVE', 'confidence': 0.738918662071228, 'speaker': None}, {'text': \"It doesn't have to be relevant for everyone.\", 'start': 447668, 'end': 449190, 'sentiment': 'NEUTRAL', 'confidence': 0.7199052572250366, 'speaker': None}, {'text': 'It really just has to be relevant for you.', 'start': 449240, 'end': 450942, 'sentiment': 'NEUTRAL', 'confidence': 0.7812954187393188, 'speaker': None}, {'text': \"Now, if you don't have an idea yet, don't panic.\", 'start': 451016, 'end': 452806, 'sentiment': 'NEUTRAL', 'confidence': 0.6423847079277039, 'speaker': None}, {'text': 'I have a solution for that.', 'start': 452878, 'end': 453954, 'sentiment': 'NEUTRAL', 'confidence': 0.6882500648498535, 'speaker': None}, {'text': \"You're allowed to follow a tutorial on YouTube or Udemy or any of those sites, but you're not allowed to build the same website as them.\", 'start': 453992, 'end': 461826, 'sentiment': 'NEUTRAL', 'confidence': 0.6052926778793335, 'speaker': None}, {'text': \"For example, if you're following a tutorial on how to build a weather website, instead try building something like a currency converter.\", 'start': 461888, 'end': 468538, 'sentiment': 'NEUTRAL', 'confidence': 0.7396888732910156, 'speaker': None}, {'text': \"That's a real example that I did.\", 'start': 468634, 'end': 470178, 'sentiment': 'NEUTRAL', 'confidence': 0.5789536237716675, 'speaker': None}, {'text': \"What's great about that is most of the code and the concepts are going to be the exact same, but it restricts you from being able to copy and paste the solution.\", 'start': 470264, 'end': 477406, 'sentiment': 'POSITIVE', 'confidence': 0.6714428067207336, 'speaker': None}, {'text': \"Therefore, you can follow the tutorial, but you can't copy it.\", 'start': 477478, 'end': 480738, 'sentiment': 'NEUTRAL', 'confidence': 0.6765950322151184, 'speaker': None}, {'text': 'Now moving back to C plus plus for a second, the best and most popular languages and frameworks are always going to change.', 'start': 480764, 'end': 486846, 'sentiment': 'POSITIVE', 'confidence': 0.8766809701919556, 'speaker': None}, {'text': \"They're changing as we speak right now.\", 'start': 486968, 'end': 488934, 'sentiment': 'NEUTRAL', 'confidence': 0.8615362644195557, 'speaker': None}, {'text': \"Don't underestimate those fundamentals you've learned in C and C, because ultimately, if you know those well, most other languages are just going to be some subset of those languages.\", 'start': 489032, 'end': 498910, 'sentiment': 'NEUTRAL', 'confidence': 0.549716591835022, 'speaker': None}, {'text': \"Also know you're going to experience the Dunn and Kruger effect.\", 'start': 499030, 'end': 501978, 'sentiment': 'NEUTRAL', 'confidence': 0.8615953922271729, 'speaker': None}, {'text': \"This curve shows when somebody's learning a new skill at the beginning.\", 'start': 502064, 'end': 505198, 'sentiment': 'NEUTRAL', 'confidence': 0.7330049276351929, 'speaker': None}, {'text': 'They tend to be overconfident in their abilities.', 'start': 505234, 'end': 507334, 'sentiment': 'NEGATIVE', 'confidence': 0.6325032114982605, 'speaker': None}, {'text': 'When they start to learn more, they see they actually have so much to learn, they quickly lose all their confidence and it takes them a while to build it back up.', 'start': 507442, 'end': 514842, 'sentiment': 'NEGATIVE', 'confidence': 0.4716625511646271, 'speaker': None}, {'text': \"Bear in mind, you're going to go through this process.\", 'start': 514976, 'end': 517182, 'sentiment': 'NEUTRAL', 'confidence': 0.7547728419303894, 'speaker': None}, {'text': \"You're supposed to feel like you're not good enough.\", 'start': 517316, 'end': 519690, 'sentiment': 'NEGATIVE', 'confidence': 0.7612791657447815, 'speaker': None}, {'text': \"You're supposed to feel like you're not smart enough for this.\", 'start': 519740, 'end': 522090, 'sentiment': 'NEGATIVE', 'confidence': 0.8133349418640137, 'speaker': None}, {'text': 'But trust me, if I can do it, then you can do it.', 'start': 522200, 'end': 525030, 'sentiment': 'POSITIVE', 'confidence': 0.6671710014343262, 'speaker': None}, {'text': 'One important resource is hackathons.', 'start': 525080, 'end': 527014, 'sentiment': 'POSITIVE', 'confidence': 0.7429562211036682, 'speaker': None}, {'text': \"It's weird to be at a hackathon in the first place, but it's cool to see all of this.\", 'start': 527122, 'end': 530838, 'sentiment': 'POSITIVE', 'confidence': 0.9130687117576599, 'speaker': None}, {'text': \"Hackathons are scary because you'll go not knowing much, but people will expose you to things you didn't know you didn't know.\", 'start': 530924, 'end': 536646, 'sentiment': 'NEGATIVE', 'confidence': 0.7774115204811096, 'speaker': None}, {'text': \"They'll help you build and complete an entire project in 48 hours.\", 'start': 536708, 'end': 540282, 'sentiment': 'POSITIVE', 'confidence': 0.8530446290969849, 'speaker': None}, {'text': \"They're also just really fun, even if the food is actually terrible every single time.\", 'start': 540356, 'end': 544626, 'sentiment': 'POSITIVE', 'confidence': 0.5400227904319763, 'speaker': None}, {'text': \"Now don't forget, this comes after you learn the basics of coding.\", 'start': 544688, 'end': 547678, 'sentiment': 'NEUTRAL', 'confidence': 0.7018301486968994, 'speaker': None}, {'text': \"Don't try to program before you know how to code and don't waste all of your time coding and not programming subscribe.\", 'start': 547714, 'end': 553282, 'sentiment': 'NEGATIVE', 'confidence': 0.6119397878646851, 'speaker': None}, {'text': 'Smash the like button and go break some eggs.', 'start': 553366, 'end': 555430, 'sentiment': 'NEUTRAL', 'confidence': 0.5344310998916626, 'speaker': None}], 'entity_detection': False, 'entities': None}\n"
     ]
    }
   ],
   "source": [
    "result_endpoint = endpoint + \"/\" + response.json()[\"id\"]\n",
    "headers_auth = {\n",
    "    \"authorization\": API_KEY,\n",
    "}\n",
    "transcript_response = requests.get(result_endpoint, headers=headers_auth)\n",
    "print(transcript_response.json())\n",
    "\n",
    "# While loop for requesting transcription\n",
    "\n",
    "while response.json()['status'] != 'completed':\n",
    "    response = requests.get(result_endpoint, headers=headers_auth)\n",
    "    time.sleep(3)"
   ]
  },
  {
   "cell_type": "code",
   "execution_count": 12,
   "id": "1f9fb3cc",
   "metadata": {
    "collapsed": true,
    "jupyter": {
     "outputs_hidden": true
    },
    "tags": []
   },
   "outputs": [
    {
     "data": {
      "application/json": {
       "acoustic_model": "assemblyai_default",
       "audio_duration": 555,
       "audio_end_at": null,
       "audio_start_from": null,
       "audio_url": "https://github.com/jacklvd/Audio_Data_Project/blob/master/How_I_would_learn_to_code_by_Jason_Goodison.mp3?raw=true",
       "auto_chapters": true,
       "auto_highlights": true,
       "auto_highlights_result": {
        "results": [
         {
          "count": 1,
          "rank": 0.08,
          "text": "real programming languages",
          "timestamps": [
           {
            "end": 52174,
            "start": 51164
           }
          ]
         },
         {
          "count": 1,
          "rank": 0.08,
          "text": "most other programming languages",
          "timestamps": [
           {
            "end": 76162,
            "start": 74782
           }
          ]
         },
         {
          "count": 1,
          "rank": 0.07,
          "text": "most other languages",
          "timestamps": [
           {
            "end": 496186,
            "start": 495176
           }
          ]
         },
         {
          "count": 1,
          "rank": 0.07,
          "text": "markup languages",
          "timestamps": [
           {
            "end": 53302,
            "start": 52424
           }
          ]
         },
         {
          "count": 1,
          "rank": 0.06,
          "text": "useful things",
          "timestamps": [
           {
            "end": 171750,
            "start": 171152
           }
          ]
         },
         {
          "count": 7,
          "rank": 0.06,
          "text": "back end",
          "timestamps": [
           {
            "end": 62478,
            "start": 62120
           },
           {
            "end": 270510,
            "start": 270104
           },
           {
            "end": 279354,
            "start": 278984
           },
           {
            "end": 293718,
            "start": 293396
           },
           {
            "end": 303954,
            "start": 303514
           },
           {
            "end": 315354,
            "start": 314972
           },
           {
            "end": 330438,
            "start": 330104
           }
          ]
         },
         {
          "count": 1,
          "rank": 0.06,
          "text": "front end web development",
          "timestamps": [
           {
            "end": 63814,
            "start": 62732
           }
          ]
         },
         {
          "count": 1,
          "rank": 0.05,
          "text": "any other programming language",
          "timestamps": [
           {
            "end": 356758,
            "start": 355580
           }
          ]
         },
         {
          "count": 1,
          "rank": 0.05,
          "text": "advanced things",
          "timestamps": [
           {
            "end": 246306,
            "start": 245300
           }
          ]
         },
         {
          "count": 1,
          "rank": 0.05,
          "text": "Each new programming language",
          "timestamps": [
           {
            "end": 79774,
            "start": 78584
           }
          ]
         },
         {
          "count": 1,
          "rank": 0.05,
          "text": "Other projects",
          "timestamps": [
           {
            "end": 431158,
            "start": 430304
           }
          ]
         },
         {
          "count": 1,
          "rank": 0.05,
          "text": "each coding language",
          "timestamps": [
           {
            "end": 209014,
            "start": 208102
           }
          ]
         },
         {
          "count": 2,
          "rank": 0.05,
          "text": "math problems",
          "timestamps": [
           {
            "end": 179022,
            "start": 178412
           },
           {
            "end": 201222,
            "start": 200602
           }
          ]
         },
         {
          "count": 1,
          "rank": 0.05,
          "text": "more Express JS jobs",
          "timestamps": [
           {
            "end": 346906,
            "start": 345524
           }
          ]
         },
         {
          "count": 1,
          "rank": 0.05,
          "text": "each programming language",
          "timestamps": [
           {
            "end": 317782,
            "start": 316760
           }
          ]
         }
        ],
        "status": "success"
       },
       "boost_param": null,
       "chapters": [
        {
         "end": 260010,
         "gist": "Tim's learning curve.",
         "headline": "He learned C c plus plus, HTML, CSS, TCL, Python, Java, JavaScript and C Sharp.",
         "start": 130,
         "summary": "Before working at Microsoft, he did six internships across three countries. He learned C c plus plus, HTML, CSS, TCL, Python, Java, JavaScript and C Sharp. C and C are by far the most useful languages to learn. Coding is just writing code to solve computer science problems. Programming is the act of using coding to make programs that solve real problems. Don't get carried away with learning Python. You don't need to learn advanced things like inheritance exceptions, hash, maps or recursion. There are plenty of interest Python courses in the world, so I'm not going to bore you with the details."
        },
        {
         "end": 368170,
         "gist": "Pick a high - level language to build a website.",
         "headline": "There are three important aspects to a website:. The back end, the front end and the database.",
         "start": 260060,
         "summary": "There are three important aspects to a website: the back end, the front end, which runs on the user's browser, and the database, which essentially stores data. The first program I would build would be a basic website. I would use Python either Django or Flask JavaScript for the back-end and express JS for the front-end."
        },
        {
         "end": 480738,
         "gist": "What websites should i build.",
         "headline": "In one of his first projects, he created a website called Spotify to YouTube. MP3.",
         "start": 368230,
         "summary": "It's always best to create things that you find useful. In one of his first projects, he created a website called Spotify to YouTube. MP3. This project was one of the few that he actually finished and employers loved asking about because he used it for himself."
        },
        {
         "end": 555430,
         "gist": "Moving back to c + +.",
         "headline": "Don't underestimate the fundamentals you learned in C and C. Most other languages are going to be some subset of those languages.",
         "start": 480764,
         "summary": "The best and most popular languages and frameworks are always going to change. Don't underestimate those fundamentals you've learned in C and C. Most other languages are going to be some subset of those languages. When learning a new skill at the beginning, people tend to be overconfident in their abilities. When they start to learn more, they lose all their confidence, and it takes them a while to build it back up. Hackathons are scary because you'll go not knowing much, but people expose you to things you didn't know."
        }
       ],
       "confidence": 0.937499722492696,
       "content_safety": false,
       "content_safety_labels": {
        "results": [],
        "status": "unavailable",
        "summary": {}
       },
       "custom_spelling": null,
       "disfluencies": false,
       "dual_channel": null,
       "entities": null,
       "entity_detection": false,
       "filter_profanity": false,
       "format_text": true,
       "iab_categories": true,
       "iab_categories_result": {
        "results": [
         {
          "labels": [
           {
            "label": "Technology&Computing>Computing>ProgrammingLanguages",
            "relevance": 0.35278454422950745
           },
           {
            "label": "FineArt>Design",
            "relevance": 0.027337994426488876
           },
           {
            "label": "Careers>Apprenticeships",
            "relevance": 0.01716163195669651
           },
           {
            "label": "Technology&Computing>Computing>Internet>WebDevelopment",
            "relevance": 0.011439592577517033
           },
           {
            "label": "Technology&Computing>Computing>Internet>WebDesignAndHTML",
            "relevance": 0.00813556369394064
           },
           {
            "label": "Technology&Computing>Computing>ComputerSoftwareAndApplications>DesktopPublishing",
            "relevance": 0.002593241399154067
           },
           {
            "label": "Careers>VocationalTraining",
            "relevance": 0.0023677838034927845
           },
           {
            "label": "Technology&Computing>Computing",
            "relevance": 0.002007400617003441
           },
           {
            "label": "Technology&Computing>Computing>ComputerSoftwareAndApplications",
            "relevance": 0.0018674725433811545
           },
           {
            "label": "Technology&Computing",
            "relevance": 0.001580280950292945
           }
          ],
          "text": "This is how I would learn to code if I could start over for context, I work at Microsoft, but before that I did six internships across three countries. So yeah, I've done a line or two in my life. Wait, not like that. What the to tell you what I would change, I first need to tell you what I did. I started coding in great alignment. Eleven. Well, sort of. We started with this language called Scratch.",
          "timestamp": {
           "end": 17950,
           "start": 130
          }
         },
         {
          "labels": [
           {
            "label": "Hobbies&Interests>GamesAndPuzzles",
            "relevance": 0.4752555191516876
           },
           {
            "label": "Hobbies&Interests>GamesAndPuzzles>BoardGamesAndPuzzles",
            "relevance": 0.41647839546203613
           },
           {
            "label": "Technology&Computing>Computing>ProgrammingLanguages",
            "relevance": 0.22008438408374786
           },
           {
            "label": "VideoGaming>VideoGameGenres>EducationalVideoGames",
            "relevance": 0.18965397775173187
           },
           {
            "label": "VideoGaming>VideoGameGenres>PuzzleVideoGames",
            "relevance": 0.18266087770462036
           },
           {
            "label": "Technology&Computing>Computing>Internet>WebDesignAndHTML",
            "relevance": 0.028042303398251534
           },
           {
            "label": "Hobbies&Interests>GamesAndPuzzles>RoleplayingGames",
            "relevance": 0.01684883050620556
           },
           {
            "label": "Technology&Computing>Computing>Internet>WebDevelopment",
            "relevance": 0.016252916306257248
           },
           {
            "label": "VideoGaming>VideoGameGenres>SimulationVideoGames",
            "relevance": 0.015675747767090797
           },
           {
            "label": "VideoGaming>VideoGameGenres>CasualGames",
            "relevance": 0.007627390790730715
           }
          ],
          "text": "It's basic game development made for children. Nobody would be stupid enough to, let's say, do an entire Google coding interview in this language and maybe even do shots every time the code fails. So let's just skip that and get to the important stuff. I went to Waterloo and in order I learned first racket, then C plus plus HTML, CSS, TCL, Python, java, JavaScript. C sharp. Some of these were in class, some are on their own.",
          "timestamp": {
           "end": 41070,
           "start": 18010
          }
         },
         {
          "labels": [
           {
            "label": "Technology&Computing>Computing>ProgrammingLanguages",
            "relevance": 0.9948855042457581
           },
           {
            "label": "Technology&Computing>Computing>Internet>WebDevelopment",
            "relevance": 0.6672016978263855
           },
           {
            "label": "Technology&Computing>Computing>Internet>WebDesignAndHTML",
            "relevance": 0.6011731028556824
           },
           {
            "label": "Technology&Computing>Computing",
            "relevance": 0.013341464102268219
           },
           {
            "label": "Technology&Computing>Computing>ComputerSoftwareAndApplications",
            "relevance": 0.00819079577922821
           },
           {
            "label": "Technology&Computing>Computing>ComputerSoftwareAndApplications>Browsers",
            "relevance": 0.0034359085839241743
           },
           {
            "label": "FineArt>Design",
            "relevance": 0.003163551213219762
           },
           {
            "label": "Technology&Computing>Computing>ComputerSoftwareAndApplications>DesktopPublishing",
            "relevance": 0.0020111198537051678
           },
           {
            "label": "Technology&Computing>Computing>ComputerSoftwareAndApplications>Databases",
            "relevance": 0.001047685043886304
           },
           {
            "label": "Technology&Computing>Computing>ComputerSoftwareAndApplications>OperatingSystems",
            "relevance": 0.0007862673373892903
           }
          ],
          "text": "Here's the motivation behind each racket for recursion, c for memory management, c for object oriented design, HTML and CSS. For web development, although these are not real programming languages or markup languages. TCL I did an internship and it's useless. Python I learned this alone and over time, but mostly just for side projects java and JavaScript. For back end and front end web development. And finally C Sharp, which I do for my full time job now.",
          "timestamp": {
           "end": 66714,
           "start": 41120
          }
         },
         {
          "labels": [
           {
            "label": "Technology&Computing>Computing>ProgrammingLanguages",
            "relevance": 0.9989204406738281
           },
           {
            "label": "Technology&Computing>Computing",
            "relevance": 0.07584001123905182
           },
           {
            "label": "Technology&Computing>Computing>ComputerSoftwareAndApplications",
            "relevance": 0.06142255291342735
           },
           {
            "label": "Technology&Computing>Computing>ComputerSoftwareAndApplications>OperatingSystems",
            "relevance": 0.009022001177072525
           },
           {
            "label": "Technology&Computing>Computing>Internet>WebDevelopment",
            "relevance": 0.004648455884307623
           },
           {
            "label": "Technology&Computing>Computing>Internet>WebDesignAndHTML",
            "relevance": 0.001696268212981522
           },
           {
            "label": "Technology&Computing>Computing>ComputerSoftwareAndApplications>Databases",
            "relevance": 0.001065157586708665
           },
           {
            "label": "Education>LanguageLearning",
            "relevance": 0.0008511794148944318
           },
           {
            "label": "Technology&Computing>Computing>ComputerSoftwareAndApplications>DesktopPublishing",
            "relevance": 0.00045539619168266654
           },
           {
            "label": "Technology&Computing>Computing>DataStorageAndWarehousing",
            "relevance": 0.00029359167092479765
           }
          ],
          "text": "But it's essentially Microsoft's version of Java, so let's not talk about it. C and C are by far the most useful languages to learn. After I learned those, I realized most other programming languages are essentially just derivatives of those. Each new programming language essentially takes those and makes some specific task easier. Basically, all these languages share the same ancestor in C and C. So clearly you should start by learning these two languages, right? No, these languages are pretty intensive.",
          "timestamp": {
           "end": 92302,
           "start": 66752
          }
         },
         {
          "labels": [
           {
            "label": "Technology&Computing>Computing>ProgrammingLanguages",
            "relevance": 0.24705272912979126
           },
           {
            "label": "Technology&Computing>Computing>ComputerSoftwareAndApplications",
            "relevance": 0.0683722198009491
           },
           {
            "label": "Technology&Computing>Computing>Internet>WebDevelopment",
            "relevance": 0.011152077466249466
           },
           {
            "label": "Technology&Computing>Computing",
            "relevance": 0.00621871929615736
           },
           {
            "label": "Technology&Computing>Computing>ComputerSoftwareAndApplications>SharewareAndFreeware",
            "relevance": 0.004260065034031868
           },
           {
            "label": "Technology&Computing>Computing>Internet>WebDesignAndHTML",
            "relevance": 0.002473680768162012
           },
           {
            "label": "FineArt>Design",
            "relevance": 0.002160410163924098
           },
           {
            "label": "Technology&Computing>Computing>DataStorageAndWarehousing",
            "relevance": 0.0021439918782562017
           },
           {
            "label": "BusinessAndFinance>Business>BusinessI.T.",
            "relevance": 0.0007609417662024498
           },
           {
            "label": "Technology&Computing>Computing>ComputerSoftwareAndApplications>DesktopPublishing",
            "relevance": 0.000741128227673471
           }
          ],
          "text": "If you want to do anything like useful or impactful, it either requires one, a lot of code, or two use of a bunch of libraries that you've never heard of before, and honestly are probably not worth learning. Which brings me to my point. You need to do something useful, but not too useful. Now hear me out.",
          "timestamp": {
           "end": 110178,
           "start": 92386
          }
         },
         {
          "labels": [
           {
            "label": "Technology&Computing>Computing>ProgrammingLanguages",
            "relevance": 0.9946109056472778
           },
           {
            "label": "Technology&Computing>Computing",
            "relevance": 0.10228205472230911
           },
           {
            "label": "Technology&Computing>Computing>ComputerSoftwareAndApplications>OperatingSystems",
            "relevance": 0.06553240865468979
           },
           {
            "label": "Technology&Computing>Computing>ComputerSoftwareAndApplications",
            "relevance": 0.03229627385735512
           },
           {
            "label": "Technology&Computing>Computing>Internet>WebDevelopment",
            "relevance": 0.0052046747878193855
           },
           {
            "label": "Technology&Computing>Computing>ComputerSoftwareAndApplications>DesktopPublishing",
            "relevance": 0.002208431949838996
           },
           {
            "label": "Technology&Computing>Computing>Internet>WebDesignAndHTML",
            "relevance": 0.0013977927155792713
           },
           {
            "label": "FineArt>Design",
            "relevance": 0.0008459347300231457
           },
           {
            "label": "Education>OnlineEducation",
            "relevance": 0.0005522785941138864
           },
           {
            "label": "Technology&Computing>Computing>ComputerSoftwareAndApplications>ComputerAnimation",
            "relevance": 0.0004805261851288378
           }
          ],
          "text": "If you're learning C, it's going to be relatively easy to start solving some basic math problem and you'll print the solution on the screen, but all of your code is contained to this little terminal. If you want to make a graphical game or connect to a website or do anything quote unquote useful, it'll actually be really hard, even for me right now. I would have to do a lot of googling to even figure out how to do those things.",
          "timestamp": {
           "end": 131610,
           "start": 110204
          }
         },
         {
          "labels": [
           {
            "label": "Technology&Computing>Computing>ProgrammingLanguages",
            "relevance": 0.9273259043693542
           },
           {
            "label": "Technology&Computing>Computing",
            "relevance": 0.7556343078613281
           },
           {
            "label": "Technology&Computing>ArtificialIntelligence",
            "relevance": 0.4573713541030884
           },
           {
            "label": "Technology&Computing",
            "relevance": 0.01221120823174715
           },
           {
            "label": "Technology&Computing>Computing>ComputerSoftwareAndApplications",
            "relevance": 0.005970830097794533
           },
           {
            "label": "Technology&Computing>Computing>ComputerSoftwareAndApplications>OperatingSystems",
            "relevance": 0.004286587703973055
           },
           {
            "label": "Technology&Computing>Robotics",
            "relevance": 0.0020406136754900217
           },
           {
            "label": "BusinessAndFinance>Business>BusinessI.T.",
            "relevance": 0.001839072210714221
           },
           {
            "label": "Education>EducationalAssessment",
            "relevance": 0.001662323484197259
           },
           {
            "label": "Education>OnlineEducation",
            "relevance": 0.0015902164159342647
           }
          ],
          "text": "Essentially, if you start with C, anything useful is going to be too hard and this will be really demotivating. Now, let's look at the opposite end of the spectrum. Many students want to get into coding, and the first thing they want to do is learn machine learning. Here's the thing. Machine learning is super useful in the real world, but it's all advanced math.",
          "timestamp": {
           "end": 149290,
           "start": 131720
          }
         },
         {
          "labels": [
           {
            "label": "Technology&Computing>Computing>ProgrammingLanguages",
            "relevance": 0.9113522171974182
           },
           {
            "label": "Technology&Computing>Computing",
            "relevance": 0.405579537153244
           },
           {
            "label": "Technology&Computing>Computing>ComputerSoftwareAndApplications",
            "relevance": 0.021629244089126587
           },
           {
            "label": "BusinessAndFinance>Business>BusinessI.T.",
            "relevance": 0.0065233055502176285
           },
           {
            "label": "Technology&Computing>Computing>ComputerSoftwareAndApplications>OperatingSystems",
            "relevance": 0.005925803445279598
           },
           {
            "label": "Education>OnlineEducation",
            "relevance": 0.005027438513934612
           },
           {
            "label": "Technology&Computing>Computing>Internet>WebDevelopment",
            "relevance": 0.0021085136104375124
           },
           {
            "label": "Education>EducationalAssessment",
            "relevance": 0.0007927079568617046
           },
           {
            "label": "Technology&Computing>Computing>Internet>ITAndInternetSupport",
            "relevance": 0.0007851846748962998
           },
           {
            "label": "Technology&Computing>Computing>DataStorageAndWarehousing",
            "relevance": 0.0007716075051575899
           }
          ],
          "text": "So if you start with it, you're going to be learning one computer science basics, two Python, for example, and three advanced math topics all at the same time. And unless you are literally a genie, you're going to come out of that not really knowing any of the three. The sweet spot is somewhere in the middle. You need to do something that's useful, but not too useful.",
          "timestamp": {
           "end": 170050,
           "start": 149350
          }
         },
         {
          "labels": [
           {
            "label": "Technology&Computing>Computing>ProgrammingLanguages",
            "relevance": 0.9883070588111877
           },
           {
            "label": "Technology&Computing>Computing",
            "relevance": 0.9462782144546509
           },
           {
            "label": "Technology&Computing>Computing>ComputerSoftwareAndApplications",
            "relevance": 0.921510636806488
           },
           {
            "label": "Technology&Computing>Computing>Internet>WebDevelopment",
            "relevance": 0.08981260657310486
           },
           {
            "label": "Technology&Computing>Computing>Internet>WebDesignAndHTML",
            "relevance": 0.01935904286801815
           },
           {
            "label": "FineArt>Design",
            "relevance": 0.013131463900208473
           },
           {
            "label": "BusinessAndFinance>Business>BusinessI.T.",
            "relevance": 0.01261991634964943
           },
           {
            "label": "Technology&Computing>Computing>ComputerSoftwareAndApplications>OperatingSystems",
            "relevance": 0.003268036525696516
           },
           {
            "label": "BusinessAndFinance>Industries>MechanicalAndIndustrialEngineeringIndustry",
            "relevance": 0.0028812959790229797
           },
           {
            "label": "Technology&Computing>Computing>ComputerSoftwareAndApplications>GraphicsSoftware",
            "relevance": 0.0015042381128296256
           }
          ],
          "text": "Now that we're talking about doing useful things, let's clear up the distinction between coding and programming. Coding is just writing code to solve computer science problems. Let's call them math problems to show the distinction. This is what you need as a prerequisite to learn how to program. Programming is the ultimate goal. Programming is the act of using coding to make programs that solve real problems. You need to learn the fundamentals of coding to know how to program.",
          "timestamp": {
           "end": 194610,
           "start": 170110
          }
         },
         {
          "labels": [
           {
            "label": "Technology&Computing>Computing>ProgrammingLanguages",
            "relevance": 0.994482159614563
           },
           {
            "label": "Technology&Computing>Computing",
            "relevance": 0.9224468469619751
           },
           {
            "label": "Technology&Computing>ArtificialIntelligence",
            "relevance": 0.2988663613796234
           },
           {
            "label": "Technology&Computing>Computing>ComputerSoftwareAndApplications",
            "relevance": 0.0416266992688179
           },
           {
            "label": "Technology&Computing",
            "relevance": 0.00939946062862873
           },
           {
            "label": "BusinessAndFinance>Business>BusinessI.T.",
            "relevance": 0.006553107872605324
           },
           {
            "label": "Technology&Computing>Computing>ComputerSoftwareAndApplications>OperatingSystems",
            "relevance": 0.004378568381071091
           },
           {
            "label": "Technology&Computing>Computing>Internet>WebDevelopment",
            "relevance": 0.0027474991511553526
           },
           {
            "label": "Technology&Computing>Computing>ComputerSoftwareAndApplications>Databases",
            "relevance": 0.0013092701556161046
           },
           {
            "label": "Technology&Computing>Computing>DataStorageAndWarehousing",
            "relevance": 0.001294077723287046
           }
          ],
          "text": "Remember when I talked to people starting in machine learning? This is trying to program before you know how to code. And people only solving math problems in C is knowing how to code and never using that to program. There are tons of tools, use cases, frameworks that surround each coding language. But in the beginning, you kind of need to isolate the coding language itself, learn the basics of that, and then you can take it and learn how to program with it.",
          "timestamp": {
           "end": 217002,
           "start": 194720
          }
         },
         {
          "labels": [
           {
            "label": "Technology&Computing>Computing>ProgrammingLanguages",
            "relevance": 0.31811732053756714
           },
           {
            "label": "Technology&Computing>Computing>Internet>WebDesignAndHTML",
            "relevance": 0.19043703377246857
           },
           {
            "label": "Technology&Computing>Computing>Internet>WebDevelopment",
            "relevance": 0.1104564368724823
           },
           {
            "label": "Technology&Computing>Computing>ComputerSoftwareAndApplications>Browsers",
            "relevance": 0.000862038868945092
           },
           {
            "label": "Technology&Computing>Computing>ComputerSoftwareAndApplications>DesktopPublishing",
            "relevance": 0.00022822491882834584
           },
           {
            "label": "Technology&Computing>Computing>ComputerSoftwareAndApplications>Databases",
            "relevance": 0.0001539795339340344
           },
           {
            "label": "Technology&Computing>Computing>Internet>WebHosting",
            "relevance": 0.00014883492258377373
           },
           {
            "label": "Sports>AmericanFootball",
            "relevance": 0.00011876735516125336
           },
           {
            "label": "Technology&Computing>Computing>ComputerSoftwareAndApplications",
            "relevance": 0.00011036136857001111
           },
           {
            "label": "BusinessAndFinance>Business>BusinessBanking&Finance>AngelInvestment",
            "relevance": 0.00010765627666842192
           }
          ],
          "text": "The easiest thing to start with is probably Python. But honestly, I wouldn't be upset if you picked JavaScript and I'll explain later. Python mostly looks like plain English. Even if you don't know how to code, you can sort of read it. It's super easy to get started in. You can immediately start learning the basics like variables, functions move quickly into data structures and algorithms.",
          "timestamp": {
           "end": 234826,
           "start": 217016
          }
         },
         {
          "labels": [
           {
            "label": "Technology&Computing>Computing>ProgrammingLanguages",
            "relevance": 0.9900538921356201
           },
           {
            "label": "Technology&Computing>Computing",
            "relevance": 0.06098229065537453
           },
           {
            "label": "Technology&Computing>Computing>ComputerSoftwareAndApplications",
            "relevance": 0.025879107415676117
           },
           {
            "label": "Technology&Computing>Computing>ComputerSoftwareAndApplications>OperatingSystems",
            "relevance": 0.011081055738031864
           },
           {
            "label": "Technology&Computing>Computing>Internet>WebDevelopment",
            "relevance": 0.006206354591995478
           },
           {
            "label": "Technology&Computing>Computing>ComputerSoftwareAndApplications>Databases",
            "relevance": 0.0019707053434103727
           },
           {
            "label": "Technology&Computing>Computing>Internet>WebDesignAndHTML",
            "relevance": 0.0016888115787878633
           },
           {
            "label": "Technology&Computing>Computing>DataStorageAndWarehousing",
            "relevance": 0.0005737087922170758
           },
           {
            "label": "FineArt>Design",
            "relevance": 0.000518602435477078
           },
           {
            "label": "Science>Physics",
            "relevance": 0.0003759455285035074
           }
          ],
          "text": "You'll really want to know the basics about types like arrays and the basics of control, flow like functions, loops, and even a little bit about classes. Don't get carried away. You don't need to learn advanced things like inheritance, for example. If you're feeling a little feisty, you might want to learn exceptions, hash, maps, maybe sprinkle in a little recursion.",
          "timestamp": {
           "end": 253942,
           "start": 234898
          }
         },
         {
          "labels": [
           {
            "label": "Technology&Computing>Computing>Internet>WebDevelopment",
            "relevance": 0.9879164695739746
           },
           {
            "label": "Technology&Computing>Computing>Internet>WebDesignAndHTML",
            "relevance": 0.9736350774765015
           },
           {
            "label": "Technology&Computing>Computing>ProgrammingLanguages",
            "relevance": 0.3050890862941742
           },
           {
            "label": "Technology&Computing>Computing>Internet>WebHosting",
            "relevance": 0.04787980765104294
           },
           {
            "label": "Technology&Computing>Computing>ComputerSoftwareAndApplications",
            "relevance": 0.027070915326476097
           },
           {
            "label": "Technology&Computing>Computing>ComputerSoftwareAndApplications>Browsers",
            "relevance": 0.006860837340354919
           },
           {
            "label": "Technology&Computing>Computing",
            "relevance": 0.0026581238489598036
           },
           {
            "label": "Technology&Computing>Computing>ComputerSoftwareAndApplications>Databases",
            "relevance": 0.0013628995511680841
           },
           {
            "label": "Technology&Computing>Computing>ComputerSoftwareAndApplications>DesktopPublishing",
            "relevance": 0.0013207461452111602
           },
           {
            "label": "Technology&Computing>Computing>ComputerSoftwareAndApplications>SharewareAndFreeware",
            "relevance": 0.0009790783515200019
           }
          ],
          "text": "Now, there are plenty of interest Python courses in the world, so I'm not going to bore you with the details. I'm sure you can find that on your own. But now that you have a coding language down, let's talk about programming. So the first thing I would do is take what I've learned and build a website. Now, there are three important aspects to a website. There's the back end, which kind of manages user data.",
          "timestamp": {
           "end": 272430,
           "start": 254026
          }
         },
         {
          "labels": [
           {
            "label": "Technology&Computing>Computing>Internet>WebDevelopment",
            "relevance": 0.9954634308815002
           },
           {
            "label": "Technology&Computing>Computing>Internet>WebDesignAndHTML",
            "relevance": 0.9805380702018738
           },
           {
            "label": "Technology&Computing>Computing>ComputerSoftwareAndApplications",
            "relevance": 0.43246257305145264
           },
           {
            "label": "Technology&Computing>Computing>ProgrammingLanguages",
            "relevance": 0.20097507536411285
           },
           {
            "label": "Technology&Computing>Computing>Internet>WebHosting",
            "relevance": 0.05190606787800789
           },
           {
            "label": "Technology&Computing>Computing>ComputerSoftwareAndApplications>Browsers",
            "relevance": 0.03713187947869301
           },
           {
            "label": "Technology&Computing>Computing>ComputerSoftwareAndApplications>Databases",
            "relevance": 0.007560553960502148
           },
           {
            "label": "Technology&Computing>Computing",
            "relevance": 0.006910736672580242
           },
           {
            "label": "Technology&Computing>Computing>DataStorageAndWarehousing",
            "relevance": 0.002106965985149145
           },
           {
            "label": "Technology&Computing>Computing>ComputerSoftwareAndApplications>OperatingSystems",
            "relevance": 0.0012097049038857222
           }
          ],
          "text": "There's the front end, which is what runs on the user's browser. And then there's the database, which essentially just stores data. Now, we'll start with back end. You're going to want to pick a pretty high level language, either one Python or two JavaScript. The first program I would build would be a basic website. And what type of website? What does that website do?",
          "timestamp": {
           "end": 288714,
           "start": 272540
          }
         },
         {
          "labels": [
           {
            "label": "Technology&Computing>Computing>Internet>WebDevelopment",
            "relevance": 0.8447575569152832
           },
           {
            "label": "Technology&Computing>Computing>Internet>WebDesignAndHTML",
            "relevance": 0.7529535889625549
           },
           {
            "label": "Technology&Computing>Computing>ProgrammingLanguages",
            "relevance": 0.62842857837677
           },
           {
            "label": "Technology&Computing>Computing>ComputerSoftwareAndApplications",
            "relevance": 0.035921815782785416
           },
           {
            "label": "Technology&Computing>Computing>ComputerSoftwareAndApplications>Databases",
            "relevance": 0.011124100536108017
           },
           {
            "label": "Technology&Computing>Computing>Internet>WebHosting",
            "relevance": 0.008284982293844223
           },
           {
            "label": "Technology&Computing>Computing>ComputerSoftwareAndApplications>DesktopPublishing",
            "relevance": 0.003909661900252104
           },
           {
            "label": "Technology&Computing>Computing>DataStorageAndWarehousing",
            "relevance": 0.0018037442350760102
           },
           {
            "label": "Technology&Computing>Computing>ComputerSoftwareAndApplications>Browsers",
            "relevance": 0.001192764611914754
           },
           {
            "label": "Technology&Computing>Computing",
            "relevance": 0.0008329434203915298
           }
          ],
          "text": "Well, I'll explain that in a minute, but for now, let's just make a project in that language. Now, when making a back end, you're going to learn concepts like Http methods, get post for example. Depending on the project, you might be interacting with the database. Once you start to feel comfortable and have your basic back end working, then let's try our hand at the front end.",
          "timestamp": {
           "end": 306582,
           "start": 288752
          }
         },
         {
          "labels": [
           {
            "label": "Technology&Computing>Computing>Internet>WebDesignAndHTML",
            "relevance": 0.9801991581916809
           },
           {
            "label": "Technology&Computing>Computing>Internet>WebDevelopment",
            "relevance": 0.9427288770675659
           },
           {
            "label": "Technology&Computing>Computing>ProgrammingLanguages",
            "relevance": 0.5323288440704346
           },
           {
            "label": "Technology&Computing>Computing>ComputerSoftwareAndApplications>Browsers",
            "relevance": 0.044020235538482666
           },
           {
            "label": "Technology&Computing>Computing>ComputerSoftwareAndApplications",
            "relevance": 0.0038241238798946142
           },
           {
            "label": "Technology&Computing>Computing>ComputerSoftwareAndApplications>DesktopPublishing",
            "relevance": 0.0009565321961417794
           },
           {
            "label": "FineArt>Design",
            "relevance": 0.0008406582055613399
           },
           {
            "label": "Technology&Computing>Computing>Internet>WebHosting",
            "relevance": 0.0005968294572085142
           },
           {
            "label": "Technology&Computing>Computing",
            "relevance": 0.0005675060674548149
           },
           {
            "label": "Technology&Computing>Computing>ComputerSoftwareAndApplications>OperatingSystems",
            "relevance": 0.0004971881862729788
           }
          ],
          "text": "Now, on the front end you're going to be using things like JavaScript, HTML, CSS. This is the reason I said JavaScript is actually a pretty good starting language because you can use it for the back end and the front end. I said each programming language is a bunch of tools and frameworks that make it easier to use. Basically, there's no reason for you to write code that somebody else has already written. The frameworks I would use for these languages would be Python.",
          "timestamp": {
           "end": 327154,
           "start": 306656
          }
         },
         {
          "labels": [
           {
            "label": "Technology&Computing>Computing>Internet>WebDevelopment",
            "relevance": 0.17731152474880219
           },
           {
            "label": "Technology&Computing>Computing>Internet>WebDesignAndHTML",
            "relevance": 0.042717643082141876
           },
           {
            "label": "Technology&Computing>Computing>Internet>WebHosting",
            "relevance": 0.009769011288881302
           },
           {
            "label": "Technology&Computing>Computing>ProgrammingLanguages",
            "relevance": 0.00248871766962111
           },
           {
            "label": "Technology&Computing>Computing>Internet>CloudComputing",
            "relevance": 0.0013938765041530132
           },
           {
            "label": "Technology&Computing>Computing>ComputerSoftwareAndApplications>Databases",
            "relevance": 0.0009176176972687244
           },
           {
            "label": "Technology&Computing>Computing>DataStorageAndWarehousing",
            "relevance": 0.00039062119321897626
           },
           {
            "label": "Religion&Spirituality>Spirituality",
            "relevance": 0.0003169933916069567
           },
           {
            "label": "Technology&Computing>Computing>ComputerSoftwareAndApplications",
            "relevance": 0.00023628401686437428
           },
           {
            "label": "BusinessAndFinance>Business>BusinessBanking&Finance>AngelInvestment",
            "relevance": 0.00021956489945296198
           }
          ],
          "text": "I would try either Django or Flask JavaScript. On the back end I would use Express JS, which just think of it as simplified NodeJS. And on the front end I would use React. And if you need a database, I would try MongoDB. Now, anecdotally I can tell you for Python. I've seen more jobs listed for Django than for Flask. And I've seen more Express JS jobs over Django. On the front end, I think React is pretty solid.",
          "timestamp": {
           "end": 350662,
           "start": 327202
          }
         },
         {
          "labels": [
           {
            "label": "Technology&Computing>Computing>Internet>WebDevelopment",
            "relevance": 0.85298752784729
           },
           {
            "label": "Technology&Computing>Computing>Internet>WebDesignAndHTML",
            "relevance": 0.7557259798049927
           },
           {
            "label": "Technology&Computing>Computing>ProgrammingLanguages",
            "relevance": 0.5871409773826599
           },
           {
            "label": "FineArt>Design",
            "relevance": 0.009738224558532238
           },
           {
            "label": "Technology&Computing>Computing>ComputerSoftwareAndApplications",
            "relevance": 0.007303565740585327
           },
           {
            "label": "Technology&Computing>Computing>Internet>WebHosting",
            "relevance": 0.0031537036411464214
           },
           {
            "label": "Technology&Computing>Computing",
            "relevance": 0.0026109879836440086
           },
           {
            "label": "Technology&Computing>Computing>ComputerSoftwareAndApplications>DesktopPublishing",
            "relevance": 0.0018567300867289305
           },
           {
            "label": "Technology&Computing>Computing>ComputerSoftwareAndApplications>Browsers",
            "relevance": 0.0016169832088053226
           },
           {
            "label": "Education>LanguageLearning",
            "relevance": 0.0009126054355874658
           }
          ],
          "text": "After that time you should learn C and C as it'll teach you everything you need to know to learn any other programming language. I love this method because you start learning the practical and marketable stuff immediately, but then you start preparing yourself for the long term necessities. This keeps your motivation higher and it really just makes you marketable quicker. Now, what websites should I build? Think back to useful, but not too useful. This doesn't need to be very complicated.",
          "timestamp": {
           "end": 374314,
           "start": 350746
          }
         },
         {
          "labels": [
           {
            "label": "FineArt>Design",
            "relevance": 0.39708665013313293
           },
           {
            "label": "Hobbies&Interests>ContentProduction",
            "relevance": 0.08325543254613876
           },
           {
            "label": "BusinessAndFinance>Industries>ConstructionIndustry",
            "relevance": 0.022942842915654182
           },
           {
            "label": "Technology&Computing>Computing>Internet>WebDevelopment",
            "relevance": 0.01291537843644619
           },
           {
            "label": "Technology&Computing>Computing>Internet>SocialNetworking",
            "relevance": 0.0121617978438735
           },
           {
            "label": "BusinessAndFinance>Business>BusinessOperations",
            "relevance": 0.010741615667939186
           },
           {
            "label": "Hobbies&Interests",
            "relevance": 0.009305150248110294
           },
           {
            "label": "BusinessAndFinance>Business>MarketingAndAdvertising",
            "relevance": 0.008536470122635365
           },
           {
            "label": "Technology&Computing>Computing>ComputerSoftwareAndApplications",
            "relevance": 0.005567342508584261
           },
           {
            "label": "BusinessAndFinance>Business>Startups",
            "relevance": 0.00478794751688838
           }
          ],
          "text": "In fact, it really shouldn't be complicated at all. There's going to be a lot of new ideas and concepts thrown at you. If you try to build the next Tinder or the next Instagram, you're going to end up with no product, no learnings, and no motivation. Now, before I give some concrete examples, and I will, let's talk about what makes projects good in an abstract sense. It's always best to create things that you actually find useful.",
          "timestamp": {
           "end": 394210,
           "start": 374362
          }
         },
         {
          "labels": [
           {
            "label": "Hobbies&Interests>ContentProduction",
            "relevance": 0.09203676879405975
           },
           {
            "label": "Hobbies&Interests>ContentProduction>AudioProduction",
            "relevance": 0.040834445506334305
           },
           {
            "label": "Technology&Computing>Computing>Internet>WebDevelopment",
            "relevance": 0.02692844346165657
           },
           {
            "label": "Technology&Computing>Computing>ComputerSoftwareAndApplications>SharewareAndFreeware",
            "relevance": 0.017095258459448814
           },
           {
            "label": "Technology&Computing>Computing>Internet>WebDesignAndHTML",
            "relevance": 0.010749892331659794
           },
           {
            "label": "Technology&Computing>Computing>ComputerSoftwareAndApplications>DigitalAudio",
            "relevance": 0.01068969164043665
           },
           {
            "label": "Technology&Computing>Computing>ComputerSoftwareAndApplications>VideoSoftware",
            "relevance": 0.008220680058002472
           },
           {
            "label": "Television>MusicTV",
            "relevance": 0.007901264354586601
           },
           {
            "label": "Technology&Computing>Computing>ComputerSoftwareAndApplications",
            "relevance": 0.007337212096899748
           },
           {
            "label": "Technology&Computing>Computing>ProgrammingLanguages",
            "relevance": 0.006411116104573011
           }
          ],
          "text": "I'll give you an example of one of my first I projects. So I created this thing called spotify to YouTube. MP3. In university I had a trial of Spotify and when it ran out, I was too cheap to buy Spotify. I didn't have any money, but I had 400 plus songs in my playlist. I didn't want to lose all that. So I created a Python program that uses the Spotify API to get those songs and then YouTube's API to download the MP3 version.",
          "timestamp": {
           "end": 417550,
           "start": 394270
          }
         },
         {
          "labels": [
           {
            "label": "MusicAndAudio",
            "relevance": 0.16955216228961945
           },
           {
            "label": "FineArt>Design",
            "relevance": 0.13260112702846527
           },
           {
            "label": "Hobbies&Interests>ContentProduction",
            "relevance": 0.030012410134077072
           },
           {
            "label": "Hobbies&Interests",
            "relevance": 0.016454193741083145
           },
           {
            "label": "Careers>RemoteWorking",
            "relevance": 0.015356110408902168
           },
           {
            "label": "Technology&Computing>Computing>ComputerSoftwareAndApplications>DesktopPublishing",
            "relevance": 0.010535999201238155
           },
           {
            "label": "FineArt>DigitalArts",
            "relevance": 0.009663094766438007
           },
           {
            "label": "MusicAndAudio>World/InternationalMusic",
            "relevance": 0.0072066690772771835
           },
           {
            "label": "Hobbies&Interests>ArtsAndCrafts>DrawingAndSketching",
            "relevance": 0.007203179877251387
           },
           {
            "label": "Hobbies&Interests>ContentProduction>AudioProduction",
            "relevance": 0.005967887584120035
           }
          ],
          "text": "Now, I had all the same music, but for free. This project was one of the few that I actually finished, and it's one of the few employers loved asking about. Why? Well, one, because it's unique, but two, because I actually used it. I built it for myself. Other projects I would start and then I would lose motivation and I would never finish. Think a little about some problem that you have in your life that would be nice to know.",
          "timestamp": {
           "end": 437874,
           "start": 417670
          }
         },
         {
          "labels": [
           {
            "label": "Technology&Computing>Computing>Internet>SocialNetworking",
            "relevance": 0.9692192077636719
           },
           {
            "label": "Hobbies&Interests>ContentProduction",
            "relevance": 0.008570987731218338
           },
           {
            "label": "FamilyAndRelationships>Dating",
            "relevance": 0.0052134268917143345
           },
           {
            "label": "Technology&Computing>Computing>ComputerSoftwareAndApplications>WebConferencing",
            "relevance": 0.0016554725589230657
           },
           {
            "label": "Careers>RemoteWorking",
            "relevance": 0.0006616743630729616
           },
           {
            "label": "Technology&Computing>ConsumerElectronics>Smartphones",
            "relevance": 0.0006564685027115047
           },
           {
            "label": "VideoGaming>MobileGames",
            "relevance": 0.0005191037198528647
           },
           {
            "label": "MusicAndAudio>TalkRadio>News/TalkRadio",
            "relevance": 0.00048495514784008265
           },
           {
            "label": "Technology&Computing>Computing>Internet>Email",
            "relevance": 0.00043526815716177225
           },
           {
            "label": "BusinessAndFinance>Business>MarketingAndAdvertising",
            "relevance": 0.00029846199322491884
           }
          ],
          "text": "Like maybe it's just knowing when your favorite beer is on sale, or maybe it's an online clip for it. So you don't have to keep messaging yourself random shit on Facebook Messenger all the time. It doesn't have to be relevant for everyone. It really just has to be relevant for you. Now, if you don't have an idea yet, don't panic. I have a solution for that.",
          "timestamp": {
           "end": 453954,
           "start": 437912
          }
         },
         {
          "labels": [
           {
            "label": "Technology&Computing>Computing>Internet>WebDevelopment",
            "relevance": 0.5352057814598083
           },
           {
            "label": "Technology&Computing>Computing>Internet>WebDesignAndHTML",
            "relevance": 0.42703500390052795
           },
           {
            "label": "Technology&Computing>Computing>Internet>WebHosting",
            "relevance": 0.0054445709101855755
           },
           {
            "label": "Technology&Computing>Computing>ComputerSoftwareAndApplications>WebConferencing",
            "relevance": 0.003227920038625598
           },
           {
            "label": "Technology&Computing>Computing>ComputerSoftwareAndApplications>SharewareAndFreeware",
            "relevance": 0.003130791475996375
           },
           {
            "label": "Technology&Computing>Computing>ComputerSoftwareAndApplications>Browsers",
            "relevance": 0.003057091496884823
           },
           {
            "label": "Hobbies&Interests>ContentProduction",
            "relevance": 0.002309424802660942
           },
           {
            "label": "Technology&Computing>Computing>ComputerSoftwareAndApplications",
            "relevance": 0.0018766963621601462
           },
           {
            "label": "Technology&Computing>Computing>Internet>InternetForBeginners",
            "relevance": 0.0014637864660471678
           },
           {
            "label": "Technology&Computing>Computing>ProgrammingLanguages",
            "relevance": 0.0013418524758890271
           }
          ],
          "text": "You're allowed to follow a tutorial on YouTube or Udemy or any of those sites, but you're not allowed to build the same website as them. For example, if you're following a tutorial on how to build a weather website, instead try building something like a currency converter. That's a real example that I did. What's great about that is most of the code and the concepts are going to be the exact same, but it restricts you from being able to copy and paste the solution.",
          "timestamp": {
           "end": 477406,
           "start": 453992
          }
         },
         {
          "labels": [
           {
            "label": "Technology&Computing>Computing>ProgrammingLanguages",
            "relevance": 0.9939484596252441
           },
           {
            "label": "Technology&Computing>Computing>Internet>WebDevelopment",
            "relevance": 0.005872385110706091
           },
           {
            "label": "Technology&Computing>Computing>ComputerSoftwareAndApplications>OperatingSystems",
            "relevance": 0.0056303427554667
           },
           {
            "label": "Technology&Computing>Computing",
            "relevance": 0.00528445839881897
           },
           {
            "label": "Technology&Computing>Computing>Internet>WebDesignAndHTML",
            "relevance": 0.0024528729263693094
           },
           {
            "label": "Technology&Computing>Computing>ComputerSoftwareAndApplications",
            "relevance": 0.0016710247145965695
           },
           {
            "label": "Technology&Computing>Computing>ComputerSoftwareAndApplications>Databases",
            "relevance": 0.0003813270013779402
           },
           {
            "label": "Hobbies&Interests>GamesAndPuzzles>RoleplayingGames",
            "relevance": 0.0003672902239486575
           },
           {
            "label": "Technology&Computing>ArtificialIntelligence",
            "relevance": 0.00034463315387256444
           },
           {
            "label": "FineArt>Design",
            "relevance": 0.00032086644205264747
           }
          ],
          "text": "Therefore, you can follow the tutorial, but you can't copy it. Now moving back to C plus plus for a second, the best and most popular languages and frameworks are always going to change. They're changing as we speak right now. Don't underestimate those fundamentals you've learned in C and C, because ultimately, if you know those well, most other languages are just going to be some subset of those languages. Also know you're going to experience the Dunn and Kruger effect.",
          "timestamp": {
           "end": 501978,
           "start": 477478
          }
         },
         {
          "labels": [
           {
            "label": "Education>LanguageLearning",
            "relevance": 0.06488632410764694
           },
           {
            "label": "FamilyAndRelationships>Parenting>ParentingBabiesAndToddlers",
            "relevance": 0.03224852308630943
           },
           {
            "label": "Education>EducationalAssessment",
            "relevance": 0.00623236084356904
           },
           {
            "label": "FamilyAndRelationships>Parenting>ParentingChildrenAged4-11",
            "relevance": 0.0021481183357536793
           },
           {
            "label": "Education>AdultEducation",
            "relevance": 0.0019374764524400234
           },
           {
            "label": "Education>HomeworkAndStudy",
            "relevance": 0.0016969263087958097
           },
           {
            "label": "Careers>Apprenticeships",
            "relevance": 0.0015601515769958496
           },
           {
            "label": "Education>EarlyChildhoodEducation",
            "relevance": 0.0009387035388499498
           },
           {
            "label": "VideoGaming>VideoGameGenres>EducationalVideoGames",
            "relevance": 0.0007387286750599742
           },
           {
            "label": "BusinessAndFinance>Industries>EducationIndustry",
            "relevance": 0.0005690720281563699
           }
          ],
          "text": "This curve shows when somebody's learning a new skill at the beginning. They tend to be overconfident in their abilities. When they start to learn more, they see they actually have so much to learn, they quickly lose all their confidence and it takes them a while to build it back up. Bear in mind, you're going to go through this process. You're supposed to feel like you're not good enough. You're supposed to feel like you're not smart enough for this.",
          "timestamp": {
           "end": 522090,
           "start": 502064
          }
         },
         {
          "labels": [
           {
            "label": "Hobbies&Interests>ContentProduction",
            "relevance": 0.007442381698638201
           },
           {
            "label": "Technology&Computing>Computing>ComputerSoftwareAndApplications>WebConferencing",
            "relevance": 0.006111298222094774
           },
           {
            "label": "Education>OnlineEducation",
            "relevance": 0.0033049092162400484
           },
           {
            "label": "BusinessAndFinance>Business>Startups",
            "relevance": 0.0030424182768911123
           },
           {
            "label": "Technology&Computing>Computing>Internet>SocialNetworking",
            "relevance": 0.001901187002658844
           },
           {
            "label": "Technology&Computing>Computing>Internet>WebDevelopment",
            "relevance": 0.0010258660186082125
           },
           {
            "label": "EventsAndAttractions>FanConventions",
            "relevance": 0.0008793187444098294
           },
           {
            "label": "Sports>ExtremeSports",
            "relevance": 0.0008667990332469344
           },
           {
            "label": "BusinessAndFinance>Business>BusinessBanking&Finance>AngelInvestment",
            "relevance": 0.0007628592429682612
           },
           {
            "label": "Technology&Computing>Computing>Internet>InternetForBeginners",
            "relevance": 0.0007463080692104995
           }
          ],
          "text": "But trust me, if I can do it, then you can do it. One important resource is hackathons. It's weird to be at a hackathon in the first place, but it's cool to see all of this. Hackathons are scary because you'll go not knowing much, but people will expose you to things you didn't know you didn't know. They'll help you build and complete an entire project in 48 hours.",
          "timestamp": {
           "end": 540282,
           "start": 522200
          }
         },
         {
          "labels": [
           {
            "label": "BooksAndLiterature>Cookbooks",
            "relevance": 0.2720946967601776
           },
           {
            "label": "Food&Drink>DiningOut",
            "relevance": 0.032381560653448105
           },
           {
            "label": "Food&Drink>Cooking",
            "relevance": 0.02846251055598259
           },
           {
            "label": "Food&Drink>DessertsAndBaking",
            "relevance": 0.01969105377793312
           },
           {
            "label": "Food&Drink>WorldCuisines",
            "relevance": 0.003955882973968983
           },
           {
            "label": "Food&Drink",
            "relevance": 0.0030073837842792273
           },
           {
            "label": "VideoGaming>VideoGameGenres>PuzzleVideoGames",
            "relevance": 0.0007449231925420463
           },
           {
            "label": "Food&Drink>BarbecuesAndGrilling",
            "relevance": 0.0005127813783474267
           },
           {
            "label": "VideoGaming>VideoGameGenres>EducationalVideoGames",
            "relevance": 0.000488660647533834
           },
           {
            "label": "Technology&Computing>ArtificialIntelligence",
            "relevance": 0.0004188933235127479
           }
          ],
          "text": "They're also just really fun, even if the food is actually terrible every single time. Now don't forget, this comes after you learn the basics of coding. Don't try to program before you know how to code and don't waste all of your time coding and not programming subscribe. Smash the like button and go break some eggs.",
          "timestamp": {
           "end": 555430,
           "start": 540356
          }
         }
        ],
        "status": "success",
        "summary": {
         "BooksAndLiterature>Cookbooks": 0.022425411269068718,
         "Education>LanguageLearning": 0.005914219655096531,
         "FineArt>Design": 0.0489019975066185,
         "Hobbies&Interests>ContentProduction": 0.018505766987800598,
         "Hobbies&Interests>ContentProduction>AudioProduction": 0.003974754363298416,
         "Hobbies&Interests>GamesAndPuzzles": 0.039069220423698425,
         "Hobbies&Interests>GamesAndPuzzles>BoardGamesAndPuzzles": 0.03424403816461563,
         "MusicAndAudio": 0.014843412674963474,
         "Technology&Computing>ArtificialIntelligence": 0.06270141899585724,
         "Technology&Computing>Computing": 0.2718535363674164,
         "Technology&Computing>Computing>ComputerSoftwareAndApplications": 0.14077818393707275,
         "Technology&Computing>Computing>ComputerSoftwareAndApplications>Browsers": 0.008510101586580276,
         "Technology&Computing>Computing>ComputerSoftwareAndApplications>OperatingSystems": 0.009412819519639015,
         "Technology&Computing>Computing>Internet>SocialNetworking": 0.08103340864181519,
         "Technology&Computing>Computing>Internet>WebDesignAndHTML": 0.47423356771469116,
         "Technology&Computing>Computing>Internet>WebDevelopment": 0.5175174474716187,
         "Technology&Computing>Computing>Internet>WebHosting": 0.010826832614839077,
         "Technology&Computing>Computing>ProgrammingLanguages": 1,
         "VideoGaming>VideoGameGenres>EducationalVideoGames": 0.015794876962900162,
         "VideoGaming>VideoGameGenres>PuzzleVideoGames": 0.015114272944629192
        }
       },
       "id": "onuq02vw4n-9895-44bb-b7f7-a86c4db6c777",
       "language_code": "en_us",
       "language_detection": false,
       "language_model": "assemblyai_default",
       "punctuate": true,
       "redact_pii": false,
       "redact_pii_audio": false,
       "redact_pii_audio_quality": null,
       "redact_pii_policies": null,
       "redact_pii_sub": null,
       "sentiment_analysis": true,
       "sentiment_analysis_results": [
        {
         "confidence": 0.5346478819847107,
         "end": 6982,
         "sentiment": "NEUTRAL",
         "speaker": null,
         "start": 130,
         "text": "This is how I would learn to code if I could start over for context, I work at Microsoft, but before that I did six internships across three countries."
        },
        {
         "confidence": 0.8179047107696533,
         "end": 9234,
         "sentiment": "NEUTRAL",
         "speaker": null,
         "start": 7066,
         "text": "So yeah, I've done a line or two in my life."
        },
        {
         "confidence": 0.5471217036247253,
         "end": 10218,
         "sentiment": "NEGATIVE",
         "speaker": null,
         "start": 9272,
         "text": "Wait, not like that."
        },
        {
         "confidence": 0.739031195640564,
         "end": 13794,
         "sentiment": "NEUTRAL",
         "speaker": null,
         "start": 10244,
         "text": "What the to tell you what I would change, I first need to tell you what I did."
        },
        {
         "confidence": 0.8869314193725586,
         "end": 14986,
         "sentiment": "POSITIVE",
         "speaker": null,
         "start": 13832,
         "text": "I started coding in great alignment."
        },
        {
         "confidence": 0.6587144136428833,
         "end": 15346,
         "sentiment": "NEUTRAL",
         "speaker": null,
         "start": 14998,
         "text": "Eleven."
        },
        {
         "confidence": 0.7420035004615784,
         "end": 16278,
         "sentiment": "NEUTRAL",
         "speaker": null,
         "start": 15418,
         "text": "Well, sort of."
        },
        {
         "confidence": 0.893219530582428,
         "end": 17950,
         "sentiment": "NEUTRAL",
         "speaker": null,
         "start": 16304,
         "text": "We started with this language called Scratch."
        },
        {
         "confidence": 0.7345268726348877,
         "end": 20058,
         "sentiment": "NEUTRAL",
         "speaker": null,
         "start": 18010,
         "text": "It's basic game development made for children."
        },
        {
         "confidence": 0.875649631023407,
         "end": 26914,
         "sentiment": "NEGATIVE",
         "speaker": null,
         "start": 20144,
         "text": "Nobody would be stupid enough to, let's say, do an entire Google coding interview in this language and maybe even do shots every time the code fails."
        },
        {
         "confidence": 0.6973395943641663,
         "end": 29514,
         "sentiment": "NEUTRAL",
         "speaker": null,
         "start": 27022,
         "text": "So let's just skip that and get to the important stuff."
        },
        {
         "confidence": 0.7763273119926453,
         "end": 38482,
         "sentiment": "NEUTRAL",
         "speaker": null,
         "start": 29552,
         "text": "I went to Waterloo and in order I learned first racket, then C plus plus HTML, CSS, TCL, Python, java, JavaScript."
        },
        {
         "confidence": 0.5953956842422485,
         "end": 39118,
         "sentiment": "NEUTRAL",
         "speaker": null,
         "start": 38566,
         "text": "C sharp."
        },
        {
         "confidence": 0.869880735874176,
         "end": 41070,
         "sentiment": "NEUTRAL",
         "speaker": null,
         "start": 39154,
         "text": "Some of these were in class, some are on their own."
        },
        {
         "confidence": 0.8967366218566895,
         "end": 48910,
         "sentiment": "NEUTRAL",
         "speaker": null,
         "start": 41120,
         "text": "Here's the motivation behind each racket for recursion, c for memory management, c for object oriented design, HTML and CSS."
        },
        {
         "confidence": 0.660210907459259,
         "end": 53302,
         "sentiment": "NEUTRAL",
         "speaker": null,
         "start": 49030,
         "text": "For web development, although these are not real programming languages or markup languages."
        },
        {
         "confidence": 0.9422627091407776,
         "end": 56674,
         "sentiment": "NEGATIVE",
         "speaker": null,
         "start": 53386,
         "text": "TCL I did an internship and it's useless."
        },
        {
         "confidence": 0.7138441205024719,
         "end": 61726,
         "sentiment": "NEUTRAL",
         "speaker": null,
         "start": 56782,
         "text": "Python I learned this alone and over time, but mostly just for side projects java and JavaScript."
        },
        {
         "confidence": 0.8338534235954285,
         "end": 63814,
         "sentiment": "NEUTRAL",
         "speaker": null,
         "start": 61798,
         "text": "For back end and front end web development."
        },
        {
         "confidence": 0.7743557095527649,
         "end": 66714,
         "sentiment": "NEUTRAL",
         "speaker": null,
         "start": 63862,
         "text": "And finally C Sharp, which I do for my full time job now."
        },
        {
         "confidence": 0.5855547189712524,
         "end": 70374,
         "sentiment": "NEUTRAL",
         "speaker": null,
         "start": 66752,
         "text": "But it's essentially Microsoft's version of Java, so let's not talk about it."
        },
        {
         "confidence": 0.967803955078125,
         "end": 73410,
         "sentiment": "POSITIVE",
         "speaker": null,
         "start": 70412,
         "text": "C and C are by far the most useful languages to learn."
        },
        {
         "confidence": 0.708133339881897,
         "end": 78498,
         "sentiment": "NEUTRAL",
         "speaker": null,
         "start": 73460,
         "text": "After I learned those, I realized most other programming languages are essentially just derivatives of those."
        },
        {
         "confidence": 0.721838116645813,
         "end": 82810,
         "sentiment": "POSITIVE",
         "speaker": null,
         "start": 78584,
         "text": "Each new programming language essentially takes those and makes some specific task easier."
        },
        {
         "confidence": 0.824542760848999,
         "end": 86622,
         "sentiment": "NEUTRAL",
         "speaker": null,
         "start": 82870,
         "text": "Basically, all these languages share the same ancestor in C and C."
        },
        {
         "confidence": 0.7661348581314087,
         "end": 89802,
         "sentiment": "NEUTRAL",
         "speaker": null,
         "start": 86756,
         "text": "So clearly you should start by learning these two languages, right?"
        },
        {
         "confidence": 0.5466644763946533,
         "end": 92302,
         "sentiment": "NEUTRAL",
         "speaker": null,
         "start": 89936,
         "text": "No, these languages are pretty intensive."
        },
        {
         "confidence": 0.7735224366188049,
         "end": 104910,
         "sentiment": "NEGATIVE",
         "speaker": null,
         "start": 92386,
         "text": "If you want to do anything like useful or impactful, it either requires one, a lot of code, or two use of a bunch of libraries that you've never heard of before, and honestly are probably not worth learning."
        },
        {
         "confidence": 0.7974764108657837,
         "end": 106542,
         "sentiment": "NEUTRAL",
         "speaker": null,
         "start": 105020,
         "text": "Which brings me to my point."
        },
        {
         "confidence": 0.5582549571990967,
         "end": 109450,
         "sentiment": "NEUTRAL",
         "speaker": null,
         "start": 106616,
         "text": "You need to do something useful, but not too useful."
        },
        {
         "confidence": 0.662054181098938,
         "end": 110178,
         "sentiment": "NEUTRAL",
         "speaker": null,
         "start": 109510,
         "text": "Now hear me out."
        },
        {
         "confidence": 0.6501603722572327,
         "end": 120058,
         "sentiment": "POSITIVE",
         "speaker": null,
         "start": 110204,
         "text": "If you're learning C, it's going to be relatively easy to start solving some basic math problem and you'll print the solution on the screen, but all of your code is contained to this little terminal."
        },
        {
         "confidence": 0.557974100112915,
         "end": 128154,
         "sentiment": "NEGATIVE",
         "speaker": null,
         "start": 120094,
         "text": "If you want to make a graphical game or connect to a website or do anything quote unquote useful, it'll actually be really hard, even for me right now."
        },
        {
         "confidence": 0.7108500599861145,
         "end": 131610,
         "sentiment": "NEGATIVE",
         "speaker": null,
         "start": 128252,
         "text": "I would have to do a lot of googling to even figure out how to do those things."
        },
        {
         "confidence": 0.7984553575515747,
         "end": 137278,
         "sentiment": "NEGATIVE",
         "speaker": null,
         "start": 131720,
         "text": "Essentially, if you start with C, anything useful is going to be too hard and this will be really demotivating."
        },
        {
         "confidence": 0.5881260633468628,
         "end": 139894,
         "sentiment": "NEUTRAL",
         "speaker": null,
         "start": 137374,
         "text": "Now, let's look at the opposite end of the spectrum."
        },
        {
         "confidence": 0.589542031288147,
         "end": 144138,
         "sentiment": "POSITIVE",
         "speaker": null,
         "start": 140002,
         "text": "Many students want to get into coding, and the first thing they want to do is learn machine learning."
        },
        {
         "confidence": 0.636462926864624,
         "end": 144798,
         "sentiment": "NEUTRAL",
         "speaker": null,
         "start": 144224,
         "text": "Here's the thing."
        },
        {
         "confidence": 0.886936366558075,
         "end": 149290,
         "sentiment": "POSITIVE",
         "speaker": null,
         "start": 144824,
         "text": "Machine learning is super useful in the real world, but it's all advanced math."
        },
        {
         "confidence": 0.7047243118286133,
         "end": 158874,
         "sentiment": "NEUTRAL",
         "speaker": null,
         "start": 149350,
         "text": "So if you start with it, you're going to be learning one computer science basics, two Python, for example, and three advanced math topics all at the same time."
        },
        {
         "confidence": 0.5280717015266418,
         "end": 165198,
         "sentiment": "NEGATIVE",
         "speaker": null,
         "start": 158972,
         "text": "And unless you are literally a genie, you're going to come out of that not really knowing any of the three."
        },
        {
         "confidence": 0.5735204815864563,
         "end": 167178,
         "sentiment": "NEUTRAL",
         "speaker": null,
         "start": 165284,
         "text": "The sweet spot is somewhere in the middle."
        },
        {
         "confidence": 0.5787485241889954,
         "end": 170050,
         "sentiment": "NEUTRAL",
         "speaker": null,
         "start": 167264,
         "text": "You need to do something that's useful, but not too useful."
        },
        {
         "confidence": 0.5392613410949707,
         "end": 174646,
         "sentiment": "NEUTRAL",
         "speaker": null,
         "start": 170110,
         "text": "Now that we're talking about doing useful things, let's clear up the distinction between coding and programming."
        },
        {
         "confidence": 0.6184105277061462,
         "end": 177678,
         "sentiment": "NEUTRAL",
         "speaker": null,
         "start": 174718,
         "text": "Coding is just writing code to solve computer science problems."
        },
        {
         "confidence": 0.796813428401947,
         "end": 180202,
         "sentiment": "NEUTRAL",
         "speaker": null,
         "start": 177764,
         "text": "Let's call them math problems to show the distinction."
        },
        {
         "confidence": 0.6658993363380432,
         "end": 184542,
         "sentiment": "NEUTRAL",
         "speaker": null,
         "start": 180286,
         "text": "This is what you need as a prerequisite to learn how to program."
        },
        {
         "confidence": 0.6764254570007324,
         "end": 186370,
         "sentiment": "POSITIVE",
         "speaker": null,
         "start": 184676,
         "text": "Programming is the ultimate goal."
        },
        {
         "confidence": 0.5197545886039734,
         "end": 190938,
         "sentiment": "POSITIVE",
         "speaker": null,
         "start": 186430,
         "text": "Programming is the act of using coding to make programs that solve real problems."
        },
        {
         "confidence": 0.7295411229133606,
         "end": 194610,
         "sentiment": "NEUTRAL",
         "speaker": null,
         "start": 191084,
         "text": "You need to learn the fundamentals of coding to know how to program."
        },
        {
         "confidence": 0.8394114375114441,
         "end": 197070,
         "sentiment": "NEUTRAL",
         "speaker": null,
         "start": 194720,
         "text": "Remember when I talked to people starting in machine learning?"
        },
        {
         "confidence": 0.5564076900482178,
         "end": 199386,
         "sentiment": "NEGATIVE",
         "speaker": null,
         "start": 197120,
         "text": "This is trying to program before you know how to code."
        },
        {
         "confidence": 0.6513679027557373,
         "end": 205158,
         "sentiment": "NEGATIVE",
         "speaker": null,
         "start": 199448,
         "text": "And people only solving math problems in C is knowing how to code and never using that to program."
        },
        {
         "confidence": 0.6550818681716919,
         "end": 209014,
         "sentiment": "POSITIVE",
         "speaker": null,
         "start": 205244,
         "text": "There are tons of tools, use cases, frameworks that surround each coding language."
        },
        {
         "confidence": 0.8416738510131836,
         "end": 217002,
         "sentiment": "NEUTRAL",
         "speaker": null,
         "start": 209062,
         "text": "But in the beginning, you kind of need to isolate the coding language itself, learn the basics of that, and then you can take it and learn how to program with it."
        },
        {
         "confidence": 0.7335740923881531,
         "end": 219310,
         "sentiment": "POSITIVE",
         "speaker": null,
         "start": 217016,
         "text": "The easiest thing to start with is probably Python."
        },
        {
         "confidence": 0.6367215514183044,
         "end": 223218,
         "sentiment": "NEUTRAL",
         "speaker": null,
         "start": 219370,
         "text": "But honestly, I wouldn't be upset if you picked JavaScript and I'll explain later."
        },
        {
         "confidence": 0.5612024664878845,
         "end": 225166,
         "sentiment": "NEUTRAL",
         "speaker": null,
         "start": 223304,
         "text": "Python mostly looks like plain English."
        },
        {
         "confidence": 0.6791304349899292,
         "end": 227562,
         "sentiment": "NEUTRAL",
         "speaker": null,
         "start": 225238,
         "text": "Even if you don't know how to code, you can sort of read it."
        },
        {
         "confidence": 0.958198606967926,
         "end": 229110,
         "sentiment": "POSITIVE",
         "speaker": null,
         "start": 227636,
         "text": "It's super easy to get started in."
        },
        {
         "confidence": 0.511694610118866,
         "end": 234826,
         "sentiment": "NEUTRAL",
         "speaker": null,
         "start": 229160,
         "text": "You can immediately start learning the basics like variables, functions move quickly into data structures and algorithms."
        },
        {
         "confidence": 0.8043642044067383,
         "end": 243286,
         "sentiment": "NEUTRAL",
         "speaker": null,
         "start": 234898,
         "text": "You'll really want to know the basics about types like arrays and the basics of control, flow like functions, loops, and even a little bit about classes."
        },
        {
         "confidence": 0.6663515567779541,
         "end": 244422,
         "sentiment": "NEUTRAL",
         "speaker": null,
         "start": 243358,
         "text": "Don't get carried away."
        },
        {
         "confidence": 0.5618823766708374,
         "end": 248094,
         "sentiment": "NEUTRAL",
         "speaker": null,
         "start": 244496,
         "text": "You don't need to learn advanced things like inheritance, for example."
        },
        {
         "confidence": 0.8268460035324097,
         "end": 253942,
         "sentiment": "NEUTRAL",
         "speaker": null,
         "start": 248192,
         "text": "If you're feeling a little feisty, you might want to learn exceptions, hash, maps, maybe sprinkle in a little recursion."
        },
        {
         "confidence": 0.6031475067138672,
         "end": 258394,
         "sentiment": "POSITIVE",
         "speaker": null,
         "start": 254026,
         "text": "Now, there are plenty of interest Python courses in the world, so I'm not going to bore you with the details."
        },
        {
         "confidence": 0.7314687371253967,
         "end": 260010,
         "sentiment": "NEUTRAL",
         "speaker": null,
         "start": 258442,
         "text": "I'm sure you can find that on your own."
        },
        {
         "confidence": 0.7071746587753296,
         "end": 263806,
         "sentiment": "NEUTRAL",
         "speaker": null,
         "start": 260060,
         "text": "But now that you have a coding language down, let's talk about programming."
        },
        {
         "confidence": 0.6182606220245361,
         "end": 267150,
         "sentiment": "NEUTRAL",
         "speaker": null,
         "start": 263878,
         "text": "So the first thing I would do is take what I've learned and build a website."
        },
        {
         "confidence": 0.6375629305839539,
         "end": 269562,
         "sentiment": "NEUTRAL",
         "speaker": null,
         "start": 267260,
         "text": "Now, there are three important aspects to a website."
        },
        {
         "confidence": 0.8200095295906067,
         "end": 272430,
         "sentiment": "NEUTRAL",
         "speaker": null,
         "start": 269636,
         "text": "There's the back end, which kind of manages user data."
        },
        {
         "confidence": 0.8629708290100098,
         "end": 275542,
         "sentiment": "NEUTRAL",
         "speaker": null,
         "start": 272540,
         "text": "There's the front end, which is what runs on the user's browser."
        },
        {
         "confidence": 0.6284099221229553,
         "end": 278310,
         "sentiment": "NEUTRAL",
         "speaker": null,
         "start": 275626,
         "text": "And then there's the database, which essentially just stores data."
        },
        {
         "confidence": 0.8280033469200134,
         "end": 279354,
         "sentiment": "NEUTRAL",
         "speaker": null,
         "start": 278360,
         "text": "Now, we'll start with back end."
        },
        {
         "confidence": 0.5560627579689026,
         "end": 284146,
         "sentiment": "NEUTRAL",
         "speaker": null,
         "start": 279392,
         "text": "You're going to want to pick a pretty high level language, either one Python or two JavaScript."
        },
        {
         "confidence": 0.8119492530822754,
         "end": 286458,
         "sentiment": "NEUTRAL",
         "speaker": null,
         "start": 284218,
         "text": "The first program I would build would be a basic website."
        },
        {
         "confidence": 0.7375393509864807,
         "end": 287562,
         "sentiment": "NEUTRAL",
         "speaker": null,
         "start": 286544,
         "text": "And what type of website?"
        },
        {
         "confidence": 0.7639157176017761,
         "end": 288714,
         "sentiment": "NEUTRAL",
         "speaker": null,
         "start": 287636,
         "text": "What does that website do?"
        },
        {
         "confidence": 0.752339243888855,
         "end": 292390,
         "sentiment": "NEUTRAL",
         "speaker": null,
         "start": 288752,
         "text": "Well, I'll explain that in a minute, but for now, let's just make a project in that language."
        },
        {
         "confidence": 0.8235530853271484,
         "end": 297714,
         "sentiment": "NEUTRAL",
         "speaker": null,
         "start": 292510,
         "text": "Now, when making a back end, you're going to learn concepts like Http methods, get post for example."
        },
        {
         "confidence": 0.8708140254020691,
         "end": 300634,
         "sentiment": "NEUTRAL",
         "speaker": null,
         "start": 297812,
         "text": "Depending on the project, you might be interacting with the database."
        },
        {
         "confidence": 0.5064377188682556,
         "end": 306582,
         "sentiment": "POSITIVE",
         "speaker": null,
         "start": 300742,
         "text": "Once you start to feel comfortable and have your basic back end working, then let's try our hand at the front end."
        },
        {
         "confidence": 0.7735817432403564,
         "end": 310342,
         "sentiment": "NEUTRAL",
         "speaker": null,
         "start": 306656,
         "text": "Now, on the front end you're going to be using things like JavaScript, HTML, CSS."
        },
        {
         "confidence": 0.9345772862434387,
         "end": 316206,
         "sentiment": "POSITIVE",
         "speaker": null,
         "start": 310486,
         "text": "This is the reason I said JavaScript is actually a pretty good starting language because you can use it for the back end and the front end."
        },
        {
         "confidence": 0.8011555075645447,
         "end": 320838,
         "sentiment": "POSITIVE",
         "speaker": null,
         "start": 316268,
         "text": "I said each programming language is a bunch of tools and frameworks that make it easier to use."
        },
        {
         "confidence": 0.5549567937850952,
         "end": 324790,
         "sentiment": "NEGATIVE",
         "speaker": null,
         "start": 320924,
         "text": "Basically, there's no reason for you to write code that somebody else has already written."
        },
        {
         "confidence": 0.8404123783111572,
         "end": 327154,
         "sentiment": "NEUTRAL",
         "speaker": null,
         "start": 324850,
         "text": "The frameworks I would use for these languages would be Python."
        },
        {
         "confidence": 0.6062102317810059,
         "end": 329770,
         "sentiment": "NEUTRAL",
         "speaker": null,
         "start": 327202,
         "text": "I would try either Django or Flask JavaScript."
        },
        {
         "confidence": 0.6809142827987671,
         "end": 334366,
         "sentiment": "NEUTRAL",
         "speaker": null,
         "start": 329830,
         "text": "On the back end I would use Express JS, which just think of it as simplified NodeJS."
        },
        {
         "confidence": 0.704187273979187,
         "end": 336274,
         "sentiment": "NEUTRAL",
         "speaker": null,
         "start": 334438,
         "text": "And on the front end I would use React."
        },
        {
         "confidence": 0.7073674201965332,
         "end": 339310,
         "sentiment": "NEUTRAL",
         "speaker": null,
         "start": 336382,
         "text": "And if you need a database, I would try MongoDB."
        },
        {
         "confidence": 0.7925254106521606,
         "end": 341974,
         "sentiment": "NEUTRAL",
         "speaker": null,
         "start": 339430,
         "text": "Now, anecdotally I can tell you for Python."
        },
        {
         "confidence": 0.5759443044662476,
         "end": 344974,
         "sentiment": "NEUTRAL",
         "speaker": null,
         "start": 342022,
         "text": "I've seen more jobs listed for Django than for Flask."
        },
        {
         "confidence": 0.5639676451683044,
         "end": 347866,
         "sentiment": "NEUTRAL",
         "speaker": null,
         "start": 345022,
         "text": "And I've seen more Express JS jobs over Django."
        },
        {
         "confidence": 0.9563320279121399,
         "end": 350662,
         "sentiment": "POSITIVE",
         "speaker": null,
         "start": 347938,
         "text": "On the front end, I think React is pretty solid."
        },
        {
         "confidence": 0.5493811964988708,
         "end": 356758,
         "sentiment": "NEUTRAL",
         "speaker": null,
         "start": 350746,
         "text": "After that time you should learn C and C as it'll teach you everything you need to know to learn any other programming language."
        },
        {
         "confidence": 0.9735389947891235,
         "end": 364642,
         "sentiment": "POSITIVE",
         "speaker": null,
         "start": 356794,
         "text": "I love this method because you start learning the practical and marketable stuff immediately, but then you start preparing yourself for the long term necessities."
        },
        {
         "confidence": 0.9578549265861511,
         "end": 368170,
         "sentiment": "POSITIVE",
         "speaker": null,
         "start": 364726,
         "text": "This keeps your motivation higher and it really just makes you marketable quicker."
        },
        {
         "confidence": 0.8505815863609314,
         "end": 370026,
         "sentiment": "NEUTRAL",
         "speaker": null,
         "start": 368230,
         "text": "Now, what websites should I build?"
        },
        {
         "confidence": 0.5802828073501587,
         "end": 372838,
         "sentiment": "NEUTRAL",
         "speaker": null,
         "start": 370088,
         "text": "Think back to useful, but not too useful."
        },
        {
         "confidence": 0.5967434644699097,
         "end": 374314,
         "sentiment": "NEUTRAL",
         "speaker": null,
         "start": 372874,
         "text": "This doesn't need to be very complicated."
        },
        {
         "confidence": 0.5752805471420288,
         "end": 376734,
         "sentiment": "NEUTRAL",
         "speaker": null,
         "start": 374362,
         "text": "In fact, it really shouldn't be complicated at all."
        },
        {
         "confidence": 0.6405042409896851,
         "end": 379482,
         "sentiment": "POSITIVE",
         "speaker": null,
         "start": 376772,
         "text": "There's going to be a lot of new ideas and concepts thrown at you."
        },
        {
         "confidence": 0.7325589060783386,
         "end": 385306,
         "sentiment": "NEGATIVE",
         "speaker": null,
         "start": 379556,
         "text": "If you try to build the next Tinder or the next Instagram, you're going to end up with no product, no learnings, and no motivation."
        },
        {
         "confidence": 0.509469211101532,
         "end": 390942,
         "sentiment": "POSITIVE",
         "speaker": null,
         "start": 385378,
         "text": "Now, before I give some concrete examples, and I will, let's talk about what makes projects good in an abstract sense."
        },
        {
         "confidence": 0.7775262594223022,
         "end": 394210,
         "sentiment": "POSITIVE",
         "speaker": null,
         "start": 391016,
         "text": "It's always best to create things that you actually find useful."
        },
        {
         "confidence": 0.8539754748344421,
         "end": 396730,
         "sentiment": "NEUTRAL",
         "speaker": null,
         "start": 394270,
         "text": "I'll give you an example of one of my first I projects."
        },
        {
         "confidence": 0.7657281160354614,
         "end": 398938,
         "sentiment": "NEUTRAL",
         "speaker": null,
         "start": 396790,
         "text": "So I created this thing called spotify to YouTube."
        },
        {
         "confidence": 0.6124240756034851,
         "end": 399618,
         "sentiment": "NEUTRAL",
         "speaker": null,
         "start": 398974,
         "text": "MP3."
        },
        {
         "confidence": 0.49394363164901733,
         "end": 405526,
         "sentiment": "NEUTRAL",
         "speaker": null,
         "start": 399704,
         "text": "In university I had a trial of Spotify and when it ran out, I was too cheap to buy Spotify."
        },
        {
         "confidence": 0.5217269659042358,
         "end": 409426,
         "sentiment": "POSITIVE",
         "speaker": null,
         "start": 405598,
         "text": "I didn't have any money, but I had 400 plus songs in my playlist."
        },
        {
         "confidence": 0.5269023776054382,
         "end": 410694,
         "sentiment": "NEUTRAL",
         "speaker": null,
         "start": 409498,
         "text": "I didn't want to lose all that."
        },
        {
         "confidence": 0.7934951186180115,
         "end": 417550,
         "sentiment": "NEUTRAL",
         "speaker": null,
         "start": 410732,
         "text": "So I created a Python program that uses the Spotify API to get those songs and then YouTube's API to download the MP3 version."
        },
        {
         "confidence": 0.7638150453567505,
         "end": 420234,
         "sentiment": "NEUTRAL",
         "speaker": null,
         "start": 417670,
         "text": "Now, I had all the same music, but for free."
        },
        {
         "confidence": 0.9488227367401123,
         "end": 425322,
         "sentiment": "POSITIVE",
         "speaker": null,
         "start": 420332,
         "text": "This project was one of the few that I actually finished, and it's one of the few employers loved asking about."
        },
        {
         "confidence": 0.6120101809501648,
         "end": 425742,
         "sentiment": "NEUTRAL",
         "speaker": null,
         "start": 425396,
         "text": "Why?"
        },
        {
         "confidence": 0.6704995632171631,
         "end": 429042,
         "sentiment": "POSITIVE",
         "speaker": null,
         "start": 425816,
         "text": "Well, one, because it's unique, but two, because I actually used it."
        },
        {
         "confidence": 0.615144670009613,
         "end": 430158,
         "sentiment": "NEUTRAL",
         "speaker": null,
         "start": 429056,
         "text": "I built it for myself."
        },
        {
         "confidence": 0.8357760906219482,
         "end": 434178,
         "sentiment": "NEGATIVE",
         "speaker": null,
         "start": 430304,
         "text": "Other projects I would start and then I would lose motivation and I would never finish."
        },
        {
         "confidence": 0.6102671027183533,
         "end": 437874,
         "sentiment": "NEUTRAL",
         "speaker": null,
         "start": 434264,
         "text": "Think a little about some problem that you have in your life that would be nice to know."
        },
        {
         "confidence": 0.7600290775299072,
         "end": 443718,
         "sentiment": "NEUTRAL",
         "speaker": null,
         "start": 437912,
         "text": "Like maybe it's just knowing when your favorite beer is on sale, or maybe it's an online clip for it."
        },
        {
         "confidence": 0.738918662071228,
         "end": 447606,
         "sentiment": "NEGATIVE",
         "speaker": null,
         "start": 443744,
         "text": "So you don't have to keep messaging yourself random shit on Facebook Messenger all the time."
        },
        {
         "confidence": 0.7199052572250366,
         "end": 449190,
         "sentiment": "NEUTRAL",
         "speaker": null,
         "start": 447668,
         "text": "It doesn't have to be relevant for everyone."
        },
        {
         "confidence": 0.7812954187393188,
         "end": 450942,
         "sentiment": "NEUTRAL",
         "speaker": null,
         "start": 449240,
         "text": "It really just has to be relevant for you."
        },
        {
         "confidence": 0.6423847079277039,
         "end": 452806,
         "sentiment": "NEUTRAL",
         "speaker": null,
         "start": 451016,
         "text": "Now, if you don't have an idea yet, don't panic."
        },
        {
         "confidence": 0.6882500648498535,
         "end": 453954,
         "sentiment": "NEUTRAL",
         "speaker": null,
         "start": 452878,
         "text": "I have a solution for that."
        },
        {
         "confidence": 0.6052926778793335,
         "end": 461826,
         "sentiment": "NEUTRAL",
         "speaker": null,
         "start": 453992,
         "text": "You're allowed to follow a tutorial on YouTube or Udemy or any of those sites, but you're not allowed to build the same website as them."
        },
        {
         "confidence": 0.7396888732910156,
         "end": 468538,
         "sentiment": "NEUTRAL",
         "speaker": null,
         "start": 461888,
         "text": "For example, if you're following a tutorial on how to build a weather website, instead try building something like a currency converter."
        },
        {
         "confidence": 0.5789536237716675,
         "end": 470178,
         "sentiment": "NEUTRAL",
         "speaker": null,
         "start": 468634,
         "text": "That's a real example that I did."
        },
        {
         "confidence": 0.6714428067207336,
         "end": 477406,
         "sentiment": "POSITIVE",
         "speaker": null,
         "start": 470264,
         "text": "What's great about that is most of the code and the concepts are going to be the exact same, but it restricts you from being able to copy and paste the solution."
        },
        {
         "confidence": 0.6765950322151184,
         "end": 480738,
         "sentiment": "NEUTRAL",
         "speaker": null,
         "start": 477478,
         "text": "Therefore, you can follow the tutorial, but you can't copy it."
        },
        {
         "confidence": 0.8766809701919556,
         "end": 486846,
         "sentiment": "POSITIVE",
         "speaker": null,
         "start": 480764,
         "text": "Now moving back to C plus plus for a second, the best and most popular languages and frameworks are always going to change."
        },
        {
         "confidence": 0.8615362644195557,
         "end": 488934,
         "sentiment": "NEUTRAL",
         "speaker": null,
         "start": 486968,
         "text": "They're changing as we speak right now."
        },
        {
         "confidence": 0.549716591835022,
         "end": 498910,
         "sentiment": "NEUTRAL",
         "speaker": null,
         "start": 489032,
         "text": "Don't underestimate those fundamentals you've learned in C and C, because ultimately, if you know those well, most other languages are just going to be some subset of those languages."
        },
        {
         "confidence": 0.8615953922271729,
         "end": 501978,
         "sentiment": "NEUTRAL",
         "speaker": null,
         "start": 499030,
         "text": "Also know you're going to experience the Dunn and Kruger effect."
        },
        {
         "confidence": 0.7330049276351929,
         "end": 505198,
         "sentiment": "NEUTRAL",
         "speaker": null,
         "start": 502064,
         "text": "This curve shows when somebody's learning a new skill at the beginning."
        },
        {
         "confidence": 0.6325032114982605,
         "end": 507334,
         "sentiment": "NEGATIVE",
         "speaker": null,
         "start": 505234,
         "text": "They tend to be overconfident in their abilities."
        },
        {
         "confidence": 0.4716625511646271,
         "end": 514842,
         "sentiment": "NEGATIVE",
         "speaker": null,
         "start": 507442,
         "text": "When they start to learn more, they see they actually have so much to learn, they quickly lose all their confidence and it takes them a while to build it back up."
        },
        {
         "confidence": 0.7547728419303894,
         "end": 517182,
         "sentiment": "NEUTRAL",
         "speaker": null,
         "start": 514976,
         "text": "Bear in mind, you're going to go through this process."
        },
        {
         "confidence": 0.7612791657447815,
         "end": 519690,
         "sentiment": "NEGATIVE",
         "speaker": null,
         "start": 517316,
         "text": "You're supposed to feel like you're not good enough."
        },
        {
         "confidence": 0.8133349418640137,
         "end": 522090,
         "sentiment": "NEGATIVE",
         "speaker": null,
         "start": 519740,
         "text": "You're supposed to feel like you're not smart enough for this."
        },
        {
         "confidence": 0.6671710014343262,
         "end": 525030,
         "sentiment": "POSITIVE",
         "speaker": null,
         "start": 522200,
         "text": "But trust me, if I can do it, then you can do it."
        },
        {
         "confidence": 0.7429562211036682,
         "end": 527014,
         "sentiment": "POSITIVE",
         "speaker": null,
         "start": 525080,
         "text": "One important resource is hackathons."
        },
        {
         "confidence": 0.9130687117576599,
         "end": 530838,
         "sentiment": "POSITIVE",
         "speaker": null,
         "start": 527122,
         "text": "It's weird to be at a hackathon in the first place, but it's cool to see all of this."
        },
        {
         "confidence": 0.7774115204811096,
         "end": 536646,
         "sentiment": "NEGATIVE",
         "speaker": null,
         "start": 530924,
         "text": "Hackathons are scary because you'll go not knowing much, but people will expose you to things you didn't know you didn't know."
        },
        {
         "confidence": 0.8530446290969849,
         "end": 540282,
         "sentiment": "POSITIVE",
         "speaker": null,
         "start": 536708,
         "text": "They'll help you build and complete an entire project in 48 hours."
        },
        {
         "confidence": 0.5400227904319763,
         "end": 544626,
         "sentiment": "POSITIVE",
         "speaker": null,
         "start": 540356,
         "text": "They're also just really fun, even if the food is actually terrible every single time."
        },
        {
         "confidence": 0.7018301486968994,
         "end": 547678,
         "sentiment": "NEUTRAL",
         "speaker": null,
         "start": 544688,
         "text": "Now don't forget, this comes after you learn the basics of coding."
        },
        {
         "confidence": 0.6119397878646851,
         "end": 553282,
         "sentiment": "NEGATIVE",
         "speaker": null,
         "start": 547714,
         "text": "Don't try to program before you know how to code and don't waste all of your time coding and not programming subscribe."
        },
        {
         "confidence": 0.5344310998916626,
         "end": 555430,
         "sentiment": "NEUTRAL",
         "speaker": null,
         "start": 553366,
         "text": "Smash the like button and go break some eggs."
        }
       ],
       "speaker_labels": false,
       "speed_boost": false,
       "status": "completed",
       "text": "This is how I would learn to code if I could start over for context, I work at Microsoft, but before that I did six internships across three countries. So yeah, I've done a line or two in my life. Wait, not like that. What the to tell you what I would change, I first need to tell you what I did. I started coding in great alignment. Eleven. Well, sort of. We started with this language called Scratch. It's basic game development made for children. Nobody would be stupid enough to, let's say, do an entire Google coding interview in this language and maybe even do shots every time the code fails. So let's just skip that and get to the important stuff. I went to Waterloo and in order I learned first racket, then C plus plus HTML, CSS, TCL, Python, java, JavaScript. C sharp. Some of these were in class, some are on their own. Here's the motivation behind each racket for recursion, c for memory management, c for object oriented design, HTML and CSS. For web development, although these are not real programming languages or markup languages. TCL I did an internship and it's useless. Python I learned this alone and over time, but mostly just for side projects java and JavaScript. For back end and front end web development. And finally C Sharp, which I do for my full time job now. But it's essentially Microsoft's version of Java, so let's not talk about it. C and C are by far the most useful languages to learn. After I learned those, I realized most other programming languages are essentially just derivatives of those. Each new programming language essentially takes those and makes some specific task easier. Basically, all these languages share the same ancestor in C and C. So clearly you should start by learning these two languages, right? No, these languages are pretty intensive. If you want to do anything like useful or impactful, it either requires one, a lot of code, or two use of a bunch of libraries that you've never heard of before, and honestly are probably not worth learning. Which brings me to my point. You need to do something useful, but not too useful. Now hear me out. If you're learning C, it's going to be relatively easy to start solving some basic math problem and you'll print the solution on the screen, but all of your code is contained to this little terminal. If you want to make a graphical game or connect to a website or do anything quote unquote useful, it'll actually be really hard, even for me right now. I would have to do a lot of googling to even figure out how to do those things. Essentially, if you start with C, anything useful is going to be too hard and this will be really demotivating. Now, let's look at the opposite end of the spectrum. Many students want to get into coding, and the first thing they want to do is learn machine learning. Here's the thing. Machine learning is super useful in the real world, but it's all advanced math. So if you start with it, you're going to be learning one computer science basics, two Python, for example, and three advanced math topics all at the same time. And unless you are literally a genie, you're going to come out of that not really knowing any of the three. The sweet spot is somewhere in the middle. You need to do something that's useful, but not too useful. Now that we're talking about doing useful things, let's clear up the distinction between coding and programming. Coding is just writing code to solve computer science problems. Let's call them math problems to show the distinction. This is what you need as a prerequisite to learn how to program. Programming is the ultimate goal. Programming is the act of using coding to make programs that solve real problems. You need to learn the fundamentals of coding to know how to program. Remember when I talked to people starting in machine learning? This is trying to program before you know how to code. And people only solving math problems in C is knowing how to code and never using that to program. There are tons of tools, use cases, frameworks that surround each coding language. But in the beginning, you kind of need to isolate the coding language itself, learn the basics of that, and then you can take it and learn how to program with it. The easiest thing to start with is probably Python. But honestly, I wouldn't be upset if you picked JavaScript and I'll explain later. Python mostly looks like plain English. Even if you don't know how to code, you can sort of read it. It's super easy to get started in. You can immediately start learning the basics like variables, functions move quickly into data structures and algorithms. You'll really want to know the basics about types like arrays and the basics of control, flow like functions, loops, and even a little bit about classes. Don't get carried away. You don't need to learn advanced things like inheritance, for example. If you're feeling a little feisty, you might want to learn exceptions, hash, maps, maybe sprinkle in a little recursion. Now, there are plenty of interest Python courses in the world, so I'm not going to bore you with the details. I'm sure you can find that on your own. But now that you have a coding language down, let's talk about programming. So the first thing I would do is take what I've learned and build a website. Now, there are three important aspects to a website. There's the back end, which kind of manages user data. There's the front end, which is what runs on the user's browser. And then there's the database, which essentially just stores data. Now, we'll start with back end. You're going to want to pick a pretty high level language, either one Python or two JavaScript. The first program I would build would be a basic website. And what type of website? What does that website do? Well, I'll explain that in a minute, but for now, let's just make a project in that language. Now, when making a back end, you're going to learn concepts like Http methods, get post for example. Depending on the project, you might be interacting with the database. Once you start to feel comfortable and have your basic back end working, then let's try our hand at the front end. Now, on the front end you're going to be using things like JavaScript, HTML, CSS. This is the reason I said JavaScript is actually a pretty good starting language because you can use it for the back end and the front end. I said each programming language is a bunch of tools and frameworks that make it easier to use. Basically, there's no reason for you to write code that somebody else has already written. The frameworks I would use for these languages would be Python. I would try either Django or Flask JavaScript. On the back end I would use Express JS, which just think of it as simplified NodeJS. And on the front end I would use React. And if you need a database, I would try MongoDB. Now, anecdotally I can tell you for Python. I've seen more jobs listed for Django than for Flask. And I've seen more Express JS jobs over Django. On the front end, I think React is pretty solid. After that time you should learn C and C as it'll teach you everything you need to know to learn any other programming language. I love this method because you start learning the practical and marketable stuff immediately, but then you start preparing yourself for the long term necessities. This keeps your motivation higher and it really just makes you marketable quicker. Now, what websites should I build? Think back to useful, but not too useful. This doesn't need to be very complicated. In fact, it really shouldn't be complicated at all. There's going to be a lot of new ideas and concepts thrown at you. If you try to build the next Tinder or the next Instagram, you're going to end up with no product, no learnings, and no motivation. Now, before I give some concrete examples, and I will, let's talk about what makes projects good in an abstract sense. It's always best to create things that you actually find useful. I'll give you an example of one of my first I projects. So I created this thing called spotify to YouTube. MP3. In university I had a trial of Spotify and when it ran out, I was too cheap to buy Spotify. I didn't have any money, but I had 400 plus songs in my playlist. I didn't want to lose all that. So I created a Python program that uses the Spotify API to get those songs and then YouTube's API to download the MP3 version. Now, I had all the same music, but for free. This project was one of the few that I actually finished, and it's one of the few employers loved asking about. Why? Well, one, because it's unique, but two, because I actually used it. I built it for myself. Other projects I would start and then I would lose motivation and I would never finish. Think a little about some problem that you have in your life that would be nice to know. Like maybe it's just knowing when your favorite beer is on sale, or maybe it's an online clip for it. So you don't have to keep messaging yourself random shit on Facebook Messenger all the time. It doesn't have to be relevant for everyone. It really just has to be relevant for you. Now, if you don't have an idea yet, don't panic. I have a solution for that. You're allowed to follow a tutorial on YouTube or Udemy or any of those sites, but you're not allowed to build the same website as them. For example, if you're following a tutorial on how to build a weather website, instead try building something like a currency converter. That's a real example that I did. What's great about that is most of the code and the concepts are going to be the exact same, but it restricts you from being able to copy and paste the solution. Therefore, you can follow the tutorial, but you can't copy it. Now moving back to C plus plus for a second, the best and most popular languages and frameworks are always going to change. They're changing as we speak right now. Don't underestimate those fundamentals you've learned in C and C, because ultimately, if you know those well, most other languages are just going to be some subset of those languages. Also know you're going to experience the Dunn and Kruger effect. This curve shows when somebody's learning a new skill at the beginning. They tend to be overconfident in their abilities. When they start to learn more, they see they actually have so much to learn, they quickly lose all their confidence and it takes them a while to build it back up. Bear in mind, you're going to go through this process. You're supposed to feel like you're not good enough. You're supposed to feel like you're not smart enough for this. But trust me, if I can do it, then you can do it. One important resource is hackathons. It's weird to be at a hackathon in the first place, but it's cool to see all of this. Hackathons are scary because you'll go not knowing much, but people will expose you to things you didn't know you didn't know. They'll help you build and complete an entire project in 48 hours. They're also just really fun, even if the food is actually terrible every single time. Now don't forget, this comes after you learn the basics of coding. Don't try to program before you know how to code and don't waste all of your time coding and not programming subscribe. Smash the like button and go break some eggs.",
       "utterances": null,
       "webhook_auth": false,
       "webhook_auth_header_name": null,
       "webhook_status_code": null,
       "webhook_url": null,
       "word_boost": [],
       "words": [
        {
         "confidence": 0.99472,
         "end": 222,
         "speaker": null,
         "start": 130,
         "text": "This"
        },
        {
         "confidence": 0.99738,
         "end": 378,
         "speaker": null,
         "start": 236,
         "text": "is"
        },
        {
         "confidence": 0.99966,
         "end": 558,
         "speaker": null,
         "start": 404,
         "text": "how"
        },
        {
         "confidence": 1,
         "end": 702,
         "speaker": null,
         "start": 584,
         "text": "I"
        },
        {
         "confidence": 0.98226,
         "end": 858,
         "speaker": null,
         "start": 716,
         "text": "would"
        },
        {
         "confidence": 0.99891,
         "end": 1038,
         "speaker": null,
         "start": 884,
         "text": "learn"
        },
        {
         "confidence": 1,
         "end": 1182,
         "speaker": null,
         "start": 1064,
         "text": "to"
        },
        {
         "confidence": 0.99631,
         "end": 1410,
         "speaker": null,
         "start": 1196,
         "text": "code"
        },
        {
         "confidence": 0.99882,
         "end": 1602,
         "speaker": null,
         "start": 1460,
         "text": "if"
        },
        {
         "confidence": 0.98,
         "end": 1722,
         "speaker": null,
         "start": 1616,
         "text": "I"
        },
        {
         "confidence": 0.99294,
         "end": 1914,
         "speaker": null,
         "start": 1736,
         "text": "could"
        },
        {
         "confidence": 0.99953,
         "end": 2154,
         "speaker": null,
         "start": 1952,
         "text": "start"
        },
        {
         "confidence": 0.99881,
         "end": 2466,
         "speaker": null,
         "start": 2192,
         "text": "over"
        },
        {
         "confidence": 0.9977,
         "end": 2718,
         "speaker": null,
         "start": 2528,
         "text": "for"
        },
        {
         "confidence": 0.72976,
         "end": 3094,
         "speaker": null,
         "start": 2744,
         "text": "context,"
        },
        {
         "confidence": 0.51,
         "end": 3318,
         "speaker": null,
         "start": 3142,
         "text": "I"
        },
        {
         "confidence": 0.66334,
         "end": 3462,
         "speaker": null,
         "start": 3344,
         "text": "work"
        },
        {
         "confidence": 1,
         "end": 3582,
         "speaker": null,
         "start": 3476,
         "text": "at"
        },
        {
         "confidence": 0.99841,
         "end": 4114,
         "speaker": null,
         "start": 3596,
         "text": "Microsoft,"
        },
        {
         "confidence": 0.9933,
         "end": 4302,
         "speaker": null,
         "start": 4162,
         "text": "but"
        },
        {
         "confidence": 0.98837,
         "end": 4530,
         "speaker": null,
         "start": 4316,
         "text": "before"
        },
        {
         "confidence": 0.99749,
         "end": 4758,
         "speaker": null,
         "start": 4580,
         "text": "that"
        },
        {
         "confidence": 0.85,
         "end": 4938,
         "speaker": null,
         "start": 4784,
         "text": "I"
        },
        {
         "confidence": 0.99941,
         "end": 5154,
         "speaker": null,
         "start": 4964,
         "text": "did"
        },
        {
         "confidence": 1,
         "end": 5358,
         "speaker": null,
         "start": 5192,
         "text": "six"
        },
        {
         "confidence": 0.85655,
         "end": 5914,
         "speaker": null,
         "start": 5384,
         "text": "internships"
        },
        {
         "confidence": 0.99987,
         "end": 6210,
         "speaker": null,
         "start": 5962,
         "text": "across"
        },
        {
         "confidence": 1,
         "end": 6510,
         "speaker": null,
         "start": 6260,
         "text": "three"
        },
        {
         "confidence": 0.99868,
         "end": 6982,
         "speaker": null,
         "start": 6560,
         "text": "countries."
        },
        {
         "confidence": 0.99081,
         "end": 7422,
         "speaker": null,
         "start": 7066,
         "text": "So"
        },
        {
         "confidence": 0.96273,
         "end": 7770,
         "speaker": null,
         "start": 7496,
         "text": "yeah,"
        },
        {
         "confidence": 0.86785,
         "end": 8062,
         "speaker": null,
         "start": 7820,
         "text": "I've"
        },
        {
         "confidence": 0.99955,
         "end": 8202,
         "speaker": null,
         "start": 8086,
         "text": "done"
        },
        {
         "confidence": 0.56,
         "end": 8322,
         "speaker": null,
         "start": 8216,
         "text": "a"
        },
        {
         "confidence": 0.99803,
         "end": 8478,
         "speaker": null,
         "start": 8336,
         "text": "line"
        },
        {
         "confidence": 0.96776,
         "end": 8622,
         "speaker": null,
         "start": 8504,
         "text": "or"
        },
        {
         "confidence": 1,
         "end": 8778,
         "speaker": null,
         "start": 8636,
         "text": "two"
        },
        {
         "confidence": 0.99827,
         "end": 8922,
         "speaker": null,
         "start": 8804,
         "text": "in"
        },
        {
         "confidence": 0.99908,
         "end": 9042,
         "speaker": null,
         "start": 8936,
         "text": "my"
        },
        {
         "confidence": 0.99892,
         "end": 9234,
         "speaker": null,
         "start": 9056,
         "text": "life."
        },
        {
         "confidence": 0.99581,
         "end": 9582,
         "speaker": null,
         "start": 9272,
         "text": "Wait,"
        },
        {
         "confidence": 0.99162,
         "end": 9858,
         "speaker": null,
         "start": 9656,
         "text": "not"
        },
        {
         "confidence": 0.99698,
         "end": 10038,
         "speaker": null,
         "start": 9884,
         "text": "like"
        },
        {
         "confidence": 0.99552,
         "end": 10218,
         "speaker": null,
         "start": 10064,
         "text": "that."
        },
        {
         "confidence": 0.97761,
         "end": 10362,
         "speaker": null,
         "start": 10244,
         "text": "What"
        },
        {
         "confidence": 0.98,
         "end": 10590,
         "speaker": null,
         "start": 10376,
         "text": "the"
        },
        {
         "confidence": 0.98,
         "end": 10818,
         "speaker": null,
         "start": 10640,
         "text": "to"
        },
        {
         "confidence": 0.99961,
         "end": 10962,
         "speaker": null,
         "start": 10844,
         "text": "tell"
        },
        {
         "confidence": 0.98697,
         "end": 11118,
         "speaker": null,
         "start": 10976,
         "text": "you"
        },
        {
         "confidence": 0.99028,
         "end": 11298,
         "speaker": null,
         "start": 11144,
         "text": "what"
        },
        {
         "confidence": 0.99,
         "end": 11478,
         "speaker": null,
         "start": 11324,
         "text": "I"
        },
        {
         "confidence": 0.99346,
         "end": 11694,
         "speaker": null,
         "start": 11504,
         "text": "would"
        },
        {
         "confidence": 0.99991,
         "end": 12042,
         "speaker": null,
         "start": 11732,
         "text": "change,"
        },
        {
         "confidence": 0.84,
         "end": 12354,
         "speaker": null,
         "start": 12116,
         "text": "I"
        },
        {
         "confidence": 1,
         "end": 12594,
         "speaker": null,
         "start": 12392,
         "text": "first"
        },
        {
         "confidence": 0.99678,
         "end": 12762,
         "speaker": null,
         "start": 12632,
         "text": "need"
        },
        {
         "confidence": 0.71,
         "end": 12918,
         "speaker": null,
         "start": 12776,
         "text": "to"
        },
        {
         "confidence": 0.99972,
         "end": 13098,
         "speaker": null,
         "start": 12944,
         "text": "tell"
        },
        {
         "confidence": 0.99721,
         "end": 13278,
         "speaker": null,
         "start": 13124,
         "text": "you"
        },
        {
         "confidence": 0.99848,
         "end": 13422,
         "speaker": null,
         "start": 13304,
         "text": "what"
        },
        {
         "confidence": 1,
         "end": 13578,
         "speaker": null,
         "start": 13436,
         "text": "I"
        },
        {
         "confidence": 0.99837,
         "end": 13794,
         "speaker": null,
         "start": 13604,
         "text": "did."
        },
        {
         "confidence": 0.99,
         "end": 13962,
         "speaker": null,
         "start": 13832,
         "text": "I"
        },
        {
         "confidence": 0.86957,
         "end": 14226,
         "speaker": null,
         "start": 13976,
         "text": "started"
        },
        {
         "confidence": 0.99388,
         "end": 14542,
         "speaker": null,
         "start": 14288,
         "text": "coding"
        },
        {
         "confidence": 0.94904,
         "end": 14682,
         "speaker": null,
         "start": 14566,
         "text": "in"
        },
        {
         "confidence": 0.82893,
         "end": 14838,
         "speaker": null,
         "start": 14696,
         "text": "great"
        },
        {
         "confidence": 0.1376,
         "end": 14986,
         "speaker": null,
         "start": 14864,
         "text": "alignment."
        },
        {
         "confidence": 0.61,
         "end": 15346,
         "speaker": null,
         "start": 14998,
         "text": "Eleven."
        },
        {
         "confidence": 0.93214,
         "end": 15762,
         "speaker": null,
         "start": 15418,
         "text": "Well,"
        },
        {
         "confidence": 0.98203,
         "end": 16074,
         "speaker": null,
         "start": 15836,
         "text": "sort"
        },
        {
         "confidence": 0.65,
         "end": 16278,
         "speaker": null,
         "start": 16112,
         "text": "of."
        },
        {
         "confidence": 0.99822,
         "end": 16422,
         "speaker": null,
         "start": 16304,
         "text": "We"
        },
        {
         "confidence": 0.99877,
         "end": 16614,
         "speaker": null,
         "start": 16436,
         "text": "started"
        },
        {
         "confidence": 0.9994,
         "end": 16782,
         "speaker": null,
         "start": 16652,
         "text": "with"
        },
        {
         "confidence": 0.9955,
         "end": 16938,
         "speaker": null,
         "start": 16796,
         "text": "this"
        },
        {
         "confidence": 0.99911,
         "end": 17218,
         "speaker": null,
         "start": 16964,
         "text": "language"
        },
        {
         "confidence": 0.9984,
         "end": 17454,
         "speaker": null,
         "start": 17254,
         "text": "called"
        },
        {
         "confidence": 0.39013,
         "end": 17950,
         "speaker": null,
         "start": 17492,
         "text": "Scratch."
        },
        {
         "confidence": 0.58904,
         "end": 18298,
         "speaker": null,
         "start": 18010,
         "text": "It's"
        },
        {
         "confidence": 0.98833,
         "end": 18634,
         "speaker": null,
         "start": 18334,
         "text": "basic"
        },
        {
         "confidence": 0.9999,
         "end": 18858,
         "speaker": null,
         "start": 18682,
         "text": "game"
        },
        {
         "confidence": 0.99867,
         "end": 19318,
         "speaker": null,
         "start": 18884,
         "text": "development"
        },
        {
         "confidence": 0.99926,
         "end": 19518,
         "speaker": null,
         "start": 19354,
         "text": "made"
        },
        {
         "confidence": 0.99945,
         "end": 19698,
         "speaker": null,
         "start": 19544,
         "text": "for"
        },
        {
         "confidence": 0.99995,
         "end": 20058,
         "speaker": null,
         "start": 19724,
         "text": "children."
        },
        {
         "confidence": 0.99892,
         "end": 20458,
         "speaker": null,
         "start": 20144,
         "text": "Nobody"
        },
        {
         "confidence": 0.99767,
         "end": 20622,
         "speaker": null,
         "start": 20494,
         "text": "would"
        },
        {
         "confidence": 0.99837,
         "end": 20778,
         "speaker": null,
         "start": 20636,
         "text": "be"
        },
        {
         "confidence": 0.92055,
         "end": 21082,
         "speaker": null,
         "start": 20804,
         "text": "stupid"
        },
        {
         "confidence": 0.99983,
         "end": 21294,
         "speaker": null,
         "start": 21106,
         "text": "enough"
        },
        {
         "confidence": 0.98,
         "end": 21534,
         "speaker": null,
         "start": 21332,
         "text": "to,"
        },
        {
         "confidence": 0.89008,
         "end": 21766,
         "speaker": null,
         "start": 21572,
         "text": "let's"
        },
        {
         "confidence": 0.88681,
         "end": 21990,
         "speaker": null,
         "start": 21778,
         "text": "say,"
        },
        {
         "confidence": 0.98016,
         "end": 22218,
         "speaker": null,
         "start": 22040,
         "text": "do"
        },
        {
         "confidence": 0.99551,
         "end": 22362,
         "speaker": null,
         "start": 22244,
         "text": "an"
        },
        {
         "confidence": 0.99977,
         "end": 22698,
         "speaker": null,
         "start": 22376,
         "text": "entire"
        },
        {
         "confidence": 0.99906,
         "end": 23070,
         "speaker": null,
         "start": 22784,
         "text": "Google"
        },
        {
         "confidence": 0.71847,
         "end": 23398,
         "speaker": null,
         "start": 23120,
         "text": "coding"
        },
        {
         "confidence": 0.99878,
         "end": 23698,
         "speaker": null,
         "start": 23434,
         "text": "interview"
        },
        {
         "confidence": 0.98945,
         "end": 23826,
         "speaker": null,
         "start": 23734,
         "text": "in"
        },
        {
         "confidence": 0.92333,
         "end": 23994,
         "speaker": null,
         "start": 23828,
         "text": "this"
        },
        {
         "confidence": 0.99984,
         "end": 24334,
         "speaker": null,
         "start": 24032,
         "text": "language"
        },
        {
         "confidence": 1,
         "end": 24558,
         "speaker": null,
         "start": 24382,
         "text": "and"
        },
        {
         "confidence": 0.99655,
         "end": 24774,
         "speaker": null,
         "start": 24584,
         "text": "maybe"
        },
        {
         "confidence": 0.99883,
         "end": 25014,
         "speaker": null,
         "start": 24812,
         "text": "even"
        },
        {
         "confidence": 0.99566,
         "end": 25218,
         "speaker": null,
         "start": 25052,
         "text": "do"
        },
        {
         "confidence": 0.97887,
         "end": 25534,
         "speaker": null,
         "start": 25244,
         "text": "shots"
        },
        {
         "confidence": 0.99986,
         "end": 25722,
         "speaker": null,
         "start": 25582,
         "text": "every"
        },
        {
         "confidence": 0.62472,
         "end": 25878,
         "speaker": null,
         "start": 25736,
         "text": "time"
        },
        {
         "confidence": 0.99,
         "end": 26058,
         "speaker": null,
         "start": 25904,
         "text": "the"
        },
        {
         "confidence": 0.99913,
         "end": 26274,
         "speaker": null,
         "start": 26084,
         "text": "code"
        },
        {
         "confidence": 0.99541,
         "end": 26914,
         "speaker": null,
         "start": 26312,
         "text": "fails."
        },
        {
         "confidence": 0.72982,
         "end": 27294,
         "speaker": null,
         "start": 27022,
         "text": "So"
        },
        {
         "confidence": 0.77058,
         "end": 27598,
         "speaker": null,
         "start": 27332,
         "text": "let's"
        },
        {
         "confidence": 0.98833,
         "end": 27870,
         "speaker": null,
         "start": 27634,
         "text": "just"
        },
        {
         "confidence": 0.99869,
         "end": 28162,
         "speaker": null,
         "start": 27920,
         "text": "skip"
        },
        {
         "confidence": 0.80685,
         "end": 28374,
         "speaker": null,
         "start": 28186,
         "text": "that"
        },
        {
         "confidence": 1,
         "end": 28542,
         "speaker": null,
         "start": 28412,
         "text": "and"
        },
        {
         "confidence": 0.9993,
         "end": 28662,
         "speaker": null,
         "start": 28556,
         "text": "get"
        },
        {
         "confidence": 1,
         "end": 28782,
         "speaker": null,
         "start": 28676,
         "text": "to"
        },
        {
         "confidence": 1,
         "end": 28902,
         "speaker": null,
         "start": 28796,
         "text": "the"
        },
        {
         "confidence": 0.92807,
         "end": 29202,
         "speaker": null,
         "start": 28916,
         "text": "important"
        },
        {
         "confidence": 0.99864,
         "end": 29514,
         "speaker": null,
         "start": 29276,
         "text": "stuff."
        },
        {
         "confidence": 1,
         "end": 29682,
         "speaker": null,
         "start": 29552,
         "text": "I"
        },
        {
         "confidence": 0.99963,
         "end": 29802,
         "speaker": null,
         "start": 29696,
         "text": "went"
        },
        {
         "confidence": 0.96,
         "end": 29994,
         "speaker": null,
         "start": 29816,
         "text": "to"
        },
        {
         "confidence": 0.65893,
         "end": 30502,
         "speaker": null,
         "start": 30032,
         "text": "Waterloo"
        },
        {
         "confidence": 0.98,
         "end": 30642,
         "speaker": null,
         "start": 30526,
         "text": "and"
        },
        {
         "confidence": 0.94479,
         "end": 30798,
         "speaker": null,
         "start": 30656,
         "text": "in"
        },
        {
         "confidence": 0.99991,
         "end": 31086,
         "speaker": null,
         "start": 30824,
         "text": "order"
        },
        {
         "confidence": 1,
         "end": 31338,
         "speaker": null,
         "start": 31148,
         "text": "I"
        },
        {
         "confidence": 0.99726,
         "end": 31750,
         "speaker": null,
         "start": 31364,
         "text": "learned"
        },
        {
         "confidence": 1,
         "end": 32178,
         "speaker": null,
         "start": 31810,
         "text": "first"
        },
        {
         "confidence": 0.97596,
         "end": 32806,
         "speaker": null,
         "start": 32264,
         "text": "racket,"
        },
        {
         "confidence": 0.95504,
         "end": 33150,
         "speaker": null,
         "start": 32878,
         "text": "then"
        },
        {
         "confidence": 0.99,
         "end": 33666,
         "speaker": null,
         "start": 33200,
         "text": "C"
        },
        {
         "confidence": 0.53888,
         "end": 34110,
         "speaker": null,
         "start": 33788,
         "text": "plus"
        },
        {
         "confidence": 0.90347,
         "end": 34410,
         "speaker": null,
         "start": 34160,
         "text": "plus"
        },
        {
         "confidence": 0.45072,
         "end": 35170,
         "speaker": null,
         "start": 34460,
         "text": "HTML,"
        },
        {
         "confidence": 0.97967,
         "end": 35902,
         "speaker": null,
         "start": 35230,
         "text": "CSS,"
        },
        {
         "confidence": 0.40149,
         "end": 36838,
         "speaker": null,
         "start": 36046,
         "text": "TCL,"
        },
        {
         "confidence": 0.95514,
         "end": 37450,
         "speaker": null,
         "start": 36934,
         "text": "Python,"
        },
        {
         "confidence": 0.9666,
         "end": 37858,
         "speaker": null,
         "start": 37510,
         "text": "java,"
        },
        {
         "confidence": 0.78778,
         "end": 38482,
         "speaker": null,
         "start": 37894,
         "text": "JavaScript."
        },
        {
         "confidence": 0.94,
         "end": 38778,
         "speaker": null,
         "start": 38566,
         "text": "C"
        },
        {
         "confidence": 0.44596,
         "end": 39118,
         "speaker": null,
         "start": 38804,
         "text": "sharp."
        },
        {
         "confidence": 0.99967,
         "end": 39282,
         "speaker": null,
         "start": 39154,
         "text": "Some"
        },
        {
         "confidence": 1,
         "end": 39402,
         "speaker": null,
         "start": 39296,
         "text": "of"
        },
        {
         "confidence": 0.99624,
         "end": 39522,
         "speaker": null,
         "start": 39416,
         "text": "these"
        },
        {
         "confidence": 0.86467,
         "end": 39642,
         "speaker": null,
         "start": 39536,
         "text": "were"
        },
        {
         "confidence": 0.96145,
         "end": 39798,
         "speaker": null,
         "start": 39656,
         "text": "in"
        },
        {
         "confidence": 0.99972,
         "end": 40194,
         "speaker": null,
         "start": 39824,
         "text": "class,"
        },
        {
         "confidence": 0.99219,
         "end": 40518,
         "speaker": null,
         "start": 40292,
         "text": "some"
        },
        {
         "confidence": 0.79699,
         "end": 40662,
         "speaker": null,
         "start": 40544,
         "text": "are"
        },
        {
         "confidence": 0.99759,
         "end": 40746,
         "speaker": null,
         "start": 40676,
         "text": "on"
        },
        {
         "confidence": 0.99608,
         "end": 40842,
         "speaker": null,
         "start": 40748,
         "text": "their"
        },
        {
         "confidence": 0.97071,
         "end": 41070,
         "speaker": null,
         "start": 40856,
         "text": "own."
        },
        {
         "confidence": 0.79095,
         "end": 41302,
         "speaker": null,
         "start": 41120,
         "text": "Here's"
        },
        {
         "confidence": 0.87,
         "end": 41406,
         "speaker": null,
         "start": 41326,
         "text": "the"
        },
        {
         "confidence": 0.94902,
         "end": 41794,
         "speaker": null,
         "start": 41408,
         "text": "motivation"
        },
        {
         "confidence": 0.99988,
         "end": 42126,
         "speaker": null,
         "start": 41842,
         "text": "behind"
        },
        {
         "confidence": 0.99822,
         "end": 42486,
         "speaker": null,
         "start": 42188,
         "text": "each"
        },
        {
         "confidence": 0.79512,
         "end": 43138,
         "speaker": null,
         "start": 42548,
         "text": "racket"
        },
        {
         "confidence": 0.99614,
         "end": 43458,
         "speaker": null,
         "start": 43234,
         "text": "for"
        },
        {
         "confidence": 0.56755,
         "end": 44026,
         "speaker": null,
         "start": 43484,
         "text": "recursion,"
        },
        {
         "confidence": 0.55,
         "end": 44406,
         "speaker": null,
         "start": 44098,
         "text": "c"
        },
        {
         "confidence": 0.99194,
         "end": 44658,
         "speaker": null,
         "start": 44468,
         "text": "for"
        },
        {
         "confidence": 0.72236,
         "end": 44950,
         "speaker": null,
         "start": 44684,
         "text": "memory"
        },
        {
         "confidence": 0.99754,
         "end": 45418,
         "speaker": null,
         "start": 45010,
         "text": "management,"
        },
        {
         "confidence": 0.98,
         "end": 45906,
         "speaker": null,
         "start": 45454,
         "text": "c"
        },
        {
         "confidence": 0.98018,
         "end": 46278,
         "speaker": null,
         "start": 46028,
         "text": "for"
        },
        {
         "confidence": 0.99958,
         "end": 46530,
         "speaker": null,
         "start": 46304,
         "text": "object"
        },
        {
         "confidence": 0.32039,
         "end": 47038,
         "speaker": null,
         "start": 46580,
         "text": "oriented"
        },
        {
         "confidence": 0.99972,
         "end": 47562,
         "speaker": null,
         "start": 47074,
         "text": "design,"
        },
        {
         "confidence": 0.65212,
         "end": 48262,
         "speaker": null,
         "start": 47696,
         "text": "HTML"
        },
        {
         "confidence": 0.94,
         "end": 48402,
         "speaker": null,
         "start": 48286,
         "text": "and"
        },
        {
         "confidence": 0.86189,
         "end": 48910,
         "speaker": null,
         "start": 48416,
         "text": "CSS."
        },
        {
         "confidence": 0.95031,
         "end": 49458,
         "speaker": null,
         "start": 49030,
         "text": "For"
        },
        {
         "confidence": 0.99966,
         "end": 49794,
         "speaker": null,
         "start": 49544,
         "text": "web"
        },
        {
         "confidence": 0.88162,
         "end": 50290,
         "speaker": null,
         "start": 49832,
         "text": "development,"
        },
        {
         "confidence": 0.91675,
         "end": 50614,
         "speaker": null,
         "start": 50350,
         "text": "although"
        },
        {
         "confidence": 0.999,
         "end": 50838,
         "speaker": null,
         "start": 50662,
         "text": "these"
        },
        {
         "confidence": 0.99943,
         "end": 50982,
         "speaker": null,
         "start": 50864,
         "text": "are"
        },
        {
         "confidence": 0.99869,
         "end": 51138,
         "speaker": null,
         "start": 50996,
         "text": "not"
        },
        {
         "confidence": 1,
         "end": 51354,
         "speaker": null,
         "start": 51164,
         "text": "real"
        },
        {
         "confidence": 0.99973,
         "end": 51838,
         "speaker": null,
         "start": 51392,
         "text": "programming"
        },
        {
         "confidence": 0.99936,
         "end": 52174,
         "speaker": null,
         "start": 51874,
         "text": "languages"
        },
        {
         "confidence": 0.92042,
         "end": 52398,
         "speaker": null,
         "start": 52222,
         "text": "or"
        },
        {
         "confidence": 0.99097,
         "end": 52798,
         "speaker": null,
         "start": 52424,
         "text": "markup"
        },
        {
         "confidence": 0.99502,
         "end": 53302,
         "speaker": null,
         "start": 52834,
         "text": "languages."
        },
        {
         "confidence": 0.86633,
         "end": 53986,
         "speaker": null,
         "start": 53386,
         "text": "TCL"
        },
        {
         "confidence": 1,
         "end": 54222,
         "speaker": null,
         "start": 54058,
         "text": "I"
        },
        {
         "confidence": 0.99732,
         "end": 54378,
         "speaker": null,
         "start": 54236,
         "text": "did"
        },
        {
         "confidence": 0.81697,
         "end": 54558,
         "speaker": null,
         "start": 54404,
         "text": "an"
        },
        {
         "confidence": 0.98974,
         "end": 55078,
         "speaker": null,
         "start": 54584,
         "text": "internship"
        },
        {
         "confidence": 0.99,
         "end": 55242,
         "speaker": null,
         "start": 55114,
         "text": "and"
        },
        {
         "confidence": 0.95462,
         "end": 55858,
         "speaker": null,
         "start": 55256,
         "text": "it's"
        },
        {
         "confidence": 0.84513,
         "end": 56674,
         "speaker": null,
         "start": 56014,
         "text": "useless."
        },
        {
         "confidence": 0.96325,
         "end": 57346,
         "speaker": null,
         "start": 56782,
         "text": "Python"
        },
        {
         "confidence": 0.99,
         "end": 57690,
         "speaker": null,
         "start": 57418,
         "text": "I"
        },
        {
         "confidence": 0.92186,
         "end": 57982,
         "speaker": null,
         "start": 57740,
         "text": "learned"
        },
        {
         "confidence": 0.63748,
         "end": 58230,
         "speaker": null,
         "start": 58006,
         "text": "this"
        },
        {
         "confidence": 0.99762,
         "end": 58558,
         "speaker": null,
         "start": 58280,
         "text": "alone"
        },
        {
         "confidence": 0.82,
         "end": 58722,
         "speaker": null,
         "start": 58594,
         "text": "and"
        },
        {
         "confidence": 0.99766,
         "end": 58914,
         "speaker": null,
         "start": 58736,
         "text": "over"
        },
        {
         "confidence": 0.73947,
         "end": 59154,
         "speaker": null,
         "start": 58952,
         "text": "time,"
        },
        {
         "confidence": 0.9887,
         "end": 59358,
         "speaker": null,
         "start": 59192,
         "text": "but"
        },
        {
         "confidence": 0.99921,
         "end": 59662,
         "speaker": null,
         "start": 59384,
         "text": "mostly"
        },
        {
         "confidence": 0.98415,
         "end": 59838,
         "speaker": null,
         "start": 59686,
         "text": "just"
        },
        {
         "confidence": 0.9975,
         "end": 60018,
         "speaker": null,
         "start": 59864,
         "text": "for"
        },
        {
         "confidence": 0.99206,
         "end": 60234,
         "speaker": null,
         "start": 60044,
         "text": "side"
        },
        {
         "confidence": 0.96335,
         "end": 60694,
         "speaker": null,
         "start": 60272,
         "text": "projects"
        },
        {
         "confidence": 0.99245,
         "end": 61042,
         "speaker": null,
         "start": 60742,
         "text": "java"
        },
        {
         "confidence": 0.99,
         "end": 61182,
         "speaker": null,
         "start": 61066,
         "text": "and"
        },
        {
         "confidence": 0.99618,
         "end": 61726,
         "speaker": null,
         "start": 61196,
         "text": "JavaScript."
        },
        {
         "confidence": 0.99723,
         "end": 62070,
         "speaker": null,
         "start": 61798,
         "text": "For"
        },
        {
         "confidence": 0.99953,
         "end": 62298,
         "speaker": null,
         "start": 62120,
         "text": "back"
        },
        {
         "confidence": 0.74132,
         "end": 62478,
         "speaker": null,
         "start": 62324,
         "text": "end"
        },
        {
         "confidence": 0.97,
         "end": 62694,
         "speaker": null,
         "start": 62504,
         "text": "and"
        },
        {
         "confidence": 0.99983,
         "end": 62898,
         "speaker": null,
         "start": 62732,
         "text": "front"
        },
        {
         "confidence": 0.87596,
         "end": 63114,
         "speaker": null,
         "start": 62924,
         "text": "end"
        },
        {
         "confidence": 0.99952,
         "end": 63354,
         "speaker": null,
         "start": 63152,
         "text": "web"
        },
        {
         "confidence": 0.99918,
         "end": 63814,
         "speaker": null,
         "start": 63392,
         "text": "development."
        },
        {
         "confidence": 0.99,
         "end": 64110,
         "speaker": null,
         "start": 63862,
         "text": "And"
        },
        {
         "confidence": 0.99787,
         "end": 64518,
         "speaker": null,
         "start": 64160,
         "text": "finally"
        },
        {
         "confidence": 1,
         "end": 64818,
         "speaker": null,
         "start": 64604,
         "text": "C"
        },
        {
         "confidence": 0.72177,
         "end": 65158,
         "speaker": null,
         "start": 64844,
         "text": "Sharp,"
        },
        {
         "confidence": 0.99875,
         "end": 65322,
         "speaker": null,
         "start": 65194,
         "text": "which"
        },
        {
         "confidence": 0.97,
         "end": 65442,
         "speaker": null,
         "start": 65336,
         "text": "I"
        },
        {
         "confidence": 0.99756,
         "end": 65598,
         "speaker": null,
         "start": 65456,
         "text": "do"
        },
        {
         "confidence": 0.98944,
         "end": 65742,
         "speaker": null,
         "start": 65624,
         "text": "for"
        },
        {
         "confidence": 0.997,
         "end": 65862,
         "speaker": null,
         "start": 65756,
         "text": "my"
        },
        {
         "confidence": 0.95154,
         "end": 66018,
         "speaker": null,
         "start": 65876,
         "text": "full"
        },
        {
         "confidence": 0.7954,
         "end": 66234,
         "speaker": null,
         "start": 66044,
         "text": "time"
        },
        {
         "confidence": 0.99994,
         "end": 66474,
         "speaker": null,
         "start": 66272,
         "text": "job"
        },
        {
         "confidence": 0.99357,
         "end": 66714,
         "speaker": null,
         "start": 66512,
         "text": "now."
        },
        {
         "confidence": 0.9931,
         "end": 66882,
         "speaker": null,
         "start": 66752,
         "text": "But"
        },
        {
         "confidence": 0.87737,
         "end": 67042,
         "speaker": null,
         "start": 66896,
         "text": "it's"
        },
        {
         "confidence": 0.99628,
         "end": 67426,
         "speaker": null,
         "start": 67066,
         "text": "essentially"
        },
        {
         "confidence": 0.77281,
         "end": 68122,
         "speaker": null,
         "start": 67498,
         "text": "Microsoft's"
        },
        {
         "confidence": 0.99544,
         "end": 68398,
         "speaker": null,
         "start": 68146,
         "text": "version"
        },
        {
         "confidence": 1,
         "end": 68598,
         "speaker": null,
         "start": 68434,
         "text": "of"
        },
        {
         "confidence": 0.9783,
         "end": 68998,
         "speaker": null,
         "start": 68624,
         "text": "Java,"
        },
        {
         "confidence": 0.97045,
         "end": 69234,
         "speaker": null,
         "start": 69034,
         "text": "so"
        },
        {
         "confidence": 0.99098,
         "end": 69538,
         "speaker": null,
         "start": 69272,
         "text": "let's"
        },
        {
         "confidence": 0.99885,
         "end": 69738,
         "speaker": null,
         "start": 69574,
         "text": "not"
        },
        {
         "confidence": 0.99939,
         "end": 69954,
         "speaker": null,
         "start": 69764,
         "text": "talk"
        },
        {
         "confidence": 0.99983,
         "end": 70158,
         "speaker": null,
         "start": 69992,
         "text": "about"
        },
        {
         "confidence": 0.91,
         "end": 70374,
         "speaker": null,
         "start": 70184,
         "text": "it."
        },
        {
         "confidence": 0.53,
         "end": 70614,
         "speaker": null,
         "start": 70412,
         "text": "C"
        },
        {
         "confidence": 0.99,
         "end": 70782,
         "speaker": null,
         "start": 70652,
         "text": "and"
        },
        {
         "confidence": 1,
         "end": 71226,
         "speaker": null,
         "start": 70796,
         "text": "C"
        },
        {
         "confidence": 0.99206,
         "end": 71634,
         "speaker": null,
         "start": 71348,
         "text": "are"
        },
        {
         "confidence": 0.98044,
         "end": 71802,
         "speaker": null,
         "start": 71672,
         "text": "by"
        },
        {
         "confidence": 0.99956,
         "end": 71958,
         "speaker": null,
         "start": 71816,
         "text": "far"
        },
        {
         "confidence": 0.97,
         "end": 72102,
         "speaker": null,
         "start": 71984,
         "text": "the"
        },
        {
         "confidence": 0.72657,
         "end": 72294,
         "speaker": null,
         "start": 72116,
         "text": "most"
        },
        {
         "confidence": 0.99532,
         "end": 72598,
         "speaker": null,
         "start": 72332,
         "text": "useful"
        },
        {
         "confidence": 0.98298,
         "end": 72994,
         "speaker": null,
         "start": 72634,
         "text": "languages"
        },
        {
         "confidence": 1,
         "end": 73182,
         "speaker": null,
         "start": 73042,
         "text": "to"
        },
        {
         "confidence": 0.9995,
         "end": 73410,
         "speaker": null,
         "start": 73196,
         "text": "learn."
        },
        {
         "confidence": 0.99992,
         "end": 73638,
         "speaker": null,
         "start": 73460,
         "text": "After"
        },
        {
         "confidence": 0.77,
         "end": 73818,
         "speaker": null,
         "start": 73664,
         "text": "I"
        },
        {
         "confidence": 0.80281,
         "end": 74002,
         "speaker": null,
         "start": 73844,
         "text": "learned"
        },
        {
         "confidence": 0.99094,
         "end": 74214,
         "speaker": null,
         "start": 74026,
         "text": "those,"
        },
        {
         "confidence": 1,
         "end": 74382,
         "speaker": null,
         "start": 74252,
         "text": "I"
        },
        {
         "confidence": 0.95089,
         "end": 74734,
         "speaker": null,
         "start": 74396,
         "text": "realized"
        },
        {
         "confidence": 0.99967,
         "end": 75030,
         "speaker": null,
         "start": 74782,
         "text": "most"
        },
        {
         "confidence": 0.99912,
         "end": 75258,
         "speaker": null,
         "start": 75080,
         "text": "other"
        },
        {
         "confidence": 0.92213,
         "end": 75718,
         "speaker": null,
         "start": 75284,
         "text": "programming"
        },
        {
         "confidence": 0.99546,
         "end": 76162,
         "speaker": null,
         "start": 75754,
         "text": "languages"
        },
        {
         "confidence": 0.99259,
         "end": 76566,
         "speaker": null,
         "start": 76246,
         "text": "are"
        },
        {
         "confidence": 0.99859,
         "end": 76990,
         "speaker": null,
         "start": 76628,
         "text": "essentially"
        },
        {
         "confidence": 0.97706,
         "end": 77238,
         "speaker": null,
         "start": 77050,
         "text": "just"
        },
        {
         "confidence": 0.73001,
         "end": 77938,
         "speaker": null,
         "start": 77264,
         "text": "derivatives"
        },
        {
         "confidence": 1,
         "end": 78138,
         "speaker": null,
         "start": 77974,
         "text": "of"
        },
        {
         "confidence": 0.98518,
         "end": 78498,
         "speaker": null,
         "start": 78164,
         "text": "those."
        },
        {
         "confidence": 0.99911,
         "end": 78834,
         "speaker": null,
         "start": 78584,
         "text": "Each"
        },
        {
         "confidence": 1,
         "end": 79038,
         "speaker": null,
         "start": 78872,
         "text": "new"
        },
        {
         "confidence": 0.88368,
         "end": 79438,
         "speaker": null,
         "start": 79064,
         "text": "programming"
        },
        {
         "confidence": 0.98847,
         "end": 79774,
         "speaker": null,
         "start": 79474,
         "text": "language"
        },
        {
         "confidence": 0.99863,
         "end": 80206,
         "speaker": null,
         "start": 79822,
         "text": "essentially"
        },
        {
         "confidence": 0.99772,
         "end": 80550,
         "speaker": null,
         "start": 80278,
         "text": "takes"
        },
        {
         "confidence": 0.99953,
         "end": 80814,
         "speaker": null,
         "start": 80600,
         "text": "those"
        },
        {
         "confidence": 1,
         "end": 81018,
         "speaker": null,
         "start": 80852,
         "text": "and"
        },
        {
         "confidence": 0.94413,
         "end": 81234,
         "speaker": null,
         "start": 81044,
         "text": "makes"
        },
        {
         "confidence": 0.99699,
         "end": 81438,
         "speaker": null,
         "start": 81272,
         "text": "some"
        },
        {
         "confidence": 0.58024,
         "end": 81798,
         "speaker": null,
         "start": 81464,
         "text": "specific"
        },
        {
         "confidence": 0.7077,
         "end": 82390,
         "speaker": null,
         "start": 81884,
         "text": "task"
        },
        {
         "confidence": 0.68073,
         "end": 82810,
         "speaker": null,
         "start": 82450,
         "text": "easier."
        },
        {
         "confidence": 0.9911,
         "end": 83490,
         "speaker": null,
         "start": 82870,
         "text": "Basically,"
        },
        {
         "confidence": 0.99938,
         "end": 83958,
         "speaker": null,
         "start": 83660,
         "text": "all"
        },
        {
         "confidence": 0.99435,
         "end": 84174,
         "speaker": null,
         "start": 83984,
         "text": "these"
        },
        {
         "confidence": 0.99882,
         "end": 84550,
         "speaker": null,
         "start": 84212,
         "text": "languages"
        },
        {
         "confidence": 0.99958,
         "end": 84798,
         "speaker": null,
         "start": 84610,
         "text": "share"
        },
        {
         "confidence": 0.97,
         "end": 84978,
         "speaker": null,
         "start": 84824,
         "text": "the"
        },
        {
         "confidence": 0.99968,
         "end": 85194,
         "speaker": null,
         "start": 85004,
         "text": "same"
        },
        {
         "confidence": 0.73926,
         "end": 85702,
         "speaker": null,
         "start": 85232,
         "text": "ancestor"
        },
        {
         "confidence": 0.67889,
         "end": 85842,
         "speaker": null,
         "start": 85726,
         "text": "in"
        },
        {
         "confidence": 1,
         "end": 85998,
         "speaker": null,
         "start": 85856,
         "text": "C"
        },
        {
         "confidence": 0.98,
         "end": 86142,
         "speaker": null,
         "start": 86024,
         "text": "and"
        },
        {
         "confidence": 0.98,
         "end": 86622,
         "speaker": null,
         "start": 86156,
         "text": "C."
        },
        {
         "confidence": 0.76491,
         "end": 87018,
         "speaker": null,
         "start": 86756,
         "text": "So"
        },
        {
         "confidence": 0.91435,
         "end": 87358,
         "speaker": null,
         "start": 87044,
         "text": "clearly"
        },
        {
         "confidence": 0.99798,
         "end": 87522,
         "speaker": null,
         "start": 87394,
         "text": "you"
        },
        {
         "confidence": 0.99502,
         "end": 87678,
         "speaker": null,
         "start": 87536,
         "text": "should"
        },
        {
         "confidence": 0.99943,
         "end": 87894,
         "speaker": null,
         "start": 87704,
         "text": "start"
        },
        {
         "confidence": 0.99854,
         "end": 88098,
         "speaker": null,
         "start": 87932,
         "text": "by"
        },
        {
         "confidence": 0.99915,
         "end": 88350,
         "speaker": null,
         "start": 88124,
         "text": "learning"
        },
        {
         "confidence": 0.99787,
         "end": 88578,
         "speaker": null,
         "start": 88400,
         "text": "these"
        },
        {
         "confidence": 1,
         "end": 88758,
         "speaker": null,
         "start": 88604,
         "text": "two"
        },
        {
         "confidence": 0.99669,
         "end": 89182,
         "speaker": null,
         "start": 88784,
         "text": "languages,"
        },
        {
         "confidence": 0.99003,
         "end": 89802,
         "speaker": null,
         "start": 89266,
         "text": "right?"
        },
        {
         "confidence": 0.93768,
         "end": 90414,
         "speaker": null,
         "start": 89936,
         "text": "No,"
        },
        {
         "confidence": 0.99629,
         "end": 90774,
         "speaker": null,
         "start": 90512,
         "text": "these"
        },
        {
         "confidence": 0.91726,
         "end": 91186,
         "speaker": null,
         "start": 90812,
         "text": "languages"
        },
        {
         "confidence": 0.99963,
         "end": 91530,
         "speaker": null,
         "start": 91258,
         "text": "are"
        },
        {
         "confidence": 0.99947,
         "end": 91794,
         "speaker": null,
         "start": 91580,
         "text": "pretty"
        },
        {
         "confidence": 0.98464,
         "end": 92302,
         "speaker": null,
         "start": 91832,
         "text": "intensive."
        },
        {
         "confidence": 0.99749,
         "end": 92562,
         "speaker": null,
         "start": 92386,
         "text": "If"
        },
        {
         "confidence": 0.9988,
         "end": 92682,
         "speaker": null,
         "start": 92576,
         "text": "you"
        },
        {
         "confidence": 0.98847,
         "end": 92802,
         "speaker": null,
         "start": 92696,
         "text": "want"
        },
        {
         "confidence": 1,
         "end": 92922,
         "speaker": null,
         "start": 92816,
         "text": "to"
        },
        {
         "confidence": 0.99815,
         "end": 93078,
         "speaker": null,
         "start": 92936,
         "text": "do"
        },
        {
         "confidence": 0.99955,
         "end": 93366,
         "speaker": null,
         "start": 93104,
         "text": "anything"
        },
        {
         "confidence": 0.85857,
         "end": 93726,
         "speaker": null,
         "start": 93428,
         "text": "like"
        },
        {
         "confidence": 0.99904,
         "end": 94270,
         "speaker": null,
         "start": 93788,
         "text": "useful"
        },
        {
         "confidence": 0.99753,
         "end": 94698,
         "speaker": null,
         "start": 94330,
         "text": "or"
        },
        {
         "confidence": 0.37348,
         "end": 95410,
         "speaker": null,
         "start": 94784,
         "text": "impactful,"
        },
        {
         "confidence": 0.99,
         "end": 95658,
         "speaker": null,
         "start": 95470,
         "text": "it"
        },
        {
         "confidence": 0.99926,
         "end": 95874,
         "speaker": null,
         "start": 95684,
         "text": "either"
        },
        {
         "confidence": 0.49399,
         "end": 96562,
         "speaker": null,
         "start": 95912,
         "text": "requires"
        },
        {
         "confidence": 0.96,
         "end": 97218,
         "speaker": null,
         "start": 96646,
         "text": "one,"
        },
        {
         "confidence": 0.53,
         "end": 97566,
         "speaker": null,
         "start": 97364,
         "text": "a"
        },
        {
         "confidence": 0.92529,
         "end": 97626,
         "speaker": null,
         "start": 97568,
         "text": "lot"
        },
        {
         "confidence": 0.52,
         "end": 97794,
         "speaker": null,
         "start": 97628,
         "text": "of"
        },
        {
         "confidence": 0.99945,
         "end": 98142,
         "speaker": null,
         "start": 97832,
         "text": "code,"
        },
        {
         "confidence": 0.97512,
         "end": 98490,
         "speaker": null,
         "start": 98216,
         "text": "or"
        },
        {
         "confidence": 0.9,
         "end": 98898,
         "speaker": null,
         "start": 98540,
         "text": "two"
        },
        {
         "confidence": 0.99334,
         "end": 99270,
         "speaker": null,
         "start": 98984,
         "text": "use"
        },
        {
         "confidence": 0.97,
         "end": 99678,
         "speaker": null,
         "start": 99320,
         "text": "of"
        },
        {
         "confidence": 1,
         "end": 99942,
         "speaker": null,
         "start": 99764,
         "text": "a"
        },
        {
         "confidence": 0.97531,
         "end": 100102,
         "speaker": null,
         "start": 99956,
         "text": "bunch"
        },
        {
         "confidence": 0.99,
         "end": 100314,
         "speaker": null,
         "start": 100126,
         "text": "of"
        },
        {
         "confidence": 0.79361,
         "end": 100894,
         "speaker": null,
         "start": 100352,
         "text": "libraries"
        },
        {
         "confidence": 0.99944,
         "end": 101082,
         "speaker": null,
         "start": 100942,
         "text": "that"
        },
        {
         "confidence": 0.59072,
         "end": 101242,
         "speaker": null,
         "start": 101096,
         "text": "you've"
        },
        {
         "confidence": 0.91614,
         "end": 101454,
         "speaker": null,
         "start": 101266,
         "text": "never"
        },
        {
         "confidence": 0.99972,
         "end": 101658,
         "speaker": null,
         "start": 101492,
         "text": "heard"
        },
        {
         "confidence": 1,
         "end": 101838,
         "speaker": null,
         "start": 101684,
         "text": "of"
        },
        {
         "confidence": 0.99992,
         "end": 102126,
         "speaker": null,
         "start": 101864,
         "text": "before,"
        },
        {
         "confidence": 0.98,
         "end": 102378,
         "speaker": null,
         "start": 102188,
         "text": "and"
        },
        {
         "confidence": 0.96951,
         "end": 102886,
         "speaker": null,
         "start": 102404,
         "text": "honestly"
        },
        {
         "confidence": 0.99413,
         "end": 103230,
         "speaker": null,
         "start": 102958,
         "text": "are"
        },
        {
         "confidence": 0.99878,
         "end": 103674,
         "speaker": null,
         "start": 103280,
         "text": "probably"
        },
        {
         "confidence": 0.99985,
         "end": 104070,
         "speaker": null,
         "start": 103772,
         "text": "not"
        },
        {
         "confidence": 0.99974,
         "end": 104406,
         "speaker": null,
         "start": 104120,
         "text": "worth"
        },
        {
         "confidence": 0.99992,
         "end": 104910,
         "speaker": null,
         "start": 104468,
         "text": "learning."
        },
        {
         "confidence": 0.99942,
         "end": 105294,
         "speaker": null,
         "start": 105020,
         "text": "Which"
        },
        {
         "confidence": 0.90985,
         "end": 105658,
         "speaker": null,
         "start": 105332,
         "text": "brings"
        },
        {
         "confidence": 0.99983,
         "end": 105858,
         "speaker": null,
         "start": 105694,
         "text": "me"
        },
        {
         "confidence": 1,
         "end": 106002,
         "speaker": null,
         "start": 105884,
         "text": "to"
        },
        {
         "confidence": 0.99985,
         "end": 106194,
         "speaker": null,
         "start": 106016,
         "text": "my"
        },
        {
         "confidence": 1,
         "end": 106542,
         "speaker": null,
         "start": 106232,
         "text": "point."
        },
        {
         "confidence": 0.99646,
         "end": 106818,
         "speaker": null,
         "start": 106616,
         "text": "You"
        },
        {
         "confidence": 0.99978,
         "end": 106962,
         "speaker": null,
         "start": 106844,
         "text": "need"
        },
        {
         "confidence": 1,
         "end": 107082,
         "speaker": null,
         "start": 106976,
         "text": "to"
        },
        {
         "confidence": 0.99857,
         "end": 107274,
         "speaker": null,
         "start": 107096,
         "text": "do"
        },
        {
         "confidence": 0.9998,
         "end": 107550,
         "speaker": null,
         "start": 107312,
         "text": "something"
        },
        {
         "confidence": 0.98948,
         "end": 108010,
         "speaker": null,
         "start": 107600,
         "text": "useful,"
        },
        {
         "confidence": 0.76267,
         "end": 108330,
         "speaker": null,
         "start": 108070,
         "text": "but"
        },
        {
         "confidence": 0.99955,
         "end": 108666,
         "speaker": null,
         "start": 108380,
         "text": "not"
        },
        {
         "confidence": 0.9955,
         "end": 108990,
         "speaker": null,
         "start": 108728,
         "text": "too"
        },
        {
         "confidence": 0.45192,
         "end": 109450,
         "speaker": null,
         "start": 109040,
         "text": "useful."
        },
        {
         "confidence": 0.95978,
         "end": 109698,
         "speaker": null,
         "start": 109510,
         "text": "Now"
        },
        {
         "confidence": 0.99456,
         "end": 109878,
         "speaker": null,
         "start": 109724,
         "text": "hear"
        },
        {
         "confidence": 0.99982,
         "end": 110022,
         "speaker": null,
         "start": 109904,
         "text": "me"
        },
        {
         "confidence": 0.9707,
         "end": 110178,
         "speaker": null,
         "start": 110036,
         "text": "out."
        },
        {
         "confidence": 0.99869,
         "end": 110322,
         "speaker": null,
         "start": 110204,
         "text": "If"
        },
        {
         "confidence": 0.95603,
         "end": 110482,
         "speaker": null,
         "start": 110336,
         "text": "you're"
        },
        {
         "confidence": 0.99936,
         "end": 110694,
         "speaker": null,
         "start": 110506,
         "text": "learning"
        },
        {
         "confidence": 0.59,
         "end": 110970,
         "speaker": null,
         "start": 110732,
         "text": "C,"
        },
        {
         "confidence": 0.90315,
         "end": 111202,
         "speaker": null,
         "start": 111020,
         "text": "it's"
        },
        {
         "confidence": 0.99589,
         "end": 111306,
         "speaker": null,
         "start": 111226,
         "text": "going"
        },
        {
         "confidence": 0.99,
         "end": 111366,
         "speaker": null,
         "start": 111308,
         "text": "to"
        },
        {
         "confidence": 0.99671,
         "end": 111534,
         "speaker": null,
         "start": 111368,
         "text": "be"
        },
        {
         "confidence": 0.99095,
         "end": 112054,
         "speaker": null,
         "start": 111572,
         "text": "relatively"
        },
        {
         "confidence": 0.9998,
         "end": 112386,
         "speaker": null,
         "start": 112102,
         "text": "easy"
        },
        {
         "confidence": 0.8,
         "end": 112746,
         "speaker": null,
         "start": 112448,
         "text": "to"
        },
        {
         "confidence": 0.99886,
         "end": 113070,
         "speaker": null,
         "start": 112808,
         "text": "start"
        },
        {
         "confidence": 0.87612,
         "end": 113494,
         "speaker": null,
         "start": 113120,
         "text": "solving"
        },
        {
         "confidence": 0.99902,
         "end": 113754,
         "speaker": null,
         "start": 113542,
         "text": "some"
        },
        {
         "confidence": 0.99975,
         "end": 114154,
         "speaker": null,
         "start": 113792,
         "text": "basic"
        },
        {
         "confidence": 0.98093,
         "end": 114478,
         "speaker": null,
         "start": 114202,
         "text": "math"
        },
        {
         "confidence": 0.59175,
         "end": 114822,
         "speaker": null,
         "start": 114514,
         "text": "problem"
        },
        {
         "confidence": 0.94,
         "end": 115098,
         "speaker": null,
         "start": 114896,
         "text": "and"
        },
        {
         "confidence": 0.96398,
         "end": 115318,
         "speaker": null,
         "start": 115124,
         "text": "you'll"
        },
        {
         "confidence": 0.99986,
         "end": 115654,
         "speaker": null,
         "start": 115354,
         "text": "print"
        },
        {
         "confidence": 0.99,
         "end": 115878,
         "speaker": null,
         "start": 115702,
         "text": "the"
        },
        {
         "confidence": 0.99885,
         "end": 116230,
         "speaker": null,
         "start": 115904,
         "text": "solution"
        },
        {
         "confidence": 0.97341,
         "end": 116478,
         "speaker": null,
         "start": 116290,
         "text": "on"
        },
        {
         "confidence": 1,
         "end": 116622,
         "speaker": null,
         "start": 116504,
         "text": "the"
        },
        {
         "confidence": 0.99982,
         "end": 116922,
         "speaker": null,
         "start": 116636,
         "text": "screen,"
        },
        {
         "confidence": 0.88909,
         "end": 117198,
         "speaker": null,
         "start": 116996,
         "text": "but"
        },
        {
         "confidence": 0.99989,
         "end": 117342,
         "speaker": null,
         "start": 117224,
         "text": "all"
        },
        {
         "confidence": 1,
         "end": 117462,
         "speaker": null,
         "start": 117356,
         "text": "of"
        },
        {
         "confidence": 0.99877,
         "end": 117654,
         "speaker": null,
         "start": 117476,
         "text": "your"
        },
        {
         "confidence": 0.99981,
         "end": 117930,
         "speaker": null,
         "start": 117692,
         "text": "code"
        },
        {
         "confidence": 0.9992,
         "end": 118158,
         "speaker": null,
         "start": 117980,
         "text": "is"
        },
        {
         "confidence": 0.97184,
         "end": 118786,
         "speaker": null,
         "start": 118184,
         "text": "contained"
        },
        {
         "confidence": 0.91,
         "end": 119058,
         "speaker": null,
         "start": 118858,
         "text": "to"
        },
        {
         "confidence": 0.99919,
         "end": 119310,
         "speaker": null,
         "start": 119084,
         "text": "this"
        },
        {
         "confidence": 0.99878,
         "end": 119610,
         "speaker": null,
         "start": 119360,
         "text": "little"
        },
        {
         "confidence": 0.99931,
         "end": 120058,
         "speaker": null,
         "start": 119660,
         "text": "terminal."
        },
        {
         "confidence": 0.9495,
         "end": 120222,
         "speaker": null,
         "start": 120094,
         "text": "If"
        },
        {
         "confidence": 0.99903,
         "end": 120306,
         "speaker": null,
         "start": 120236,
         "text": "you"
        },
        {
         "confidence": 0.84522,
         "end": 120402,
         "speaker": null,
         "start": 120308,
         "text": "want"
        },
        {
         "confidence": 1,
         "end": 120486,
         "speaker": null,
         "start": 120416,
         "text": "to"
        },
        {
         "confidence": 0.56698,
         "end": 120618,
         "speaker": null,
         "start": 120488,
         "text": "make"
        },
        {
         "confidence": 1,
         "end": 120762,
         "speaker": null,
         "start": 120644,
         "text": "a"
        },
        {
         "confidence": 0.94198,
         "end": 121210,
         "speaker": null,
         "start": 120776,
         "text": "graphical"
        },
        {
         "confidence": 0.99884,
         "end": 121530,
         "speaker": null,
         "start": 121270,
         "text": "game"
        },
        {
         "confidence": 0.99732,
         "end": 121758,
         "speaker": null,
         "start": 121580,
         "text": "or"
        },
        {
         "confidence": 0.99988,
         "end": 122010,
         "speaker": null,
         "start": 121784,
         "text": "connect"
        },
        {
         "confidence": 1,
         "end": 122202,
         "speaker": null,
         "start": 122060,
         "text": "to"
        },
        {
         "confidence": 1,
         "end": 122322,
         "speaker": null,
         "start": 122216,
         "text": "a"
        },
        {
         "confidence": 1,
         "end": 122622,
         "speaker": null,
         "start": 122336,
         "text": "website"
        },
        {
         "confidence": 0.99399,
         "end": 122898,
         "speaker": null,
         "start": 122696,
         "text": "or"
        },
        {
         "confidence": 0.99881,
         "end": 123042,
         "speaker": null,
         "start": 122924,
         "text": "do"
        },
        {
         "confidence": 0.99937,
         "end": 123414,
         "speaker": null,
         "start": 123056,
         "text": "anything"
        },
        {
         "confidence": 0.86025,
         "end": 123778,
         "speaker": null,
         "start": 123512,
         "text": "quote"
        },
        {
         "confidence": 0.96273,
         "end": 124246,
         "speaker": null,
         "start": 123814,
         "text": "unquote"
        },
        {
         "confidence": 0.99855,
         "end": 124810,
         "speaker": null,
         "start": 124318,
         "text": "useful,"
        },
        {
         "confidence": 0.78726,
         "end": 125122,
         "speaker": null,
         "start": 124870,
         "text": "it'll"
        },
        {
         "confidence": 0.9931,
         "end": 125334,
         "speaker": null,
         "start": 125146,
         "text": "actually"
        },
        {
         "confidence": 0.99546,
         "end": 125574,
         "speaker": null,
         "start": 125372,
         "text": "be"
        },
        {
         "confidence": 0.99931,
         "end": 125850,
         "speaker": null,
         "start": 125612,
         "text": "really"
        },
        {
         "confidence": 0.99994,
         "end": 126500,
         "speaker": null,
         "start": 125900,
         "text": "hard,"
        },
        {
         "confidence": 0.99614,
         "end": 127194,
         "speaker": null,
         "start": 126830,
         "text": "even"
        },
        {
         "confidence": 0.99827,
         "end": 127362,
         "speaker": null,
         "start": 127232,
         "text": "for"
        },
        {
         "confidence": 0.89246,
         "end": 127554,
         "speaker": null,
         "start": 127376,
         "text": "me"
        },
        {
         "confidence": 0.99939,
         "end": 127758,
         "speaker": null,
         "start": 127592,
         "text": "right"
        },
        {
         "confidence": 0.99987,
         "end": 128154,
         "speaker": null,
         "start": 127784,
         "text": "now."
        },
        {
         "confidence": 1,
         "end": 128406,
         "speaker": null,
         "start": 128252,
         "text": "I"
        },
        {
         "confidence": 0.50514,
         "end": 128538,
         "speaker": null,
         "start": 128408,
         "text": "would"
        },
        {
         "confidence": 0.99981,
         "end": 128682,
         "speaker": null,
         "start": 128564,
         "text": "have"
        },
        {
         "confidence": 1,
         "end": 128802,
         "speaker": null,
         "start": 128696,
         "text": "to"
        },
        {
         "confidence": 0.99519,
         "end": 128922,
         "speaker": null,
         "start": 128816,
         "text": "do"
        },
        {
         "confidence": 1,
         "end": 129042,
         "speaker": null,
         "start": 128936,
         "text": "a"
        },
        {
         "confidence": 0.99991,
         "end": 129162,
         "speaker": null,
         "start": 129056,
         "text": "lot"
        },
        {
         "confidence": 1,
         "end": 129318,
         "speaker": null,
         "start": 129176,
         "text": "of"
        },
        {
         "confidence": 0.91694,
         "end": 129730,
         "speaker": null,
         "start": 129344,
         "text": "googling"
        },
        {
         "confidence": 1,
         "end": 129942,
         "speaker": null,
         "start": 129790,
         "text": "to"
        },
        {
         "confidence": 0.99352,
         "end": 130134,
         "speaker": null,
         "start": 129956,
         "text": "even"
        },
        {
         "confidence": 0.99928,
         "end": 130374,
         "speaker": null,
         "start": 130172,
         "text": "figure"
        },
        {
         "confidence": 0.99759,
         "end": 130542,
         "speaker": null,
         "start": 130412,
         "text": "out"
        },
        {
         "confidence": 0.99934,
         "end": 130626,
         "speaker": null,
         "start": 130556,
         "text": "how"
        },
        {
         "confidence": 0.95,
         "end": 130758,
         "speaker": null,
         "start": 130628,
         "text": "to"
        },
        {
         "confidence": 0.99918,
         "end": 130938,
         "speaker": null,
         "start": 130784,
         "text": "do"
        },
        {
         "confidence": 0.999,
         "end": 131154,
         "speaker": null,
         "start": 130964,
         "text": "those"
        },
        {
         "confidence": 0.99933,
         "end": 131610,
         "speaker": null,
         "start": 131192,
         "text": "things."
        },
        {
         "confidence": 0.9975,
         "end": 132166,
         "speaker": null,
         "start": 131720,
         "text": "Essentially,"
        },
        {
         "confidence": 0.53385,
         "end": 132438,
         "speaker": null,
         "start": 132238,
         "text": "if"
        },
        {
         "confidence": 0.99892,
         "end": 132618,
         "speaker": null,
         "start": 132464,
         "text": "you"
        },
        {
         "confidence": 0.99948,
         "end": 132798,
         "speaker": null,
         "start": 132644,
         "text": "start"
        },
        {
         "confidence": 0.99619,
         "end": 132978,
         "speaker": null,
         "start": 132824,
         "text": "with"
        },
        {
         "confidence": 0.95,
         "end": 133338,
         "speaker": null,
         "start": 133004,
         "text": "C,"
        },
        {
         "confidence": 0.99977,
         "end": 133782,
         "speaker": null,
         "start": 133424,
         "text": "anything"
        },
        {
         "confidence": 0.52297,
         "end": 134230,
         "speaker": null,
         "start": 133856,
         "text": "useful"
        },
        {
         "confidence": 0.99739,
         "end": 134478,
         "speaker": null,
         "start": 134290,
         "text": "is"
        },
        {
         "confidence": 0.98166,
         "end": 134586,
         "speaker": null,
         "start": 134504,
         "text": "going"
        },
        {
         "confidence": 1,
         "end": 134646,
         "speaker": null,
         "start": 134588,
         "text": "to"
        },
        {
         "confidence": 0.99303,
         "end": 134778,
         "speaker": null,
         "start": 134648,
         "text": "be"
        },
        {
         "confidence": 0.58381,
         "end": 135066,
         "speaker": null,
         "start": 134804,
         "text": "too"
        },
        {
         "confidence": 0.99978,
         "end": 135498,
         "speaker": null,
         "start": 135128,
         "text": "hard"
        },
        {
         "confidence": 0.97,
         "end": 135762,
         "speaker": null,
         "start": 135584,
         "text": "and"
        },
        {
         "confidence": 0.9957,
         "end": 135918,
         "speaker": null,
         "start": 135776,
         "text": "this"
        },
        {
         "confidence": 0.93961,
         "end": 136062,
         "speaker": null,
         "start": 135944,
         "text": "will"
        },
        {
         "confidence": 0.99603,
         "end": 136218,
         "speaker": null,
         "start": 136076,
         "text": "be"
        },
        {
         "confidence": 0.99765,
         "end": 136470,
         "speaker": null,
         "start": 136244,
         "text": "really"
        },
        {
         "confidence": 0.46736,
         "end": 137278,
         "speaker": null,
         "start": 136520,
         "text": "demotivating."
        },
        {
         "confidence": 0.98445,
         "end": 137634,
         "speaker": null,
         "start": 137374,
         "text": "Now,"
        },
        {
         "confidence": 0.57097,
         "end": 137878,
         "speaker": null,
         "start": 137672,
         "text": "let's"
        },
        {
         "confidence": 0.99963,
         "end": 138042,
         "speaker": null,
         "start": 137914,
         "text": "look"
        },
        {
         "confidence": 1,
         "end": 138162,
         "speaker": null,
         "start": 138056,
         "text": "at"
        },
        {
         "confidence": 1,
         "end": 138318,
         "speaker": null,
         "start": 138176,
         "text": "the"
        },
        {
         "confidence": 0.98752,
         "end": 138754,
         "speaker": null,
         "start": 138344,
         "text": "opposite"
        },
        {
         "confidence": 0.99996,
         "end": 138942,
         "speaker": null,
         "start": 138802,
         "text": "end"
        },
        {
         "confidence": 1,
         "end": 139062,
         "speaker": null,
         "start": 138956,
         "text": "of"
        },
        {
         "confidence": 0.99,
         "end": 139182,
         "speaker": null,
         "start": 139076,
         "text": "the"
        },
        {
         "confidence": 0.88879,
         "end": 139894,
         "speaker": null,
         "start": 139196,
         "text": "spectrum."
        },
        {
         "confidence": 0.99978,
         "end": 140310,
         "speaker": null,
         "start": 140002,
         "text": "Many"
        },
        {
         "confidence": 0.99957,
         "end": 140610,
         "speaker": null,
         "start": 140360,
         "text": "students"
        },
        {
         "confidence": 0.68844,
         "end": 140802,
         "speaker": null,
         "start": 140660,
         "text": "want"
        },
        {
         "confidence": 1,
         "end": 140922,
         "speaker": null,
         "start": 140816,
         "text": "to"
        },
        {
         "confidence": 0.99961,
         "end": 141042,
         "speaker": null,
         "start": 140936,
         "text": "get"
        },
        {
         "confidence": 0.59734,
         "end": 141234,
         "speaker": null,
         "start": 141056,
         "text": "into"
        },
        {
         "confidence": 0.72267,
         "end": 141598,
         "speaker": null,
         "start": 141272,
         "text": "coding,"
        },
        {
         "confidence": 0.98,
         "end": 141726,
         "speaker": null,
         "start": 141634,
         "text": "and"
        },
        {
         "confidence": 0.58,
         "end": 141858,
         "speaker": null,
         "start": 141728,
         "text": "the"
        },
        {
         "confidence": 1,
         "end": 142074,
         "speaker": null,
         "start": 141884,
         "text": "first"
        },
        {
         "confidence": 0.99794,
         "end": 142278,
         "speaker": null,
         "start": 142112,
         "text": "thing"
        },
        {
         "confidence": 0.99893,
         "end": 142458,
         "speaker": null,
         "start": 142304,
         "text": "they"
        },
        {
         "confidence": 0.69298,
         "end": 142602,
         "speaker": null,
         "start": 142484,
         "text": "want"
        },
        {
         "confidence": 1,
         "end": 142722,
         "speaker": null,
         "start": 142616,
         "text": "to"
        },
        {
         "confidence": 0.99722,
         "end": 142842,
         "speaker": null,
         "start": 142736,
         "text": "do"
        },
        {
         "confidence": 0.99223,
         "end": 143034,
         "speaker": null,
         "start": 142856,
         "text": "is"
        },
        {
         "confidence": 0.99949,
         "end": 143310,
         "speaker": null,
         "start": 143072,
         "text": "learn"
        },
        {
         "confidence": 0.99973,
         "end": 143734,
         "speaker": null,
         "start": 143360,
         "text": "machine"
        },
        {
         "confidence": 0.99996,
         "end": 144138,
         "speaker": null,
         "start": 143782,
         "text": "learning."
        },
        {
         "confidence": 0.98623,
         "end": 144466,
         "speaker": null,
         "start": 144224,
         "text": "Here's"
        },
        {
         "confidence": 0.58,
         "end": 144618,
         "speaker": null,
         "start": 144478,
         "text": "the"
        },
        {
         "confidence": 0.99908,
         "end": 144798,
         "speaker": null,
         "start": 144644,
         "text": "thing."
        },
        {
         "confidence": 0.97916,
         "end": 145078,
         "speaker": null,
         "start": 144824,
         "text": "Machine"
        },
        {
         "confidence": 0.99994,
         "end": 145314,
         "speaker": null,
         "start": 145114,
         "text": "learning"
        },
        {
         "confidence": 0.99443,
         "end": 145554,
         "speaker": null,
         "start": 145352,
         "text": "is"
        },
        {
         "confidence": 0.99991,
         "end": 145866,
         "speaker": null,
         "start": 145592,
         "text": "super"
        },
        {
         "confidence": 0.99801,
         "end": 146278,
         "speaker": null,
         "start": 145928,
         "text": "useful"
        },
        {
         "confidence": 0.99972,
         "end": 146442,
         "speaker": null,
         "start": 146314,
         "text": "in"
        },
        {
         "confidence": 1,
         "end": 146562,
         "speaker": null,
         "start": 146456,
         "text": "the"
        },
        {
         "confidence": 1,
         "end": 146754,
         "speaker": null,
         "start": 146576,
         "text": "real"
        },
        {
         "confidence": 0.99918,
         "end": 147030,
         "speaker": null,
         "start": 146792,
         "text": "world,"
        },
        {
         "confidence": 0.97192,
         "end": 147438,
         "speaker": null,
         "start": 147080,
         "text": "but"
        },
        {
         "confidence": 0.53834,
         "end": 147838,
         "speaker": null,
         "start": 147524,
         "text": "it's"
        },
        {
         "confidence": 0.90131,
         "end": 148146,
         "speaker": null,
         "start": 147874,
         "text": "all"
        },
        {
         "confidence": 0.87926,
         "end": 148834,
         "speaker": null,
         "start": 148208,
         "text": "advanced"
        },
        {
         "confidence": 0.73351,
         "end": 149290,
         "speaker": null,
         "start": 148882,
         "text": "math."
        },
        {
         "confidence": 0.91664,
         "end": 149502,
         "speaker": null,
         "start": 149350,
         "text": "So"
        },
        {
         "confidence": 0.99721,
         "end": 149622,
         "speaker": null,
         "start": 149516,
         "text": "if"
        },
        {
         "confidence": 0.99662,
         "end": 149886,
         "speaker": null,
         "start": 149636,
         "text": "you"
        },
        {
         "confidence": 0.82597,
         "end": 150102,
         "speaker": null,
         "start": 149948,
         "text": "start"
        },
        {
         "confidence": 0.9995,
         "end": 150258,
         "speaker": null,
         "start": 150116,
         "text": "with"
        },
        {
         "confidence": 0.99,
         "end": 150438,
         "speaker": null,
         "start": 150284,
         "text": "it,"
        },
        {
         "confidence": 0.85767,
         "end": 150586,
         "speaker": null,
         "start": 150464,
         "text": "you're"
        },
        {
         "confidence": 0.89772,
         "end": 150702,
         "speaker": null,
         "start": 150598,
         "text": "going"
        },
        {
         "confidence": 0.99,
         "end": 150786,
         "speaker": null,
         "start": 150716,
         "text": "to"
        },
        {
         "confidence": 0.99643,
         "end": 150918,
         "speaker": null,
         "start": 150788,
         "text": "be"
        },
        {
         "confidence": 0.99857,
         "end": 151242,
         "speaker": null,
         "start": 150944,
         "text": "learning"
        },
        {
         "confidence": 0.99,
         "end": 151662,
         "speaker": null,
         "start": 151316,
         "text": "one"
        },
        {
         "confidence": 0.99995,
         "end": 152082,
         "speaker": null,
         "start": 151736,
         "text": "computer"
        },
        {
         "confidence": 0.81444,
         "end": 152554,
         "speaker": null,
         "start": 152156,
         "text": "science"
        },
        {
         "confidence": 0.64218,
         "end": 153046,
         "speaker": null,
         "start": 152602,
         "text": "basics,"
        },
        {
         "confidence": 0.9,
         "end": 153570,
         "speaker": null,
         "start": 153118,
         "text": "two"
        },
        {
         "confidence": 0.77338,
         "end": 154246,
         "speaker": null,
         "start": 153680,
         "text": "Python,"
        },
        {
         "confidence": 0.99833,
         "end": 154482,
         "speaker": null,
         "start": 154318,
         "text": "for"
        },
        {
         "confidence": 0.70152,
         "end": 155070,
         "speaker": null,
         "start": 154496,
         "text": "example,"
        },
        {
         "confidence": 0.92,
         "end": 155610,
         "speaker": null,
         "start": 155240,
         "text": "and"
        },
        {
         "confidence": 0.99,
         "end": 156054,
         "speaker": null,
         "start": 155660,
         "text": "three"
        },
        {
         "confidence": 0.97676,
         "end": 156718,
         "speaker": null,
         "start": 156152,
         "text": "advanced"
        },
        {
         "confidence": 0.99563,
         "end": 157018,
         "speaker": null,
         "start": 156754,
         "text": "math"
        },
        {
         "confidence": 0.99129,
         "end": 157558,
         "speaker": null,
         "start": 157054,
         "text": "topics"
        },
        {
         "confidence": 0.54518,
         "end": 157914,
         "speaker": null,
         "start": 157654,
         "text": "all"
        },
        {
         "confidence": 1,
         "end": 158082,
         "speaker": null,
         "start": 157952,
         "text": "at"
        },
        {
         "confidence": 1,
         "end": 158238,
         "speaker": null,
         "start": 158096,
         "text": "the"
        },
        {
         "confidence": 0.99971,
         "end": 158454,
         "speaker": null,
         "start": 158264,
         "text": "same"
        },
        {
         "confidence": 0.99986,
         "end": 158874,
         "speaker": null,
         "start": 158492,
         "text": "time."
        },
        {
         "confidence": 0.91,
         "end": 159234,
         "speaker": null,
         "start": 158972,
         "text": "And"
        },
        {
         "confidence": 0.99958,
         "end": 159574,
         "speaker": null,
         "start": 159272,
         "text": "unless"
        },
        {
         "confidence": 0.99967,
         "end": 159762,
         "speaker": null,
         "start": 159622,
         "text": "you"
        },
        {
         "confidence": 0.64215,
         "end": 159954,
         "speaker": null,
         "start": 159776,
         "text": "are"
        },
        {
         "confidence": 0.95594,
         "end": 160426,
         "speaker": null,
         "start": 159992,
         "text": "literally"
        },
        {
         "confidence": 0.99,
         "end": 161058,
         "speaker": null,
         "start": 160498,
         "text": "a"
        },
        {
         "confidence": 0.98969,
         "end": 162022,
         "speaker": null,
         "start": 161204,
         "text": "genie,"
        },
        {
         "confidence": 0.8268,
         "end": 162538,
         "speaker": null,
         "start": 162166,
         "text": "you're"
        },
        {
         "confidence": 0.82283,
         "end": 162666,
         "speaker": null,
         "start": 162574,
         "text": "going"
        },
        {
         "confidence": 0.99,
         "end": 162762,
         "speaker": null,
         "start": 162668,
         "text": "to"
        },
        {
         "confidence": 0.99946,
         "end": 162918,
         "speaker": null,
         "start": 162776,
         "text": "come"
        },
        {
         "confidence": 0.99967,
         "end": 163062,
         "speaker": null,
         "start": 162944,
         "text": "out"
        },
        {
         "confidence": 0.98,
         "end": 163182,
         "speaker": null,
         "start": 163076,
         "text": "of"
        },
        {
         "confidence": 0.99901,
         "end": 163338,
         "speaker": null,
         "start": 163196,
         "text": "that"
        },
        {
         "confidence": 0.99904,
         "end": 163554,
         "speaker": null,
         "start": 163364,
         "text": "not"
        },
        {
         "confidence": 0.9955,
         "end": 163794,
         "speaker": null,
         "start": 163592,
         "text": "really"
        },
        {
         "confidence": 0.99879,
         "end": 164194,
         "speaker": null,
         "start": 163832,
         "text": "knowing"
        },
        {
         "confidence": 0.9979,
         "end": 164454,
         "speaker": null,
         "start": 164242,
         "text": "any"
        },
        {
         "confidence": 1,
         "end": 164622,
         "speaker": null,
         "start": 164492,
         "text": "of"
        },
        {
         "confidence": 0.77,
         "end": 164814,
         "speaker": null,
         "start": 164636,
         "text": "the"
        },
        {
         "confidence": 0.99,
         "end": 165198,
         "speaker": null,
         "start": 164852,
         "text": "three."
        },
        {
         "confidence": 0.92,
         "end": 165498,
         "speaker": null,
         "start": 165284,
         "text": "The"
        },
        {
         "confidence": 0.90092,
         "end": 165802,
         "speaker": null,
         "start": 165524,
         "text": "sweet"
        },
        {
         "confidence": 0.99867,
         "end": 166078,
         "speaker": null,
         "start": 165826,
         "text": "spot"
        },
        {
         "confidence": 0.99971,
         "end": 166278,
         "speaker": null,
         "start": 166114,
         "text": "is"
        },
        {
         "confidence": 0.99942,
         "end": 166558,
         "speaker": null,
         "start": 166304,
         "text": "somewhere"
        },
        {
         "confidence": 0.99921,
         "end": 166686,
         "speaker": null,
         "start": 166594,
         "text": "in"
        },
        {
         "confidence": 0.94,
         "end": 166818,
         "speaker": null,
         "start": 166688,
         "text": "the"
        },
        {
         "confidence": 0.99996,
         "end": 167178,
         "speaker": null,
         "start": 166844,
         "text": "middle."
        },
        {
         "confidence": 0.96858,
         "end": 167442,
         "speaker": null,
         "start": 167264,
         "text": "You"
        },
        {
         "confidence": 0.99855,
         "end": 167562,
         "speaker": null,
         "start": 167456,
         "text": "need"
        },
        {
         "confidence": 0.91,
         "end": 167682,
         "speaker": null,
         "start": 167576,
         "text": "to"
        },
        {
         "confidence": 0.99769,
         "end": 167838,
         "speaker": null,
         "start": 167696,
         "text": "do"
        },
        {
         "confidence": 0.99984,
         "end": 168090,
         "speaker": null,
         "start": 167864,
         "text": "something"
        },
        {
         "confidence": 0.97755,
         "end": 168418,
         "speaker": null,
         "start": 168140,
         "text": "that's"
        },
        {
         "confidence": 0.76293,
         "end": 168790,
         "speaker": null,
         "start": 168454,
         "text": "useful,"
        },
        {
         "confidence": 0.99935,
         "end": 169074,
         "speaker": null,
         "start": 168850,
         "text": "but"
        },
        {
         "confidence": 0.99944,
         "end": 169350,
         "speaker": null,
         "start": 169112,
         "text": "not"
        },
        {
         "confidence": 0.99694,
         "end": 169650,
         "speaker": null,
         "start": 169400,
         "text": "too"
        },
        {
         "confidence": 0.95782,
         "end": 170050,
         "speaker": null,
         "start": 169700,
         "text": "useful."
        },
        {
         "confidence": 0.99889,
         "end": 170262,
         "speaker": null,
         "start": 170110,
         "text": "Now"
        },
        {
         "confidence": 0.94126,
         "end": 170382,
         "speaker": null,
         "start": 170276,
         "text": "that"
        },
        {
         "confidence": 0.88999,
         "end": 170542,
         "speaker": null,
         "start": 170396,
         "text": "we're"
        },
        {
         "confidence": 0.9969,
         "end": 170682,
         "speaker": null,
         "start": 170566,
         "text": "talking"
        },
        {
         "confidence": 0.98689,
         "end": 170874,
         "speaker": null,
         "start": 170696,
         "text": "about"
        },
        {
         "confidence": 0.99525,
         "end": 171114,
         "speaker": null,
         "start": 170912,
         "text": "doing"
        },
        {
         "confidence": 0.99955,
         "end": 171478,
         "speaker": null,
         "start": 171152,
         "text": "useful"
        },
        {
         "confidence": 0.99944,
         "end": 171750,
         "speaker": null,
         "start": 171514,
         "text": "things,"
        },
        {
         "confidence": 0.97437,
         "end": 172018,
         "speaker": null,
         "start": 171800,
         "text": "let's"
        },
        {
         "confidence": 0.99997,
         "end": 172218,
         "speaker": null,
         "start": 172054,
         "text": "clear"
        },
        {
         "confidence": 0.99175,
         "end": 172362,
         "speaker": null,
         "start": 172244,
         "text": "up"
        },
        {
         "confidence": 0.99,
         "end": 172518,
         "speaker": null,
         "start": 172376,
         "text": "the"
        },
        {
         "confidence": 0.99881,
         "end": 172990,
         "speaker": null,
         "start": 172544,
         "text": "distinction"
        },
        {
         "confidence": 0.99989,
         "end": 173310,
         "speaker": null,
         "start": 173050,
         "text": "between"
        },
        {
         "confidence": 0.99673,
         "end": 173758,
         "speaker": null,
         "start": 173360,
         "text": "coding"
        },
        {
         "confidence": 1,
         "end": 173994,
         "speaker": null,
         "start": 173794,
         "text": "and"
        },
        {
         "confidence": 0.64589,
         "end": 174646,
         "speaker": null,
         "start": 174032,
         "text": "programming."
        },
        {
         "confidence": 0.96586,
         "end": 175042,
         "speaker": null,
         "start": 174718,
         "text": "Coding"
        },
        {
         "confidence": 0.99623,
         "end": 175218,
         "speaker": null,
         "start": 175066,
         "text": "is"
        },
        {
         "confidence": 0.99463,
         "end": 175470,
         "speaker": null,
         "start": 175244,
         "text": "just"
        },
        {
         "confidence": 0.999,
         "end": 175774,
         "speaker": null,
         "start": 175520,
         "text": "writing"
        },
        {
         "confidence": 0.63099,
         "end": 176070,
         "speaker": null,
         "start": 175822,
         "text": "code"
        },
        {
         "confidence": 1,
         "end": 176298,
         "speaker": null,
         "start": 176120,
         "text": "to"
        },
        {
         "confidence": 0.99852,
         "end": 176578,
         "speaker": null,
         "start": 176324,
         "text": "solve"
        },
        {
         "confidence": 0.99997,
         "end": 176886,
         "speaker": null,
         "start": 176614,
         "text": "computer"
        },
        {
         "confidence": 0.99974,
         "end": 177274,
         "speaker": null,
         "start": 176948,
         "text": "science"
        },
        {
         "confidence": 0.9942,
         "end": 177678,
         "speaker": null,
         "start": 177322,
         "text": "problems."
        },
        {
         "confidence": 0.99658,
         "end": 178042,
         "speaker": null,
         "start": 177764,
         "text": "Let's"
        },
        {
         "confidence": 0.99886,
         "end": 178182,
         "speaker": null,
         "start": 178066,
         "text": "call"
        },
        {
         "confidence": 0.86138,
         "end": 178374,
         "speaker": null,
         "start": 178196,
         "text": "them"
        },
        {
         "confidence": 0.99886,
         "end": 178678,
         "speaker": null,
         "start": 178412,
         "text": "math"
        },
        {
         "confidence": 0.99599,
         "end": 179022,
         "speaker": null,
         "start": 178714,
         "text": "problems"
        },
        {
         "confidence": 1,
         "end": 179298,
         "speaker": null,
         "start": 179096,
         "text": "to"
        },
        {
         "confidence": 0.99983,
         "end": 179478,
         "speaker": null,
         "start": 179324,
         "text": "show"
        },
        {
         "confidence": 0.99,
         "end": 179622,
         "speaker": null,
         "start": 179504,
         "text": "the"
        },
        {
         "confidence": 0.98802,
         "end": 180202,
         "speaker": null,
         "start": 179636,
         "text": "distinction."
        },
        {
         "confidence": 0.98562,
         "end": 180606,
         "speaker": null,
         "start": 180286,
         "text": "This"
        },
        {
         "confidence": 0.9981,
         "end": 180858,
         "speaker": null,
         "start": 180668,
         "text": "is"
        },
        {
         "confidence": 0.99943,
         "end": 181038,
         "speaker": null,
         "start": 180884,
         "text": "what"
        },
        {
         "confidence": 0.99917,
         "end": 181182,
         "speaker": null,
         "start": 181064,
         "text": "you"
        },
        {
         "confidence": 0.99947,
         "end": 181374,
         "speaker": null,
         "start": 181196,
         "text": "need"
        },
        {
         "confidence": 0.99436,
         "end": 181542,
         "speaker": null,
         "start": 181412,
         "text": "as"
        },
        {
         "confidence": 0.98,
         "end": 181662,
         "speaker": null,
         "start": 181556,
         "text": "a"
        },
        {
         "confidence": 0.92642,
         "end": 182374,
         "speaker": null,
         "start": 181676,
         "text": "prerequisite"
        },
        {
         "confidence": 1,
         "end": 182634,
         "speaker": null,
         "start": 182422,
         "text": "to"
        },
        {
         "confidence": 0.99883,
         "end": 182910,
         "speaker": null,
         "start": 182672,
         "text": "learn"
        },
        {
         "confidence": 0.9998,
         "end": 183174,
         "speaker": null,
         "start": 182960,
         "text": "how"
        },
        {
         "confidence": 1,
         "end": 183774,
         "speaker": null,
         "start": 183212,
         "text": "to"
        },
        {
         "confidence": 0.99919,
         "end": 184542,
         "speaker": null,
         "start": 183932,
         "text": "program."
        },
        {
         "confidence": 0.87619,
         "end": 185278,
         "speaker": null,
         "start": 184676,
         "text": "Programming"
        },
        {
         "confidence": 0.99837,
         "end": 185478,
         "speaker": null,
         "start": 185314,
         "text": "is"
        },
        {
         "confidence": 1,
         "end": 185658,
         "speaker": null,
         "start": 185504,
         "text": "the"
        },
        {
         "confidence": 0.68481,
         "end": 186058,
         "speaker": null,
         "start": 185684,
         "text": "ultimate"
        },
        {
         "confidence": 0.98586,
         "end": 186370,
         "speaker": null,
         "start": 186094,
         "text": "goal."
        },
        {
         "confidence": 0.99805,
         "end": 186934,
         "speaker": null,
         "start": 186430,
         "text": "Programming"
        },
        {
         "confidence": 0.9987,
         "end": 187158,
         "speaker": null,
         "start": 186982,
         "text": "is"
        },
        {
         "confidence": 1,
         "end": 187410,
         "speaker": null,
         "start": 187184,
         "text": "the"
        },
        {
         "confidence": 0.55629,
         "end": 187602,
         "speaker": null,
         "start": 187460,
         "text": "act"
        },
        {
         "confidence": 0.97,
         "end": 187758,
         "speaker": null,
         "start": 187616,
         "text": "of"
        },
        {
         "confidence": 0.99829,
         "end": 188010,
         "speaker": null,
         "start": 187784,
         "text": "using"
        },
        {
         "confidence": 0.9972,
         "end": 188470,
         "speaker": null,
         "start": 188060,
         "text": "coding"
        },
        {
         "confidence": 1,
         "end": 188754,
         "speaker": null,
         "start": 188530,
         "text": "to"
        },
        {
         "confidence": 0.99828,
         "end": 189066,
         "speaker": null,
         "start": 188792,
         "text": "make"
        },
        {
         "confidence": 0.58178,
         "end": 189598,
         "speaker": null,
         "start": 189128,
         "text": "programs"
        },
        {
         "confidence": 0.99491,
         "end": 189834,
         "speaker": null,
         "start": 189634,
         "text": "that"
        },
        {
         "confidence": 0.99711,
         "end": 190138,
         "speaker": null,
         "start": 189872,
         "text": "solve"
        },
        {
         "confidence": 1,
         "end": 190374,
         "speaker": null,
         "start": 190174,
         "text": "real"
        },
        {
         "confidence": 0.97957,
         "end": 190938,
         "speaker": null,
         "start": 190412,
         "text": "problems."
        },
        {
         "confidence": 0.99965,
         "end": 191322,
         "speaker": null,
         "start": 191084,
         "text": "You"
        },
        {
         "confidence": 0.9997,
         "end": 191442,
         "speaker": null,
         "start": 191336,
         "text": "need"
        },
        {
         "confidence": 0.7,
         "end": 191598,
         "speaker": null,
         "start": 191456,
         "text": "to"
        },
        {
         "confidence": 0.99992,
         "end": 191778,
         "speaker": null,
         "start": 191624,
         "text": "learn"
        },
        {
         "confidence": 0.99,
         "end": 191958,
         "speaker": null,
         "start": 191804,
         "text": "the"
        },
        {
         "confidence": 0.98548,
         "end": 192574,
         "speaker": null,
         "start": 191984,
         "text": "fundamentals"
        },
        {
         "confidence": 0.56,
         "end": 192798,
         "speaker": null,
         "start": 192622,
         "text": "of"
        },
        {
         "confidence": 0.87619,
         "end": 193378,
         "speaker": null,
         "start": 192824,
         "text": "coding"
        },
        {
         "confidence": 1,
         "end": 193662,
         "speaker": null,
         "start": 193474,
         "text": "to"
        },
        {
         "confidence": 0.99944,
         "end": 193818,
         "speaker": null,
         "start": 193676,
         "text": "know"
        },
        {
         "confidence": 0.99876,
         "end": 193998,
         "speaker": null,
         "start": 193844,
         "text": "how"
        },
        {
         "confidence": 1,
         "end": 194178,
         "speaker": null,
         "start": 194024,
         "text": "to"
        },
        {
         "confidence": 0.99986,
         "end": 194610,
         "speaker": null,
         "start": 194204,
         "text": "program."
        },
        {
         "confidence": 0.74929,
         "end": 195030,
         "speaker": null,
         "start": 194720,
         "text": "Remember"
        },
        {
         "confidence": 0.99905,
         "end": 195186,
         "speaker": null,
         "start": 195080,
         "text": "when"
        },
        {
         "confidence": 0.99,
         "end": 195282,
         "speaker": null,
         "start": 195188,
         "text": "I"
        },
        {
         "confidence": 0.94992,
         "end": 195438,
         "speaker": null,
         "start": 195296,
         "text": "talked"
        },
        {
         "confidence": 0.19,
         "end": 195654,
         "speaker": null,
         "start": 195464,
         "text": "to"
        },
        {
         "confidence": 0.99806,
         "end": 195966,
         "speaker": null,
         "start": 195692,
         "text": "people"
        },
        {
         "confidence": 0.99576,
         "end": 196326,
         "speaker": null,
         "start": 196028,
         "text": "starting"
        },
        {
         "confidence": 0.82382,
         "end": 196542,
         "speaker": null,
         "start": 196388,
         "text": "in"
        },
        {
         "confidence": 0.99969,
         "end": 196798,
         "speaker": null,
         "start": 196556,
         "text": "machine"
        },
        {
         "confidence": 0.99998,
         "end": 197070,
         "speaker": null,
         "start": 196834,
         "text": "learning?"
        },
        {
         "confidence": 0.99872,
         "end": 197298,
         "speaker": null,
         "start": 197120,
         "text": "This"
        },
        {
         "confidence": 0.99726,
         "end": 197442,
         "speaker": null,
         "start": 197324,
         "text": "is"
        },
        {
         "confidence": 0.99907,
         "end": 197634,
         "speaker": null,
         "start": 197456,
         "text": "trying"
        },
        {
         "confidence": 1,
         "end": 197838,
         "speaker": null,
         "start": 197672,
         "text": "to"
        },
        {
         "confidence": 0.99992,
         "end": 198162,
         "speaker": null,
         "start": 197864,
         "text": "program"
        },
        {
         "confidence": 0.99994,
         "end": 198474,
         "speaker": null,
         "start": 198236,
         "text": "before"
        },
        {
         "confidence": 0.98707,
         "end": 198678,
         "speaker": null,
         "start": 198512,
         "text": "you"
        },
        {
         "confidence": 0.99854,
         "end": 198822,
         "speaker": null,
         "start": 198704,
         "text": "know"
        },
        {
         "confidence": 0.99867,
         "end": 198942,
         "speaker": null,
         "start": 198836,
         "text": "how"
        },
        {
         "confidence": 0.55,
         "end": 199098,
         "speaker": null,
         "start": 198956,
         "text": "to"
        },
        {
         "confidence": 0.99976,
         "end": 199386,
         "speaker": null,
         "start": 199124,
         "text": "code."
        },
        {
         "confidence": 0.92,
         "end": 199638,
         "speaker": null,
         "start": 199448,
         "text": "And"
        },
        {
         "confidence": 0.99878,
         "end": 199890,
         "speaker": null,
         "start": 199664,
         "text": "people"
        },
        {
         "confidence": 0.99986,
         "end": 200154,
         "speaker": null,
         "start": 199940,
         "text": "only"
        },
        {
         "confidence": 0.46259,
         "end": 200554,
         "speaker": null,
         "start": 200192,
         "text": "solving"
        },
        {
         "confidence": 0.96806,
         "end": 200878,
         "speaker": null,
         "start": 200602,
         "text": "math"
        },
        {
         "confidence": 0.98983,
         "end": 201222,
         "speaker": null,
         "start": 200914,
         "text": "problems"
        },
        {
         "confidence": 0.96602,
         "end": 201498,
         "speaker": null,
         "start": 201296,
         "text": "in"
        },
        {
         "confidence": 1,
         "end": 202002,
         "speaker": null,
         "start": 201524,
         "text": "C"
        },
        {
         "confidence": 0.99865,
         "end": 202470,
         "speaker": null,
         "start": 202136,
         "text": "is"
        },
        {
         "confidence": 0.99499,
         "end": 202762,
         "speaker": null,
         "start": 202520,
         "text": "knowing"
        },
        {
         "confidence": 0.99976,
         "end": 202938,
         "speaker": null,
         "start": 202786,
         "text": "how"
        },
        {
         "confidence": 1,
         "end": 203118,
         "speaker": null,
         "start": 202964,
         "text": "to"
        },
        {
         "confidence": 0.99922,
         "end": 203550,
         "speaker": null,
         "start": 203144,
         "text": "code"
        },
        {
         "confidence": 0.99,
         "end": 203934,
         "speaker": null,
         "start": 203660,
         "text": "and"
        },
        {
         "confidence": 0.99966,
         "end": 204174,
         "speaker": null,
         "start": 203972,
         "text": "never"
        },
        {
         "confidence": 0.99621,
         "end": 204414,
         "speaker": null,
         "start": 204212,
         "text": "using"
        },
        {
         "confidence": 0.98743,
         "end": 204582,
         "speaker": null,
         "start": 204452,
         "text": "that"
        },
        {
         "confidence": 0.65,
         "end": 204774,
         "speaker": null,
         "start": 204596,
         "text": "to"
        },
        {
         "confidence": 0.99988,
         "end": 205158,
         "speaker": null,
         "start": 204812,
         "text": "program."
        },
        {
         "confidence": 0.99894,
         "end": 205422,
         "speaker": null,
         "start": 205244,
         "text": "There"
        },
        {
         "confidence": 0.96837,
         "end": 205578,
         "speaker": null,
         "start": 205436,
         "text": "are"
        },
        {
         "confidence": 0.9991,
         "end": 205786,
         "speaker": null,
         "start": 205604,
         "text": "tons"
        },
        {
         "confidence": 1,
         "end": 205938,
         "speaker": null,
         "start": 205798,
         "text": "of"
        },
        {
         "confidence": 0.93619,
         "end": 206314,
         "speaker": null,
         "start": 205964,
         "text": "tools,"
        },
        {
         "confidence": 0.99157,
         "end": 206538,
         "speaker": null,
         "start": 206362,
         "text": "use"
        },
        {
         "confidence": 0.74544,
         "end": 206950,
         "speaker": null,
         "start": 206564,
         "text": "cases,"
        },
        {
         "confidence": 0.62415,
         "end": 207502,
         "speaker": null,
         "start": 207010,
         "text": "frameworks"
        },
        {
         "confidence": 0.9855,
         "end": 207678,
         "speaker": null,
         "start": 207526,
         "text": "that"
        },
        {
         "confidence": 0.99785,
         "end": 208054,
         "speaker": null,
         "start": 207704,
         "text": "surround"
        },
        {
         "confidence": 0.9992,
         "end": 208350,
         "speaker": null,
         "start": 208102,
         "text": "each"
        },
        {
         "confidence": 0.60587,
         "end": 208702,
         "speaker": null,
         "start": 208400,
         "text": "coding"
        },
        {
         "confidence": 0.71445,
         "end": 209014,
         "speaker": null,
         "start": 208726,
         "text": "language."
        },
        {
         "confidence": 0.98329,
         "end": 209238,
         "speaker": null,
         "start": 209062,
         "text": "But"
        },
        {
         "confidence": 0.99654,
         "end": 209382,
         "speaker": null,
         "start": 209264,
         "text": "in"
        },
        {
         "confidence": 1,
         "end": 209502,
         "speaker": null,
         "start": 209396,
         "text": "the"
        },
        {
         "confidence": 0.56916,
         "end": 210070,
         "speaker": null,
         "start": 209516,
         "text": "beginning,"
        },
        {
         "confidence": 0.76656,
         "end": 210438,
         "speaker": null,
         "start": 210190,
         "text": "you"
        },
        {
         "confidence": 0.92427,
         "end": 210618,
         "speaker": null,
         "start": 210464,
         "text": "kind"
        },
        {
         "confidence": 0.99,
         "end": 210762,
         "speaker": null,
         "start": 210644,
         "text": "of"
        },
        {
         "confidence": 0.99965,
         "end": 210882,
         "speaker": null,
         "start": 210776,
         "text": "need"
        },
        {
         "confidence": 0.99,
         "end": 211038,
         "speaker": null,
         "start": 210896,
         "text": "to"
        },
        {
         "confidence": 0.90158,
         "end": 211462,
         "speaker": null,
         "start": 211064,
         "text": "isolate"
        },
        {
         "confidence": 0.99,
         "end": 211638,
         "speaker": null,
         "start": 211486,
         "text": "the"
        },
        {
         "confidence": 0.99699,
         "end": 211942,
         "speaker": null,
         "start": 211664,
         "text": "coding"
        },
        {
         "confidence": 0.99513,
         "end": 212254,
         "speaker": null,
         "start": 211966,
         "text": "language"
        },
        {
         "confidence": 0.99974,
         "end": 212838,
         "speaker": null,
         "start": 212302,
         "text": "itself,"
        },
        {
         "confidence": 0.9987,
         "end": 213258,
         "speaker": null,
         "start": 212984,
         "text": "learn"
        },
        {
         "confidence": 0.69,
         "end": 213438,
         "speaker": null,
         "start": 213284,
         "text": "the"
        },
        {
         "confidence": 0.99805,
         "end": 213778,
         "speaker": null,
         "start": 213464,
         "text": "basics"
        },
        {
         "confidence": 0.99,
         "end": 213978,
         "speaker": null,
         "start": 213814,
         "text": "of"
        },
        {
         "confidence": 0.99842,
         "end": 214446,
         "speaker": null,
         "start": 214004,
         "text": "that,"
        },
        {
         "confidence": 0.94,
         "end": 214818,
         "speaker": null,
         "start": 214568,
         "text": "and"
        },
        {
         "confidence": 0.99637,
         "end": 214998,
         "speaker": null,
         "start": 214844,
         "text": "then"
        },
        {
         "confidence": 0.99633,
         "end": 215178,
         "speaker": null,
         "start": 215024,
         "text": "you"
        },
        {
         "confidence": 0.99696,
         "end": 215358,
         "speaker": null,
         "start": 215204,
         "text": "can"
        },
        {
         "confidence": 0.99923,
         "end": 215538,
         "speaker": null,
         "start": 215384,
         "text": "take"
        },
        {
         "confidence": 1,
         "end": 215718,
         "speaker": null,
         "start": 215564,
         "text": "it"
        },
        {
         "confidence": 1,
         "end": 215898,
         "speaker": null,
         "start": 215744,
         "text": "and"
        },
        {
         "confidence": 0.99963,
         "end": 216078,
         "speaker": null,
         "start": 215924,
         "text": "learn"
        },
        {
         "confidence": 0.99874,
         "end": 216222,
         "speaker": null,
         "start": 216104,
         "text": "how"
        },
        {
         "confidence": 0.99,
         "end": 216378,
         "speaker": null,
         "start": 216236,
         "text": "to"
        },
        {
         "confidence": 0.99985,
         "end": 216666,
         "speaker": null,
         "start": 216404,
         "text": "program"
        },
        {
         "confidence": 0.97394,
         "end": 216882,
         "speaker": null,
         "start": 216728,
         "text": "with"
        },
        {
         "confidence": 0.87,
         "end": 217002,
         "speaker": null,
         "start": 216896,
         "text": "it."
        },
        {
         "confidence": 0.99,
         "end": 217158,
         "speaker": null,
         "start": 217016,
         "text": "The"
        },
        {
         "confidence": 0.94419,
         "end": 217558,
         "speaker": null,
         "start": 217184,
         "text": "easiest"
        },
        {
         "confidence": 0.99597,
         "end": 217758,
         "speaker": null,
         "start": 217594,
         "text": "thing"
        },
        {
         "confidence": 1,
         "end": 217902,
         "speaker": null,
         "start": 217784,
         "text": "to"
        },
        {
         "confidence": 0.9998,
         "end": 218058,
         "speaker": null,
         "start": 217916,
         "text": "start"
        },
        {
         "confidence": 0.99909,
         "end": 218238,
         "speaker": null,
         "start": 218084,
         "text": "with"
        },
        {
         "confidence": 0.98229,
         "end": 218454,
         "speaker": null,
         "start": 218264,
         "text": "is"
        },
        {
         "confidence": 0.99835,
         "end": 218766,
         "speaker": null,
         "start": 218492,
         "text": "probably"
        },
        {
         "confidence": 0.73117,
         "end": 219310,
         "speaker": null,
         "start": 218828,
         "text": "Python."
        },
        {
         "confidence": 0.93647,
         "end": 219630,
         "speaker": null,
         "start": 219370,
         "text": "But"
        },
        {
         "confidence": 0.99975,
         "end": 220078,
         "speaker": null,
         "start": 219680,
         "text": "honestly,"
        },
        {
         "confidence": 1,
         "end": 220242,
         "speaker": null,
         "start": 220114,
         "text": "I"
        },
        {
         "confidence": 0.86506,
         "end": 220498,
         "speaker": null,
         "start": 220256,
         "text": "wouldn't"
        },
        {
         "confidence": 0.9995,
         "end": 220662,
         "speaker": null,
         "start": 220534,
         "text": "be"
        },
        {
         "confidence": 0.99921,
         "end": 220942,
         "speaker": null,
         "start": 220676,
         "text": "upset"
        },
        {
         "confidence": 0.99965,
         "end": 221082,
         "speaker": null,
         "start": 220966,
         "text": "if"
        },
        {
         "confidence": 0.99701,
         "end": 221202,
         "speaker": null,
         "start": 221096,
         "text": "you"
        },
        {
         "confidence": 0.98002,
         "end": 221458,
         "speaker": null,
         "start": 221216,
         "text": "picked"
        },
        {
         "confidence": 0.64774,
         "end": 222034,
         "speaker": null,
         "start": 221494,
         "text": "JavaScript"
        },
        {
         "confidence": 0.89,
         "end": 222258,
         "speaker": null,
         "start": 222082,
         "text": "and"
        },
        {
         "confidence": 0.97968,
         "end": 222442,
         "speaker": null,
         "start": 222284,
         "text": "I'll"
        },
        {
         "confidence": 0.99998,
         "end": 222762,
         "speaker": null,
         "start": 222466,
         "text": "explain"
        },
        {
         "confidence": 0.99988,
         "end": 223218,
         "speaker": null,
         "start": 222836,
         "text": "later."
        },
        {
         "confidence": 0.99909,
         "end": 223738,
         "speaker": null,
         "start": 223304,
         "text": "Python"
        },
        {
         "confidence": 0.98917,
         "end": 224074,
         "speaker": null,
         "start": 223774,
         "text": "mostly"
        },
        {
         "confidence": 0.99951,
         "end": 224334,
         "speaker": null,
         "start": 224122,
         "text": "looks"
        },
        {
         "confidence": 0.99868,
         "end": 224502,
         "speaker": null,
         "start": 224372,
         "text": "like"
        },
        {
         "confidence": 0.67228,
         "end": 224758,
         "speaker": null,
         "start": 224516,
         "text": "plain"
        },
        {
         "confidence": 0.99956,
         "end": 225166,
         "speaker": null,
         "start": 224794,
         "text": "English."
        },
        {
         "confidence": 0.99941,
         "end": 225402,
         "speaker": null,
         "start": 225238,
         "text": "Even"
        },
        {
         "confidence": 0.99911,
         "end": 225522,
         "speaker": null,
         "start": 225416,
         "text": "if"
        },
        {
         "confidence": 0.99881,
         "end": 225606,
         "speaker": null,
         "start": 225536,
         "text": "you"
        },
        {
         "confidence": 0.98796,
         "end": 225706,
         "speaker": null,
         "start": 225608,
         "text": "don't"
        },
        {
         "confidence": 0.71029,
         "end": 225858,
         "speaker": null,
         "start": 225718,
         "text": "know"
        },
        {
         "confidence": 0.99968,
         "end": 225966,
         "speaker": null,
         "start": 225884,
         "text": "how"
        },
        {
         "confidence": 0.99,
         "end": 226062,
         "speaker": null,
         "start": 225968,
         "text": "to"
        },
        {
         "confidence": 0.99969,
         "end": 226290,
         "speaker": null,
         "start": 226076,
         "text": "code,"
        },
        {
         "confidence": 0.99887,
         "end": 226482,
         "speaker": null,
         "start": 226340,
         "text": "you"
        },
        {
         "confidence": 0.99435,
         "end": 226674,
         "speaker": null,
         "start": 226496,
         "text": "can"
        },
        {
         "confidence": 0.95192,
         "end": 226878,
         "speaker": null,
         "start": 226712,
         "text": "sort"
        },
        {
         "confidence": 1,
         "end": 227058,
         "speaker": null,
         "start": 226904,
         "text": "of"
        },
        {
         "confidence": 0.99974,
         "end": 227238,
         "speaker": null,
         "start": 227084,
         "text": "read"
        },
        {
         "confidence": 1,
         "end": 227562,
         "speaker": null,
         "start": 227264,
         "text": "it."
        },
        {
         "confidence": 0.93121,
         "end": 227842,
         "speaker": null,
         "start": 227636,
         "text": "It's"
        },
        {
         "confidence": 0.99958,
         "end": 228054,
         "speaker": null,
         "start": 227866,
         "text": "super"
        },
        {
         "confidence": 0.99981,
         "end": 228258,
         "speaker": null,
         "start": 228092,
         "text": "easy"
        },
        {
         "confidence": 1,
         "end": 228402,
         "speaker": null,
         "start": 228284,
         "text": "to"
        },
        {
         "confidence": 0.99876,
         "end": 228522,
         "speaker": null,
         "start": 228416,
         "text": "get"
        },
        {
         "confidence": 0.93722,
         "end": 228786,
         "speaker": null,
         "start": 228536,
         "text": "started"
        },
        {
         "confidence": 0.93303,
         "end": 229110,
         "speaker": null,
         "start": 228848,
         "text": "in."
        },
        {
         "confidence": 0.99961,
         "end": 229302,
         "speaker": null,
         "start": 229160,
         "text": "You"
        },
        {
         "confidence": 0.99585,
         "end": 229422,
         "speaker": null,
         "start": 229316,
         "text": "can"
        },
        {
         "confidence": 0.87859,
         "end": 229858,
         "speaker": null,
         "start": 229436,
         "text": "immediately"
        },
        {
         "confidence": 0.99968,
         "end": 230094,
         "speaker": null,
         "start": 229894,
         "text": "start"
        },
        {
         "confidence": 0.99963,
         "end": 230334,
         "speaker": null,
         "start": 230132,
         "text": "learning"
        },
        {
         "confidence": 1,
         "end": 230502,
         "speaker": null,
         "start": 230372,
         "text": "the"
        },
        {
         "confidence": 0.99363,
         "end": 230890,
         "speaker": null,
         "start": 230516,
         "text": "basics"
        },
        {
         "confidence": 0.99252,
         "end": 231246,
         "speaker": null,
         "start": 230950,
         "text": "like"
        },
        {
         "confidence": 0.87985,
         "end": 231814,
         "speaker": null,
         "start": 231308,
         "text": "variables,"
        },
        {
         "confidence": 0.89188,
         "end": 232426,
         "speaker": null,
         "start": 231862,
         "text": "functions"
        },
        {
         "confidence": 0.99721,
         "end": 232734,
         "speaker": null,
         "start": 232498,
         "text": "move"
        },
        {
         "confidence": 0.99961,
         "end": 233046,
         "speaker": null,
         "start": 232772,
         "text": "quickly"
        },
        {
         "confidence": 0.99625,
         "end": 233370,
         "speaker": null,
         "start": 233108,
         "text": "into"
        },
        {
         "confidence": 0.99912,
         "end": 233670,
         "speaker": null,
         "start": 233420,
         "text": "data"
        },
        {
         "confidence": 0.95807,
         "end": 234094,
         "speaker": null,
         "start": 233720,
         "text": "structures"
        },
        {
         "confidence": 1,
         "end": 234282,
         "speaker": null,
         "start": 234142,
         "text": "and"
        },
        {
         "confidence": 0.74702,
         "end": 234826,
         "speaker": null,
         "start": 234296,
         "text": "algorithms."
        },
        {
         "confidence": 0.71979,
         "end": 235102,
         "speaker": null,
         "start": 234898,
         "text": "You'll"
        },
        {
         "confidence": 0.99772,
         "end": 235314,
         "speaker": null,
         "start": 235126,
         "text": "really"
        },
        {
         "confidence": 0.99769,
         "end": 235446,
         "speaker": null,
         "start": 235352,
         "text": "want"
        },
        {
         "confidence": 1,
         "end": 235542,
         "speaker": null,
         "start": 235448,
         "text": "to"
        },
        {
         "confidence": 0.99987,
         "end": 235662,
         "speaker": null,
         "start": 235556,
         "text": "know"
        },
        {
         "confidence": 1,
         "end": 235818,
         "speaker": null,
         "start": 235676,
         "text": "the"
        },
        {
         "confidence": 0.98897,
         "end": 236134,
         "speaker": null,
         "start": 235844,
         "text": "basics"
        },
        {
         "confidence": 0.99589,
         "end": 236394,
         "speaker": null,
         "start": 236182,
         "text": "about"
        },
        {
         "confidence": 0.99637,
         "end": 236818,
         "speaker": null,
         "start": 236432,
         "text": "types"
        },
        {
         "confidence": 0.98722,
         "end": 237090,
         "speaker": null,
         "start": 236854,
         "text": "like"
        },
        {
         "confidence": 0.71899,
         "end": 237790,
         "speaker": null,
         "start": 237140,
         "text": "arrays"
        },
        {
         "confidence": 0.97,
         "end": 238122,
         "speaker": null,
         "start": 237910,
         "text": "and"
        },
        {
         "confidence": 0.95,
         "end": 238278,
         "speaker": null,
         "start": 238136,
         "text": "the"
        },
        {
         "confidence": 0.7928,
         "end": 238594,
         "speaker": null,
         "start": 238304,
         "text": "basics"
        },
        {
         "confidence": 1,
         "end": 238818,
         "speaker": null,
         "start": 238642,
         "text": "of"
        },
        {
         "confidence": 0.99973,
         "end": 239106,
         "speaker": null,
         "start": 238844,
         "text": "control,"
        },
        {
         "confidence": 0.99601,
         "end": 239494,
         "speaker": null,
         "start": 239168,
         "text": "flow"
        },
        {
         "confidence": 0.99401,
         "end": 239898,
         "speaker": null,
         "start": 239542,
         "text": "like"
        },
        {
         "confidence": 0.64604,
         "end": 240610,
         "speaker": null,
         "start": 239984,
         "text": "functions,"
        },
        {
         "confidence": 0.54871,
         "end": 241318,
         "speaker": null,
         "start": 240670,
         "text": "loops,"
        },
        {
         "confidence": 0.99,
         "end": 241710,
         "speaker": null,
         "start": 241414,
         "text": "and"
        },
        {
         "confidence": 0.99952,
         "end": 241974,
         "speaker": null,
         "start": 241760,
         "text": "even"
        },
        {
         "confidence": 0.97,
         "end": 242142,
         "speaker": null,
         "start": 242012,
         "text": "a"
        },
        {
         "confidence": 0.99891,
         "end": 242298,
         "speaker": null,
         "start": 242156,
         "text": "little"
        },
        {
         "confidence": 0.98591,
         "end": 242442,
         "speaker": null,
         "start": 242324,
         "text": "bit"
        },
        {
         "confidence": 0.9928,
         "end": 242670,
         "speaker": null,
         "start": 242456,
         "text": "about"
        },
        {
         "confidence": 0.99832,
         "end": 243286,
         "speaker": null,
         "start": 242720,
         "text": "classes."
        },
        {
         "confidence": 0.99342,
         "end": 243586,
         "speaker": null,
         "start": 243358,
         "text": "Don't"
        },
        {
         "confidence": 0.99921,
         "end": 243738,
         "speaker": null,
         "start": 243598,
         "text": "get"
        },
        {
         "confidence": 0.99878,
         "end": 244054,
         "speaker": null,
         "start": 243764,
         "text": "carried"
        },
        {
         "confidence": 0.99987,
         "end": 244422,
         "speaker": null,
         "start": 244102,
         "text": "away."
        },
        {
         "confidence": 0.99479,
         "end": 244662,
         "speaker": null,
         "start": 244496,
         "text": "You"
        },
        {
         "confidence": 0.99529,
         "end": 244786,
         "speaker": null,
         "start": 244676,
         "text": "don't"
        },
        {
         "confidence": 0.94264,
         "end": 244902,
         "speaker": null,
         "start": 244798,
         "text": "need"
        },
        {
         "confidence": 1,
         "end": 245022,
         "speaker": null,
         "start": 244916,
         "text": "to"
        },
        {
         "confidence": 0.9995,
         "end": 245250,
         "speaker": null,
         "start": 245036,
         "text": "learn"
        },
        {
         "confidence": 0.97186,
         "end": 245950,
         "speaker": null,
         "start": 245300,
         "text": "advanced"
        },
        {
         "confidence": 0.99855,
         "end": 246306,
         "speaker": null,
         "start": 246010,
         "text": "things"
        },
        {
         "confidence": 0.99971,
         "end": 246774,
         "speaker": null,
         "start": 246368,
         "text": "like"
        },
        {
         "confidence": 0.98544,
         "end": 247474,
         "speaker": null,
         "start": 246872,
         "text": "inheritance,"
        },
        {
         "confidence": 0.99763,
         "end": 247698,
         "speaker": null,
         "start": 247522,
         "text": "for"
        },
        {
         "confidence": 0.99995,
         "end": 248094,
         "speaker": null,
         "start": 247724,
         "text": "example."
        },
        {
         "confidence": 0.99966,
         "end": 248346,
         "speaker": null,
         "start": 248192,
         "text": "If"
        },
        {
         "confidence": 0.89542,
         "end": 248482,
         "speaker": null,
         "start": 248348,
         "text": "you're"
        },
        {
         "confidence": 0.99957,
         "end": 248722,
         "speaker": null,
         "start": 248506,
         "text": "feeling"
        },
        {
         "confidence": 0.99,
         "end": 248826,
         "speaker": null,
         "start": 248746,
         "text": "a"
        },
        {
         "confidence": 0.81359,
         "end": 248994,
         "speaker": null,
         "start": 248828,
         "text": "little"
        },
        {
         "confidence": 0.99656,
         "end": 249478,
         "speaker": null,
         "start": 249032,
         "text": "feisty,"
        },
        {
         "confidence": 0.99858,
         "end": 249642,
         "speaker": null,
         "start": 249514,
         "text": "you"
        },
        {
         "confidence": 0.99922,
         "end": 249798,
         "speaker": null,
         "start": 249656,
         "text": "might"
        },
        {
         "confidence": 0.99971,
         "end": 249906,
         "speaker": null,
         "start": 249824,
         "text": "want"
        },
        {
         "confidence": 0.74,
         "end": 250002,
         "speaker": null,
         "start": 249908,
         "text": "to"
        },
        {
         "confidence": 0.9913,
         "end": 250266,
         "speaker": null,
         "start": 250016,
         "text": "learn"
        },
        {
         "confidence": 0.97334,
         "end": 251086,
         "speaker": null,
         "start": 250328,
         "text": "exceptions,"
        },
        {
         "confidence": 0.75239,
         "end": 251602,
         "speaker": null,
         "start": 251218,
         "text": "hash,"
        },
        {
         "confidence": 0.79704,
         "end": 252058,
         "speaker": null,
         "start": 251626,
         "text": "maps,"
        },
        {
         "confidence": 0.99542,
         "end": 252450,
         "speaker": null,
         "start": 252154,
         "text": "maybe"
        },
        {
         "confidence": 0.5774,
         "end": 252898,
         "speaker": null,
         "start": 252500,
         "text": "sprinkle"
        },
        {
         "confidence": 0.95797,
         "end": 253062,
         "speaker": null,
         "start": 252934,
         "text": "in"
        },
        {
         "confidence": 0.97,
         "end": 253146,
         "speaker": null,
         "start": 253076,
         "text": "a"
        },
        {
         "confidence": 0.99512,
         "end": 253314,
         "speaker": null,
         "start": 253148,
         "text": "little"
        },
        {
         "confidence": 0.86814,
         "end": 253942,
         "speaker": null,
         "start": 253352,
         "text": "recursion."
        },
        {
         "confidence": 0.91741,
         "end": 254274,
         "speaker": null,
         "start": 254026,
         "text": "Now,"
        },
        {
         "confidence": 0.99924,
         "end": 254442,
         "speaker": null,
         "start": 254312,
         "text": "there"
        },
        {
         "confidence": 0.96303,
         "end": 254562,
         "speaker": null,
         "start": 254456,
         "text": "are"
        },
        {
         "confidence": 0.64188,
         "end": 254818,
         "speaker": null,
         "start": 254576,
         "text": "plenty"
        },
        {
         "confidence": 1,
         "end": 255126,
         "speaker": null,
         "start": 254854,
         "text": "of"
        },
        {
         "confidence": 0.01495,
         "end": 255486,
         "speaker": null,
         "start": 255188,
         "text": "interest"
        },
        {
         "confidence": 0.97413,
         "end": 255958,
         "speaker": null,
         "start": 255548,
         "text": "Python"
        },
        {
         "confidence": 0.96018,
         "end": 256222,
         "speaker": null,
         "start": 255994,
         "text": "courses"
        },
        {
         "confidence": 0.99828,
         "end": 256362,
         "speaker": null,
         "start": 256246,
         "text": "in"
        },
        {
         "confidence": 1,
         "end": 256446,
         "speaker": null,
         "start": 256376,
         "text": "the"
        },
        {
         "confidence": 0.99926,
         "end": 256614,
         "speaker": null,
         "start": 256448,
         "text": "world,"
        },
        {
         "confidence": 0.8908,
         "end": 256782,
         "speaker": null,
         "start": 256652,
         "text": "so"
        },
        {
         "confidence": 0.95518,
         "end": 256942,
         "speaker": null,
         "start": 256796,
         "text": "I'm"
        },
        {
         "confidence": 0.99968,
         "end": 257082,
         "speaker": null,
         "start": 256966,
         "text": "not"
        },
        {
         "confidence": 0.96726,
         "end": 257166,
         "speaker": null,
         "start": 257096,
         "text": "going"
        },
        {
         "confidence": 0.95,
         "end": 257262,
         "speaker": null,
         "start": 257168,
         "text": "to"
        },
        {
         "confidence": 0.75072,
         "end": 257518,
         "speaker": null,
         "start": 257276,
         "text": "bore"
        },
        {
         "confidence": 0.99901,
         "end": 257682,
         "speaker": null,
         "start": 257554,
         "text": "you"
        },
        {
         "confidence": 0.92646,
         "end": 257802,
         "speaker": null,
         "start": 257696,
         "text": "with"
        },
        {
         "confidence": 0.99,
         "end": 257958,
         "speaker": null,
         "start": 257816,
         "text": "the"
        },
        {
         "confidence": 0.75,
         "end": 258394,
         "speaker": null,
         "start": 257984,
         "text": "details."
        },
        {
         "confidence": 0.92797,
         "end": 258622,
         "speaker": null,
         "start": 258442,
         "text": "I'm"
        },
        {
         "confidence": 0.99995,
         "end": 258798,
         "speaker": null,
         "start": 258646,
         "text": "sure"
        },
        {
         "confidence": 0.99927,
         "end": 258942,
         "speaker": null,
         "start": 258824,
         "text": "you"
        },
        {
         "confidence": 0.98644,
         "end": 259098,
         "speaker": null,
         "start": 258956,
         "text": "can"
        },
        {
         "confidence": 0.99966,
         "end": 259278,
         "speaker": null,
         "start": 259124,
         "text": "find"
        },
        {
         "confidence": 0.99268,
         "end": 259458,
         "speaker": null,
         "start": 259304,
         "text": "that"
        },
        {
         "confidence": 0.99852,
         "end": 259602,
         "speaker": null,
         "start": 259484,
         "text": "on"
        },
        {
         "confidence": 0.99806,
         "end": 259758,
         "speaker": null,
         "start": 259616,
         "text": "your"
        },
        {
         "confidence": 0.99924,
         "end": 260010,
         "speaker": null,
         "start": 259784,
         "text": "own."
        },
        {
         "confidence": 0.91904,
         "end": 260382,
         "speaker": null,
         "start": 260060,
         "text": "But"
        },
        {
         "confidence": 0.99937,
         "end": 260658,
         "speaker": null,
         "start": 260456,
         "text": "now"
        },
        {
         "confidence": 0.99736,
         "end": 260802,
         "speaker": null,
         "start": 260684,
         "text": "that"
        },
        {
         "confidence": 0.99821,
         "end": 260958,
         "speaker": null,
         "start": 260816,
         "text": "you"
        },
        {
         "confidence": 0.99973,
         "end": 261138,
         "speaker": null,
         "start": 260984,
         "text": "have"
        },
        {
         "confidence": 0.99,
         "end": 261282,
         "speaker": null,
         "start": 261164,
         "text": "a"
        },
        {
         "confidence": 0.67268,
         "end": 261598,
         "speaker": null,
         "start": 261296,
         "text": "coding"
        },
        {
         "confidence": 0.99945,
         "end": 261994,
         "speaker": null,
         "start": 261634,
         "text": "language"
        },
        {
         "confidence": 0.99631,
         "end": 262362,
         "speaker": null,
         "start": 262042,
         "text": "down,"
        },
        {
         "confidence": 0.53145,
         "end": 262678,
         "speaker": null,
         "start": 262436,
         "text": "let's"
        },
        {
         "confidence": 0.99978,
         "end": 262878,
         "speaker": null,
         "start": 262714,
         "text": "talk"
        },
        {
         "confidence": 0.99868,
         "end": 263130,
         "speaker": null,
         "start": 262904,
         "text": "about"
        },
        {
         "confidence": 0.61642,
         "end": 263806,
         "speaker": null,
         "start": 263180,
         "text": "programming."
        },
        {
         "confidence": 0.68835,
         "end": 264078,
         "speaker": null,
         "start": 263878,
         "text": "So"
        },
        {
         "confidence": 1,
         "end": 264222,
         "speaker": null,
         "start": 264104,
         "text": "the"
        },
        {
         "confidence": 1,
         "end": 264414,
         "speaker": null,
         "start": 264236,
         "text": "first"
        },
        {
         "confidence": 0.99965,
         "end": 264582,
         "speaker": null,
         "start": 264452,
         "text": "thing"
        },
        {
         "confidence": 1,
         "end": 264702,
         "speaker": null,
         "start": 264596,
         "text": "I"
        },
        {
         "confidence": 0.96466,
         "end": 264858,
         "speaker": null,
         "start": 264716,
         "text": "would"
        },
        {
         "confidence": 0.99977,
         "end": 265038,
         "speaker": null,
         "start": 264884,
         "text": "do"
        },
        {
         "confidence": 0.99906,
         "end": 265254,
         "speaker": null,
         "start": 265064,
         "text": "is"
        },
        {
         "confidence": 0.99804,
         "end": 265494,
         "speaker": null,
         "start": 265292,
         "text": "take"
        },
        {
         "confidence": 0.99993,
         "end": 265662,
         "speaker": null,
         "start": 265532,
         "text": "what"
        },
        {
         "confidence": 0.93909,
         "end": 265822,
         "speaker": null,
         "start": 265676,
         "text": "I've"
        },
        {
         "confidence": 0.99487,
         "end": 266122,
         "speaker": null,
         "start": 265846,
         "text": "learned"
        },
        {
         "confidence": 1,
         "end": 266298,
         "speaker": null,
         "start": 266146,
         "text": "and"
        },
        {
         "confidence": 0.98916,
         "end": 266550,
         "speaker": null,
         "start": 266324,
         "text": "build"
        },
        {
         "confidence": 1,
         "end": 266742,
         "speaker": null,
         "start": 266600,
         "text": "a"
        },
        {
         "confidence": 1,
         "end": 267150,
         "speaker": null,
         "start": 266756,
         "text": "website."
        },
        {
         "confidence": 0.91711,
         "end": 267462,
         "speaker": null,
         "start": 267260,
         "text": "Now,"
        },
        {
         "confidence": 0.99555,
         "end": 267582,
         "speaker": null,
         "start": 267476,
         "text": "there"
        },
        {
         "confidence": 0.84485,
         "end": 267738,
         "speaker": null,
         "start": 267596,
         "text": "are"
        },
        {
         "confidence": 1,
         "end": 268062,
         "speaker": null,
         "start": 267764,
         "text": "three"
        },
        {
         "confidence": 0.99995,
         "end": 268518,
         "speaker": null,
         "start": 268136,
         "text": "important"
        },
        {
         "confidence": 0.99316,
         "end": 269002,
         "speaker": null,
         "start": 268604,
         "text": "aspects"
        },
        {
         "confidence": 0.85,
         "end": 269106,
         "speaker": null,
         "start": 269026,
         "text": "to"
        },
        {
         "confidence": 0.5,
         "end": 269238,
         "speaker": null,
         "start": 269108,
         "text": "a"
        },
        {
         "confidence": 1,
         "end": 269562,
         "speaker": null,
         "start": 269264,
         "text": "website."
        },
        {
         "confidence": 0.95042,
         "end": 269902,
         "speaker": null,
         "start": 269636,
         "text": "There's"
        },
        {
         "confidence": 0.99,
         "end": 270078,
         "speaker": null,
         "start": 269926,
         "text": "the"
        },
        {
         "confidence": 0.99637,
         "end": 270258,
         "speaker": null,
         "start": 270104,
         "text": "back"
        },
        {
         "confidence": 0.86351,
         "end": 270510,
         "speaker": null,
         "start": 270284,
         "text": "end,"
        },
        {
         "confidence": 0.99805,
         "end": 270774,
         "speaker": null,
         "start": 270560,
         "text": "which"
        },
        {
         "confidence": 0.93893,
         "end": 270942,
         "speaker": null,
         "start": 270812,
         "text": "kind"
        },
        {
         "confidence": 0.98,
         "end": 271206,
         "speaker": null,
         "start": 270956,
         "text": "of"
        },
        {
         "confidence": 0.98469,
         "end": 271678,
         "speaker": null,
         "start": 271268,
         "text": "manages"
        },
        {
         "confidence": 0.98541,
         "end": 271978,
         "speaker": null,
         "start": 271714,
         "text": "user"
        },
        {
         "confidence": 0.99972,
         "end": 272430,
         "speaker": null,
         "start": 272014,
         "text": "data."
        },
        {
         "confidence": 0.54025,
         "end": 272782,
         "speaker": null,
         "start": 272540,
         "text": "There's"
        },
        {
         "confidence": 0.82,
         "end": 272958,
         "speaker": null,
         "start": 272806,
         "text": "the"
        },
        {
         "confidence": 0.99991,
         "end": 273174,
         "speaker": null,
         "start": 272984,
         "text": "front"
        },
        {
         "confidence": 0.93344,
         "end": 273414,
         "speaker": null,
         "start": 273212,
         "text": "end,"
        },
        {
         "confidence": 0.99963,
         "end": 273582,
         "speaker": null,
         "start": 273452,
         "text": "which"
        },
        {
         "confidence": 0.9975,
         "end": 273738,
         "speaker": null,
         "start": 273596,
         "text": "is"
        },
        {
         "confidence": 0.99897,
         "end": 273990,
         "speaker": null,
         "start": 273764,
         "text": "what"
        },
        {
         "confidence": 0.86976,
         "end": 274318,
         "speaker": null,
         "start": 274040,
         "text": "runs"
        },
        {
         "confidence": 0.9976,
         "end": 274446,
         "speaker": null,
         "start": 274354,
         "text": "on"
        },
        {
         "confidence": 0.99,
         "end": 274542,
         "speaker": null,
         "start": 274448,
         "text": "the"
        },
        {
         "confidence": 0.4368,
         "end": 274918,
         "speaker": null,
         "start": 274556,
         "text": "user's"
        },
        {
         "confidence": 0.6671,
         "end": 275542,
         "speaker": null,
         "start": 274954,
         "text": "browser."
        },
        {
         "confidence": 0.95,
         "end": 275838,
         "speaker": null,
         "start": 275626,
         "text": "And"
        },
        {
         "confidence": 0.99089,
         "end": 275982,
         "speaker": null,
         "start": 275864,
         "text": "then"
        },
        {
         "confidence": 0.8144,
         "end": 276142,
         "speaker": null,
         "start": 275996,
         "text": "there's"
        },
        {
         "confidence": 1,
         "end": 276282,
         "speaker": null,
         "start": 276166,
         "text": "the"
        },
        {
         "confidence": 0.99719,
         "end": 276754,
         "speaker": null,
         "start": 276296,
         "text": "database,"
        },
        {
         "confidence": 0.99821,
         "end": 276978,
         "speaker": null,
         "start": 276802,
         "text": "which"
        },
        {
         "confidence": 0.99959,
         "end": 277366,
         "speaker": null,
         "start": 277004,
         "text": "essentially"
        },
        {
         "confidence": 0.84473,
         "end": 277674,
         "speaker": null,
         "start": 277438,
         "text": "just"
        },
        {
         "confidence": 0.75435,
         "end": 278038,
         "speaker": null,
         "start": 277712,
         "text": "stores"
        },
        {
         "confidence": 0.9994,
         "end": 278310,
         "speaker": null,
         "start": 278074,
         "text": "data."
        },
        {
         "confidence": 0.88078,
         "end": 278466,
         "speaker": null,
         "start": 278360,
         "text": "Now,"
        },
        {
         "confidence": 0.45576,
         "end": 278602,
         "speaker": null,
         "start": 278468,
         "text": "we'll"
        },
        {
         "confidence": 0.99989,
         "end": 278778,
         "speaker": null,
         "start": 278626,
         "text": "start"
        },
        {
         "confidence": 0.99966,
         "end": 278958,
         "speaker": null,
         "start": 278804,
         "text": "with"
        },
        {
         "confidence": 0.99969,
         "end": 279138,
         "speaker": null,
         "start": 278984,
         "text": "back"
        },
        {
         "confidence": 0.35253,
         "end": 279354,
         "speaker": null,
         "start": 279164,
         "text": "end."
        },
        {
         "confidence": 0.86719,
         "end": 279526,
         "speaker": null,
         "start": 279392,
         "text": "You're"
        },
        {
         "confidence": 0.98532,
         "end": 279642,
         "speaker": null,
         "start": 279538,
         "text": "going"
        },
        {
         "confidence": 0.96,
         "end": 279726,
         "speaker": null,
         "start": 279656,
         "text": "to"
        },
        {
         "confidence": 0.99915,
         "end": 279822,
         "speaker": null,
         "start": 279728,
         "text": "want"
        },
        {
         "confidence": 1,
         "end": 279906,
         "speaker": null,
         "start": 279836,
         "text": "to"
        },
        {
         "confidence": 0.81053,
         "end": 280074,
         "speaker": null,
         "start": 279908,
         "text": "pick"
        },
        {
         "confidence": 0.82,
         "end": 280278,
         "speaker": null,
         "start": 280112,
         "text": "a"
        },
        {
         "confidence": 0.99808,
         "end": 280458,
         "speaker": null,
         "start": 280304,
         "text": "pretty"
        },
        {
         "confidence": 0.99989,
         "end": 280638,
         "speaker": null,
         "start": 280484,
         "text": "high"
        },
        {
         "confidence": 0.99444,
         "end": 280890,
         "speaker": null,
         "start": 280664,
         "text": "level"
        },
        {
         "confidence": 0.99968,
         "end": 281386,
         "speaker": null,
         "start": 280940,
         "text": "language,"
        },
        {
         "confidence": 0.9998,
         "end": 281838,
         "speaker": null,
         "start": 281458,
         "text": "either"
        },
        {
         "confidence": 1,
         "end": 282210,
         "speaker": null,
         "start": 281924,
         "text": "one"
        },
        {
         "confidence": 0.97514,
         "end": 282802,
         "speaker": null,
         "start": 282260,
         "text": "Python"
        },
        {
         "confidence": 0.99844,
         "end": 283098,
         "speaker": null,
         "start": 282886,
         "text": "or"
        },
        {
         "confidence": 0.98,
         "end": 283422,
         "speaker": null,
         "start": 283124,
         "text": "two"
        },
        {
         "confidence": 0.88051,
         "end": 284146,
         "speaker": null,
         "start": 283496,
         "text": "JavaScript."
        },
        {
         "confidence": 1,
         "end": 284382,
         "speaker": null,
         "start": 284218,
         "text": "The"
        },
        {
         "confidence": 1,
         "end": 284574,
         "speaker": null,
         "start": 284396,
         "text": "first"
        },
        {
         "confidence": 0.9997,
         "end": 284850,
         "speaker": null,
         "start": 284612,
         "text": "program"
        },
        {
         "confidence": 1,
         "end": 285042,
         "speaker": null,
         "start": 284900,
         "text": "I"
        },
        {
         "confidence": 0.99839,
         "end": 285198,
         "speaker": null,
         "start": 285056,
         "text": "would"
        },
        {
         "confidence": 0.99827,
         "end": 285378,
         "speaker": null,
         "start": 285224,
         "text": "build"
        },
        {
         "confidence": 0.7854,
         "end": 285522,
         "speaker": null,
         "start": 285404,
         "text": "would"
        },
        {
         "confidence": 0.99902,
         "end": 285642,
         "speaker": null,
         "start": 285536,
         "text": "be"
        },
        {
         "confidence": 0.99,
         "end": 285762,
         "speaker": null,
         "start": 285656,
         "text": "a"
        },
        {
         "confidence": 0.82632,
         "end": 286054,
         "speaker": null,
         "start": 285776,
         "text": "basic"
        },
        {
         "confidence": 0.99,
         "end": 286458,
         "speaker": null,
         "start": 286102,
         "text": "website."
        },
        {
         "confidence": 0.08,
         "end": 286758,
         "speaker": null,
         "start": 286544,
         "text": "And"
        },
        {
         "confidence": 0.99927,
         "end": 286938,
         "speaker": null,
         "start": 286784,
         "text": "what"
        },
        {
         "confidence": 0.99963,
         "end": 287082,
         "speaker": null,
         "start": 286964,
         "text": "type"
        },
        {
         "confidence": 0.74,
         "end": 287238,
         "speaker": null,
         "start": 287096,
         "text": "of"
        },
        {
         "confidence": 0.99,
         "end": 287562,
         "speaker": null,
         "start": 287264,
         "text": "website?"
        },
        {
         "confidence": 0.99809,
         "end": 287802,
         "speaker": null,
         "start": 287636,
         "text": "What"
        },
        {
         "confidence": 0.97698,
         "end": 287958,
         "speaker": null,
         "start": 287816,
         "text": "does"
        },
        {
         "confidence": 0.9982,
         "end": 288102,
         "speaker": null,
         "start": 287984,
         "text": "that"
        },
        {
         "confidence": 1,
         "end": 288402,
         "speaker": null,
         "start": 288116,
         "text": "website"
        },
        {
         "confidence": 0.99862,
         "end": 288714,
         "speaker": null,
         "start": 288476,
         "text": "do?"
        },
        {
         "confidence": 0.89758,
         "end": 288918,
         "speaker": null,
         "start": 288752,
         "text": "Well,"
        },
        {
         "confidence": 0.97044,
         "end": 289102,
         "speaker": null,
         "start": 288944,
         "text": "I'll"
        },
        {
         "confidence": 0.99997,
         "end": 289386,
         "speaker": null,
         "start": 289126,
         "text": "explain"
        },
        {
         "confidence": 0.99754,
         "end": 289638,
         "speaker": null,
         "start": 289448,
         "text": "that"
        },
        {
         "confidence": 0.99804,
         "end": 289746,
         "speaker": null,
         "start": 289664,
         "text": "in"
        },
        {
         "confidence": 0.93,
         "end": 289842,
         "speaker": null,
         "start": 289748,
         "text": "a"
        },
        {
         "confidence": 0.79,
         "end": 290038,
         "speaker": null,
         "start": 289856,
         "text": "minute,"
        },
        {
         "confidence": 0.94018,
         "end": 290202,
         "speaker": null,
         "start": 290074,
         "text": "but"
        },
        {
         "confidence": 0.99737,
         "end": 290322,
         "speaker": null,
         "start": 290216,
         "text": "for"
        },
        {
         "confidence": 0.99952,
         "end": 290478,
         "speaker": null,
         "start": 290336,
         "text": "now,"
        },
        {
         "confidence": 0.98946,
         "end": 290626,
         "speaker": null,
         "start": 290504,
         "text": "let's"
        },
        {
         "confidence": 0.98185,
         "end": 290778,
         "speaker": null,
         "start": 290638,
         "text": "just"
        },
        {
         "confidence": 0.99953,
         "end": 290922,
         "speaker": null,
         "start": 290804,
         "text": "make"
        },
        {
         "confidence": 1,
         "end": 291078,
         "speaker": null,
         "start": 290936,
         "text": "a"
        },
        {
         "confidence": 0.99957,
         "end": 291366,
         "speaker": null,
         "start": 291104,
         "text": "project"
        },
        {
         "confidence": 0.99936,
         "end": 291618,
         "speaker": null,
         "start": 291428,
         "text": "in"
        },
        {
         "confidence": 0.99619,
         "end": 291798,
         "speaker": null,
         "start": 291644,
         "text": "that"
        },
        {
         "confidence": 0.99991,
         "end": 292390,
         "speaker": null,
         "start": 291824,
         "text": "language."
        },
        {
         "confidence": 0.86938,
         "end": 292758,
         "speaker": null,
         "start": 292510,
         "text": "Now,"
        },
        {
         "confidence": 0.99707,
         "end": 292974,
         "speaker": null,
         "start": 292784,
         "text": "when"
        },
        {
         "confidence": 0.99943,
         "end": 293214,
         "speaker": null,
         "start": 293012,
         "text": "making"
        },
        {
         "confidence": 0.98,
         "end": 293382,
         "speaker": null,
         "start": 293252,
         "text": "a"
        },
        {
         "confidence": 0.99967,
         "end": 293538,
         "speaker": null,
         "start": 293396,
         "text": "back"
        },
        {
         "confidence": 0.70062,
         "end": 293718,
         "speaker": null,
         "start": 293564,
         "text": "end,"
        },
        {
         "confidence": 0.7906,
         "end": 293866,
         "speaker": null,
         "start": 293744,
         "text": "you're"
        },
        {
         "confidence": 0.81844,
         "end": 293982,
         "speaker": null,
         "start": 293878,
         "text": "going"
        },
        {
         "confidence": 1,
         "end": 294102,
         "speaker": null,
         "start": 293996,
         "text": "to"
        },
        {
         "confidence": 0.99987,
         "end": 294294,
         "speaker": null,
         "start": 294116,
         "text": "learn"
        },
        {
         "confidence": 0.87945,
         "end": 294826,
         "speaker": null,
         "start": 294332,
         "text": "concepts"
        },
        {
         "confidence": 0.99726,
         "end": 295170,
         "speaker": null,
         "start": 294898,
         "text": "like"
        },
        {
         "confidence": 0.89106,
         "end": 295930,
         "speaker": null,
         "start": 295220,
         "text": "Http"
        },
        {
         "confidence": 0.79297,
         "end": 296434,
         "speaker": null,
         "start": 295990,
         "text": "methods,"
        },
        {
         "confidence": 0.9932,
         "end": 296766,
         "speaker": null,
         "start": 296482,
         "text": "get"
        },
        {
         "confidence": 0.89754,
         "end": 297126,
         "speaker": null,
         "start": 296828,
         "text": "post"
        },
        {
         "confidence": 0.99401,
         "end": 297342,
         "speaker": null,
         "start": 297188,
         "text": "for"
        },
        {
         "confidence": 0.99684,
         "end": 297714,
         "speaker": null,
         "start": 297356,
         "text": "example."
        },
        {
         "confidence": 0.50348,
         "end": 298186,
         "speaker": null,
         "start": 297812,
         "text": "Depending"
        },
        {
         "confidence": 0.86654,
         "end": 298302,
         "speaker": null,
         "start": 298198,
         "text": "on"
        },
        {
         "confidence": 1,
         "end": 298422,
         "speaker": null,
         "start": 298316,
         "text": "the"
        },
        {
         "confidence": 0.99925,
         "end": 298686,
         "speaker": null,
         "start": 298436,
         "text": "project,"
        },
        {
         "confidence": 0.99898,
         "end": 298902,
         "speaker": null,
         "start": 298748,
         "text": "you"
        },
        {
         "confidence": 0.65713,
         "end": 299058,
         "speaker": null,
         "start": 298916,
         "text": "might"
        },
        {
         "confidence": 0.99947,
         "end": 299238,
         "speaker": null,
         "start": 299084,
         "text": "be"
        },
        {
         "confidence": 0.77469,
         "end": 299722,
         "speaker": null,
         "start": 299264,
         "text": "interacting"
        },
        {
         "confidence": 0.99987,
         "end": 299862,
         "speaker": null,
         "start": 299746,
         "text": "with"
        },
        {
         "confidence": 0.36,
         "end": 300018,
         "speaker": null,
         "start": 299876,
         "text": "the"
        },
        {
         "confidence": 0.94448,
         "end": 300634,
         "speaker": null,
         "start": 300044,
         "text": "database."
        },
        {
         "confidence": 0.99843,
         "end": 300978,
         "speaker": null,
         "start": 300742,
         "text": "Once"
        },
        {
         "confidence": 0.99951,
         "end": 301122,
         "speaker": null,
         "start": 301004,
         "text": "you"
        },
        {
         "confidence": 0.99881,
         "end": 301242,
         "speaker": null,
         "start": 301136,
         "text": "start"
        },
        {
         "confidence": 0.59,
         "end": 301398,
         "speaker": null,
         "start": 301256,
         "text": "to"
        },
        {
         "confidence": 0.99946,
         "end": 301614,
         "speaker": null,
         "start": 301424,
         "text": "feel"
        },
        {
         "confidence": 0.55846,
         "end": 302398,
         "speaker": null,
         "start": 301652,
         "text": "comfortable"
        },
        {
         "confidence": 0.99,
         "end": 302838,
         "speaker": null,
         "start": 302554,
         "text": "and"
        },
        {
         "confidence": 0.9966,
         "end": 303018,
         "speaker": null,
         "start": 302864,
         "text": "have"
        },
        {
         "confidence": 0.99743,
         "end": 303198,
         "speaker": null,
         "start": 303044,
         "text": "your"
        },
        {
         "confidence": 0.99974,
         "end": 303478,
         "speaker": null,
         "start": 303224,
         "text": "basic"
        },
        {
         "confidence": 0.93447,
         "end": 303714,
         "speaker": null,
         "start": 303514,
         "text": "back"
        },
        {
         "confidence": 0.69079,
         "end": 303954,
         "speaker": null,
         "start": 303752,
         "text": "end"
        },
        {
         "confidence": 0.99928,
         "end": 304446,
         "speaker": null,
         "start": 303992,
         "text": "working,"
        },
        {
         "confidence": 0.98437,
         "end": 304854,
         "speaker": null,
         "start": 304568,
         "text": "then"
        },
        {
         "confidence": 0.99472,
         "end": 305122,
         "speaker": null,
         "start": 304892,
         "text": "let's"
        },
        {
         "confidence": 0.9999,
         "end": 305298,
         "speaker": null,
         "start": 305146,
         "text": "try"
        },
        {
         "confidence": 0.99608,
         "end": 305478,
         "speaker": null,
         "start": 305324,
         "text": "our"
        },
        {
         "confidence": 0.99447,
         "end": 305730,
         "speaker": null,
         "start": 305504,
         "text": "hand"
        },
        {
         "confidence": 1,
         "end": 305886,
         "speaker": null,
         "start": 305780,
         "text": "at"
        },
        {
         "confidence": 0.57,
         "end": 306054,
         "speaker": null,
         "start": 305888,
         "text": "the"
        },
        {
         "confidence": 0.99984,
         "end": 306258,
         "speaker": null,
         "start": 306092,
         "text": "front"
        },
        {
         "confidence": 0.51359,
         "end": 306582,
         "speaker": null,
         "start": 306284,
         "text": "end."
        },
        {
         "confidence": 0.93266,
         "end": 306858,
         "speaker": null,
         "start": 306656,
         "text": "Now,"
        },
        {
         "confidence": 0.81547,
         "end": 307002,
         "speaker": null,
         "start": 306884,
         "text": "on"
        },
        {
         "confidence": 1,
         "end": 307122,
         "speaker": null,
         "start": 307016,
         "text": "the"
        },
        {
         "confidence": 0.99988,
         "end": 307278,
         "speaker": null,
         "start": 307136,
         "text": "front"
        },
        {
         "confidence": 0.95153,
         "end": 307422,
         "speaker": null,
         "start": 307304,
         "text": "end"
        },
        {
         "confidence": 0.90015,
         "end": 307546,
         "speaker": null,
         "start": 307436,
         "text": "you're"
        },
        {
         "confidence": 0.9979,
         "end": 307626,
         "speaker": null,
         "start": 307558,
         "text": "going"
        },
        {
         "confidence": 0.99,
         "end": 307686,
         "speaker": null,
         "start": 307628,
         "text": "to"
        },
        {
         "confidence": 0.9968,
         "end": 307782,
         "speaker": null,
         "start": 307688,
         "text": "be"
        },
        {
         "confidence": 0.99927,
         "end": 307974,
         "speaker": null,
         "start": 307796,
         "text": "using"
        },
        {
         "confidence": 0.99956,
         "end": 308178,
         "speaker": null,
         "start": 308012,
         "text": "things"
        },
        {
         "confidence": 0.99928,
         "end": 308394,
         "speaker": null,
         "start": 308204,
         "text": "like"
        },
        {
         "confidence": 0.5904,
         "end": 308986,
         "speaker": null,
         "start": 308432,
         "text": "JavaScript,"
        },
        {
         "confidence": 0.57626,
         "end": 309670,
         "speaker": null,
         "start": 309058,
         "text": "HTML,"
        },
        {
         "confidence": 0.97629,
         "end": 310342,
         "speaker": null,
         "start": 309730,
         "text": "CSS."
        },
        {
         "confidence": 0.99967,
         "end": 310722,
         "speaker": null,
         "start": 310486,
         "text": "This"
        },
        {
         "confidence": 0.58017,
         "end": 310878,
         "speaker": null,
         "start": 310736,
         "text": "is"
        },
        {
         "confidence": 1,
         "end": 311022,
         "speaker": null,
         "start": 310904,
         "text": "the"
        },
        {
         "confidence": 0.99995,
         "end": 311214,
         "speaker": null,
         "start": 311036,
         "text": "reason"
        },
        {
         "confidence": 0.99,
         "end": 311382,
         "speaker": null,
         "start": 311252,
         "text": "I"
        },
        {
         "confidence": 0.96933,
         "end": 311574,
         "speaker": null,
         "start": 311396,
         "text": "said"
        },
        {
         "confidence": 0.99831,
         "end": 312094,
         "speaker": null,
         "start": 311612,
         "text": "JavaScript"
        },
        {
         "confidence": 0.99426,
         "end": 312318,
         "speaker": null,
         "start": 312142,
         "text": "is"
        },
        {
         "confidence": 0.9991,
         "end": 312570,
         "speaker": null,
         "start": 312344,
         "text": "actually"
        },
        {
         "confidence": 0.99,
         "end": 312798,
         "speaker": null,
         "start": 312620,
         "text": "a"
        },
        {
         "confidence": 0.99948,
         "end": 312978,
         "speaker": null,
         "start": 312824,
         "text": "pretty"
        },
        {
         "confidence": 0.99996,
         "end": 313158,
         "speaker": null,
         "start": 313004,
         "text": "good"
        },
        {
         "confidence": 0.99843,
         "end": 313446,
         "speaker": null,
         "start": 313184,
         "text": "starting"
        },
        {
         "confidence": 0.99995,
         "end": 313834,
         "speaker": null,
         "start": 313508,
         "text": "language"
        },
        {
         "confidence": 0.99735,
         "end": 314058,
         "speaker": null,
         "start": 313882,
         "text": "because"
        },
        {
         "confidence": 0.96617,
         "end": 314202,
         "speaker": null,
         "start": 314084,
         "text": "you"
        },
        {
         "confidence": 0.99695,
         "end": 314358,
         "speaker": null,
         "start": 314216,
         "text": "can"
        },
        {
         "confidence": 0.99981,
         "end": 314502,
         "speaker": null,
         "start": 314384,
         "text": "use"
        },
        {
         "confidence": 1,
         "end": 314622,
         "speaker": null,
         "start": 314516,
         "text": "it"
        },
        {
         "confidence": 0.99834,
         "end": 314742,
         "speaker": null,
         "start": 314636,
         "text": "for"
        },
        {
         "confidence": 1,
         "end": 314934,
         "speaker": null,
         "start": 314756,
         "text": "the"
        },
        {
         "confidence": 0.72293,
         "end": 315138,
         "speaker": null,
         "start": 314972,
         "text": "back"
        },
        {
         "confidence": 0.65048,
         "end": 315354,
         "speaker": null,
         "start": 315164,
         "text": "end"
        },
        {
         "confidence": 0.99,
         "end": 315558,
         "speaker": null,
         "start": 315392,
         "text": "and"
        },
        {
         "confidence": 0.98,
         "end": 315738,
         "speaker": null,
         "start": 315584,
         "text": "the"
        },
        {
         "confidence": 0.99939,
         "end": 315918,
         "speaker": null,
         "start": 315764,
         "text": "front"
        },
        {
         "confidence": 0.92787,
         "end": 316206,
         "speaker": null,
         "start": 315944,
         "text": "end."
        },
        {
         "confidence": 0.81,
         "end": 316458,
         "speaker": null,
         "start": 316268,
         "text": "I"
        },
        {
         "confidence": 0.92795,
         "end": 316710,
         "speaker": null,
         "start": 316484,
         "text": "said"
        },
        {
         "confidence": 0.99948,
         "end": 317010,
         "speaker": null,
         "start": 316760,
         "text": "each"
        },
        {
         "confidence": 0.99969,
         "end": 317518,
         "speaker": null,
         "start": 317060,
         "text": "programming"
        },
        {
         "confidence": 0.98968,
         "end": 317782,
         "speaker": null,
         "start": 317554,
         "text": "language"
        },
        {
         "confidence": 0.61932,
         "end": 317922,
         "speaker": null,
         "start": 317806,
         "text": "is"
        },
        {
         "confidence": 1,
         "end": 318006,
         "speaker": null,
         "start": 317936,
         "text": "a"
        },
        {
         "confidence": 0.9498,
         "end": 318166,
         "speaker": null,
         "start": 318008,
         "text": "bunch"
        },
        {
         "confidence": 1,
         "end": 318318,
         "speaker": null,
         "start": 318178,
         "text": "of"
        },
        {
         "confidence": 0.99382,
         "end": 318562,
         "speaker": null,
         "start": 318344,
         "text": "tools"
        },
        {
         "confidence": 1,
         "end": 318738,
         "speaker": null,
         "start": 318586,
         "text": "and"
        },
        {
         "confidence": 0.55558,
         "end": 319282,
         "speaker": null,
         "start": 318764,
         "text": "frameworks"
        },
        {
         "confidence": 0.99818,
         "end": 319566,
         "speaker": null,
         "start": 319306,
         "text": "that"
        },
        {
         "confidence": 0.99651,
         "end": 319782,
         "speaker": null,
         "start": 319628,
         "text": "make"
        },
        {
         "confidence": 0.61,
         "end": 319974,
         "speaker": null,
         "start": 319796,
         "text": "it"
        },
        {
         "confidence": 0.99958,
         "end": 320278,
         "speaker": null,
         "start": 320012,
         "text": "easier"
        },
        {
         "confidence": 0.9,
         "end": 320478,
         "speaker": null,
         "start": 320314,
         "text": "to"
        },
        {
         "confidence": 0.99956,
         "end": 320838,
         "speaker": null,
         "start": 320504,
         "text": "use."
        },
        {
         "confidence": 0.99908,
         "end": 321354,
         "speaker": null,
         "start": 320924,
         "text": "Basically,"
        },
        {
         "confidence": 0.90859,
         "end": 321742,
         "speaker": null,
         "start": 321452,
         "text": "there's"
        },
        {
         "confidence": 0.99908,
         "end": 321954,
         "speaker": null,
         "start": 321766,
         "text": "no"
        },
        {
         "confidence": 0.99997,
         "end": 322230,
         "speaker": null,
         "start": 321992,
         "text": "reason"
        },
        {
         "confidence": 0.99965,
         "end": 322422,
         "speaker": null,
         "start": 322280,
         "text": "for"
        },
        {
         "confidence": 0.99949,
         "end": 322578,
         "speaker": null,
         "start": 322436,
         "text": "you"
        },
        {
         "confidence": 1,
         "end": 322722,
         "speaker": null,
         "start": 322604,
         "text": "to"
        },
        {
         "confidence": 0.99952,
         "end": 322914,
         "speaker": null,
         "start": 322736,
         "text": "write"
        },
        {
         "confidence": 0.99992,
         "end": 323154,
         "speaker": null,
         "start": 322952,
         "text": "code"
        },
        {
         "confidence": 0.99252,
         "end": 323358,
         "speaker": null,
         "start": 323192,
         "text": "that"
        },
        {
         "confidence": 0.99426,
         "end": 323610,
         "speaker": null,
         "start": 323384,
         "text": "somebody"
        },
        {
         "confidence": 0.99985,
         "end": 323838,
         "speaker": null,
         "start": 323660,
         "text": "else"
        },
        {
         "confidence": 0.95152,
         "end": 324018,
         "speaker": null,
         "start": 323864,
         "text": "has"
        },
        {
         "confidence": 0.9999,
         "end": 324342,
         "speaker": null,
         "start": 324044,
         "text": "already"
        },
        {
         "confidence": 0.97888,
         "end": 324790,
         "speaker": null,
         "start": 324416,
         "text": "written."
        },
        {
         "confidence": 0.95,
         "end": 325038,
         "speaker": null,
         "start": 324850,
         "text": "The"
        },
        {
         "confidence": 0.96557,
         "end": 325426,
         "speaker": null,
         "start": 325064,
         "text": "frameworks"
        },
        {
         "confidence": 0.96,
         "end": 325506,
         "speaker": null,
         "start": 325438,
         "text": "I"
        },
        {
         "confidence": 0.89825,
         "end": 325638,
         "speaker": null,
         "start": 325508,
         "text": "would"
        },
        {
         "confidence": 0.99806,
         "end": 325782,
         "speaker": null,
         "start": 325664,
         "text": "use"
        },
        {
         "confidence": 0.99458,
         "end": 325902,
         "speaker": null,
         "start": 325796,
         "text": "for"
        },
        {
         "confidence": 0.99712,
         "end": 326058,
         "speaker": null,
         "start": 325916,
         "text": "these"
        },
        {
         "confidence": 0.98333,
         "end": 326410,
         "speaker": null,
         "start": 326084,
         "text": "languages"
        },
        {
         "confidence": 0.99426,
         "end": 326622,
         "speaker": null,
         "start": 326470,
         "text": "would"
        },
        {
         "confidence": 0.99873,
         "end": 326742,
         "speaker": null,
         "start": 326636,
         "text": "be"
        },
        {
         "confidence": 0.66797,
         "end": 327154,
         "speaker": null,
         "start": 326756,
         "text": "Python."
        },
        {
         "confidence": 1,
         "end": 327342,
         "speaker": null,
         "start": 327202,
         "text": "I"
        },
        {
         "confidence": 0.99538,
         "end": 327498,
         "speaker": null,
         "start": 327356,
         "text": "would"
        },
        {
         "confidence": 0.99914,
         "end": 327714,
         "speaker": null,
         "start": 327524,
         "text": "try"
        },
        {
         "confidence": 0.99738,
         "end": 327954,
         "speaker": null,
         "start": 327752,
         "text": "either"
        },
        {
         "confidence": 0.63542,
         "end": 328438,
         "speaker": null,
         "start": 327992,
         "text": "Django"
        },
        {
         "confidence": 0.99423,
         "end": 328638,
         "speaker": null,
         "start": 328474,
         "text": "or"
        },
        {
         "confidence": 0.97986,
         "end": 329170,
         "speaker": null,
         "start": 328664,
         "text": "Flask"
        },
        {
         "confidence": 0.99097,
         "end": 329770,
         "speaker": null,
         "start": 329230,
         "text": "JavaScript."
        },
        {
         "confidence": 0.99753,
         "end": 329946,
         "speaker": null,
         "start": 329830,
         "text": "On"
        },
        {
         "confidence": 0.99,
         "end": 330078,
         "speaker": null,
         "start": 329948,
         "text": "the"
        },
        {
         "confidence": 0.99691,
         "end": 330258,
         "speaker": null,
         "start": 330104,
         "text": "back"
        },
        {
         "confidence": 0.85,
         "end": 330438,
         "speaker": null,
         "start": 330284,
         "text": "end"
        },
        {
         "confidence": 1,
         "end": 330582,
         "speaker": null,
         "start": 330464,
         "text": "I"
        },
        {
         "confidence": 0.99424,
         "end": 330702,
         "speaker": null,
         "start": 330596,
         "text": "would"
        },
        {
         "confidence": 0.99909,
         "end": 330930,
         "speaker": null,
         "start": 330716,
         "text": "use"
        },
        {
         "confidence": 0.80385,
         "end": 331354,
         "speaker": null,
         "start": 330980,
         "text": "Express"
        },
        {
         "confidence": 0.76383,
         "end": 331846,
         "speaker": null,
         "start": 331402,
         "text": "JS,"
        },
        {
         "confidence": 0.95877,
         "end": 332190,
         "speaker": null,
         "start": 331918,
         "text": "which"
        },
        {
         "confidence": 0.97703,
         "end": 332526,
         "speaker": null,
         "start": 332240,
         "text": "just"
        },
        {
         "confidence": 0.99967,
         "end": 332778,
         "speaker": null,
         "start": 332588,
         "text": "think"
        },
        {
         "confidence": 1,
         "end": 332922,
         "speaker": null,
         "start": 332804,
         "text": "of"
        },
        {
         "confidence": 1,
         "end": 333042,
         "speaker": null,
         "start": 332936,
         "text": "it"
        },
        {
         "confidence": 0.9967,
         "end": 333198,
         "speaker": null,
         "start": 333056,
         "text": "as"
        },
        {
         "confidence": 0.99761,
         "end": 333670,
         "speaker": null,
         "start": 333224,
         "text": "simplified"
        },
        {
         "confidence": 0.35364,
         "end": 334366,
         "speaker": null,
         "start": 333730,
         "text": "NodeJS."
        },
        {
         "confidence": 0.84,
         "end": 334674,
         "speaker": null,
         "start": 334438,
         "text": "And"
        },
        {
         "confidence": 0.99402,
         "end": 334842,
         "speaker": null,
         "start": 334712,
         "text": "on"
        },
        {
         "confidence": 1,
         "end": 334962,
         "speaker": null,
         "start": 334856,
         "text": "the"
        },
        {
         "confidence": 0.9999,
         "end": 335118,
         "speaker": null,
         "start": 334976,
         "text": "front"
        },
        {
         "confidence": 0.9005,
         "end": 335298,
         "speaker": null,
         "start": 335144,
         "text": "end"
        },
        {
         "confidence": 1,
         "end": 335406,
         "speaker": null,
         "start": 335324,
         "text": "I"
        },
        {
         "confidence": 0.88448,
         "end": 335538,
         "speaker": null,
         "start": 335408,
         "text": "would"
        },
        {
         "confidence": 0.99714,
         "end": 335754,
         "speaker": null,
         "start": 335564,
         "text": "use"
        },
        {
         "confidence": 0.99871,
         "end": 336274,
         "speaker": null,
         "start": 335792,
         "text": "React."
        },
        {
         "confidence": 0.76,
         "end": 336582,
         "speaker": null,
         "start": 336382,
         "text": "And"
        },
        {
         "confidence": 0.99931,
         "end": 336702,
         "speaker": null,
         "start": 336596,
         "text": "if"
        },
        {
         "confidence": 0.62807,
         "end": 336858,
         "speaker": null,
         "start": 336716,
         "text": "you"
        },
        {
         "confidence": 0.99791,
         "end": 337038,
         "speaker": null,
         "start": 336884,
         "text": "need"
        },
        {
         "confidence": 1,
         "end": 337182,
         "speaker": null,
         "start": 337064,
         "text": "a"
        },
        {
         "confidence": 0.99715,
         "end": 337798,
         "speaker": null,
         "start": 337196,
         "text": "database,"
        },
        {
         "confidence": 0.8,
         "end": 338082,
         "speaker": null,
         "start": 337894,
         "text": "I"
        },
        {
         "confidence": 0.67715,
         "end": 338238,
         "speaker": null,
         "start": 338096,
         "text": "would"
        },
        {
         "confidence": 0.99942,
         "end": 338454,
         "speaker": null,
         "start": 338264,
         "text": "try"
        },
        {
         "confidence": 0.89928,
         "end": 339310,
         "speaker": null,
         "start": 338492,
         "text": "MongoDB."
        },
        {
         "confidence": 0.96981,
         "end": 339750,
         "speaker": null,
         "start": 339430,
         "text": "Now,"
        },
        {
         "confidence": 0.55126,
         "end": 340546,
         "speaker": null,
         "start": 339800,
         "text": "anecdotally"
        },
        {
         "confidence": 1,
         "end": 340818,
         "speaker": null,
         "start": 340618,
         "text": "I"
        },
        {
         "confidence": 0.99812,
         "end": 340998,
         "speaker": null,
         "start": 340844,
         "text": "can"
        },
        {
         "confidence": 0.99994,
         "end": 341178,
         "speaker": null,
         "start": 341024,
         "text": "tell"
        },
        {
         "confidence": 0.9918,
         "end": 341358,
         "speaker": null,
         "start": 341204,
         "text": "you"
        },
        {
         "confidence": 0.9897,
         "end": 341538,
         "speaker": null,
         "start": 341384,
         "text": "for"
        },
        {
         "confidence": 0.8336,
         "end": 341974,
         "speaker": null,
         "start": 341564,
         "text": "Python."
        },
        {
         "confidence": 0.7641,
         "end": 342202,
         "speaker": null,
         "start": 342022,
         "text": "I've"
        },
        {
         "confidence": 0.71919,
         "end": 342414,
         "speaker": null,
         "start": 342226,
         "text": "seen"
        },
        {
         "confidence": 0.99963,
         "end": 342690,
         "speaker": null,
         "start": 342452,
         "text": "more"
        },
        {
         "confidence": 0.99811,
         "end": 343138,
         "speaker": null,
         "start": 342740,
         "text": "jobs"
        },
        {
         "confidence": 0.52017,
         "end": 343522,
         "speaker": null,
         "start": 343174,
         "text": "listed"
        },
        {
         "confidence": 0.99595,
         "end": 343698,
         "speaker": null,
         "start": 343546,
         "text": "for"
        },
        {
         "confidence": 0.94247,
         "end": 344158,
         "speaker": null,
         "start": 343724,
         "text": "Django"
        },
        {
         "confidence": 0.9561,
         "end": 344358,
         "speaker": null,
         "start": 344194,
         "text": "than"
        },
        {
         "confidence": 0.99058,
         "end": 344502,
         "speaker": null,
         "start": 344384,
         "text": "for"
        },
        {
         "confidence": 0.59993,
         "end": 344974,
         "speaker": null,
         "start": 344516,
         "text": "Flask."
        },
        {
         "confidence": 0.96,
         "end": 345162,
         "speaker": null,
         "start": 345022,
         "text": "And"
        },
        {
         "confidence": 0.72333,
         "end": 345322,
         "speaker": null,
         "start": 345176,
         "text": "I've"
        },
        {
         "confidence": 0.99922,
         "end": 345498,
         "speaker": null,
         "start": 345346,
         "text": "seen"
        },
        {
         "confidence": 0.99795,
         "end": 345678,
         "speaker": null,
         "start": 345524,
         "text": "more"
        },
        {
         "confidence": 0.7499,
         "end": 345994,
         "speaker": null,
         "start": 345704,
         "text": "Express"
        },
        {
         "confidence": 0.93708,
         "end": 346414,
         "speaker": null,
         "start": 346042,
         "text": "JS"
        },
        {
         "confidence": 0.61179,
         "end": 346906,
         "speaker": null,
         "start": 346462,
         "text": "jobs"
        },
        {
         "confidence": 0.99006,
         "end": 347250,
         "speaker": null,
         "start": 346978,
         "text": "over"
        },
        {
         "confidence": 0.42187,
         "end": 347866,
         "speaker": null,
         "start": 347300,
         "text": "Django."
        },
        {
         "confidence": 0.99934,
         "end": 348102,
         "speaker": null,
         "start": 347938,
         "text": "On"
        },
        {
         "confidence": 1,
         "end": 348222,
         "speaker": null,
         "start": 348116,
         "text": "the"
        },
        {
         "confidence": 0.99994,
         "end": 348414,
         "speaker": null,
         "start": 348236,
         "text": "front"
        },
        {
         "confidence": 0.67229,
         "end": 348690,
         "speaker": null,
         "start": 348452,
         "text": "end,"
        },
        {
         "confidence": 0.99,
         "end": 348918,
         "speaker": null,
         "start": 348740,
         "text": "I"
        },
        {
         "confidence": 0.99931,
         "end": 349134,
         "speaker": null,
         "start": 348944,
         "text": "think"
        },
        {
         "confidence": 0.99694,
         "end": 349474,
         "speaker": null,
         "start": 349172,
         "text": "React"
        },
        {
         "confidence": 0.99569,
         "end": 349842,
         "speaker": null,
         "start": 349522,
         "text": "is"
        },
        {
         "confidence": 0.99531,
         "end": 350190,
         "speaker": null,
         "start": 349916,
         "text": "pretty"
        },
        {
         "confidence": 0.99189,
         "end": 350662,
         "speaker": null,
         "start": 350240,
         "text": "solid."
        },
        {
         "confidence": 0.99965,
         "end": 350994,
         "speaker": null,
         "start": 350746,
         "text": "After"
        },
        {
         "confidence": 0.99791,
         "end": 351198,
         "speaker": null,
         "start": 351032,
         "text": "that"
        },
        {
         "confidence": 0.99425,
         "end": 351414,
         "speaker": null,
         "start": 351224,
         "text": "time"
        },
        {
         "confidence": 0.99737,
         "end": 351546,
         "speaker": null,
         "start": 351452,
         "text": "you"
        },
        {
         "confidence": 0.94269,
         "end": 351714,
         "speaker": null,
         "start": 351548,
         "text": "should"
        },
        {
         "confidence": 0.9998,
         "end": 351954,
         "speaker": null,
         "start": 351752,
         "text": "learn"
        },
        {
         "confidence": 0.78,
         "end": 352230,
         "speaker": null,
         "start": 351992,
         "text": "C"
        },
        {
         "confidence": 1,
         "end": 352422,
         "speaker": null,
         "start": 352280,
         "text": "and"
        },
        {
         "confidence": 0.65,
         "end": 352974,
         "speaker": null,
         "start": 352436,
         "text": "C"
        },
        {
         "confidence": 0.65766,
         "end": 353418,
         "speaker": null,
         "start": 353132,
         "text": "as"
        },
        {
         "confidence": 0.70795,
         "end": 353638,
         "speaker": null,
         "start": 353444,
         "text": "it'll"
        },
        {
         "confidence": 0.99983,
         "end": 353838,
         "speaker": null,
         "start": 353674,
         "text": "teach"
        },
        {
         "confidence": 0.99822,
         "end": 354018,
         "speaker": null,
         "start": 353864,
         "text": "you"
        },
        {
         "confidence": 0.99981,
         "end": 354270,
         "speaker": null,
         "start": 354044,
         "text": "everything"
        },
        {
         "confidence": 0.99955,
         "end": 354462,
         "speaker": null,
         "start": 354320,
         "text": "you"
        },
        {
         "confidence": 0.99987,
         "end": 354582,
         "speaker": null,
         "start": 354476,
         "text": "need"
        },
        {
         "confidence": 1,
         "end": 354738,
         "speaker": null,
         "start": 354596,
         "text": "to"
        },
        {
         "confidence": 0.99985,
         "end": 355026,
         "speaker": null,
         "start": 354764,
         "text": "know"
        },
        {
         "confidence": 1,
         "end": 355278,
         "speaker": null,
         "start": 355088,
         "text": "to"
        },
        {
         "confidence": 0.99972,
         "end": 355530,
         "speaker": null,
         "start": 355304,
         "text": "learn"
        },
        {
         "confidence": 0.99957,
         "end": 355758,
         "speaker": null,
         "start": 355580,
         "text": "any"
        },
        {
         "confidence": 0.99909,
         "end": 355974,
         "speaker": null,
         "start": 355784,
         "text": "other"
        },
        {
         "confidence": 0.99933,
         "end": 356458,
         "speaker": null,
         "start": 356012,
         "text": "programming"
        },
        {
         "confidence": 0.99477,
         "end": 356758,
         "speaker": null,
         "start": 356494,
         "text": "language."
        },
        {
         "confidence": 1,
         "end": 356922,
         "speaker": null,
         "start": 356794,
         "text": "I"
        },
        {
         "confidence": 0.99972,
         "end": 357042,
         "speaker": null,
         "start": 356936,
         "text": "love"
        },
        {
         "confidence": 0.74457,
         "end": 357198,
         "speaker": null,
         "start": 357056,
         "text": "this"
        },
        {
         "confidence": 0.99894,
         "end": 357478,
         "speaker": null,
         "start": 357224,
         "text": "method"
        },
        {
         "confidence": 0.99929,
         "end": 357714,
         "speaker": null,
         "start": 357514,
         "text": "because"
        },
        {
         "confidence": 0.99753,
         "end": 357882,
         "speaker": null,
         "start": 357752,
         "text": "you"
        },
        {
         "confidence": 0.99863,
         "end": 358110,
         "speaker": null,
         "start": 357896,
         "text": "start"
        },
        {
         "confidence": 0.99972,
         "end": 358374,
         "speaker": null,
         "start": 358160,
         "text": "learning"
        },
        {
         "confidence": 1,
         "end": 358578,
         "speaker": null,
         "start": 358412,
         "text": "the"
        },
        {
         "confidence": 0.99695,
         "end": 359122,
         "speaker": null,
         "start": 358604,
         "text": "practical"
        },
        {
         "confidence": 0.51,
         "end": 359526,
         "speaker": null,
         "start": 359206,
         "text": "and"
        },
        {
         "confidence": 0.99934,
         "end": 360130,
         "speaker": null,
         "start": 359588,
         "text": "marketable"
        },
        {
         "confidence": 0.99155,
         "end": 360486,
         "speaker": null,
         "start": 360190,
         "text": "stuff"
        },
        {
         "confidence": 0.84658,
         "end": 361330,
         "speaker": null,
         "start": 360548,
         "text": "immediately,"
        },
        {
         "confidence": 0.98639,
         "end": 361698,
         "speaker": null,
         "start": 361450,
         "text": "but"
        },
        {
         "confidence": 0.99685,
         "end": 361878,
         "speaker": null,
         "start": 361724,
         "text": "then"
        },
        {
         "confidence": 0.99874,
         "end": 362058,
         "speaker": null,
         "start": 361904,
         "text": "you"
        },
        {
         "confidence": 0.99829,
         "end": 362346,
         "speaker": null,
         "start": 362084,
         "text": "start"
        },
        {
         "confidence": 0.39587,
         "end": 362818,
         "speaker": null,
         "start": 362408,
         "text": "preparing"
        },
        {
         "confidence": 0.99946,
         "end": 363126,
         "speaker": null,
         "start": 362854,
         "text": "yourself"
        },
        {
         "confidence": 0.99082,
         "end": 363342,
         "speaker": null,
         "start": 363188,
         "text": "for"
        },
        {
         "confidence": 1,
         "end": 363498,
         "speaker": null,
         "start": 363356,
         "text": "the"
        },
        {
         "confidence": 0.99918,
         "end": 363714,
         "speaker": null,
         "start": 363524,
         "text": "long"
        },
        {
         "confidence": 0.70331,
         "end": 364018,
         "speaker": null,
         "start": 363752,
         "text": "term"
        },
        {
         "confidence": 0.63309,
         "end": 364642,
         "speaker": null,
         "start": 364054,
         "text": "necessities."
        },
        {
         "confidence": 0.99859,
         "end": 364938,
         "speaker": null,
         "start": 364726,
         "text": "This"
        },
        {
         "confidence": 0.99793,
         "end": 365146,
         "speaker": null,
         "start": 364964,
         "text": "keeps"
        },
        {
         "confidence": 0.99483,
         "end": 365298,
         "speaker": null,
         "start": 365158,
         "text": "your"
        },
        {
         "confidence": 0.51596,
         "end": 365746,
         "speaker": null,
         "start": 365324,
         "text": "motivation"
        },
        {
         "confidence": 0.99823,
         "end": 366090,
         "speaker": null,
         "start": 365818,
         "text": "higher"
        },
        {
         "confidence": 0.99,
         "end": 366282,
         "speaker": null,
         "start": 366140,
         "text": "and"
        },
        {
         "confidence": 0.99,
         "end": 366438,
         "speaker": null,
         "start": 366296,
         "text": "it"
        },
        {
         "confidence": 0.99767,
         "end": 366654,
         "speaker": null,
         "start": 366464,
         "text": "really"
        },
        {
         "confidence": 0.97696,
         "end": 366822,
         "speaker": null,
         "start": 366692,
         "text": "just"
        },
        {
         "confidence": 0.99782,
         "end": 366978,
         "speaker": null,
         "start": 366836,
         "text": "makes"
        },
        {
         "confidence": 0.94069,
         "end": 367158,
         "speaker": null,
         "start": 367004,
         "text": "you"
        },
        {
         "confidence": 0.99699,
         "end": 367690,
         "speaker": null,
         "start": 367184,
         "text": "marketable"
        },
        {
         "confidence": 0.99487,
         "end": 368170,
         "speaker": null,
         "start": 367750,
         "text": "quicker."
        },
        {
         "confidence": 0.95221,
         "end": 368598,
         "speaker": null,
         "start": 368230,
         "text": "Now,"
        },
        {
         "confidence": 0.99983,
         "end": 368898,
         "speaker": null,
         "start": 368684,
         "text": "what"
        },
        {
         "confidence": 0.37591,
         "end": 369382,
         "speaker": null,
         "start": 368924,
         "text": "websites"
        },
        {
         "confidence": 0.9988,
         "end": 369558,
         "speaker": null,
         "start": 369406,
         "text": "should"
        },
        {
         "confidence": 1,
         "end": 369738,
         "speaker": null,
         "start": 369584,
         "text": "I"
        },
        {
         "confidence": 0.99525,
         "end": 370026,
         "speaker": null,
         "start": 369764,
         "text": "build?"
        },
        {
         "confidence": 0.59888,
         "end": 370350,
         "speaker": null,
         "start": 370088,
         "text": "Think"
        },
        {
         "confidence": 0.99856,
         "end": 370686,
         "speaker": null,
         "start": 370400,
         "text": "back"
        },
        {
         "confidence": 0.97,
         "end": 371082,
         "speaker": null,
         "start": 370748,
         "text": "to"
        },
        {
         "confidence": 0.51272,
         "end": 371626,
         "speaker": null,
         "start": 371156,
         "text": "useful,"
        },
        {
         "confidence": 0.99906,
         "end": 371934,
         "speaker": null,
         "start": 371698,
         "text": "but"
        },
        {
         "confidence": 0.99966,
         "end": 372210,
         "speaker": null,
         "start": 371972,
         "text": "not"
        },
        {
         "confidence": 0.98764,
         "end": 372510,
         "speaker": null,
         "start": 372260,
         "text": "too"
        },
        {
         "confidence": 0.94448,
         "end": 372838,
         "speaker": null,
         "start": 372560,
         "text": "useful."
        },
        {
         "confidence": 0.97246,
         "end": 373038,
         "speaker": null,
         "start": 372874,
         "text": "This"
        },
        {
         "confidence": 0.9925,
         "end": 373222,
         "speaker": null,
         "start": 373064,
         "text": "doesn't"
        },
        {
         "confidence": 0.99833,
         "end": 373362,
         "speaker": null,
         "start": 373246,
         "text": "need"
        },
        {
         "confidence": 1,
         "end": 373446,
         "speaker": null,
         "start": 373376,
         "text": "to"
        },
        {
         "confidence": 0.99816,
         "end": 373542,
         "speaker": null,
         "start": 373448,
         "text": "be"
        },
        {
         "confidence": 0.95168,
         "end": 373770,
         "speaker": null,
         "start": 373556,
         "text": "very"
        },
        {
         "confidence": 0.99989,
         "end": 374314,
         "speaker": null,
         "start": 373820,
         "text": "complicated."
        },
        {
         "confidence": 0.99251,
         "end": 374538,
         "speaker": null,
         "start": 374362,
         "text": "In"
        },
        {
         "confidence": 0.99998,
         "end": 374862,
         "speaker": null,
         "start": 374564,
         "text": "fact,"
        },
        {
         "confidence": 1,
         "end": 375138,
         "speaker": null,
         "start": 374936,
         "text": "it"
        },
        {
         "confidence": 0.99871,
         "end": 375354,
         "speaker": null,
         "start": 375164,
         "text": "really"
        },
        {
         "confidence": 0.92344,
         "end": 375658,
         "speaker": null,
         "start": 375392,
         "text": "shouldn't"
        },
        {
         "confidence": 0.99958,
         "end": 375822,
         "speaker": null,
         "start": 375694,
         "text": "be"
        },
        {
         "confidence": 0.6315,
         "end": 376330,
         "speaker": null,
         "start": 375836,
         "text": "complicated"
        },
        {
         "confidence": 1,
         "end": 376542,
         "speaker": null,
         "start": 376390,
         "text": "at"
        },
        {
         "confidence": 0.99984,
         "end": 376734,
         "speaker": null,
         "start": 376556,
         "text": "all."
        },
        {
         "confidence": 0.94247,
         "end": 377002,
         "speaker": null,
         "start": 376772,
         "text": "There's"
        },
        {
         "confidence": 0.97218,
         "end": 377106,
         "speaker": null,
         "start": 377026,
         "text": "going"
        },
        {
         "confidence": 0.99,
         "end": 377166,
         "speaker": null,
         "start": 377108,
         "text": "to"
        },
        {
         "confidence": 0.99814,
         "end": 377262,
         "speaker": null,
         "start": 377168,
         "text": "be"
        },
        {
         "confidence": 0.99,
         "end": 377382,
         "speaker": null,
         "start": 377276,
         "text": "a"
        },
        {
         "confidence": 0.99996,
         "end": 377502,
         "speaker": null,
         "start": 377396,
         "text": "lot"
        },
        {
         "confidence": 1,
         "end": 377658,
         "speaker": null,
         "start": 377516,
         "text": "of"
        },
        {
         "confidence": 1,
         "end": 377838,
         "speaker": null,
         "start": 377684,
         "text": "new"
        },
        {
         "confidence": 0.95385,
         "end": 378142,
         "speaker": null,
         "start": 377864,
         "text": "ideas"
        },
        {
         "confidence": 1,
         "end": 378282,
         "speaker": null,
         "start": 378166,
         "text": "and"
        },
        {
         "confidence": 0.98347,
         "end": 378658,
         "speaker": null,
         "start": 378296,
         "text": "concepts"
        },
        {
         "confidence": 0.99764,
         "end": 378958,
         "speaker": null,
         "start": 378694,
         "text": "thrown"
        },
        {
         "confidence": 1,
         "end": 379158,
         "speaker": null,
         "start": 378994,
         "text": "at"
        },
        {
         "confidence": 0.99813,
         "end": 379482,
         "speaker": null,
         "start": 379184,
         "text": "you."
        },
        {
         "confidence": 0.99923,
         "end": 379722,
         "speaker": null,
         "start": 379556,
         "text": "If"
        },
        {
         "confidence": 0.99925,
         "end": 379842,
         "speaker": null,
         "start": 379736,
         "text": "you"
        },
        {
         "confidence": 0.98785,
         "end": 379998,
         "speaker": null,
         "start": 379856,
         "text": "try"
        },
        {
         "confidence": 1,
         "end": 380142,
         "speaker": null,
         "start": 380024,
         "text": "to"
        },
        {
         "confidence": 0.99966,
         "end": 380334,
         "speaker": null,
         "start": 380156,
         "text": "build"
        },
        {
         "confidence": 0.99,
         "end": 380502,
         "speaker": null,
         "start": 380372,
         "text": "the"
        },
        {
         "confidence": 0.99958,
         "end": 380658,
         "speaker": null,
         "start": 380516,
         "text": "next"
        },
        {
         "confidence": 0.88207,
         "end": 380998,
         "speaker": null,
         "start": 380684,
         "text": "Tinder"
        },
        {
         "confidence": 0.99694,
         "end": 381162,
         "speaker": null,
         "start": 381034,
         "text": "or"
        },
        {
         "confidence": 0.98,
         "end": 381282,
         "speaker": null,
         "start": 381176,
         "text": "the"
        },
        {
         "confidence": 0.99962,
         "end": 381510,
         "speaker": null,
         "start": 381296,
         "text": "next"
        },
        {
         "confidence": 0.99776,
         "end": 382066,
         "speaker": null,
         "start": 381560,
         "text": "Instagram,"
        },
        {
         "confidence": 0.92602,
         "end": 382306,
         "speaker": null,
         "start": 382138,
         "text": "you're"
        },
        {
         "confidence": 0.99208,
         "end": 382386,
         "speaker": null,
         "start": 382318,
         "text": "going"
        },
        {
         "confidence": 1,
         "end": 382482,
         "speaker": null,
         "start": 382388,
         "text": "to"
        },
        {
         "confidence": 0.99998,
         "end": 382602,
         "speaker": null,
         "start": 382496,
         "text": "end"
        },
        {
         "confidence": 0.99731,
         "end": 382722,
         "speaker": null,
         "start": 382616,
         "text": "up"
        },
        {
         "confidence": 0.99952,
         "end": 382914,
         "speaker": null,
         "start": 382736,
         "text": "with"
        },
        {
         "confidence": 0.99933,
         "end": 383154,
         "speaker": null,
         "start": 382952,
         "text": "no"
        },
        {
         "confidence": 0.25541,
         "end": 383610,
         "speaker": null,
         "start": 383192,
         "text": "product,"
        },
        {
         "confidence": 0.9986,
         "end": 383958,
         "speaker": null,
         "start": 383720,
         "text": "no"
        },
        {
         "confidence": 0.96778,
         "end": 384382,
         "speaker": null,
         "start": 383984,
         "text": "learnings,"
        },
        {
         "confidence": 1,
         "end": 384558,
         "speaker": null,
         "start": 384406,
         "text": "and"
        },
        {
         "confidence": 0.99857,
         "end": 384774,
         "speaker": null,
         "start": 384584,
         "text": "no"
        },
        {
         "confidence": 0.96511,
         "end": 385306,
         "speaker": null,
         "start": 384812,
         "text": "motivation."
        },
        {
         "confidence": 0.86479,
         "end": 385578,
         "speaker": null,
         "start": 385378,
         "text": "Now,"
        },
        {
         "confidence": 0.99983,
         "end": 385794,
         "speaker": null,
         "start": 385604,
         "text": "before"
        },
        {
         "confidence": 1,
         "end": 385962,
         "speaker": null,
         "start": 385832,
         "text": "I"
        },
        {
         "confidence": 0.99421,
         "end": 386226,
         "speaker": null,
         "start": 385976,
         "text": "give"
        },
        {
         "confidence": 0.99765,
         "end": 386478,
         "speaker": null,
         "start": 386288,
         "text": "some"
        },
        {
         "confidence": 1,
         "end": 386902,
         "speaker": null,
         "start": 386504,
         "text": "concrete"
        },
        {
         "confidence": 0.99749,
         "end": 387322,
         "speaker": null,
         "start": 386926,
         "text": "examples,"
        },
        {
         "confidence": 0.97,
         "end": 387462,
         "speaker": null,
         "start": 387346,
         "text": "and"
        },
        {
         "confidence": 0.99,
         "end": 387582,
         "speaker": null,
         "start": 387476,
         "text": "I"
        },
        {
         "confidence": 0.99868,
         "end": 387810,
         "speaker": null,
         "start": 387596,
         "text": "will,"
        },
        {
         "confidence": 0.96163,
         "end": 388102,
         "speaker": null,
         "start": 387860,
         "text": "let's"
        },
        {
         "confidence": 0.99978,
         "end": 388278,
         "speaker": null,
         "start": 388126,
         "text": "talk"
        },
        {
         "confidence": 0.99952,
         "end": 388458,
         "speaker": null,
         "start": 388304,
         "text": "about"
        },
        {
         "confidence": 0.99939,
         "end": 388674,
         "speaker": null,
         "start": 388484,
         "text": "what"
        },
        {
         "confidence": 0.99919,
         "end": 388950,
         "speaker": null,
         "start": 388712,
         "text": "makes"
        },
        {
         "confidence": 0.59391,
         "end": 389458,
         "speaker": null,
         "start": 389000,
         "text": "projects"
        },
        {
         "confidence": 0.99702,
         "end": 389694,
         "speaker": null,
         "start": 389494,
         "text": "good"
        },
        {
         "confidence": 0.99342,
         "end": 389862,
         "speaker": null,
         "start": 389732,
         "text": "in"
        },
        {
         "confidence": 0.99117,
         "end": 390054,
         "speaker": null,
         "start": 389876,
         "text": "an"
        },
        {
         "confidence": 0.77974,
         "end": 390526,
         "speaker": null,
         "start": 390092,
         "text": "abstract"
        },
        {
         "confidence": 0.98699,
         "end": 390942,
         "speaker": null,
         "start": 390598,
         "text": "sense."
        },
        {
         "confidence": 0.68187,
         "end": 391318,
         "speaker": null,
         "start": 391016,
         "text": "It's"
        },
        {
         "confidence": 0.99989,
         "end": 391590,
         "speaker": null,
         "start": 391354,
         "text": "always"
        },
        {
         "confidence": 0.99949,
         "end": 391818,
         "speaker": null,
         "start": 391640,
         "text": "best"
        },
        {
         "confidence": 0.82,
         "end": 391998,
         "speaker": null,
         "start": 391844,
         "text": "to"
        },
        {
         "confidence": 0.99983,
         "end": 392286,
         "speaker": null,
         "start": 392024,
         "text": "create"
        },
        {
         "confidence": 0.99976,
         "end": 392538,
         "speaker": null,
         "start": 392348,
         "text": "things"
        },
        {
         "confidence": 0.99631,
         "end": 392682,
         "speaker": null,
         "start": 392564,
         "text": "that"
        },
        {
         "confidence": 0.97096,
         "end": 392874,
         "speaker": null,
         "start": 392696,
         "text": "you"
        },
        {
         "confidence": 0.99792,
         "end": 393258,
         "speaker": null,
         "start": 392912,
         "text": "actually"
        },
        {
         "confidence": 0.99981,
         "end": 393702,
         "speaker": null,
         "start": 393344,
         "text": "find"
        },
        {
         "confidence": 0.68138,
         "end": 394210,
         "speaker": null,
         "start": 393776,
         "text": "useful."
        },
        {
         "confidence": 0.95844,
         "end": 394462,
         "speaker": null,
         "start": 394270,
         "text": "I'll"
        },
        {
         "confidence": 0.99991,
         "end": 394602,
         "speaker": null,
         "start": 394486,
         "text": "give"
        },
        {
         "confidence": 0.99777,
         "end": 394722,
         "speaker": null,
         "start": 394616,
         "text": "you"
        },
        {
         "confidence": 0.99854,
         "end": 394842,
         "speaker": null,
         "start": 394736,
         "text": "an"
        },
        {
         "confidence": 0.99993,
         "end": 395142,
         "speaker": null,
         "start": 394856,
         "text": "example"
        },
        {
         "confidence": 1,
         "end": 395418,
         "speaker": null,
         "start": 395216,
         "text": "of"
        },
        {
         "confidence": 1,
         "end": 395562,
         "speaker": null,
         "start": 395444,
         "text": "one"
        },
        {
         "confidence": 1,
         "end": 395646,
         "speaker": null,
         "start": 395576,
         "text": "of"
        },
        {
         "confidence": 0.99877,
         "end": 395778,
         "speaker": null,
         "start": 395648,
         "text": "my"
        },
        {
         "confidence": 0.99,
         "end": 395994,
         "speaker": null,
         "start": 395804,
         "text": "first"
        },
        {
         "confidence": 0.01,
         "end": 396234,
         "speaker": null,
         "start": 396032,
         "text": "I"
        },
        {
         "confidence": 0.93982,
         "end": 396730,
         "speaker": null,
         "start": 396272,
         "text": "projects."
        },
        {
         "confidence": 0.72667,
         "end": 396942,
         "speaker": null,
         "start": 396790,
         "text": "So"
        },
        {
         "confidence": 1,
         "end": 397098,
         "speaker": null,
         "start": 396956,
         "text": "I"
        },
        {
         "confidence": 0.97601,
         "end": 397438,
         "speaker": null,
         "start": 397124,
         "text": "created"
        },
        {
         "confidence": 0.98074,
         "end": 397602,
         "speaker": null,
         "start": 397474,
         "text": "this"
        },
        {
         "confidence": 0.99665,
         "end": 397758,
         "speaker": null,
         "start": 397616,
         "text": "thing"
        },
        {
         "confidence": 0.99954,
         "end": 397938,
         "speaker": null,
         "start": 397784,
         "text": "called"
        },
        {
         "confidence": 0.99762,
         "end": 398374,
         "speaker": null,
         "start": 397964,
         "text": "spotify"
        },
        {
         "confidence": 0.99,
         "end": 398598,
         "speaker": null,
         "start": 398422,
         "text": "to"
        },
        {
         "confidence": 0.99892,
         "end": 398938,
         "speaker": null,
         "start": 398624,
         "text": "YouTube."
        },
        {
         "confidence": 0.91,
         "end": 399618,
         "speaker": null,
         "start": 398974,
         "text": "MP3."
        },
        {
         "confidence": 0.92695,
         "end": 399918,
         "speaker": null,
         "start": 399704,
         "text": "In"
        },
        {
         "confidence": 0.99199,
         "end": 400594,
         "speaker": null,
         "start": 399944,
         "text": "university"
        },
        {
         "confidence": 1,
         "end": 400938,
         "speaker": null,
         "start": 400702,
         "text": "I"
        },
        {
         "confidence": 0.99696,
         "end": 401118,
         "speaker": null,
         "start": 400964,
         "text": "had"
        },
        {
         "confidence": 1,
         "end": 401262,
         "speaker": null,
         "start": 401144,
         "text": "a"
        },
        {
         "confidence": 0.99869,
         "end": 401518,
         "speaker": null,
         "start": 401276,
         "text": "trial"
        },
        {
         "confidence": 1,
         "end": 401682,
         "speaker": null,
         "start": 401554,
         "text": "of"
        },
        {
         "confidence": 0.60269,
         "end": 402130,
         "speaker": null,
         "start": 401696,
         "text": "Spotify"
        },
        {
         "confidence": 0.9,
         "end": 402414,
         "speaker": null,
         "start": 402190,
         "text": "and"
        },
        {
         "confidence": 0.99875,
         "end": 402582,
         "speaker": null,
         "start": 402452,
         "text": "when"
        },
        {
         "confidence": 0.99,
         "end": 402702,
         "speaker": null,
         "start": 402596,
         "text": "it"
        },
        {
         "confidence": 0.69114,
         "end": 402958,
         "speaker": null,
         "start": 402716,
         "text": "ran"
        },
        {
         "confidence": 0.99974,
         "end": 403194,
         "speaker": null,
         "start": 402994,
         "text": "out,"
        },
        {
         "confidence": 0.97,
         "end": 403362,
         "speaker": null,
         "start": 403232,
         "text": "I"
        },
        {
         "confidence": 0.61271,
         "end": 403590,
         "speaker": null,
         "start": 403376,
         "text": "was"
        },
        {
         "confidence": 0.9981,
         "end": 403998,
         "speaker": null,
         "start": 403640,
         "text": "too"
        },
        {
         "confidence": 0.99919,
         "end": 404434,
         "speaker": null,
         "start": 404084,
         "text": "cheap"
        },
        {
         "confidence": 1,
         "end": 404658,
         "speaker": null,
         "start": 404482,
         "text": "to"
        },
        {
         "confidence": 0.99952,
         "end": 404910,
         "speaker": null,
         "start": 404684,
         "text": "buy"
        },
        {
         "confidence": 0.9929,
         "end": 405526,
         "speaker": null,
         "start": 404960,
         "text": "Spotify."
        },
        {
         "confidence": 0.91,
         "end": 405834,
         "speaker": null,
         "start": 405598,
         "text": "I"
        },
        {
         "confidence": 0.98293,
         "end": 406042,
         "speaker": null,
         "start": 405872,
         "text": "didn't"
        },
        {
         "confidence": 0.99953,
         "end": 406218,
         "speaker": null,
         "start": 406066,
         "text": "have"
        },
        {
         "confidence": 0.99952,
         "end": 406398,
         "speaker": null,
         "start": 406244,
         "text": "any"
        },
        {
         "confidence": 0.99992,
         "end": 406794,
         "speaker": null,
         "start": 406424,
         "text": "money,"
        },
        {
         "confidence": 0.97488,
         "end": 407190,
         "speaker": null,
         "start": 406892,
         "text": "but"
        },
        {
         "confidence": 0.68,
         "end": 407418,
         "speaker": null,
         "start": 407240,
         "text": "I"
        },
        {
         "confidence": 0.98691,
         "end": 407634,
         "speaker": null,
         "start": 407444,
         "text": "had"
        },
        {
         "confidence": 0.77,
         "end": 408090,
         "speaker": null,
         "start": 407672,
         "text": "400"
        },
        {
         "confidence": 0.99871,
         "end": 408354,
         "speaker": null,
         "start": 408140,
         "text": "plus"
        },
        {
         "confidence": 0.9913,
         "end": 408646,
         "speaker": null,
         "start": 408392,
         "text": "songs"
        },
        {
         "confidence": 0.96793,
         "end": 408762,
         "speaker": null,
         "start": 408658,
         "text": "in"
        },
        {
         "confidence": 0.99948,
         "end": 408918,
         "speaker": null,
         "start": 408776,
         "text": "my"
        },
        {
         "confidence": 0.99541,
         "end": 409426,
         "speaker": null,
         "start": 408944,
         "text": "playlist."
        },
        {
         "confidence": 0.99,
         "end": 409662,
         "speaker": null,
         "start": 409498,
         "text": "I"
        },
        {
         "confidence": 0.97462,
         "end": 409846,
         "speaker": null,
         "start": 409676,
         "text": "didn't"
        },
        {
         "confidence": 0.99946,
         "end": 409962,
         "speaker": null,
         "start": 409858,
         "text": "want"
        },
        {
         "confidence": 1,
         "end": 410082,
         "speaker": null,
         "start": 409976,
         "text": "to"
        },
        {
         "confidence": 0.99845,
         "end": 410278,
         "speaker": null,
         "start": 410096,
         "text": "lose"
        },
        {
         "confidence": 0.99827,
         "end": 410478,
         "speaker": null,
         "start": 410314,
         "text": "all"
        },
        {
         "confidence": 0.99941,
         "end": 410694,
         "speaker": null,
         "start": 410504,
         "text": "that."
        },
        {
         "confidence": 0.79458,
         "end": 410826,
         "speaker": null,
         "start": 410732,
         "text": "So"
        },
        {
         "confidence": 0.58,
         "end": 410958,
         "speaker": null,
         "start": 410828,
         "text": "I"
        },
        {
         "confidence": 0.99939,
         "end": 411262,
         "speaker": null,
         "start": 410984,
         "text": "created"
        },
        {
         "confidence": 1,
         "end": 411366,
         "speaker": null,
         "start": 411286,
         "text": "a"
        },
        {
         "confidence": 0.87206,
         "end": 411718,
         "speaker": null,
         "start": 411368,
         "text": "Python"
        },
        {
         "confidence": 0.99995,
         "end": 412026,
         "speaker": null,
         "start": 411754,
         "text": "program"
        },
        {
         "confidence": 0.99868,
         "end": 412278,
         "speaker": null,
         "start": 412088,
         "text": "that"
        },
        {
         "confidence": 0.99125,
         "end": 412618,
         "speaker": null,
         "start": 412304,
         "text": "uses"
        },
        {
         "confidence": 0.99,
         "end": 412782,
         "speaker": null,
         "start": 412654,
         "text": "the"
        },
        {
         "confidence": 0.99888,
         "end": 413194,
         "speaker": null,
         "start": 412796,
         "text": "Spotify"
        },
        {
         "confidence": 0.69268,
         "end": 413638,
         "speaker": null,
         "start": 413242,
         "text": "API"
        },
        {
         "confidence": 1,
         "end": 413802,
         "speaker": null,
         "start": 413674,
         "text": "to"
        },
        {
         "confidence": 0.99987,
         "end": 413958,
         "speaker": null,
         "start": 413816,
         "text": "get"
        },
        {
         "confidence": 0.99927,
         "end": 414174,
         "speaker": null,
         "start": 413984,
         "text": "those"
        },
        {
         "confidence": 0.65816,
         "end": 414562,
         "speaker": null,
         "start": 414212,
         "text": "songs"
        },
        {
         "confidence": 0.96,
         "end": 414738,
         "speaker": null,
         "start": 414586,
         "text": "and"
        },
        {
         "confidence": 0.95561,
         "end": 414918,
         "speaker": null,
         "start": 414764,
         "text": "then"
        },
        {
         "confidence": 0.9284,
         "end": 415342,
         "speaker": null,
         "start": 414944,
         "text": "YouTube's"
        },
        {
         "confidence": 0.95931,
         "end": 415678,
         "speaker": null,
         "start": 415366,
         "text": "API"
        },
        {
         "confidence": 1,
         "end": 415878,
         "speaker": null,
         "start": 415714,
         "text": "to"
        },
        {
         "confidence": 0.99992,
         "end": 416218,
         "speaker": null,
         "start": 415904,
         "text": "download"
        },
        {
         "confidence": 1,
         "end": 416382,
         "speaker": null,
         "start": 416254,
         "text": "the"
        },
        {
         "confidence": 0.93,
         "end": 416910,
         "speaker": null,
         "start": 416396,
         "text": "MP3"
        },
        {
         "confidence": 0.99158,
         "end": 417550,
         "speaker": null,
         "start": 416960,
         "text": "version."
        },
        {
         "confidence": 0.99082,
         "end": 417882,
         "speaker": null,
         "start": 417670,
         "text": "Now,"
        },
        {
         "confidence": 0.52,
         "end": 418002,
         "speaker": null,
         "start": 417896,
         "text": "I"
        },
        {
         "confidence": 0.94357,
         "end": 418158,
         "speaker": null,
         "start": 418016,
         "text": "had"
        },
        {
         "confidence": 0.98948,
         "end": 418266,
         "speaker": null,
         "start": 418184,
         "text": "all"
        },
        {
         "confidence": 0.63,
         "end": 418362,
         "speaker": null,
         "start": 418268,
         "text": "the"
        },
        {
         "confidence": 0.99935,
         "end": 418554,
         "speaker": null,
         "start": 418376,
         "text": "same"
        },
        {
         "confidence": 0.99985,
         "end": 419082,
         "speaker": null,
         "start": 418592,
         "text": "music,"
        },
        {
         "confidence": 0.9933,
         "end": 419550,
         "speaker": null,
         "start": 419216,
         "text": "but"
        },
        {
         "confidence": 0.99976,
         "end": 419814,
         "speaker": null,
         "start": 419600,
         "text": "for"
        },
        {
         "confidence": 0.99996,
         "end": 420234,
         "speaker": null,
         "start": 419852,
         "text": "free."
        },
        {
         "confidence": 0.99542,
         "end": 420594,
         "speaker": null,
         "start": 420332,
         "text": "This"
        },
        {
         "confidence": 0.99923,
         "end": 420906,
         "speaker": null,
         "start": 420632,
         "text": "project"
        },
        {
         "confidence": 0.99862,
         "end": 421122,
         "speaker": null,
         "start": 420968,
         "text": "was"
        },
        {
         "confidence": 1,
         "end": 421242,
         "speaker": null,
         "start": 421136,
         "text": "one"
        },
        {
         "confidence": 1,
         "end": 421326,
         "speaker": null,
         "start": 421256,
         "text": "of"
        },
        {
         "confidence": 0.95,
         "end": 421422,
         "speaker": null,
         "start": 421328,
         "text": "the"
        },
        {
         "confidence": 0.99845,
         "end": 421614,
         "speaker": null,
         "start": 421436,
         "text": "few"
        },
        {
         "confidence": 0.98217,
         "end": 421782,
         "speaker": null,
         "start": 421652,
         "text": "that"
        },
        {
         "confidence": 0.75,
         "end": 421974,
         "speaker": null,
         "start": 421796,
         "text": "I"
        },
        {
         "confidence": 0.99446,
         "end": 422358,
         "speaker": null,
         "start": 422012,
         "text": "actually"
        },
        {
         "confidence": 0.99938,
         "end": 422950,
         "speaker": null,
         "start": 422444,
         "text": "finished,"
        },
        {
         "confidence": 0.96,
         "end": 423162,
         "speaker": null,
         "start": 423010,
         "text": "and"
        },
        {
         "confidence": 0.60868,
         "end": 423382,
         "speaker": null,
         "start": 423176,
         "text": "it's"
        },
        {
         "confidence": 1,
         "end": 423522,
         "speaker": null,
         "start": 423406,
         "text": "one"
        },
        {
         "confidence": 1,
         "end": 423606,
         "speaker": null,
         "start": 423536,
         "text": "of"
        },
        {
         "confidence": 0.99,
         "end": 423702,
         "speaker": null,
         "start": 423608,
         "text": "the"
        },
        {
         "confidence": 0.99966,
         "end": 423894,
         "speaker": null,
         "start": 423716,
         "text": "few"
        },
        {
         "confidence": 0.93041,
         "end": 424354,
         "speaker": null,
         "start": 423932,
         "text": "employers"
        },
        {
         "confidence": 0.72949,
         "end": 424678,
         "speaker": null,
         "start": 424402,
         "text": "loved"
        },
        {
         "confidence": 0.99983,
         "end": 424950,
         "speaker": null,
         "start": 424714,
         "text": "asking"
        },
        {
         "confidence": 0.9973,
         "end": 425322,
         "speaker": null,
         "start": 425000,
         "text": "about."
        },
        {
         "confidence": 0.99574,
         "end": 425742,
         "speaker": null,
         "start": 425396,
         "text": "Why?"
        },
        {
         "confidence": 0.89865,
         "end": 426054,
         "speaker": null,
         "start": 425816,
         "text": "Well,"
        },
        {
         "confidence": 1,
         "end": 426294,
         "speaker": null,
         "start": 426092,
         "text": "one,"
        },
        {
         "confidence": 0.99885,
         "end": 426534,
         "speaker": null,
         "start": 426332,
         "text": "because"
        },
        {
         "confidence": 0.96329,
         "end": 426742,
         "speaker": null,
         "start": 426572,
         "text": "it's"
        },
        {
         "confidence": 0.99997,
         "end": 427114,
         "speaker": null,
         "start": 426766,
         "text": "unique,"
        },
        {
         "confidence": 0.99253,
         "end": 427374,
         "speaker": null,
         "start": 427162,
         "text": "but"
        },
        {
         "confidence": 0.98,
         "end": 427614,
         "speaker": null,
         "start": 427412,
         "text": "two,"
        },
        {
         "confidence": 0.97537,
         "end": 427926,
         "speaker": null,
         "start": 427652,
         "text": "because"
        },
        {
         "confidence": 1,
         "end": 428178,
         "speaker": null,
         "start": 427988,
         "text": "I"
        },
        {
         "confidence": 0.96715,
         "end": 428502,
         "speaker": null,
         "start": 428204,
         "text": "actually"
        },
        {
         "confidence": 0.98868,
         "end": 428850,
         "speaker": null,
         "start": 428576,
         "text": "used"
        },
        {
         "confidence": 1,
         "end": 429042,
         "speaker": null,
         "start": 428900,
         "text": "it."
        },
        {
         "confidence": 0.99,
         "end": 429198,
         "speaker": null,
         "start": 429056,
         "text": "I"
        },
        {
         "confidence": 0.99827,
         "end": 429378,
         "speaker": null,
         "start": 429224,
         "text": "built"
        },
        {
         "confidence": 1,
         "end": 429522,
         "speaker": null,
         "start": 429404,
         "text": "it"
        },
        {
         "confidence": 0.99706,
         "end": 429642,
         "speaker": null,
         "start": 429536,
         "text": "for"
        },
        {
         "confidence": 0.96704,
         "end": 430158,
         "speaker": null,
         "start": 429656,
         "text": "myself."
        },
        {
         "confidence": 0.9917,
         "end": 430650,
         "speaker": null,
         "start": 430304,
         "text": "Other"
        },
        {
         "confidence": 0.99067,
         "end": 431158,
         "speaker": null,
         "start": 430700,
         "text": "projects"
        },
        {
         "confidence": 1,
         "end": 431322,
         "speaker": null,
         "start": 431194,
         "text": "I"
        },
        {
         "confidence": 0.9988,
         "end": 431478,
         "speaker": null,
         "start": 431336,
         "text": "would"
        },
        {
         "confidence": 0.99959,
         "end": 431730,
         "speaker": null,
         "start": 431504,
         "text": "start"
        },
        {
         "confidence": 0.99,
         "end": 431922,
         "speaker": null,
         "start": 431780,
         "text": "and"
        },
        {
         "confidence": 0.98728,
         "end": 432042,
         "speaker": null,
         "start": 431936,
         "text": "then"
        },
        {
         "confidence": 0.99,
         "end": 432162,
         "speaker": null,
         "start": 432056,
         "text": "I"
        },
        {
         "confidence": 0.9967,
         "end": 432282,
         "speaker": null,
         "start": 432176,
         "text": "would"
        },
        {
         "confidence": 0.80479,
         "end": 432538,
         "speaker": null,
         "start": 432296,
         "text": "lose"
        },
        {
         "confidence": 0.99872,
         "end": 433030,
         "speaker": null,
         "start": 432574,
         "text": "motivation"
        },
        {
         "confidence": 0.99,
         "end": 433278,
         "speaker": null,
         "start": 433090,
         "text": "and"
        },
        {
         "confidence": 0.99,
         "end": 433422,
         "speaker": null,
         "start": 433304,
         "text": "I"
        },
        {
         "confidence": 0.99507,
         "end": 433542,
         "speaker": null,
         "start": 433436,
         "text": "would"
        },
        {
         "confidence": 0.9915,
         "end": 433770,
         "speaker": null,
         "start": 433556,
         "text": "never"
        },
        {
         "confidence": 0.99995,
         "end": 434178,
         "speaker": null,
         "start": 433820,
         "text": "finish."
        },
        {
         "confidence": 0.99716,
         "end": 434478,
         "speaker": null,
         "start": 434264,
         "text": "Think"
        },
        {
         "confidence": 1,
         "end": 434586,
         "speaker": null,
         "start": 434504,
         "text": "a"
        },
        {
         "confidence": 0.99479,
         "end": 434754,
         "speaker": null,
         "start": 434588,
         "text": "little"
        },
        {
         "confidence": 0.94357,
         "end": 435030,
         "speaker": null,
         "start": 434792,
         "text": "about"
        },
        {
         "confidence": 0.98353,
         "end": 435330,
         "speaker": null,
         "start": 435080,
         "text": "some"
        },
        {
         "confidence": 0.98376,
         "end": 435630,
         "speaker": null,
         "start": 435380,
         "text": "problem"
        },
        {
         "confidence": 0.9989,
         "end": 435822,
         "speaker": null,
         "start": 435680,
         "text": "that"
        },
        {
         "confidence": 0.99954,
         "end": 435942,
         "speaker": null,
         "start": 435836,
         "text": "you"
        },
        {
         "confidence": 0.99689,
         "end": 436098,
         "speaker": null,
         "start": 435956,
         "text": "have"
        },
        {
         "confidence": 0.99922,
         "end": 436242,
         "speaker": null,
         "start": 436124,
         "text": "in"
        },
        {
         "confidence": 0.99947,
         "end": 436362,
         "speaker": null,
         "start": 436256,
         "text": "your"
        },
        {
         "confidence": 0.99977,
         "end": 436554,
         "speaker": null,
         "start": 436376,
         "text": "life"
        },
        {
         "confidence": 0.99485,
         "end": 436866,
         "speaker": null,
         "start": 436592,
         "text": "that"
        },
        {
         "confidence": 0.99769,
         "end": 437154,
         "speaker": null,
         "start": 436928,
         "text": "would"
        },
        {
         "confidence": 0.99929,
         "end": 437358,
         "speaker": null,
         "start": 437192,
         "text": "be"
        },
        {
         "confidence": 0.99999,
         "end": 437538,
         "speaker": null,
         "start": 437384,
         "text": "nice"
        },
        {
         "confidence": 1,
         "end": 437682,
         "speaker": null,
         "start": 437564,
         "text": "to"
        },
        {
         "confidence": 0.81054,
         "end": 437874,
         "speaker": null,
         "start": 437696,
         "text": "know."
        },
        {
         "confidence": 0.60771,
         "end": 438222,
         "speaker": null,
         "start": 437912,
         "text": "Like"
        },
        {
         "confidence": 0.99588,
         "end": 438570,
         "speaker": null,
         "start": 438296,
         "text": "maybe"
        },
        {
         "confidence": 0.81227,
         "end": 439162,
         "speaker": null,
         "start": 438620,
         "text": "it's"
        },
        {
         "confidence": 0.99322,
         "end": 439578,
         "speaker": null,
         "start": 439306,
         "text": "just"
        },
        {
         "confidence": 0.99795,
         "end": 439882,
         "speaker": null,
         "start": 439604,
         "text": "knowing"
        },
        {
         "confidence": 0.99917,
         "end": 440022,
         "speaker": null,
         "start": 439906,
         "text": "when"
        },
        {
         "confidence": 0.97934,
         "end": 440178,
         "speaker": null,
         "start": 440036,
         "text": "your"
        },
        {
         "confidence": 0.99756,
         "end": 440518,
         "speaker": null,
         "start": 440204,
         "text": "favorite"
        },
        {
         "confidence": 0.97924,
         "end": 440758,
         "speaker": null,
         "start": 440554,
         "text": "beer"
        },
        {
         "confidence": 0.99116,
         "end": 440922,
         "speaker": null,
         "start": 440794,
         "text": "is"
        },
        {
         "confidence": 0.59406,
         "end": 441078,
         "speaker": null,
         "start": 440936,
         "text": "on"
        },
        {
         "confidence": 0.60008,
         "end": 441526,
         "speaker": null,
         "start": 441104,
         "text": "sale,"
        },
        {
         "confidence": 0.98828,
         "end": 441942,
         "speaker": null,
         "start": 441598,
         "text": "or"
        },
        {
         "confidence": 0.99856,
         "end": 442290,
         "speaker": null,
         "start": 442016,
         "text": "maybe"
        },
        {
         "confidence": 0.9791,
         "end": 442618,
         "speaker": null,
         "start": 442340,
         "text": "it's"
        },
        {
         "confidence": 0.99641,
         "end": 442782,
         "speaker": null,
         "start": 442654,
         "text": "an"
        },
        {
         "confidence": 1,
         "end": 443046,
         "speaker": null,
         "start": 442796,
         "text": "online"
        },
        {
         "confidence": 0.99606,
         "end": 443398,
         "speaker": null,
         "start": 443108,
         "text": "clip"
        },
        {
         "confidence": 0.47928,
         "end": 443562,
         "speaker": null,
         "start": 443434,
         "text": "for"
        },
        {
         "confidence": 0.86,
         "end": 443718,
         "speaker": null,
         "start": 443576,
         "text": "it."
        },
        {
         "confidence": 0.91764,
         "end": 443862,
         "speaker": null,
         "start": 443744,
         "text": "So"
        },
        {
         "confidence": 0.99795,
         "end": 443946,
         "speaker": null,
         "start": 443876,
         "text": "you"
        },
        {
         "confidence": 0.94118,
         "end": 444082,
         "speaker": null,
         "start": 443948,
         "text": "don't"
        },
        {
         "confidence": 0.99931,
         "end": 444186,
         "speaker": null,
         "start": 444106,
         "text": "have"
        },
        {
         "confidence": 0.98,
         "end": 444282,
         "speaker": null,
         "start": 444188,
         "text": "to"
        },
        {
         "confidence": 0.99112,
         "end": 444510,
         "speaker": null,
         "start": 444296,
         "text": "keep"
        },
        {
         "confidence": 0.7899,
         "end": 444958,
         "speaker": null,
         "start": 444560,
         "text": "messaging"
        },
        {
         "confidence": 0.99926,
         "end": 445302,
         "speaker": null,
         "start": 444994,
         "text": "yourself"
        },
        {
         "confidence": 0.99814,
         "end": 445738,
         "speaker": null,
         "start": 445376,
         "text": "random"
        },
        {
         "confidence": 0.95993,
         "end": 446002,
         "speaker": null,
         "start": 445774,
         "text": "shit"
        },
        {
         "confidence": 0.99771,
         "end": 446178,
         "speaker": null,
         "start": 446026,
         "text": "on"
        },
        {
         "confidence": 0.63325,
         "end": 446554,
         "speaker": null,
         "start": 446204,
         "text": "Facebook"
        },
        {
         "confidence": 0.9999,
         "end": 446998,
         "speaker": null,
         "start": 446602,
         "text": "Messenger"
        },
        {
         "confidence": 0.99686,
         "end": 447162,
         "speaker": null,
         "start": 447034,
         "text": "all"
        },
        {
         "confidence": 0.79,
         "end": 447318,
         "speaker": null,
         "start": 447176,
         "text": "the"
        },
        {
         "confidence": 0.99941,
         "end": 447606,
         "speaker": null,
         "start": 447344,
         "text": "time."
        },
        {
         "confidence": 0.83,
         "end": 447858,
         "speaker": null,
         "start": 447668,
         "text": "It"
        },
        {
         "confidence": 0.99483,
         "end": 448042,
         "speaker": null,
         "start": 447884,
         "text": "doesn't"
        },
        {
         "confidence": 0.99964,
         "end": 448182,
         "speaker": null,
         "start": 448066,
         "text": "have"
        },
        {
         "confidence": 1,
         "end": 448266,
         "speaker": null,
         "start": 448196,
         "text": "to"
        },
        {
         "confidence": 0.99822,
         "end": 448362,
         "speaker": null,
         "start": 448268,
         "text": "be"
        },
        {
         "confidence": 0.71386,
         "end": 448738,
         "speaker": null,
         "start": 448376,
         "text": "relevant"
        },
        {
         "confidence": 0.99498,
         "end": 448938,
         "speaker": null,
         "start": 448774,
         "text": "for"
        },
        {
         "confidence": 0.99871,
         "end": 449190,
         "speaker": null,
         "start": 448964,
         "text": "everyone."
        },
        {
         "confidence": 1,
         "end": 449382,
         "speaker": null,
         "start": 449240,
         "text": "It"
        },
        {
         "confidence": 0.99644,
         "end": 449574,
         "speaker": null,
         "start": 449396,
         "text": "really"
        },
        {
         "confidence": 0.95821,
         "end": 449742,
         "speaker": null,
         "start": 449612,
         "text": "just"
        },
        {
         "confidence": 0.99509,
         "end": 449862,
         "speaker": null,
         "start": 449756,
         "text": "has"
        },
        {
         "confidence": 1,
         "end": 449982,
         "speaker": null,
         "start": 449876,
         "text": "to"
        },
        {
         "confidence": 0.99653,
         "end": 450138,
         "speaker": null,
         "start": 449996,
         "text": "be"
        },
        {
         "confidence": 0.99917,
         "end": 450478,
         "speaker": null,
         "start": 450164,
         "text": "relevant"
        },
        {
         "confidence": 0.99886,
         "end": 450642,
         "speaker": null,
         "start": 450514,
         "text": "for"
        },
        {
         "confidence": 0.97734,
         "end": 450942,
         "speaker": null,
         "start": 450656,
         "text": "you."
        },
        {
         "confidence": 0.93384,
         "end": 451182,
         "speaker": null,
         "start": 451016,
         "text": "Now,"
        },
        {
         "confidence": 0.99932,
         "end": 451302,
         "speaker": null,
         "start": 451196,
         "text": "if"
        },
        {
         "confidence": 0.99967,
         "end": 451386,
         "speaker": null,
         "start": 451316,
         "text": "you"
        },
        {
         "confidence": 0.98559,
         "end": 451486,
         "speaker": null,
         "start": 451388,
         "text": "don't"
        },
        {
         "confidence": 0.89552,
         "end": 451602,
         "speaker": null,
         "start": 451498,
         "text": "have"
        },
        {
         "confidence": 0.99506,
         "end": 451722,
         "speaker": null,
         "start": 451616,
         "text": "an"
        },
        {
         "confidence": 0.99997,
         "end": 451950,
         "speaker": null,
         "start": 451736,
         "text": "idea"
        },
        {
         "confidence": 0.97941,
         "end": 452178,
         "speaker": null,
         "start": 452000,
         "text": "yet,"
        },
        {
         "confidence": 0.58344,
         "end": 452398,
         "speaker": null,
         "start": 452204,
         "text": "don't"
        },
        {
         "confidence": 0.99971,
         "end": 452806,
         "speaker": null,
         "start": 452434,
         "text": "panic."
        },
        {
         "confidence": 0.99,
         "end": 453042,
         "speaker": null,
         "start": 452878,
         "text": "I"
        },
        {
         "confidence": 0.99907,
         "end": 453162,
         "speaker": null,
         "start": 453056,
         "text": "have"
        },
        {
         "confidence": 0.99,
         "end": 453282,
         "speaker": null,
         "start": 453176,
         "text": "a"
        },
        {
         "confidence": 0.99997,
         "end": 453574,
         "speaker": null,
         "start": 453296,
         "text": "solution"
        },
        {
         "confidence": 0.99501,
         "end": 453762,
         "speaker": null,
         "start": 453622,
         "text": "for"
        },
        {
         "confidence": 0.99899,
         "end": 453954,
         "speaker": null,
         "start": 453776,
         "text": "that."
        },
        {
         "confidence": 0.59831,
         "end": 454222,
         "speaker": null,
         "start": 453992,
         "text": "You're"
        },
        {
         "confidence": 0.99777,
         "end": 454522,
         "speaker": null,
         "start": 454246,
         "text": "allowed"
        },
        {
         "confidence": 1,
         "end": 454734,
         "speaker": null,
         "start": 454546,
         "text": "to"
        },
        {
         "confidence": 0.9999,
         "end": 455046,
         "speaker": null,
         "start": 454772,
         "text": "follow"
        },
        {
         "confidence": 0.99,
         "end": 455262,
         "speaker": null,
         "start": 455108,
         "text": "a"
        },
        {
         "confidence": 0.99738,
         "end": 455806,
         "speaker": null,
         "start": 455276,
         "text": "tutorial"
        },
        {
         "confidence": 0.99827,
         "end": 456150,
         "speaker": null,
         "start": 455878,
         "text": "on"
        },
        {
         "confidence": 0.69428,
         "end": 456574,
         "speaker": null,
         "start": 456200,
         "text": "YouTube"
        },
        {
         "confidence": 0.82198,
         "end": 456762,
         "speaker": null,
         "start": 456622,
         "text": "or"
        },
        {
         "confidence": 0.96074,
         "end": 457222,
         "speaker": null,
         "start": 456776,
         "text": "Udemy"
        },
        {
         "confidence": 0.95054,
         "end": 457434,
         "speaker": null,
         "start": 457246,
         "text": "or"
        },
        {
         "confidence": 0.95832,
         "end": 457638,
         "speaker": null,
         "start": 457472,
         "text": "any"
        },
        {
         "confidence": 1,
         "end": 457782,
         "speaker": null,
         "start": 457664,
         "text": "of"
        },
        {
         "confidence": 0.99935,
         "end": 457938,
         "speaker": null,
         "start": 457796,
         "text": "those"
        },
        {
         "confidence": 0.85691,
         "end": 458590,
         "speaker": null,
         "start": 457964,
         "text": "sites,"
        },
        {
         "confidence": 0.99305,
         "end": 459138,
         "speaker": null,
         "start": 458710,
         "text": "but"
        },
        {
         "confidence": 0.8582,
         "end": 459502,
         "speaker": null,
         "start": 459224,
         "text": "you're"
        },
        {
         "confidence": 0.9998,
         "end": 459678,
         "speaker": null,
         "start": 459526,
         "text": "not"
        },
        {
         "confidence": 0.9984,
         "end": 459982,
         "speaker": null,
         "start": 459704,
         "text": "allowed"
        },
        {
         "confidence": 1,
         "end": 460158,
         "speaker": null,
         "start": 460006,
         "text": "to"
        },
        {
         "confidence": 0.99921,
         "end": 460374,
         "speaker": null,
         "start": 460184,
         "text": "build"
        },
        {
         "confidence": 1,
         "end": 460578,
         "speaker": null,
         "start": 460412,
         "text": "the"
        },
        {
         "confidence": 0.99904,
         "end": 460830,
         "speaker": null,
         "start": 460604,
         "text": "same"
        },
        {
         "confidence": 1,
         "end": 461238,
         "speaker": null,
         "start": 460880,
         "text": "website"
        },
        {
         "confidence": 0.99402,
         "end": 461538,
         "speaker": null,
         "start": 461324,
         "text": "as"
        },
        {
         "confidence": 0.96325,
         "end": 461826,
         "speaker": null,
         "start": 461564,
         "text": "them."
        },
        {
         "confidence": 0.99942,
         "end": 462078,
         "speaker": null,
         "start": 461888,
         "text": "For"
        },
        {
         "confidence": 0.9999,
         "end": 462366,
         "speaker": null,
         "start": 462104,
         "text": "example,"
        },
        {
         "confidence": 0.99869,
         "end": 462582,
         "speaker": null,
         "start": 462428,
         "text": "if"
        },
        {
         "confidence": 0.89385,
         "end": 462778,
         "speaker": null,
         "start": 462596,
         "text": "you're"
        },
        {
         "confidence": 0.99632,
         "end": 463138,
         "speaker": null,
         "start": 462814,
         "text": "following"
        },
        {
         "confidence": 0.98,
         "end": 463302,
         "speaker": null,
         "start": 463174,
         "text": "a"
        },
        {
         "confidence": 0.62997,
         "end": 463750,
         "speaker": null,
         "start": 463316,
         "text": "tutorial"
        },
        {
         "confidence": 0.99768,
         "end": 463998,
         "speaker": null,
         "start": 463810,
         "text": "on"
        },
        {
         "confidence": 0.99979,
         "end": 464178,
         "speaker": null,
         "start": 464024,
         "text": "how"
        },
        {
         "confidence": 1,
         "end": 464322,
         "speaker": null,
         "start": 464204,
         "text": "to"
        },
        {
         "confidence": 0.99886,
         "end": 464550,
         "speaker": null,
         "start": 464336,
         "text": "build"
        },
        {
         "confidence": 1,
         "end": 464742,
         "speaker": null,
         "start": 464600,
         "text": "a"
        },
        {
         "confidence": 0.99488,
         "end": 465010,
         "speaker": null,
         "start": 464756,
         "text": "weather"
        },
        {
         "confidence": 1,
         "end": 465582,
         "speaker": null,
         "start": 465070,
         "text": "website,"
        },
        {
         "confidence": 0.99932,
         "end": 466194,
         "speaker": null,
         "start": 465716,
         "text": "instead"
        },
        {
         "confidence": 0.99219,
         "end": 466590,
         "speaker": null,
         "start": 466292,
         "text": "try"
        },
        {
         "confidence": 0.9987,
         "end": 466890,
         "speaker": null,
         "start": 466640,
         "text": "building"
        },
        {
         "confidence": 0.99971,
         "end": 467226,
         "speaker": null,
         "start": 466940,
         "text": "something"
        },
        {
         "confidence": 0.99879,
         "end": 467478,
         "speaker": null,
         "start": 467288,
         "text": "like"
        },
        {
         "confidence": 0.99,
         "end": 467622,
         "speaker": null,
         "start": 467504,
         "text": "a"
        },
        {
         "confidence": 0.99919,
         "end": 467938,
         "speaker": null,
         "start": 467636,
         "text": "currency"
        },
        {
         "confidence": 0.62171,
         "end": 468538,
         "speaker": null,
         "start": 467974,
         "text": "converter."
        },
        {
         "confidence": 0.98375,
         "end": 468922,
         "speaker": null,
         "start": 468634,
         "text": "That's"
        },
        {
         "confidence": 0.99,
         "end": 469026,
         "speaker": null,
         "start": 468946,
         "text": "a"
        },
        {
         "confidence": 1,
         "end": 469194,
         "speaker": null,
         "start": 469028,
         "text": "real"
        },
        {
         "confidence": 0.99993,
         "end": 469506,
         "speaker": null,
         "start": 469232,
         "text": "example"
        },
        {
         "confidence": 0.97646,
         "end": 469722,
         "speaker": null,
         "start": 469568,
         "text": "that"
        },
        {
         "confidence": 1,
         "end": 469842,
         "speaker": null,
         "start": 469736,
         "text": "I"
        },
        {
         "confidence": 0.97412,
         "end": 470178,
         "speaker": null,
         "start": 469856,
         "text": "did."
        },
        {
         "confidence": 0.97173,
         "end": 470542,
         "speaker": null,
         "start": 470264,
         "text": "What's"
        },
        {
         "confidence": 0.99975,
         "end": 470718,
         "speaker": null,
         "start": 470566,
         "text": "great"
        },
        {
         "confidence": 0.99985,
         "end": 470898,
         "speaker": null,
         "start": 470744,
         "text": "about"
        },
        {
         "confidence": 0.99695,
         "end": 471114,
         "speaker": null,
         "start": 470924,
         "text": "that"
        },
        {
         "confidence": 0.98441,
         "end": 471318,
         "speaker": null,
         "start": 471152,
         "text": "is"
        },
        {
         "confidence": 0.9998,
         "end": 471498,
         "speaker": null,
         "start": 471344,
         "text": "most"
        },
        {
         "confidence": 0.99,
         "end": 471642,
         "speaker": null,
         "start": 471524,
         "text": "of"
        },
        {
         "confidence": 0.99,
         "end": 471798,
         "speaker": null,
         "start": 471656,
         "text": "the"
        },
        {
         "confidence": 0.99958,
         "end": 472014,
         "speaker": null,
         "start": 471824,
         "text": "code"
        },
        {
         "confidence": 0.98,
         "end": 472182,
         "speaker": null,
         "start": 472052,
         "text": "and"
        },
        {
         "confidence": 0.98,
         "end": 472302,
         "speaker": null,
         "start": 472196,
         "text": "the"
        },
        {
         "confidence": 0.57333,
         "end": 472678,
         "speaker": null,
         "start": 472316,
         "text": "concepts"
        },
        {
         "confidence": 0.98567,
         "end": 472842,
         "speaker": null,
         "start": 472714,
         "text": "are"
        },
        {
         "confidence": 0.99764,
         "end": 472926,
         "speaker": null,
         "start": 472856,
         "text": "going"
        },
        {
         "confidence": 1,
         "end": 472986,
         "speaker": null,
         "start": 472928,
         "text": "to"
        },
        {
         "confidence": 0.99692,
         "end": 473082,
         "speaker": null,
         "start": 472988,
         "text": "be"
        },
        {
         "confidence": 0.97,
         "end": 473202,
         "speaker": null,
         "start": 473096,
         "text": "the"
        },
        {
         "confidence": 0.99917,
         "end": 473502,
         "speaker": null,
         "start": 473216,
         "text": "exact"
        },
        {
         "confidence": 0.99997,
         "end": 473922,
         "speaker": null,
         "start": 473576,
         "text": "same,"
        },
        {
         "confidence": 0.98855,
         "end": 474450,
         "speaker": null,
         "start": 473996,
         "text": "but"
        },
        {
         "confidence": 1,
         "end": 474798,
         "speaker": null,
         "start": 474560,
         "text": "it"
        },
        {
         "confidence": 0.99235,
         "end": 475258,
         "speaker": null,
         "start": 474824,
         "text": "restricts"
        },
        {
         "confidence": 0.99833,
         "end": 475422,
         "speaker": null,
         "start": 475294,
         "text": "you"
        },
        {
         "confidence": 0.99751,
         "end": 475578,
         "speaker": null,
         "start": 475436,
         "text": "from"
        },
        {
         "confidence": 0.99979,
         "end": 475758,
         "speaker": null,
         "start": 475604,
         "text": "being"
        },
        {
         "confidence": 0.87805,
         "end": 475974,
         "speaker": null,
         "start": 475784,
         "text": "able"
        },
        {
         "confidence": 1,
         "end": 476142,
         "speaker": null,
         "start": 476012,
         "text": "to"
        },
        {
         "confidence": 0.8584,
         "end": 476398,
         "speaker": null,
         "start": 476156,
         "text": "copy"
        },
        {
         "confidence": 1,
         "end": 476562,
         "speaker": null,
         "start": 476434,
         "text": "and"
        },
        {
         "confidence": 0.50357,
         "end": 476818,
         "speaker": null,
         "start": 476576,
         "text": "paste"
        },
        {
         "confidence": 0.99,
         "end": 476982,
         "speaker": null,
         "start": 476854,
         "text": "the"
        },
        {
         "confidence": 0.82454,
         "end": 477406,
         "speaker": null,
         "start": 476996,
         "text": "solution."
        },
        {
         "confidence": 0.87742,
         "end": 477886,
         "speaker": null,
         "start": 477478,
         "text": "Therefore,"
        },
        {
         "confidence": 0.99972,
         "end": 478122,
         "speaker": null,
         "start": 477958,
         "text": "you"
        },
        {
         "confidence": 0.99861,
         "end": 478278,
         "speaker": null,
         "start": 478136,
         "text": "can"
        },
        {
         "confidence": 0.78353,
         "end": 478566,
         "speaker": null,
         "start": 478304,
         "text": "follow"
        },
        {
         "confidence": 1,
         "end": 478782,
         "speaker": null,
         "start": 478628,
         "text": "the"
        },
        {
         "confidence": 0.97904,
         "end": 479326,
         "speaker": null,
         "start": 478796,
         "text": "tutorial,"
        },
        {
         "confidence": 0.99658,
         "end": 479634,
         "speaker": null,
         "start": 479398,
         "text": "but"
        },
        {
         "confidence": 0.99588,
         "end": 479874,
         "speaker": null,
         "start": 479672,
         "text": "you"
        },
        {
         "confidence": 0.95774,
         "end": 480214,
         "speaker": null,
         "start": 479912,
         "text": "can't"
        },
        {
         "confidence": 0.99491,
         "end": 480562,
         "speaker": null,
         "start": 480262,
         "text": "copy"
        },
        {
         "confidence": 0.96,
         "end": 480738,
         "speaker": null,
         "start": 480586,
         "text": "it."
        },
        {
         "confidence": 0.97777,
         "end": 480918,
         "speaker": null,
         "start": 480764,
         "text": "Now"
        },
        {
         "confidence": 0.99971,
         "end": 481134,
         "speaker": null,
         "start": 480944,
         "text": "moving"
        },
        {
         "confidence": 0.99982,
         "end": 481302,
         "speaker": null,
         "start": 481172,
         "text": "back"
        },
        {
         "confidence": 1,
         "end": 481458,
         "speaker": null,
         "start": 481316,
         "text": "to"
        },
        {
         "confidence": 0.75,
         "end": 481782,
         "speaker": null,
         "start": 481484,
         "text": "C"
        },
        {
         "confidence": 0.86084,
         "end": 482094,
         "speaker": null,
         "start": 481856,
         "text": "plus"
        },
        {
         "confidence": 0.95474,
         "end": 482334,
         "speaker": null,
         "start": 482132,
         "text": "plus"
        },
        {
         "confidence": 0.99446,
         "end": 482502,
         "speaker": null,
         "start": 482372,
         "text": "for"
        },
        {
         "confidence": 1,
         "end": 482586,
         "speaker": null,
         "start": 482516,
         "text": "a"
        },
        {
         "confidence": 1,
         "end": 483006,
         "speaker": null,
         "start": 482588,
         "text": "second,"
        },
        {
         "confidence": 1,
         "end": 483378,
         "speaker": null,
         "start": 483128,
         "text": "the"
        },
        {
         "confidence": 0.9993,
         "end": 483594,
         "speaker": null,
         "start": 483404,
         "text": "best"
        },
        {
         "confidence": 0.97,
         "end": 483762,
         "speaker": null,
         "start": 483632,
         "text": "and"
        },
        {
         "confidence": 0.99914,
         "end": 483954,
         "speaker": null,
         "start": 483776,
         "text": "most"
        },
        {
         "confidence": 0.99998,
         "end": 484354,
         "speaker": null,
         "start": 483992,
         "text": "popular"
        },
        {
         "confidence": 0.99447,
         "end": 484774,
         "speaker": null,
         "start": 484402,
         "text": "languages"
        },
        {
         "confidence": 0.99,
         "end": 484962,
         "speaker": null,
         "start": 484822,
         "text": "and"
        },
        {
         "confidence": 0.94166,
         "end": 485458,
         "speaker": null,
         "start": 484976,
         "text": "frameworks"
        },
        {
         "confidence": 0.9991,
         "end": 485694,
         "speaker": null,
         "start": 485494,
         "text": "are"
        },
        {
         "confidence": 0.99982,
         "end": 486006,
         "speaker": null,
         "start": 485732,
         "text": "always"
        },
        {
         "confidence": 0.99955,
         "end": 486222,
         "speaker": null,
         "start": 486068,
         "text": "going"
        },
        {
         "confidence": 1,
         "end": 486378,
         "speaker": null,
         "start": 486236,
         "text": "to"
        },
        {
         "confidence": 0.9989,
         "end": 486846,
         "speaker": null,
         "start": 486404,
         "text": "change."
        },
        {
         "confidence": 0.51663,
         "end": 487366,
         "speaker": null,
         "start": 486968,
         "text": "They're"
        },
        {
         "confidence": 0.51523,
         "end": 487702,
         "speaker": null,
         "start": 487438,
         "text": "changing"
        },
        {
         "confidence": 0.99929,
         "end": 487878,
         "speaker": null,
         "start": 487726,
         "text": "as"
        },
        {
         "confidence": 0.99963,
         "end": 488058,
         "speaker": null,
         "start": 487904,
         "text": "we"
        },
        {
         "confidence": 0.99994,
         "end": 488310,
         "speaker": null,
         "start": 488084,
         "text": "speak"
        },
        {
         "confidence": 0.99711,
         "end": 488538,
         "speaker": null,
         "start": 488360,
         "text": "right"
        },
        {
         "confidence": 0.99975,
         "end": 488934,
         "speaker": null,
         "start": 488564,
         "text": "now."
        },
        {
         "confidence": 0.99308,
         "end": 489298,
         "speaker": null,
         "start": 489032,
         "text": "Don't"
        },
        {
         "confidence": 0.99897,
         "end": 489862,
         "speaker": null,
         "start": 489334,
         "text": "underestimate"
        },
        {
         "confidence": 0.99398,
         "end": 490074,
         "speaker": null,
         "start": 489886,
         "text": "those"
        },
        {
         "confidence": 0.70759,
         "end": 490654,
         "speaker": null,
         "start": 490112,
         "text": "fundamentals"
        },
        {
         "confidence": 0.95531,
         "end": 490942,
         "speaker": null,
         "start": 490702,
         "text": "you've"
        },
        {
         "confidence": 0.62234,
         "end": 491254,
         "speaker": null,
         "start": 490966,
         "text": "learned"
        },
        {
         "confidence": 0.98002,
         "end": 491478,
         "speaker": null,
         "start": 491302,
         "text": "in"
        },
        {
         "confidence": 0.99,
         "end": 491658,
         "speaker": null,
         "start": 491504,
         "text": "C"
        },
        {
         "confidence": 0.56,
         "end": 491838,
         "speaker": null,
         "start": 491684,
         "text": "and"
        },
        {
         "confidence": 0.99,
         "end": 492414,
         "speaker": null,
         "start": 491864,
         "text": "C,"
        },
        {
         "confidence": 0.95794,
         "end": 493038,
         "speaker": null,
         "start": 492572,
         "text": "because"
        },
        {
         "confidence": 0.70893,
         "end": 493702,
         "speaker": null,
         "start": 493124,
         "text": "ultimately,"
        },
        {
         "confidence": 0.99886,
         "end": 493962,
         "speaker": null,
         "start": 493786,
         "text": "if"
        },
        {
         "confidence": 0.99886,
         "end": 494118,
         "speaker": null,
         "start": 493976,
         "text": "you"
        },
        {
         "confidence": 0.99965,
         "end": 494298,
         "speaker": null,
         "start": 494144,
         "text": "know"
        },
        {
         "confidence": 0.99953,
         "end": 494514,
         "speaker": null,
         "start": 494324,
         "text": "those"
        },
        {
         "confidence": 0.9992,
         "end": 495042,
         "speaker": null,
         "start": 494552,
         "text": "well,"
        },
        {
         "confidence": 0.95379,
         "end": 495474,
         "speaker": null,
         "start": 495176,
         "text": "most"
        },
        {
         "confidence": 0.97672,
         "end": 495750,
         "speaker": null,
         "start": 495512,
         "text": "other"
        },
        {
         "confidence": 0.99618,
         "end": 496186,
         "speaker": null,
         "start": 495800,
         "text": "languages"
        },
        {
         "confidence": 0.99828,
         "end": 496458,
         "speaker": null,
         "start": 496258,
         "text": "are"
        },
        {
         "confidence": 0.98157,
         "end": 496638,
         "speaker": null,
         "start": 496484,
         "text": "just"
        },
        {
         "confidence": 0.99861,
         "end": 496782,
         "speaker": null,
         "start": 496664,
         "text": "going"
        },
        {
         "confidence": 0.9,
         "end": 496902,
         "speaker": null,
         "start": 496796,
         "text": "to"
        },
        {
         "confidence": 0.99801,
         "end": 497094,
         "speaker": null,
         "start": 496916,
         "text": "be"
        },
        {
         "confidence": 0.99849,
         "end": 497370,
         "speaker": null,
         "start": 497132,
         "text": "some"
        },
        {
         "confidence": 0.66453,
         "end": 497854,
         "speaker": null,
         "start": 497420,
         "text": "subset"
        },
        {
         "confidence": 1,
         "end": 498078,
         "speaker": null,
         "start": 497902,
         "text": "of"
        },
        {
         "confidence": 0.99965,
         "end": 498330,
         "speaker": null,
         "start": 498104,
         "text": "those"
        },
        {
         "confidence": 0.79261,
         "end": 498910,
         "speaker": null,
         "start": 498380,
         "text": "languages."
        },
        {
         "confidence": 0.99673,
         "end": 499350,
         "speaker": null,
         "start": 499030,
         "text": "Also"
        },
        {
         "confidence": 0.85911,
         "end": 499722,
         "speaker": null,
         "start": 499400,
         "text": "know"
        },
        {
         "confidence": 0.81969,
         "end": 500002,
         "speaker": null,
         "start": 499796,
         "text": "you're"
        },
        {
         "confidence": 0.96375,
         "end": 500106,
         "speaker": null,
         "start": 500026,
         "text": "going"
        },
        {
         "confidence": 0.98,
         "end": 500238,
         "speaker": null,
         "start": 500108,
         "text": "to"
        },
        {
         "confidence": 0.99969,
         "end": 500598,
         "speaker": null,
         "start": 500264,
         "text": "experience"
        },
        {
         "confidence": 0.98,
         "end": 500898,
         "speaker": null,
         "start": 500684,
         "text": "the"
        },
        {
         "confidence": 0.35196,
         "end": 501166,
         "speaker": null,
         "start": 500924,
         "text": "Dunn"
        },
        {
         "confidence": 0.7,
         "end": 501246,
         "speaker": null,
         "start": 501178,
         "text": "and"
        },
        {
         "confidence": 0.41615,
         "end": 501574,
         "speaker": null,
         "start": 501248,
         "text": "Kruger"
        },
        {
         "confidence": 0.98891,
         "end": 501978,
         "speaker": null,
         "start": 501622,
         "text": "effect."
        },
        {
         "confidence": 0.9974,
         "end": 502278,
         "speaker": null,
         "start": 502064,
         "text": "This"
        },
        {
         "confidence": 0.99646,
         "end": 502558,
         "speaker": null,
         "start": 502304,
         "text": "curve"
        },
        {
         "confidence": 0.99573,
         "end": 502866,
         "speaker": null,
         "start": 502594,
         "text": "shows"
        },
        {
         "confidence": 0.99884,
         "end": 503118,
         "speaker": null,
         "start": 502928,
         "text": "when"
        },
        {
         "confidence": 0.73965,
         "end": 503482,
         "speaker": null,
         "start": 503144,
         "text": "somebody's"
        },
        {
         "confidence": 0.99674,
         "end": 503694,
         "speaker": null,
         "start": 503506,
         "text": "learning"
        },
        {
         "confidence": 1,
         "end": 503862,
         "speaker": null,
         "start": 503732,
         "text": "a"
        },
        {
         "confidence": 1,
         "end": 503982,
         "speaker": null,
         "start": 503876,
         "text": "new"
        },
        {
         "confidence": 0.49356,
         "end": 504454,
         "speaker": null,
         "start": 503996,
         "text": "skill"
        },
        {
         "confidence": 1,
         "end": 504726,
         "speaker": null,
         "start": 504562,
         "text": "at"
        },
        {
         "confidence": 0.54,
         "end": 504858,
         "speaker": null,
         "start": 504728,
         "text": "the"
        },
        {
         "confidence": 0.99992,
         "end": 505198,
         "speaker": null,
         "start": 504884,
         "text": "beginning."
        },
        {
         "confidence": 0.99692,
         "end": 505362,
         "speaker": null,
         "start": 505234,
         "text": "They"
        },
        {
         "confidence": 0.96123,
         "end": 505522,
         "speaker": null,
         "start": 505376,
         "text": "tend"
        },
        {
         "confidence": 1,
         "end": 505626,
         "speaker": null,
         "start": 505546,
         "text": "to"
        },
        {
         "confidence": 0.91516,
         "end": 505758,
         "speaker": null,
         "start": 505628,
         "text": "be"
        },
        {
         "confidence": 0.59109,
         "end": 506374,
         "speaker": null,
         "start": 505784,
         "text": "overconfident"
        },
        {
         "confidence": 0.99892,
         "end": 506562,
         "speaker": null,
         "start": 506422,
         "text": "in"
        },
        {
         "confidence": 0.99927,
         "end": 506718,
         "speaker": null,
         "start": 506576,
         "text": "their"
        },
        {
         "confidence": 0.58297,
         "end": 507334,
         "speaker": null,
         "start": 506744,
         "text": "abilities."
        },
        {
         "confidence": 0.99661,
         "end": 507678,
         "speaker": null,
         "start": 507442,
         "text": "When"
        },
        {
         "confidence": 0.99921,
         "end": 507822,
         "speaker": null,
         "start": 507704,
         "text": "they"
        },
        {
         "confidence": 0.99941,
         "end": 507978,
         "speaker": null,
         "start": 507836,
         "text": "start"
        },
        {
         "confidence": 0.99,
         "end": 508158,
         "speaker": null,
         "start": 508004,
         "text": "to"
        },
        {
         "confidence": 0.99986,
         "end": 508338,
         "speaker": null,
         "start": 508184,
         "text": "learn"
        },
        {
         "confidence": 0.99918,
         "end": 508554,
         "speaker": null,
         "start": 508364,
         "text": "more,"
        },
        {
         "confidence": 0.93597,
         "end": 508758,
         "speaker": null,
         "start": 508592,
         "text": "they"
        },
        {
         "confidence": 0.98547,
         "end": 508938,
         "speaker": null,
         "start": 508784,
         "text": "see"
        },
        {
         "confidence": 0.99226,
         "end": 509118,
         "speaker": null,
         "start": 508964,
         "text": "they"
        },
        {
         "confidence": 0.992,
         "end": 509334,
         "speaker": null,
         "start": 509144,
         "text": "actually"
        },
        {
         "confidence": 0.56205,
         "end": 509574,
         "speaker": null,
         "start": 509372,
         "text": "have"
        },
        {
         "confidence": 0.99938,
         "end": 509778,
         "speaker": null,
         "start": 509612,
         "text": "so"
        },
        {
         "confidence": 0.99988,
         "end": 510030,
         "speaker": null,
         "start": 509804,
         "text": "much"
        },
        {
         "confidence": 0.78,
         "end": 510222,
         "speaker": null,
         "start": 510080,
         "text": "to"
        },
        {
         "confidence": 0.99941,
         "end": 510522,
         "speaker": null,
         "start": 510236,
         "text": "learn,"
        },
        {
         "confidence": 0.99599,
         "end": 510834,
         "speaker": null,
         "start": 510596,
         "text": "they"
        },
        {
         "confidence": 0.99961,
         "end": 511110,
         "speaker": null,
         "start": 510872,
         "text": "quickly"
        },
        {
         "confidence": 0.60428,
         "end": 511474,
         "speaker": null,
         "start": 511160,
         "text": "lose"
        },
        {
         "confidence": 0.99959,
         "end": 511698,
         "speaker": null,
         "start": 511522,
         "text": "all"
        },
        {
         "confidence": 0.99527,
         "end": 511914,
         "speaker": null,
         "start": 511724,
         "text": "their"
        },
        {
         "confidence": 0.89232,
         "end": 512518,
         "speaker": null,
         "start": 511952,
         "text": "confidence"
        },
        {
         "confidence": 0.95,
         "end": 512802,
         "speaker": null,
         "start": 512614,
         "text": "and"
        },
        {
         "confidence": 0.66,
         "end": 512958,
         "speaker": null,
         "start": 512816,
         "text": "it"
        },
        {
         "confidence": 0.99854,
         "end": 513138,
         "speaker": null,
         "start": 512984,
         "text": "takes"
        },
        {
         "confidence": 0.99549,
         "end": 513282,
         "speaker": null,
         "start": 513164,
         "text": "them"
        },
        {
         "confidence": 0.75,
         "end": 513402,
         "speaker": null,
         "start": 513296,
         "text": "a"
        },
        {
         "confidence": 0.99837,
         "end": 513630,
         "speaker": null,
         "start": 513416,
         "text": "while"
        },
        {
         "confidence": 1,
         "end": 513822,
         "speaker": null,
         "start": 513680,
         "text": "to"
        },
        {
         "confidence": 0.99958,
         "end": 513978,
         "speaker": null,
         "start": 513836,
         "text": "build"
        },
        {
         "confidence": 0.99,
         "end": 514122,
         "speaker": null,
         "start": 514004,
         "text": "it"
        },
        {
         "confidence": 0.77399,
         "end": 514314,
         "speaker": null,
         "start": 514136,
         "text": "back"
        },
        {
         "confidence": 0.95757,
         "end": 514842,
         "speaker": null,
         "start": 514352,
         "text": "up."
        },
        {
         "confidence": 0.97532,
         "end": 515302,
         "speaker": null,
         "start": 514976,
         "text": "Bear"
        },
        {
         "confidence": 0.99843,
         "end": 515442,
         "speaker": null,
         "start": 515326,
         "text": "in"
        },
        {
         "confidence": 0.99954,
         "end": 515634,
         "speaker": null,
         "start": 515456,
         "text": "mind,"
        },
        {
         "confidence": 0.8862,
         "end": 515806,
         "speaker": null,
         "start": 515672,
         "text": "you're"
        },
        {
         "confidence": 0.58345,
         "end": 515922,
         "speaker": null,
         "start": 515818,
         "text": "going"
        },
        {
         "confidence": 1,
         "end": 516042,
         "speaker": null,
         "start": 515936,
         "text": "to"
        },
        {
         "confidence": 0.99973,
         "end": 516198,
         "speaker": null,
         "start": 516056,
         "text": "go"
        },
        {
         "confidence": 0.99983,
         "end": 516414,
         "speaker": null,
         "start": 516224,
         "text": "through"
        },
        {
         "confidence": 0.99923,
         "end": 516654,
         "speaker": null,
         "start": 516452,
         "text": "this"
        },
        {
         "confidence": 0.99997,
         "end": 517182,
         "speaker": null,
         "start": 516692,
         "text": "process."
        },
        {
         "confidence": 0.94654,
         "end": 517642,
         "speaker": null,
         "start": 517316,
         "text": "You're"
        },
        {
         "confidence": 0.99928,
         "end": 517926,
         "speaker": null,
         "start": 517666,
         "text": "supposed"
        },
        {
         "confidence": 1,
         "end": 518214,
         "speaker": null,
         "start": 517988,
         "text": "to"
        },
        {
         "confidence": 0.99979,
         "end": 518454,
         "speaker": null,
         "start": 518252,
         "text": "feel"
        },
        {
         "confidence": 0.99383,
         "end": 518802,
         "speaker": null,
         "start": 518492,
         "text": "like"
        },
        {
         "confidence": 0.98102,
         "end": 519082,
         "speaker": null,
         "start": 518876,
         "text": "you're"
        },
        {
         "confidence": 0.99966,
         "end": 519258,
         "speaker": null,
         "start": 519106,
         "text": "not"
        },
        {
         "confidence": 0.99993,
         "end": 519438,
         "speaker": null,
         "start": 519284,
         "text": "good"
        },
        {
         "confidence": 0.99994,
         "end": 519690,
         "speaker": null,
         "start": 519464,
         "text": "enough."
        },
        {
         "confidence": 0.96992,
         "end": 519922,
         "speaker": null,
         "start": 519740,
         "text": "You're"
        },
        {
         "confidence": 0.99911,
         "end": 520170,
         "speaker": null,
         "start": 519946,
         "text": "supposed"
        },
        {
         "confidence": 1,
         "end": 520362,
         "speaker": null,
         "start": 520220,
         "text": "to"
        },
        {
         "confidence": 0.70351,
         "end": 520518,
         "speaker": null,
         "start": 520376,
         "text": "feel"
        },
        {
         "confidence": 0.98576,
         "end": 520698,
         "speaker": null,
         "start": 520544,
         "text": "like"
        },
        {
         "confidence": 0.98307,
         "end": 520846,
         "speaker": null,
         "start": 520724,
         "text": "you're"
        },
        {
         "confidence": 0.99972,
         "end": 520998,
         "speaker": null,
         "start": 520858,
         "text": "not"
        },
        {
         "confidence": 0.99998,
         "end": 521242,
         "speaker": null,
         "start": 521024,
         "text": "smart"
        },
        {
         "confidence": 0.79998,
         "end": 521454,
         "speaker": null,
         "start": 521266,
         "text": "enough"
        },
        {
         "confidence": 0.99767,
         "end": 521658,
         "speaker": null,
         "start": 521492,
         "text": "for"
        },
        {
         "confidence": 0.98299,
         "end": 522090,
         "speaker": null,
         "start": 521684,
         "text": "this."
        },
        {
         "confidence": 0.97149,
         "end": 522474,
         "speaker": null,
         "start": 522200,
         "text": "But"
        },
        {
         "confidence": 0.99995,
         "end": 522750,
         "speaker": null,
         "start": 522512,
         "text": "trust"
        },
        {
         "confidence": 0.99998,
         "end": 523014,
         "speaker": null,
         "start": 522800,
         "text": "me,"
        },
        {
         "confidence": 0.99934,
         "end": 523254,
         "speaker": null,
         "start": 523052,
         "text": "if"
        },
        {
         "confidence": 1,
         "end": 523494,
         "speaker": null,
         "start": 523292,
         "text": "I"
        },
        {
         "confidence": 0.9997,
         "end": 523698,
         "speaker": null,
         "start": 523532,
         "text": "can"
        },
        {
         "confidence": 0.9995,
         "end": 523842,
         "speaker": null,
         "start": 523724,
         "text": "do"
        },
        {
         "confidence": 1,
         "end": 523998,
         "speaker": null,
         "start": 523856,
         "text": "it,"
        },
        {
         "confidence": 0.93602,
         "end": 524250,
         "speaker": null,
         "start": 524024,
         "text": "then"
        },
        {
         "confidence": 0.99976,
         "end": 524478,
         "speaker": null,
         "start": 524300,
         "text": "you"
        },
        {
         "confidence": 0.99965,
         "end": 524658,
         "speaker": null,
         "start": 524504,
         "text": "can"
        },
        {
         "confidence": 0.99956,
         "end": 524802,
         "speaker": null,
         "start": 524684,
         "text": "do"
        },
        {
         "confidence": 1,
         "end": 525030,
         "speaker": null,
         "start": 524816,
         "text": "it."
        },
        {
         "confidence": 0.99,
         "end": 525258,
         "speaker": null,
         "start": 525080,
         "text": "One"
        },
        {
         "confidence": 0.99991,
         "end": 525546,
         "speaker": null,
         "start": 525284,
         "text": "important"
        },
        {
         "confidence": 0.64642,
         "end": 526030,
         "speaker": null,
         "start": 525608,
         "text": "resource"
        },
        {
         "confidence": 0.99575,
         "end": 526278,
         "speaker": null,
         "start": 526090,
         "text": "is"
        },
        {
         "confidence": 0.83264,
         "end": 527014,
         "speaker": null,
         "start": 526304,
         "text": "hackathons."
        },
        {
         "confidence": 0.73523,
         "end": 527398,
         "speaker": null,
         "start": 527122,
         "text": "It's"
        },
        {
         "confidence": 0.9641,
         "end": 527674,
         "speaker": null,
         "start": 527434,
         "text": "weird"
        },
        {
         "confidence": 1,
         "end": 527898,
         "speaker": null,
         "start": 527722,
         "text": "to"
        },
        {
         "confidence": 0.99642,
         "end": 528078,
         "speaker": null,
         "start": 527924,
         "text": "be"
        },
        {
         "confidence": 0.97,
         "end": 528222,
         "speaker": null,
         "start": 528104,
         "text": "at"
        },
        {
         "confidence": 0.98,
         "end": 528306,
         "speaker": null,
         "start": 528236,
         "text": "a"
        },
        {
         "confidence": 0.88511,
         "end": 528742,
         "speaker": null,
         "start": 528308,
         "text": "hackathon"
        },
        {
         "confidence": 0.93139,
         "end": 528882,
         "speaker": null,
         "start": 528766,
         "text": "in"
        },
        {
         "confidence": 0.97,
         "end": 529002,
         "speaker": null,
         "start": 528896,
         "text": "the"
        },
        {
         "confidence": 0.95,
         "end": 529194,
         "speaker": null,
         "start": 529016,
         "text": "first"
        },
        {
         "confidence": 0.97364,
         "end": 529434,
         "speaker": null,
         "start": 529232,
         "text": "place,"
        },
        {
         "confidence": 0.54336,
         "end": 529602,
         "speaker": null,
         "start": 529472,
         "text": "but"
        },
        {
         "confidence": 0.9403,
         "end": 529762,
         "speaker": null,
         "start": 529616,
         "text": "it's"
        },
        {
         "confidence": 0.9984,
         "end": 529902,
         "speaker": null,
         "start": 529786,
         "text": "cool"
        },
        {
         "confidence": 0.93,
         "end": 530058,
         "speaker": null,
         "start": 529916,
         "text": "to"
        },
        {
         "confidence": 0.99893,
         "end": 530274,
         "speaker": null,
         "start": 530084,
         "text": "see"
        },
        {
         "confidence": 0.99269,
         "end": 530442,
         "speaker": null,
         "start": 530312,
         "text": "all"
        },
        {
         "confidence": 0.67,
         "end": 530526,
         "speaker": null,
         "start": 530456,
         "text": "of"
        },
        {
         "confidence": 0.52431,
         "end": 530838,
         "speaker": null,
         "start": 530528,
         "text": "this."
        },
        {
         "confidence": 0.98312,
         "end": 531418,
         "speaker": null,
         "start": 530924,
         "text": "Hackathons"
        },
        {
         "confidence": 0.9945,
         "end": 531582,
         "speaker": null,
         "start": 531454,
         "text": "are"
        },
        {
         "confidence": 0.99796,
         "end": 531874,
         "speaker": null,
         "start": 531596,
         "text": "scary"
        },
        {
         "confidence": 0.98724,
         "end": 532062,
         "speaker": null,
         "start": 531922,
         "text": "because"
        },
        {
         "confidence": 0.92868,
         "end": 532282,
         "speaker": null,
         "start": 532076,
         "text": "you'll"
        },
        {
         "confidence": 0.99461,
         "end": 532494,
         "speaker": null,
         "start": 532306,
         "text": "go"
        },
        {
         "confidence": 0.99967,
         "end": 532662,
         "speaker": null,
         "start": 532532,
         "text": "not"
        },
        {
         "confidence": 0.99322,
         "end": 532918,
         "speaker": null,
         "start": 532676,
         "text": "knowing"
        },
        {
         "confidence": 0.99903,
         "end": 533262,
         "speaker": null,
         "start": 532954,
         "text": "much,"
        },
        {
         "confidence": 0.98225,
         "end": 533538,
         "speaker": null,
         "start": 533336,
         "text": "but"
        },
        {
         "confidence": 0.99962,
         "end": 533754,
         "speaker": null,
         "start": 533564,
         "text": "people"
        },
        {
         "confidence": 0.99728,
         "end": 533994,
         "speaker": null,
         "start": 533792,
         "text": "will"
        },
        {
         "confidence": 0.99848,
         "end": 534394,
         "speaker": null,
         "start": 534032,
         "text": "expose"
        },
        {
         "confidence": 0.99431,
         "end": 534618,
         "speaker": null,
         "start": 534442,
         "text": "you"
        },
        {
         "confidence": 1,
         "end": 534798,
         "speaker": null,
         "start": 534644,
         "text": "to"
        },
        {
         "confidence": 0.9999,
         "end": 535014,
         "speaker": null,
         "start": 534824,
         "text": "things"
        },
        {
         "confidence": 0.99795,
         "end": 535254,
         "speaker": null,
         "start": 535052,
         "text": "you"
        },
        {
         "confidence": 0.98494,
         "end": 535558,
         "speaker": null,
         "start": 535292,
         "text": "didn't"
        },
        {
         "confidence": 0.99966,
         "end": 535794,
         "speaker": null,
         "start": 535594,
         "text": "know"
        },
        {
         "confidence": 0.97234,
         "end": 536034,
         "speaker": null,
         "start": 535832,
         "text": "you"
        },
        {
         "confidence": 0.96524,
         "end": 536338,
         "speaker": null,
         "start": 536072,
         "text": "didn't"
        },
        {
         "confidence": 0.99939,
         "end": 536646,
         "speaker": null,
         "start": 536374,
         "text": "know."
        },
        {
         "confidence": 0.67057,
         "end": 536962,
         "speaker": null,
         "start": 536708,
         "text": "They'll"
        },
        {
         "confidence": 0.9996,
         "end": 537138,
         "speaker": null,
         "start": 536986,
         "text": "help"
        },
        {
         "confidence": 0.9959,
         "end": 537354,
         "speaker": null,
         "start": 537164,
         "text": "you"
        },
        {
         "confidence": 0.99964,
         "end": 537630,
         "speaker": null,
         "start": 537392,
         "text": "build"
        },
        {
         "confidence": 1,
         "end": 537858,
         "speaker": null,
         "start": 537680,
         "text": "and"
        },
        {
         "confidence": 0.99866,
         "end": 538110,
         "speaker": null,
         "start": 537884,
         "text": "complete"
        },
        {
         "confidence": 0.99106,
         "end": 538338,
         "speaker": null,
         "start": 538160,
         "text": "an"
        },
        {
         "confidence": 0.99904,
         "end": 538626,
         "speaker": null,
         "start": 538364,
         "text": "entire"
        },
        {
         "confidence": 0.9998,
         "end": 539022,
         "speaker": null,
         "start": 538688,
         "text": "project"
        },
        {
         "confidence": 0.99902,
         "end": 539334,
         "speaker": null,
         "start": 539096,
         "text": "in"
        },
        {
         "confidence": 0.77,
         "end": 539886,
         "speaker": null,
         "start": 539372,
         "text": "48"
        },
        {
         "confidence": 0.86,
         "end": 540282,
         "speaker": null,
         "start": 539948,
         "text": "hours."
        },
        {
         "confidence": 0.85047,
         "end": 540622,
         "speaker": null,
         "start": 540356,
         "text": "They're"
        },
        {
         "confidence": 0.99461,
         "end": 540870,
         "speaker": null,
         "start": 540646,
         "text": "also"
        },
        {
         "confidence": 0.98019,
         "end": 541170,
         "speaker": null,
         "start": 540920,
         "text": "just"
        },
        {
         "confidence": 0.99949,
         "end": 541434,
         "speaker": null,
         "start": 541220,
         "text": "really"
        },
        {
         "confidence": 0.99982,
         "end": 541674,
         "speaker": null,
         "start": 541472,
         "text": "fun,"
        },
        {
         "confidence": 0.99964,
         "end": 541878,
         "speaker": null,
         "start": 541712,
         "text": "even"
        },
        {
         "confidence": 0.99884,
         "end": 541986,
         "speaker": null,
         "start": 541904,
         "text": "if"
        },
        {
         "confidence": 0.69,
         "end": 542118,
         "speaker": null,
         "start": 541988,
         "text": "the"
        },
        {
         "confidence": 0.99956,
         "end": 542298,
         "speaker": null,
         "start": 542144,
         "text": "food"
        },
        {
         "confidence": 0.99809,
         "end": 542514,
         "speaker": null,
         "start": 542324,
         "text": "is"
        },
        {
         "confidence": 0.99544,
         "end": 542862,
         "speaker": null,
         "start": 542552,
         "text": "actually"
        },
        {
         "confidence": 0.97639,
         "end": 543466,
         "speaker": null,
         "start": 542936,
         "text": "terrible"
        },
        {
         "confidence": 0.99982,
         "end": 543882,
         "speaker": null,
         "start": 543538,
         "text": "every"
        },
        {
         "confidence": 0.99987,
         "end": 544266,
         "speaker": null,
         "start": 543956,
         "text": "single"
        },
        {
         "confidence": 0.99972,
         "end": 544626,
         "speaker": null,
         "start": 544328,
         "text": "time."
        },
        {
         "confidence": 0.69793,
         "end": 544878,
         "speaker": null,
         "start": 544688,
         "text": "Now"
        },
        {
         "confidence": 0.98484,
         "end": 545062,
         "speaker": null,
         "start": 544904,
         "text": "don't"
        },
        {
         "confidence": 0.9999,
         "end": 545410,
         "speaker": null,
         "start": 545086,
         "text": "forget,"
        },
        {
         "confidence": 0.99952,
         "end": 545694,
         "speaker": null,
         "start": 545470,
         "text": "this"
        },
        {
         "confidence": 0.99778,
         "end": 546006,
         "speaker": null,
         "start": 545732,
         "text": "comes"
        },
        {
         "confidence": 0.99996,
         "end": 546330,
         "speaker": null,
         "start": 546068,
         "text": "after"
        },
        {
         "confidence": 0.99818,
         "end": 546558,
         "speaker": null,
         "start": 546380,
         "text": "you"
        },
        {
         "confidence": 0.99981,
         "end": 546738,
         "speaker": null,
         "start": 546584,
         "text": "learn"
        },
        {
         "confidence": 1,
         "end": 546882,
         "speaker": null,
         "start": 546764,
         "text": "the"
        },
        {
         "confidence": 0.99794,
         "end": 547198,
         "speaker": null,
         "start": 546896,
         "text": "basics"
        },
        {
         "confidence": 1,
         "end": 547362,
         "speaker": null,
         "start": 547234,
         "text": "of"
        },
        {
         "confidence": 0.98571,
         "end": 547678,
         "speaker": null,
         "start": 547376,
         "text": "coding."
        },
        {
         "confidence": 0.99752,
         "end": 547942,
         "speaker": null,
         "start": 547714,
         "text": "Don't"
        },
        {
         "confidence": 0.96463,
         "end": 548154,
         "speaker": null,
         "start": 547966,
         "text": "try"
        },
        {
         "confidence": 0.99,
         "end": 548394,
         "speaker": null,
         "start": 548192,
         "text": "to"
        },
        {
         "confidence": 0.99973,
         "end": 548742,
         "speaker": null,
         "start": 548432,
         "text": "program"
        },
        {
         "confidence": 0.99947,
         "end": 549018,
         "speaker": null,
         "start": 548816,
         "text": "before"
        },
        {
         "confidence": 0.97086,
         "end": 549198,
         "speaker": null,
         "start": 549044,
         "text": "you"
        },
        {
         "confidence": 0.99542,
         "end": 549342,
         "speaker": null,
         "start": 549224,
         "text": "know"
        },
        {
         "confidence": 0.99768,
         "end": 549498,
         "speaker": null,
         "start": 549356,
         "text": "how"
        },
        {
         "confidence": 1,
         "end": 549642,
         "speaker": null,
         "start": 549524,
         "text": "to"
        },
        {
         "confidence": 0.98894,
         "end": 549870,
         "speaker": null,
         "start": 549656,
         "text": "code"
        },
        {
         "confidence": 0.94,
         "end": 550098,
         "speaker": null,
         "start": 549920,
         "text": "and"
        },
        {
         "confidence": 0.98456,
         "end": 550282,
         "speaker": null,
         "start": 550124,
         "text": "don't"
        },
        {
         "confidence": 0.7719,
         "end": 550582,
         "speaker": null,
         "start": 550306,
         "text": "waste"
        },
        {
         "confidence": 0.8477,
         "end": 550758,
         "speaker": null,
         "start": 550606,
         "text": "all"
        },
        {
         "confidence": 0.97,
         "end": 550902,
         "speaker": null,
         "start": 550784,
         "text": "of"
        },
        {
         "confidence": 0.99796,
         "end": 551022,
         "speaker": null,
         "start": 550916,
         "text": "your"
        },
        {
         "confidence": 0.99979,
         "end": 551214,
         "speaker": null,
         "start": 551036,
         "text": "time"
        },
        {
         "confidence": 0.99713,
         "end": 551602,
         "speaker": null,
         "start": 551252,
         "text": "coding"
        },
        {
         "confidence": 1,
         "end": 551778,
         "speaker": null,
         "start": 551626,
         "text": "and"
        },
        {
         "confidence": 0.99939,
         "end": 552030,
         "speaker": null,
         "start": 551804,
         "text": "not"
        },
        {
         "confidence": 0.99305,
         "end": 552682,
         "speaker": null,
         "start": 552080,
         "text": "programming"
        },
        {
         "confidence": 0.99977,
         "end": 553282,
         "speaker": null,
         "start": 552766,
         "text": "subscribe."
        },
        {
         "confidence": 0.99978,
         "end": 553678,
         "speaker": null,
         "start": 553366,
         "text": "Smash"
        },
        {
         "confidence": 0.98,
         "end": 553842,
         "speaker": null,
         "start": 553714,
         "text": "the"
        },
        {
         "confidence": 0.99972,
         "end": 554034,
         "speaker": null,
         "start": 553856,
         "text": "like"
        },
        {
         "confidence": 0.99956,
         "end": 554310,
         "speaker": null,
         "start": 554072,
         "text": "button"
        },
        {
         "confidence": 0.98,
         "end": 554646,
         "speaker": null,
         "start": 554360,
         "text": "and"
        },
        {
         "confidence": 0.89633,
         "end": 554934,
         "speaker": null,
         "start": 554708,
         "text": "go"
        },
        {
         "confidence": 0.99427,
         "end": 555102,
         "speaker": null,
         "start": 554972,
         "text": "break"
        },
        {
         "confidence": 0.91255,
         "end": 555258,
         "speaker": null,
         "start": 555116,
         "text": "some"
        },
        {
         "confidence": 0.87853,
         "end": 555430,
         "speaker": null,
         "start": 555284,
         "text": "eggs."
        }
       ]
      },
      "text/plain": [
       "<IPython.core.display.JSON object>"
      ]
     },
     "execution_count": 12,
     "metadata": {
      "application/json": {
       "expanded": false,
       "root": "root"
      }
     },
     "output_type": "execute_result"
    }
   ],
   "source": [
    "JSON(transcript_response.json())"
   ]
  },
  {
   "cell_type": "code",
   "execution_count": 65,
   "id": "dafd1621",
   "metadata": {},
   "outputs": [],
   "source": [
    "# Save pickle\n",
    "with open('speech_data.pkl', 'wb') as f:\n",
    "    pickle.dump(transcript_response.json().copy, f)"
   ]
  },
  {
   "cell_type": "markdown",
   "id": "f8c9a182-edcb-435c-a2f4-34a83d1ead77",
   "metadata": {
    "tags": []
   },
   "source": [
    "## Dashboard Components"
   ]
  },
  {
   "cell_type": "code",
   "execution_count": 68,
   "id": "0ec41f77-21cd-44bb-ba4e-5d75816e58b0",
   "metadata": {},
   "outputs": [],
   "source": [
    "# Load data pickle\n",
    "with open('speech_data.pkl', 'rb') as f:\n",
    "    data = pickle.load(f)"
   ]
  },
  {
   "cell_type": "markdown",
   "id": "620f4bc5-b525-481f-b9e0-b92deca42986",
   "metadata": {},
   "source": [
    "### 0) Download transcript widget"
   ]
  },
  {
   "cell_type": "code",
   "execution_count": 70,
   "id": "369ad739-6426-403b-95d2-82b10713d860",
   "metadata": {},
   "outputs": [
    {
     "ename": "TypeError",
     "evalue": "'builtin_function_or_method' object is not subscriptable",
     "output_type": "error",
     "traceback": [
      "\u001b[1;31m---------------------------------------------------------------------------\u001b[0m",
      "\u001b[1;31mTypeError\u001b[0m                                 Traceback (most recent call last)",
      "\u001b[1;32mj:\\DataProjects\\AudioData\\speech_app.ipynb Cell 12\u001b[0m in \u001b[0;36m<cell line: 5>\u001b[1;34m()\u001b[0m\n\u001b[0;32m      <a href='vscode-notebook-cell:/j%3A/DataProjects/AudioData/speech_app.ipynb#X14sZmlsZQ%3D%3D?line=0'>1</a>\u001b[0m \u001b[39m# buffer = StringIO()\u001b[39;00m\n\u001b[0;32m      <a href='vscode-notebook-cell:/j%3A/DataProjects/AudioData/speech_app.ipynb#X14sZmlsZQ%3D%3D?line=1'>2</a>\u001b[0m \u001b[39m# buffer.write(data[\"text\"])\u001b[39;00m\n\u001b[0;32m      <a href='vscode-notebook-cell:/j%3A/DataProjects/AudioData/speech_app.ipynb#X14sZmlsZQ%3D%3D?line=2'>3</a>\u001b[0m \u001b[39m# buffer.seek(0)\u001b[39;00m\n\u001b[1;32m----> <a href='vscode-notebook-cell:/j%3A/DataProjects/AudioData/speech_app.ipynb#X14sZmlsZQ%3D%3D?line=4'>5</a>\u001b[0m data[\u001b[39m\"\u001b[39;49m\u001b[39mtext\u001b[39;49m\u001b[39m\"\u001b[39;49m]\n",
      "\u001b[1;31mTypeError\u001b[0m: 'builtin_function_or_method' object is not subscriptable"
     ]
    }
   ],
   "source": [
    "# buffer = StringIO()\n",
    "# buffer.write(data[\"text\"])\n",
    "# buffer.seek(0)\n",
    "\n",
    "data[\"text\"]"
   ]
  },
  {
   "cell_type": "code",
   "execution_count": null,
   "id": "8b72bbc6-0e7f-49ac-88e1-036f82e0d793",
   "metadata": {},
   "outputs": [],
   "source": []
  }
 ],
 "metadata": {
  "kernelspec": {
   "display_name": "Python 3 (ipykernel)",
   "language": "python",
   "name": "python3"
  },
  "language_info": {
   "codemirror_mode": {
    "name": "ipython",
    "version": 3
   },
   "file_extension": ".py",
   "mimetype": "text/x-python",
   "name": "python",
   "nbconvert_exporter": "python",
   "pygments_lexer": "ipython3",
   "version": "3.10.6"
  },
  "vscode": {
   "interpreter": {
    "hash": "3830c4d8d77d27da658708cc04cdf95c092562ebabba9666ab9af1cd23e0657d"
   }
  }
 },
 "nbformat": 4,
 "nbformat_minor": 5
}
